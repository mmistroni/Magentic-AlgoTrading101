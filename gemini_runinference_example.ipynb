{
  "cells": [
    {
      "cell_type": "markdown",
      "metadata": {
        "id": "view-in-github",
        "colab_type": "text"
      },
      "source": [
        "<a href=\"https://colab.research.google.com/github/mmistroni/Magentic-AlgoTrading101/blob/main/gemini_runinference_example.ipynb\" target=\"_parent\"><img src=\"https://colab.research.google.com/assets/colab-badge.svg\" alt=\"Open In Colab\"/></a>"
      ]
    },
    {
      "cell_type": "markdown",
      "metadata": {
        "id": "Uht8f-mTo040"
      },
      "source": [
        "# Using Gemini on Vertex AI with Apache Beam's RunInference\n",
        "\n",
        "This notebook demonstrates how to build a scalable data processing pipeline that uses a Gemini large language model for inference. We will use **Apache Beam** to create the pipeline and its `RunInference` transform to efficiently call the **Gemini API on Vertex AI**.\n",
        "\n",
        "### Key Components:\n",
        "1.  **`GeminiModelHandler`**: A built-in Beam model handler that connects to the Vertex AI Gemini API.\n",
        "2.  **`RunInference`**: A generic Beam transform that manages batching, parallelism, and execution of model inferences.\n",
        "3.  **`DirectRunner`**: We will use Beam's local runner for this example, but the same code can be executed on a distributed runner like `DataflowRunner` for massive scale."
      ]
    },
    {
      "cell_type": "markdown",
      "metadata": {
        "id": "dmPlJY6Xo043"
      },
      "source": [
        "## 1. Setup and Installation\n",
        "\n",
        "First, we need to install the required Python libraries. `apache-beam[gcp]` includes the necessary components for interacting with Google Cloud services, and `google-genai` provides the Gemini API."
      ]
    },
    {
      "cell_type": "code",
      "execution_count": 1,
      "metadata": {
        "colab": {
          "base_uri": "https://localhost:8080/",
          "height": 1000
        },
        "id": "oGLHskYjo044",
        "outputId": "7c42b83e-8ef4-4bfe-b148-0199cff7e304"
      },
      "outputs": [
        {
          "output_type": "stream",
          "name": "stdout",
          "text": [
            "Requirement already satisfied: apache-beam==2.66 in /usr/local/lib/python3.12/dist-packages (from apache-beam[gcp]==2.66) (2.66.0)\n",
            "Requirement already satisfied: crcmod<2.0,>=1.7 in /usr/local/lib/python3.12/dist-packages (from apache-beam==2.66->apache-beam[gcp]==2.66) (1.7)\n",
            "Requirement already satisfied: orjson<4,>=3.9.7 in /usr/local/lib/python3.12/dist-packages (from apache-beam==2.66->apache-beam[gcp]==2.66) (3.11.3)\n",
            "Requirement already satisfied: dill<0.3.2,>=0.3.1.1 in /usr/local/lib/python3.12/dist-packages (from apache-beam==2.66->apache-beam[gcp]==2.66) (0.3.1.1)\n",
            "Requirement already satisfied: fastavro<2,>=0.23.6 in /usr/local/lib/python3.12/dist-packages (from apache-beam==2.66->apache-beam[gcp]==2.66) (1.12.0)\n",
            "Requirement already satisfied: fasteners<1.0,>=0.3 in /usr/local/lib/python3.12/dist-packages (from apache-beam==2.66->apache-beam[gcp]==2.66) (0.20)\n",
            "Requirement already satisfied: grpcio!=1.48.0,!=1.59.*,!=1.60.*,!=1.61.*,!=1.62.0,!=1.62.1,<1.66.0,<2,>=1.33.1 in /usr/local/lib/python3.12/dist-packages (from apache-beam==2.66->apache-beam[gcp]==2.66) (1.65.5)\n",
            "Requirement already satisfied: hdfs<3.0.0,>=2.1.0 in /usr/local/lib/python3.12/dist-packages (from apache-beam==2.66->apache-beam[gcp]==2.66) (2.7.3)\n",
            "Requirement already satisfied: httplib2<0.23.0,>=0.8 in /usr/local/lib/python3.12/dist-packages (from apache-beam==2.66->apache-beam[gcp]==2.66) (0.22.0)\n",
            "Requirement already satisfied: jsonschema<5.0.0,>=4.0.0 in /usr/local/lib/python3.12/dist-packages (from apache-beam==2.66->apache-beam[gcp]==2.66) (4.25.1)\n",
            "Requirement already satisfied: jsonpickle<4.0.0,>=3.0.0 in /usr/local/lib/python3.12/dist-packages (from apache-beam==2.66->apache-beam[gcp]==2.66) (3.4.2)\n",
            "Requirement already satisfied: numpy<2.3.0,>=1.14.3 in /usr/local/lib/python3.12/dist-packages (from apache-beam==2.66->apache-beam[gcp]==2.66) (2.0.2)\n",
            "Requirement already satisfied: objsize<0.8.0,>=0.6.1 in /usr/local/lib/python3.12/dist-packages (from apache-beam==2.66->apache-beam[gcp]==2.66) (0.7.1)\n",
            "Requirement already satisfied: packaging>=22.0 in /usr/local/lib/python3.12/dist-packages (from apache-beam==2.66->apache-beam[gcp]==2.66) (25.0)\n",
            "Requirement already satisfied: pymongo<5.0.0,>=3.8.0 in /usr/local/lib/python3.12/dist-packages (from apache-beam==2.66->apache-beam[gcp]==2.66) (4.15.3)\n",
            "Requirement already satisfied: proto-plus<2,>=1.7.1 in /usr/local/lib/python3.12/dist-packages (from apache-beam==2.66->apache-beam[gcp]==2.66) (1.26.1)\n",
            "Requirement already satisfied: protobuf!=4.0.*,!=4.21.*,!=4.22.0,!=4.23.*,!=4.24.*,<6.0.0.dev0,>=3.20.3 in /usr/local/lib/python3.12/dist-packages (from apache-beam==2.66->apache-beam[gcp]==2.66) (5.29.5)\n",
            "Requirement already satisfied: pydot<2,>=1.2.0 in /usr/local/lib/python3.12/dist-packages (from apache-beam==2.66->apache-beam[gcp]==2.66) (1.4.2)\n",
            "Requirement already satisfied: python-dateutil<3,>=2.8.0 in /usr/local/lib/python3.12/dist-packages (from apache-beam==2.66->apache-beam[gcp]==2.66) (2.9.0.post0)\n",
            "Requirement already satisfied: pytz>=2018.3 in /usr/local/lib/python3.12/dist-packages (from apache-beam==2.66->apache-beam[gcp]==2.66) (2025.2)\n",
            "Requirement already satisfied: redis<6,>=5.0.0 in /usr/local/lib/python3.12/dist-packages (from apache-beam==2.66->apache-beam[gcp]==2.66) (5.3.1)\n",
            "Requirement already satisfied: regex>=2020.6.8 in /usr/local/lib/python3.12/dist-packages (from apache-beam==2.66->apache-beam[gcp]==2.66) (2024.11.6)\n",
            "Requirement already satisfied: requests<3.0.0,>=2.24.0 in /usr/local/lib/python3.12/dist-packages (from apache-beam==2.66->apache-beam[gcp]==2.66) (2.32.4)\n",
            "Requirement already satisfied: sortedcontainers>=2.4.0 in /usr/local/lib/python3.12/dist-packages (from apache-beam==2.66->apache-beam[gcp]==2.66) (2.4.0)\n",
            "Requirement already satisfied: typing-extensions>=3.7.0 in /usr/local/lib/python3.12/dist-packages (from apache-beam==2.66->apache-beam[gcp]==2.66) (4.15.0)\n",
            "Requirement already satisfied: zstandard<1,>=0.18.0 in /usr/local/lib/python3.12/dist-packages (from apache-beam==2.66->apache-beam[gcp]==2.66) (0.25.0)\n",
            "Requirement already satisfied: pyyaml<7.0.0,>=3.12 in /usr/local/lib/python3.12/dist-packages (from apache-beam==2.66->apache-beam[gcp]==2.66) (6.0.3)\n",
            "Requirement already satisfied: pyarrow<19.0.0,>=3.0.0 in /usr/local/lib/python3.12/dist-packages (from apache-beam==2.66->apache-beam[gcp]==2.66) (18.1.0)\n",
            "Requirement already satisfied: pyarrow-hotfix<1 in /usr/local/lib/python3.12/dist-packages (from apache-beam==2.66->apache-beam[gcp]==2.66) (0.7)\n",
            "Requirement already satisfied: cachetools<6,>=3.1.0 in /usr/local/lib/python3.12/dist-packages (from apache-beam[gcp]==2.66) (5.5.2)\n",
            "Requirement already satisfied: google-api-core<3,>=2.0.0 in /usr/local/lib/python3.12/dist-packages (from apache-beam[gcp]==2.66) (2.25.1)\n",
            "Requirement already satisfied: google-apitools<0.5.32,>=0.5.31 in /usr/local/lib/python3.12/dist-packages (from apache-beam[gcp]==2.66) (0.5.31)\n",
            "Requirement already satisfied: google-auth<3,>=1.18.0 in /usr/local/lib/python3.12/dist-packages (from apache-beam[gcp]==2.66) (2.38.0)\n",
            "Requirement already satisfied: google-auth-httplib2<0.3.0,>=0.1.0 in /usr/local/lib/python3.12/dist-packages (from apache-beam[gcp]==2.66) (0.2.0)\n",
            "Requirement already satisfied: google-cloud-datastore<3,>=2.0.0 in /usr/local/lib/python3.12/dist-packages (from apache-beam[gcp]==2.66) (2.21.0)\n",
            "Requirement already satisfied: google-cloud-pubsub<3,>=2.1.0 in /usr/local/lib/python3.12/dist-packages (from apache-beam[gcp]==2.66) (2.31.1)\n",
            "Requirement already satisfied: google-cloud-pubsublite<2,>=1.2.0 in /usr/local/lib/python3.12/dist-packages (from apache-beam[gcp]==2.66) (1.12.0)\n",
            "Requirement already satisfied: google-cloud-storage<3,>=2.18.2 in /usr/local/lib/python3.12/dist-packages (from apache-beam[gcp]==2.66) (2.19.0)\n",
            "Requirement already satisfied: google-cloud-bigquery<4,>=2.0.0 in /usr/local/lib/python3.12/dist-packages (from apache-beam[gcp]==2.66) (3.38.0)\n",
            "Requirement already satisfied: google-cloud-bigquery-storage<3,>=2.6.3 in /usr/local/lib/python3.12/dist-packages (from apache-beam[gcp]==2.66) (2.33.1)\n",
            "Requirement already satisfied: google-cloud-core<3,>=2.0.0 in /usr/local/lib/python3.12/dist-packages (from apache-beam[gcp]==2.66) (2.4.3)\n",
            "Requirement already satisfied: google-cloud-bigtable<3,>=2.19.0 in /usr/local/lib/python3.12/dist-packages (from apache-beam[gcp]==2.66) (2.32.0)\n",
            "Requirement already satisfied: google-cloud-spanner<4,>=3.0.0 in /usr/local/lib/python3.12/dist-packages (from apache-beam[gcp]==2.66) (3.58.0)\n",
            "Requirement already satisfied: google-cloud-dlp<4,>=3.0.0 in /usr/local/lib/python3.12/dist-packages (from apache-beam[gcp]==2.66) (3.32.0)\n",
            "Requirement already satisfied: google-cloud-language<3,>=2.0 in /usr/local/lib/python3.12/dist-packages (from apache-beam[gcp]==2.66) (2.17.2)\n",
            "Requirement already satisfied: google-cloud-videointelligence<3,>=2.0 in /usr/local/lib/python3.12/dist-packages (from apache-beam[gcp]==2.66) (2.16.2)\n",
            "Requirement already satisfied: google-cloud-vision<4,>=2 in /usr/local/lib/python3.12/dist-packages (from apache-beam[gcp]==2.66) (3.10.2)\n",
            "Requirement already satisfied: google-cloud-recommendations-ai<0.11.0,>=0.1.0 in /usr/local/lib/python3.12/dist-packages (from apache-beam[gcp]==2.66) (0.10.18)\n",
            "Requirement already satisfied: google-cloud-aiplatform<2.0,>=1.26.0 in /usr/local/lib/python3.12/dist-packages (from apache-beam[gcp]==2.66) (1.118.0)\n",
            "Requirement already satisfied: keyrings.google-artifactregistry-auth in /usr/local/lib/python3.12/dist-packages (from apache-beam[gcp]==2.66) (1.1.2)\n",
            "Requirement already satisfied: googleapis-common-protos<2.0.0,>=1.56.2 in /usr/local/lib/python3.12/dist-packages (from google-api-core<3,>=2.0.0->apache-beam[gcp]==2.66) (1.70.0)\n",
            "Requirement already satisfied: oauth2client>=1.4.12 in /usr/local/lib/python3.12/dist-packages (from google-apitools<0.5.32,>=0.5.31->apache-beam[gcp]==2.66) (4.1.3)\n",
            "Requirement already satisfied: six>=1.12.0 in /usr/local/lib/python3.12/dist-packages (from google-apitools<0.5.32,>=0.5.31->apache-beam[gcp]==2.66) (1.17.0)\n",
            "Requirement already satisfied: pyasn1-modules>=0.2.1 in /usr/local/lib/python3.12/dist-packages (from google-auth<3,>=1.18.0->apache-beam[gcp]==2.66) (0.4.2)\n",
            "Requirement already satisfied: rsa<5,>=3.1.4 in /usr/local/lib/python3.12/dist-packages (from google-auth<3,>=1.18.0->apache-beam[gcp]==2.66) (4.9.1)\n",
            "Requirement already satisfied: google-cloud-resource-manager<3.0.0,>=1.3.3 in /usr/local/lib/python3.12/dist-packages (from google-cloud-aiplatform<2.0,>=1.26.0->apache-beam[gcp]==2.66) (1.14.2)\n",
            "Requirement already satisfied: shapely<3.0.0 in /usr/local/lib/python3.12/dist-packages (from google-cloud-aiplatform<2.0,>=1.26.0->apache-beam[gcp]==2.66) (2.1.2)\n",
            "Collecting google-genai<2.0.0,>=1.37.0 (from google-cloud-aiplatform<2.0,>=1.26.0->apache-beam[gcp]==2.66)\n",
            "  Downloading google_genai-1.42.0-py3-none-any.whl.metadata (45 kB)\n",
            "\u001b[2K     \u001b[90m━━━━━━━━━━━━━━━━━━━━━━━━━━━━━━━━━━━━━━━━\u001b[0m \u001b[32m45.3/45.3 kB\u001b[0m \u001b[31m2.6 MB/s\u001b[0m eta \u001b[36m0:00:00\u001b[0m\n",
            "\u001b[?25hRequirement already satisfied: pydantic<3 in /usr/local/lib/python3.12/dist-packages (from google-cloud-aiplatform<2.0,>=1.26.0->apache-beam[gcp]==2.66) (2.11.9)\n",
            "Requirement already satisfied: docstring_parser<1 in /usr/local/lib/python3.12/dist-packages (from google-cloud-aiplatform<2.0,>=1.26.0->apache-beam[gcp]==2.66) (0.17.0)\n",
            "Requirement already satisfied: google-resumable-media<3.0.0,>=2.0.0 in /usr/local/lib/python3.12/dist-packages (from google-cloud-bigquery<4,>=2.0.0->apache-beam[gcp]==2.66) (2.7.2)\n",
            "Requirement already satisfied: grpc-google-iam-v1<1.0.0,>=0.12.4 in /usr/local/lib/python3.12/dist-packages (from google-cloud-bigtable<3,>=2.19.0->apache-beam[gcp]==2.66) (0.14.2)\n",
            "Requirement already satisfied: google-crc32c<2.0.0dev,>=1.5.0 in /usr/local/lib/python3.12/dist-packages (from google-cloud-bigtable<3,>=2.19.0->apache-beam[gcp]==2.66) (1.7.1)\n",
            "Requirement already satisfied: grpcio-status>=1.33.2 in /usr/local/lib/python3.12/dist-packages (from google-cloud-pubsub<3,>=2.1.0->apache-beam[gcp]==2.66) (1.65.5)\n",
            "Requirement already satisfied: opentelemetry-api>=1.27.0 in /usr/local/lib/python3.12/dist-packages (from google-cloud-pubsub<3,>=2.1.0->apache-beam[gcp]==2.66) (1.37.0)\n",
            "Requirement already satisfied: opentelemetry-sdk>=1.27.0 in /usr/local/lib/python3.12/dist-packages (from google-cloud-pubsub<3,>=2.1.0->apache-beam[gcp]==2.66) (1.37.0)\n",
            "Requirement already satisfied: overrides<8.0.0,>=6.0.1 in /usr/local/lib/python3.12/dist-packages (from google-cloud-pubsublite<2,>=1.2.0->apache-beam[gcp]==2.66) (7.7.0)\n",
            "Requirement already satisfied: sqlparse>=0.4.4 in /usr/local/lib/python3.12/dist-packages (from google-cloud-spanner<4,>=3.0.0->apache-beam[gcp]==2.66) (0.5.3)\n",
            "Requirement already satisfied: grpc-interceptor>=0.15.4 in /usr/local/lib/python3.12/dist-packages (from google-cloud-spanner<4,>=3.0.0->apache-beam[gcp]==2.66) (0.15.4)\n",
            "Requirement already satisfied: docopt in /usr/local/lib/python3.12/dist-packages (from hdfs<3.0.0,>=2.1.0->apache-beam==2.66->apache-beam[gcp]==2.66) (0.6.2)\n",
            "Requirement already satisfied: pyparsing!=3.0.0,!=3.0.1,!=3.0.2,!=3.0.3,<4,>=2.4.2 in /usr/local/lib/python3.12/dist-packages (from httplib2<0.23.0,>=0.8->apache-beam==2.66->apache-beam[gcp]==2.66) (3.2.5)\n",
            "Requirement already satisfied: attrs>=22.2.0 in /usr/local/lib/python3.12/dist-packages (from jsonschema<5.0.0,>=4.0.0->apache-beam==2.66->apache-beam[gcp]==2.66) (25.3.0)\n",
            "Requirement already satisfied: jsonschema-specifications>=2023.03.6 in /usr/local/lib/python3.12/dist-packages (from jsonschema<5.0.0,>=4.0.0->apache-beam==2.66->apache-beam[gcp]==2.66) (2025.9.1)\n",
            "Requirement already satisfied: referencing>=0.28.4 in /usr/local/lib/python3.12/dist-packages (from jsonschema<5.0.0,>=4.0.0->apache-beam==2.66->apache-beam[gcp]==2.66) (0.36.2)\n",
            "Requirement already satisfied: rpds-py>=0.7.1 in /usr/local/lib/python3.12/dist-packages (from jsonschema<5.0.0,>=4.0.0->apache-beam==2.66->apache-beam[gcp]==2.66) (0.27.1)\n",
            "Requirement already satisfied: dnspython<3.0.0,>=1.16.0 in /usr/local/lib/python3.12/dist-packages (from pymongo<5.0.0,>=3.8.0->apache-beam==2.66->apache-beam[gcp]==2.66) (2.8.0)\n",
            "Requirement already satisfied: PyJWT>=2.9.0 in /usr/local/lib/python3.12/dist-packages (from redis<6,>=5.0.0->apache-beam==2.66->apache-beam[gcp]==2.66) (2.10.1)\n",
            "Requirement already satisfied: charset_normalizer<4,>=2 in /usr/local/lib/python3.12/dist-packages (from requests<3.0.0,>=2.24.0->apache-beam==2.66->apache-beam[gcp]==2.66) (3.4.3)\n",
            "Requirement already satisfied: idna<4,>=2.5 in /usr/local/lib/python3.12/dist-packages (from requests<3.0.0,>=2.24.0->apache-beam==2.66->apache-beam[gcp]==2.66) (3.10)\n",
            "Requirement already satisfied: urllib3<3,>=1.21.1 in /usr/local/lib/python3.12/dist-packages (from requests<3.0.0,>=2.24.0->apache-beam==2.66->apache-beam[gcp]==2.66) (2.5.0)\n",
            "Requirement already satisfied: certifi>=2017.4.17 in /usr/local/lib/python3.12/dist-packages (from requests<3.0.0,>=2.24.0->apache-beam==2.66->apache-beam[gcp]==2.66) (2025.8.3)\n",
            "Requirement already satisfied: keyring in /usr/local/lib/python3.12/dist-packages (from keyrings.google-artifactregistry-auth->apache-beam[gcp]==2.66) (25.6.0)\n",
            "Requirement already satisfied: pluggy in /usr/local/lib/python3.12/dist-packages (from keyrings.google-artifactregistry-auth->apache-beam[gcp]==2.66) (1.6.0)\n",
            "Requirement already satisfied: anyio<5.0.0,>=4.8.0 in /usr/local/lib/python3.12/dist-packages (from google-genai<2.0.0,>=1.37.0->google-cloud-aiplatform<2.0,>=1.26.0->apache-beam[gcp]==2.66) (4.11.0)\n",
            "Requirement already satisfied: httpx<1.0.0,>=0.28.1 in /usr/local/lib/python3.12/dist-packages (from google-genai<2.0.0,>=1.37.0->google-cloud-aiplatform<2.0,>=1.26.0->apache-beam[gcp]==2.66) (0.28.1)\n",
            "Requirement already satisfied: tenacity<9.2.0,>=8.2.3 in /usr/local/lib/python3.12/dist-packages (from google-genai<2.0.0,>=1.37.0->google-cloud-aiplatform<2.0,>=1.26.0->apache-beam[gcp]==2.66) (8.5.0)\n",
            "Requirement already satisfied: websockets<15.1.0,>=13.0.0 in /usr/local/lib/python3.12/dist-packages (from google-genai<2.0.0,>=1.37.0->google-cloud-aiplatform<2.0,>=1.26.0->apache-beam[gcp]==2.66) (15.0.1)\n",
            "Requirement already satisfied: pyasn1>=0.1.7 in /usr/local/lib/python3.12/dist-packages (from oauth2client>=1.4.12->google-apitools<0.5.32,>=0.5.31->apache-beam[gcp]==2.66) (0.6.1)\n",
            "Requirement already satisfied: importlib-metadata<8.8.0,>=6.0 in /usr/local/lib/python3.12/dist-packages (from opentelemetry-api>=1.27.0->google-cloud-pubsub<3,>=2.1.0->apache-beam[gcp]==2.66) (8.7.0)\n",
            "Requirement already satisfied: opentelemetry-semantic-conventions==0.58b0 in /usr/local/lib/python3.12/dist-packages (from opentelemetry-sdk>=1.27.0->google-cloud-pubsub<3,>=2.1.0->apache-beam[gcp]==2.66) (0.58b0)\n",
            "Requirement already satisfied: annotated-types>=0.6.0 in /usr/local/lib/python3.12/dist-packages (from pydantic<3->google-cloud-aiplatform<2.0,>=1.26.0->apache-beam[gcp]==2.66) (0.7.0)\n",
            "Requirement already satisfied: pydantic-core==2.33.2 in /usr/local/lib/python3.12/dist-packages (from pydantic<3->google-cloud-aiplatform<2.0,>=1.26.0->apache-beam[gcp]==2.66) (2.33.2)\n",
            "Requirement already satisfied: typing-inspection>=0.4.0 in /usr/local/lib/python3.12/dist-packages (from pydantic<3->google-cloud-aiplatform<2.0,>=1.26.0->apache-beam[gcp]==2.66) (0.4.2)\n",
            "Requirement already satisfied: SecretStorage>=3.2 in /usr/local/lib/python3.12/dist-packages (from keyring->keyrings.google-artifactregistry-auth->apache-beam[gcp]==2.66) (3.4.0)\n",
            "Requirement already satisfied: jeepney>=0.4.2 in /usr/local/lib/python3.12/dist-packages (from keyring->keyrings.google-artifactregistry-auth->apache-beam[gcp]==2.66) (0.9.0)\n",
            "Requirement already satisfied: jaraco.classes in /usr/local/lib/python3.12/dist-packages (from keyring->keyrings.google-artifactregistry-auth->apache-beam[gcp]==2.66) (3.4.0)\n",
            "Requirement already satisfied: jaraco.functools in /usr/local/lib/python3.12/dist-packages (from keyring->keyrings.google-artifactregistry-auth->apache-beam[gcp]==2.66) (4.3.0)\n",
            "Requirement already satisfied: jaraco.context in /usr/local/lib/python3.12/dist-packages (from keyring->keyrings.google-artifactregistry-auth->apache-beam[gcp]==2.66) (6.0.1)\n",
            "Requirement already satisfied: sniffio>=1.1 in /usr/local/lib/python3.12/dist-packages (from anyio<5.0.0,>=4.8.0->google-genai<2.0.0,>=1.37.0->google-cloud-aiplatform<2.0,>=1.26.0->apache-beam[gcp]==2.66) (1.3.1)\n",
            "Requirement already satisfied: httpcore==1.* in /usr/local/lib/python3.12/dist-packages (from httpx<1.0.0,>=0.28.1->google-genai<2.0.0,>=1.37.0->google-cloud-aiplatform<2.0,>=1.26.0->apache-beam[gcp]==2.66) (1.0.9)\n",
            "Requirement already satisfied: h11>=0.16 in /usr/local/lib/python3.12/dist-packages (from httpcore==1.*->httpx<1.0.0,>=0.28.1->google-genai<2.0.0,>=1.37.0->google-cloud-aiplatform<2.0,>=1.26.0->apache-beam[gcp]==2.66) (0.16.0)\n",
            "Requirement already satisfied: zipp>=3.20 in /usr/local/lib/python3.12/dist-packages (from importlib-metadata<8.8.0,>=6.0->opentelemetry-api>=1.27.0->google-cloud-pubsub<3,>=2.1.0->apache-beam[gcp]==2.66) (3.23.0)\n",
            "Requirement already satisfied: cryptography>=2.0 in /usr/local/lib/python3.12/dist-packages (from SecretStorage>=3.2->keyring->keyrings.google-artifactregistry-auth->apache-beam[gcp]==2.66) (43.0.3)\n",
            "Requirement already satisfied: more-itertools in /usr/local/lib/python3.12/dist-packages (from jaraco.classes->keyring->keyrings.google-artifactregistry-auth->apache-beam[gcp]==2.66) (10.8.0)\n",
            "Requirement already satisfied: cffi>=1.12 in /usr/local/lib/python3.12/dist-packages (from cryptography>=2.0->SecretStorage>=3.2->keyring->keyrings.google-artifactregistry-auth->apache-beam[gcp]==2.66) (2.0.0)\n",
            "Requirement already satisfied: pycparser in /usr/local/lib/python3.12/dist-packages (from cffi>=1.12->cryptography>=2.0->SecretStorage>=3.2->keyring->keyrings.google-artifactregistry-auth->apache-beam[gcp]==2.66) (2.23)\n",
            "Downloading google_genai-1.42.0-py3-none-any.whl (236 kB)\n",
            "\u001b[2K   \u001b[90m━━━━━━━━━━━━━━━━━━━━━━━━━━━━━━━━━━━━━━━━\u001b[0m \u001b[32m236.2/236.2 kB\u001b[0m \u001b[31m19.3 MB/s\u001b[0m eta \u001b[36m0:00:00\u001b[0m\n",
            "\u001b[?25hInstalling collected packages: google-genai\n",
            "  Attempting uninstall: google-genai\n",
            "    Found existing installation: google-genai 1.21.1\n",
            "    Uninstalling google-genai-1.21.1:\n",
            "      Successfully uninstalled google-genai-1.21.1\n",
            "\u001b[31mERROR: pip's dependency resolver does not currently take into account all the packages that are installed. This behaviour is the source of the following dependency conflicts.\n",
            "google-adk 1.15.1 requires google-genai!=1.37.0,!=1.38.0,!=1.39.0,<=1.40.0,>=1.21.1, but you have google-genai 1.42.0 which is incompatible.\u001b[0m\u001b[31m\n",
            "\u001b[0mSuccessfully installed google-genai-1.42.0\n"
          ]
        },
        {
          "output_type": "display_data",
          "data": {
            "application/vnd.colab-display-data+json": {
              "pip_warning": {
                "packages": [
                  "google"
                ]
              },
              "id": "83a9ef8f6489451ead3888dd158a59dc"
            }
          },
          "metadata": {}
        }
      ],
      "source": [
        "!pip install apache-beam[gcp]==2.66 -U"
      ]
    },
    {
      "cell_type": "code",
      "execution_count": 3,
      "metadata": {
        "colab": {
          "base_uri": "https://localhost:8080/"
        },
        "id": "gjeiLyHko045",
        "outputId": "38b7d2c0-d8a6-449b-a6e3-eefaa7bd65fb"
      },
      "outputs": [
        {
          "output_type": "stream",
          "name": "stdout",
          "text": [
            "Requirement already satisfied: google-genai==1.21.1 in /usr/local/lib/python3.12/dist-packages (1.21.1)\n",
            "Requirement already satisfied: anyio<5.0.0,>=4.8.0 in /usr/local/lib/python3.12/dist-packages (from google-genai==1.21.1) (4.11.0)\n",
            "Requirement already satisfied: google-auth<3.0.0,>=2.14.1 in /usr/local/lib/python3.12/dist-packages (from google-genai==1.21.1) (2.38.0)\n",
            "Requirement already satisfied: httpx<1.0.0,>=0.28.1 in /usr/local/lib/python3.12/dist-packages (from google-genai==1.21.1) (0.28.1)\n",
            "Requirement already satisfied: pydantic<3.0.0,>=2.0.0 in /usr/local/lib/python3.12/dist-packages (from google-genai==1.21.1) (2.11.9)\n",
            "Requirement already satisfied: requests<3.0.0,>=2.28.1 in /usr/local/lib/python3.12/dist-packages (from google-genai==1.21.1) (2.32.4)\n",
            "Requirement already satisfied: tenacity<9.0.0,>=8.2.3 in /usr/local/lib/python3.12/dist-packages (from google-genai==1.21.1) (8.5.0)\n",
            "Requirement already satisfied: websockets<15.1.0,>=13.0.0 in /usr/local/lib/python3.12/dist-packages (from google-genai==1.21.1) (15.0.1)\n",
            "Requirement already satisfied: typing-extensions<5.0.0,>=4.11.0 in /usr/local/lib/python3.12/dist-packages (from google-genai==1.21.1) (4.15.0)\n",
            "Requirement already satisfied: idna>=2.8 in /usr/local/lib/python3.12/dist-packages (from anyio<5.0.0,>=4.8.0->google-genai==1.21.1) (3.10)\n",
            "Requirement already satisfied: sniffio>=1.1 in /usr/local/lib/python3.12/dist-packages (from anyio<5.0.0,>=4.8.0->google-genai==1.21.1) (1.3.1)\n",
            "Requirement already satisfied: cachetools<6.0,>=2.0.0 in /usr/local/lib/python3.12/dist-packages (from google-auth<3.0.0,>=2.14.1->google-genai==1.21.1) (5.5.2)\n",
            "Requirement already satisfied: pyasn1-modules>=0.2.1 in /usr/local/lib/python3.12/dist-packages (from google-auth<3.0.0,>=2.14.1->google-genai==1.21.1) (0.4.2)\n",
            "Requirement already satisfied: rsa<5,>=3.1.4 in /usr/local/lib/python3.12/dist-packages (from google-auth<3.0.0,>=2.14.1->google-genai==1.21.1) (4.9.1)\n",
            "Requirement already satisfied: certifi in /usr/local/lib/python3.12/dist-packages (from httpx<1.0.0,>=0.28.1->google-genai==1.21.1) (2025.8.3)\n",
            "Requirement already satisfied: httpcore==1.* in /usr/local/lib/python3.12/dist-packages (from httpx<1.0.0,>=0.28.1->google-genai==1.21.1) (1.0.9)\n",
            "Requirement already satisfied: h11>=0.16 in /usr/local/lib/python3.12/dist-packages (from httpcore==1.*->httpx<1.0.0,>=0.28.1->google-genai==1.21.1) (0.16.0)\n",
            "Requirement already satisfied: annotated-types>=0.6.0 in /usr/local/lib/python3.12/dist-packages (from pydantic<3.0.0,>=2.0.0->google-genai==1.21.1) (0.7.0)\n",
            "Requirement already satisfied: pydantic-core==2.33.2 in /usr/local/lib/python3.12/dist-packages (from pydantic<3.0.0,>=2.0.0->google-genai==1.21.1) (2.33.2)\n",
            "Requirement already satisfied: typing-inspection>=0.4.0 in /usr/local/lib/python3.12/dist-packages (from pydantic<3.0.0,>=2.0.0->google-genai==1.21.1) (0.4.2)\n",
            "Requirement already satisfied: charset_normalizer<4,>=2 in /usr/local/lib/python3.12/dist-packages (from requests<3.0.0,>=2.28.1->google-genai==1.21.1) (3.4.3)\n",
            "Requirement already satisfied: urllib3<3,>=1.21.1 in /usr/local/lib/python3.12/dist-packages (from requests<3.0.0,>=2.28.1->google-genai==1.21.1) (2.5.0)\n",
            "Requirement already satisfied: pyasn1<0.7.0,>=0.6.1 in /usr/local/lib/python3.12/dist-packages (from pyasn1-modules>=0.2.1->google-auth<3.0.0,>=2.14.1->google-genai==1.21.1) (0.6.1)\n"
          ]
        }
      ],
      "source": [
        "!pip install google-genai==1.21.1 -U"
      ]
    },
    {
      "cell_type": "markdown",
      "metadata": {
        "id": "aKwEoGsBo045"
      },
      "source": [
        "### Authentication\n",
        "\n",
        "This notebook assumes you are running in an environment where you have already authenticated with Google Cloud. The simplest way to do this for local development is to use the `gcloud` CLI:\n",
        "\n",
        "```bash\n",
        "gcloud auth application-default login\n",
        "```\n",
        "\n",
        "This command makes your user credentials available to libraries like the Vertex AI SDK."
      ]
    },
    {
      "cell_type": "code",
      "source": [
        "from google.colab import auth\n",
        "\n",
        "auth.authenticate_user()"
      ],
      "metadata": {
        "id": "ZoXrQcVpqUPD"
      },
      "execution_count": 5,
      "outputs": []
    },
    {
      "cell_type": "markdown",
      "metadata": {
        "id": "AFMm_Mzdo046"
      },
      "source": [
        "## 2. Import Libraries\n",
        "\n",
        "Next, we import the necessary classes and functions from Apache Beam and other libraries."
      ]
    },
    {
      "cell_type": "code",
      "execution_count": 7,
      "metadata": {
        "id": "e0WXMTW6o046"
      },
      "outputs": [],
      "source": [
        "import apache_beam as beam\n",
        "from apache_beam.options.pipeline_options import PipelineOptions\n",
        "\n",
        "# Import the core components for ML inference in Beam.\n",
        "from apache_beam.ml.inference.base import RunInference, PredictionResult\n",
        "\n",
        "# Import the specific model handler for Gemini on Vertex AI.\n",
        "from apache_beam.ml.inference.gemini_inference import GeminiModelHandler, generate_from_string\n",
        "\n",
        "# Helper for iterating over collections.\n",
        "from collections.abc import Iterable\n",
        "\n",
        "# Python Package Version\n",
        "from packaging.version import Version"
      ]
    },
    {
      "cell_type": "markdown",
      "metadata": {
        "id": "5BRsRN9no046"
      },
      "source": [
        "## 3. Configuration\n",
        "\n",
        "Set your Google Cloud project details and the model you wish to use."
      ]
    },
    {
      "cell_type": "code",
      "execution_count": 9,
      "metadata": {
        "id": "zGx7cxsVo047"
      },
      "outputs": [],
      "source": [
        "# --- UPDATE THESE VALUES --- #\n",
        "PROJECT_ID = \"your-gcp-project-id\"  # ⬅️ Replace with your Google Cloud project ID\n",
        "LOCATION = \"us-central1\"          # ⬅️ Replace with your desired GCP region\n",
        "\n",
        "# You can choose from available Gemini models in Vertex AI.\n",
        "# For a full list, see: https://cloud.google.com/vertex-ai/docs/generative-ai/learn/models\n",
        "MODEL_NAME = \"gemini-2.5-flash\"\n",
        "\n",
        "# --- Pipeline Configuration ---\n",
        "# Number of threads to use for the local DirectRunner.\n",
        "NUM_WORKERS = 1\n",
        "\n",
        "# Get the Installed Version of genai Python package\n",
        "\n",
        "#genai_version = Version(genai.__version__)"
      ]
    },
    {
      "cell_type": "markdown",
      "metadata": {
        "id": "eub5B47Qo047"
      },
      "source": [
        "## 4. Define Pipeline Components\n",
        "\n",
        "### Post-Processor DoFn\n",
        "\n",
        "The `RunInference` transform returns a `PredictionResult` object, which contains both the original input (`example`) and the full, complex response from the API (`inference`). We create a simple Beam `DoFn` (a parallel processing function) to parse this object and extract the clean text output."
      ]
    },
    {
      "cell_type": "code",
      "execution_count": 10,
      "metadata": {
        "id": "lHxIy3LFo047"
      },
      "outputs": [],
      "source": [
        "class PostProcessor(beam.DoFn):\n",
        "  \"\"\"Parses the PredictionResult to extract a human-readable string.\"\"\"\n",
        "  def process(self, element: PredictionResult) -> Iterable[str]:\n",
        "    \"\"\"\n",
        "    Extracts the generated text from the Gemini API response.\n",
        "\n",
        "    The inference result from GeminiModelHandler is a tuple containing:\n",
        "    ('sdk_http_response', [<google.cloud.aiplatform_v1.types.GenerateContentResponse>])\n",
        "\n",
        "    We navigate this structure to get the final text.\n",
        "    \"\"\"\n",
        "    # The original input prompt is stored in `element.example`\n",
        "    input_prompt = element.example\n",
        "\n",
        "    # The API response is in `element.inference`\n",
        "    # Path to text: response -> candidates -> content -> parts -> text\n",
        "    gemini_response = element.inference[1][0]\n",
        "\n",
        "    # Only supported for genai package 1.21.1 or earlier\n",
        "    output_text = gemini_response.content.parts[0].text\n",
        "\n",
        "    # Yield a formatted string for printing\n",
        "    yield f\"Input:\\n{input_prompt}\\n\\nOutput:\\n{output_text.strip()}\\n\""
      ]
    },
    {
      "cell_type": "markdown",
      "metadata": {
        "id": "XKv7C8WSo047"
      },
      "source": [
        "### Input Data\n",
        "\n",
        "For this example, we'll use a simple Python list of prompts. In a real-world application, you would replace `beam.Create` with an I/O transform to read from a source like a text file, a database, or a message queue."
      ]
    },
    {
      "cell_type": "code",
      "execution_count": 11,
      "metadata": {
        "id": "PtHZRd23o048"
      },
      "outputs": [],
      "source": [
        "prompts = [\n",
        "    \"What is 1+2?\",\n",
        "    \"How is the weather in NYC in July?\",\n",
        "    \"Write a short, 3-line poem about a robot learning to paint.\"\n",
        "]"
      ]
    },
    {
      "cell_type": "markdown",
      "metadata": {
        "id": "ibyvUh37o048"
      },
      "source": [
        "## 5. Define and Run the Beam Pipeline\n",
        "\n",
        "Now we define the main function that constructs and runs the Apache Beam pipeline."
      ]
    },
    {
      "cell_type": "code",
      "execution_count": 12,
      "metadata": {
        "id": "I3Go5HTvo048"
      },
      "outputs": [],
      "source": [
        "def run_pipeline(prompts, model_name, num_workers):\n",
        "    \"\"\"Constructs and runs the Beam pipeline for Gemini inference.\"\"\"\n",
        "    from google.colab import userdata\n",
        "    # 1. Define the Model Handler\n",
        "    # This object knows how to communicate with the Vertex AI Gemini API.\n",
        "    # `generate_from_string` is a helper that formats a simple string prompt\n",
        "    # into the required API request format.\n",
        "    model_handler = GeminiModelHandler(\n",
        "      model_name=model_name,\n",
        "      request_fn=generate_from_string,\n",
        "      #project=PROJECT_ID,\n",
        "      #location=LOCATION\n",
        "      api_key=userdata.get('GOOGLE_API_KEY')\n",
        "    )\n",
        "\n",
        "    # 2. Set Pipeline Options\n",
        "    # For local execution, we use the DirectRunner.\n",
        "    # `direct_num_workers` controls the number of parallel threads.\n",
        "    pipeline_options = PipelineOptions(\n",
        "        direct_num_workers=num_workers\n",
        "    )\n",
        "\n",
        "    # 3. Construct the Pipeline\n",
        "    with beam.Pipeline(options=pipeline_options) as pipeline:\n",
        "        # Create a PCollection from our list of prompts.\n",
        "        read_prompts = pipeline | \"GetPrompts\" >> beam.Create(prompts)\n",
        "\n",
        "        # The core of our pipeline: apply the RunInference transform.\n",
        "        # Beam will handle batching and parallel API calls.\n",
        "        predictions = read_prompts | \"RunInference\" >> RunInference(model_handler)\n",
        "\n",
        "        # Parse the results to get clean text.\n",
        "        processed = predictions | \"PostProcess\" >> beam.ParDo(PostProcessor())\n",
        "\n",
        "        # Print the final, formatted output to the console.\n",
        "        # This is a simple \"sink\" for demonstration purposes.\n",
        "        _ = processed | \"PrintOutput\" >> beam.Map(print)\n",
        "\n",
        "    print(\"\\n--- Pipeline finished ---\")"
      ]
    },
    {
      "cell_type": "markdown",
      "metadata": {
        "id": "IZN3EYYpo048"
      },
      "source": [
        "## 6. Execute the Pipeline\n",
        "\n",
        "Finally, let's call our function to run the pipeline. The output will be printed directly below this cell."
      ]
    },
    {
      "cell_type": "code",
      "execution_count": 13,
      "metadata": {
        "colab": {
          "base_uri": "https://localhost:8080/",
          "height": 888
        },
        "id": "IvfrsE94o048",
        "outputId": "f32217af-303e-4116-b5db-59a4412f47c2"
      },
      "outputs": [
        {
          "output_type": "stream",
          "name": "stderr",
          "text": [
            "WARNING:apache_beam.runners.interactive.interactive_environment:Dependencies required for Interactive Beam PCollection visualization are not available, please use: `pip install apache-beam[interactive]` to install necessary dependencies to enable all data visualization features.\n"
          ]
        },
        {
          "output_type": "display_data",
          "data": {
            "application/javascript": [
              "\n",
              "        if (typeof window.interactive_beam_jquery == 'undefined') {\n",
              "          var jqueryScript = document.createElement('script');\n",
              "          jqueryScript.src = 'https://code.jquery.com/jquery-3.4.1.slim.min.js';\n",
              "          jqueryScript.type = 'text/javascript';\n",
              "          jqueryScript.onload = function() {\n",
              "            var datatableScript = document.createElement('script');\n",
              "            datatableScript.src = 'https://cdn.datatables.net/1.10.20/js/jquery.dataTables.min.js';\n",
              "            datatableScript.type = 'text/javascript';\n",
              "            datatableScript.onload = function() {\n",
              "              window.interactive_beam_jquery = jQuery.noConflict(true);\n",
              "              window.interactive_beam_jquery(document).ready(function($){\n",
              "                \n",
              "              });\n",
              "            }\n",
              "            document.head.appendChild(datatableScript);\n",
              "          };\n",
              "          document.head.appendChild(jqueryScript);\n",
              "        } else {\n",
              "          window.interactive_beam_jquery(document).ready(function($){\n",
              "            \n",
              "          });\n",
              "        }"
            ]
          },
          "metadata": {}
        },
        {
          "output_type": "stream",
          "name": "stderr",
          "text": [
            "WARNING:apache_beam.options.pipeline_options:Discarding unparseable args: ['-f', '/root/.local/share/jupyter/runtime/kernel-27e6d3ff-aeff-4a6a-b885-336eacc67ed9.json']\n"
          ]
        },
        {
          "output_type": "stream",
          "name": "stdout",
          "text": [
            "Input:\n",
            "What is 1+2?\n",
            "\n",
            "Output:\n",
            "1 + 2 = 3\n",
            "\n",
            "Input:\n",
            "How is the weather in NYC in July?\n",
            "\n",
            "Output:\n",
            "NYC in July is the quintessential East Coast summer: **hot, humid, and often sunny, with a chance of afternoon thunderstorms.**\n",
            "\n",
            "Here's a breakdown:\n",
            "\n",
            "*   **Temperature:**\n",
            "    *   **Average Daytime:** Expect average temperatures in the **high 70s to low 80s Fahrenheit (25-29°C)**.\n",
            "    *   **Highs:** Many days will reach into the **mid-to-high 80s (30-32°C)**.\n",
            "    *   **Heatwaves:** It's common for NYC to experience several **heatwaves** in July, pushing temperatures well into the **90s (32-37°C)**, sometimes even touching 100°F (38°C).\n",
            "    *   **Nights:** Nights offer little relief, often staying in the **high 60s or low 70s (20-23°C)**, making it feel warm and sticky even after dark.\n",
            "\n",
            "*   **Humidity:** This is the defining characteristic of July. The air often feels **thick, heavy, and sticky**. High humidity makes the heat feel even more intense than the mercury alone suggests.\n",
            "\n",
            "*   **Sunshine:** You'll see plenty of **bright sunshine**, especially in the mornings. The UV index is often high.\n",
            "\n",
            "*   **Precipitation:** While generally sunny, July is also prone to **pop-up afternoon thunderstorms**. These are usually brief but can be intense, bringing heavy rain, lightning, and thunder. Don't expect constant rain, but be prepared for occasional downpours.\n",
            "\n",
            "**What to pack and expect:**\n",
            "\n",
            "*   **Lightweight, breathable clothing:** Cotton, linen, or moisture-wicking fabrics are a must.\n",
            "*   **Hydration:** Drink plenty of water throughout the day.\n",
            "*   **Sun protection:** Sunscreen, a hat, and sunglasses are essential.\n",
            "*   **Comfortable footwear:** Sandals or open-toed shoes are popular, but comfortable walking shoes are still important for exploring.\n",
            "*   **A small umbrella or light rain jacket:** For those sudden thunderstorms.\n",
            "*   **Indoor AC:** Be prepared for strong air conditioning indoors (shops, museums, subways) – sometimes a light scarf or sweater can be useful if you're sensitive to cold AC, even after being outside in the heat.\n",
            "\n",
            "**Overall:** Be prepared for classic NYC summer weather – vibrant, but can be a bit challenging if you're not used to heat and humidity. Stay hydrated, dress appropriately, and take advantage of the many air-conditioned indoor attractions!\n",
            "\n",
            "Input:\n",
            "Write a short, 3-line poem about a robot learning to paint.\n",
            "\n",
            "Output:\n",
            "Metallic arm, with logic keen,\n",
            "Learns the wild blend of colors unseen,\n",
            "A canvas blooms, a vibrant, painted scene.\n",
            "\n",
            "\n",
            "--- Pipeline finished ---\n"
          ]
        }
      ],
      "source": [
        "run_pipeline(prompts, MODEL_NAME, NUM_WORKERS)"
      ]
    },
    {
      "cell_type": "markdown",
      "metadata": {
        "id": "DKFVYB9fo048"
      },
      "source": [
        "### Expected Output\n",
        "\n",
        "The output should look similar to the following (the exact wording from Gemini may vary slightly):\n",
        "\n",
        "```\n",
        "Input:\n",
        "What is 1+2?\n",
        "\n",
        "Output:\n",
        "3\n",
        "\n",
        "Input:\n",
        "How is the weather in NYC in July?\n",
        "\n",
        "Output:\n",
        "The weather in New York City in July is typically hot and humid. Average high temperatures are around 84°F (29°C), and average low temperatures are around 69°F (21°C). It is also one of the rainiest months of the year, so you can expect some thunderstorms.\n",
        "\n",
        "Input:\n",
        "Write a short, 3-line poem about a robot learning to paint.\n",
        "\n",
        "Output:\n",
        "Steel fingers grip a brush so light,\n",
        "A canvas blooms with colors bright,\n",
        "A circuit hums, a new delight.\n",
        "\n",
        "--- Pipeline finished ---\n",
        "```"
      ]
    }
  ],
  "metadata": {
    "kernelspec": {
      "display_name": "Python 3 (ipykernel)",
      "language": "python",
      "name": "python3"
    },
    "language_info": {
      "codemirror_mode": {
        "name": "ipython",
        "version": 3
      },
      "file_extension": ".py",
      "mimetype": "text/x-python",
      "name": "python",
      "nbconvert_exporter": "python",
      "pygments_lexer": "ipython3",
      "version": "3.11.6"
    },
    "colab": {
      "provenance": [],
      "include_colab_link": true
    }
  },
  "nbformat": 4,
  "nbformat_minor": 0
}