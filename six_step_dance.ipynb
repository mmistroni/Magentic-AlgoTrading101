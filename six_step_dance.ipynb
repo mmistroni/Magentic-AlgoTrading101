{
 "cells": [
  {
   "cell_type": "markdown",
   "metadata": {},
   "source": [
    "#### @prompt example"
   ]
  },
  {
   "cell_type": "code",
   "execution_count": 1,
   "metadata": {},
   "outputs": [],
   "source": [
    "from openbb import obb\n",
    "import os\n",
    "from magentic import prompt\n",
    "from openbb import obb\n",
    "obb.account.login(pat=os.environ['PAT_KEY'])\n",
    "FMP_KEY = os.environ['FMP_KEY']\n"
   ]
  },
  {
   "cell_type": "markdown",
   "metadata": {},
   "source": [
    "## Six Step Dance via Langchain\n",
    "1. Taking into Account Company Industry (Growth / Value)\n",
    "    1. Growth / Value\n",
    "    2. Sector outperforming market or not\n",
    "    3. Company outperforming sector\n",
    "    4. PE vs Industry\n",
    "2. Determining Company Financial Stability\n",
    "    1. Debt To Equity\n",
    "    2. Current Ratio\n",
    "    3. Interest Margin Cover\n",
    "3. Looking at Historical Earning and Growth\n",
    "    1. Sales Growth\n",
    "    2. EPS Growth\n",
    "    3. Return on Invested Capital\n",
    "    4. Profit Margin\n",
    "    5. Cashflow Growth\n",
    "    6. Equity Growth\n",
    "    7. Return on Equity\n",
    "4. Understanding Earnings and Sales Expectations\n",
    "    1. Analyst Estimates\n",
    "    2. PEG\n",
    "5. Checking out competition\n",
    "    1. P/E\n",
    "    2. P/S\n",
    "    3.MOAT\n",
    "6. Estimating Company Values\n",
    "    1. Insider Buying\n",
    "    2. Senate TRading\n",
    "    3. 13f\n",
    "\n",
    "## Buffett Criteria\n",
    "### Gross Margin Indicates profitability > 40% GrossProfit/Revenue GROSS PM close to 40 for recent years\n",
    "### SG&A Margin efficiency in managing overhead costs < 30% SG&A Expenses / Gross Profit\n",
    "### R&D Margin r&d spending relative to profitability < 30% R&D Expenses / Gross Profit\n",
    "### Interest Expense Margin reliance on debt and financial health < 15 % Interest Expense / Operating Income\n",
    "### Income Tax Margin Gauges tax efficiency ~ 20% Income Tax / Pre-Tax Income\n",
    "### Profit Margin Shows overall profitabilty relative to revenue > 20% Net Income / Revenue\n",
    "### EPS Growth Indicates growth and consistency in earnings >0 and growing Net Income / Shares Outstanding\n",
    "\n",
    "\n"
   ]
  },
  {
   "cell_type": "markdown",
   "metadata": {},
   "source": [
    "### Attempting to write a Small Agent"
   ]
  },
  {
   "cell_type": "code",
   "execution_count": 2,
   "metadata": {},
   "outputs": [],
   "source": [
    "from langchain_openai import ChatOpenAI\n",
    "from langchain.agents import tool\n",
    "from langchain_core.prompts import ChatPromptTemplate, MessagesPlaceholder\n",
    "\n",
    "llm = ChatOpenAI(model=\"gpt-3.5-turbo\", temperature=0)"
   ]
  },
  {
   "cell_type": "code",
   "execution_count": 17,
   "metadata": {},
   "outputs": [
    {
     "name": "stderr",
     "output_type": "stream",
     "text": [
      "/tmp/ipykernel_19520/515576490.py:60: LangChainDeprecationWarning: The method `BaseTool.__call__` was deprecated in langchain-core 0.1.47 and will be removed in 1.0. Use :meth:`~invoke` instead.\n",
      "  get_best_stock_performers_for_industry('Medical Distribution')\n"
     ]
    },
    {
     "data": {
      "text/plain": [
       "'[{\"symbol\":\"COR\",\"name\":\"Cencora Inc\",\"country\":\"USA\",\"sector\":\"Healthcare\",\"industry\":\"Medical Distribution\",\"market_cap\":53980000000.0,\"price\":278.39,\"change_percent\":-0.0379,\"volume\":4331792,\"price_to_earnings\":39.61},{\"symbol\":\"MCK\",\"name\":\"Mckesson Corporation\",\"country\":\"USA\",\"sector\":\"Healthcare\",\"industry\":\"Medical Distribution\",\"market_cap\":85610000000.0,\"price\":683.11,\"change_percent\":-0.0472,\"volume\":3081849,\"price_to_earnings\":31.31}]'"
      ]
     },
     "execution_count": 17,
     "metadata": {},
     "output_type": "execute_result"
    }
   ],
   "source": [
    "@tool\n",
    "def get_performance(group:str) -> list:\n",
    "    \"\"\" Return performance by sector or industyr industry performance for last week, last month, last quarter, last half year and last year\"\"\"\n",
    "    return obb.equity.compare.groups(group=group, metric='performance', provider='finviz').to_llm()\n",
    "\n",
    "@tool\n",
    "def get_strong_buy_for_sector(sector : str) -> list :\n",
    "    \"\"\" Return the strong buy recommendation for a given sector\"\"\"\n",
    "    new_sector = '_'.join(sector.lower().split())\n",
    "    data = obb.equity.screener(provider='finviz', sector=new_sector, recommendation='buy')\n",
    "    return data.to_llm()\n",
    "\n",
    "@tool\n",
    "def get_best_stock_performers_for_sector(sector:str) -> list :\n",
    "    \"\"\" Return the best  5 stock performers for last week and last month for a given sector\"\"\"\n",
    "    data = obb.equity.screener(provider='finviz', filters_dict={'Sector' : sector, 'Performance' : 'Week Up', 'Performance 2' : 'Month Up'}, limit=5)\n",
    "    return data.to_llm()\n",
    "\n",
    "@tool\n",
    "def get_best_stock_performers_for_industry(industry:str) -> list :\n",
    "    \"\"\" Return the best  5 stock performers for last week and last month for an industry\"\"\"\n",
    "    data = obb.equity.screener(provider='finviz', filters_dict={'Industry' : industry, 'Performance' : 'Week Up', 'Performance 2' : 'Month Up'}, limit=10)\n",
    "    return data.to_llm()\n",
    "\n",
    "@tool\n",
    "def get_valuation_for_sectors(input:str) -> list:\n",
    "    \"\"\" Return valuation metrics for the sector provided as input\"\"\"\n",
    "    data = obb.equity.compare.groups(group='sector', metric='valuation', provider='finviz').to_df()\n",
    "    \n",
    "    filtered =  data[data.name == input]\n",
    "    return filtered.to_json(\n",
    "            orient=\"records\",\n",
    "            date_format=\"iso\",\n",
    "            date_unit=\"s\",\n",
    "        )\n",
    "\n",
    "@tool\n",
    "def get_valuation_for_industries(input:str) -> list:\n",
    "    \"\"\" Return valuation meetrics for the industry provided as input\"\"\"\n",
    "    data =  obb.equity.compare.groups(group='industry', metric='valuation', provider='finviz').to_df()\n",
    "    filtered =  data[data.name == input]\n",
    "    return filtered.to_json(\n",
    "            orient=\"records\",\n",
    "            date_format=\"iso\",\n",
    "            date_unit=\"s\",\n",
    "        )\n",
    "\n",
    "\n",
    "@tool\n",
    "def get_valuation_for_company(ticker:str) -> list:\n",
    "    \"\"\" Return Valuation metrics for a company\"\"\"\n",
    "    # requires obb login\n",
    "    obb.account.login(pat=os.environ['PAT_KEY'])\n",
    "    return obb.equity.fundamental.ratios(symbol='AAPL', provider='fmp', limit=1).to_llm()\n",
    "\n",
    "#get_strong_buy_for_sector.invoke('Consumer Cyclical')\n",
    "#get_valuation_for_sectors.invoke('Utilities')\n",
    "#get_valuation_for_company.invoke('AAPL')\n",
    "#get_valuation_for_industries.invoke('Medical Distribution')\n",
    "get_best_stock_performers_for_industry('Medical Distribution')"
   ]
  },
  {
   "cell_type": "code",
   "execution_count": 15,
   "metadata": {},
   "outputs": [],
   "source": [
    "from langchain_core.prompts import ChatPromptTemplate, MessagesPlaceholder\n",
    "\n",
    "prompt = ChatPromptTemplate.from_messages(\n",
    "    [\n",
    "        (\n",
    "            \"system\",\n",
    "            \"You are very powerful stock financial analys, but don't know current events. Use the toools as much as you can to retrieve informations\",\n",
    "        ),\n",
    "        (\"user\", \"{input}\"),\n",
    "        MessagesPlaceholder(variable_name=\"agent_scratchpad\"),\n",
    "    ]\n",
    ")"
   ]
  },
  {
   "cell_type": "code",
   "execution_count": 5,
   "metadata": {},
   "outputs": [],
   "source": [
    "tools = [get_performance, get_strong_buy_for_sector, get_best_stock_performers_for_sector, get_valuation_for_sectors, get_valuation_for_industries,get_valuation_for_company]\n",
    "llm_with_tools = llm.bind_tools(tools)"
   ]
  },
  {
   "cell_type": "code",
   "execution_count": 6,
   "metadata": {},
   "outputs": [],
   "source": [
    "from langchain.agents.format_scratchpad.openai_tools import (\n",
    "    format_to_openai_tool_messages,\n",
    ")\n",
    "from langchain.agents.output_parsers.openai_tools import OpenAIToolsAgentOutputParser\n",
    "from langchain_core.output_parsers import StrOutputParser, CommaSeparatedListOutputParser\n",
    "\n",
    "agent = (\n",
    "    {\n",
    "        \"input\": lambda x: x[\"input\"],\n",
    "        \"agent_scratchpad\": lambda x: format_to_openai_tool_messages(\n",
    "            x[\"intermediate_steps\"]\n",
    "        ),\n",
    "    }\n",
    "    | prompt\n",
    "    | llm_with_tools\n",
    "    | OpenAIToolsAgentOutputParser()\n",
    ")"
   ]
  },
  {
   "cell_type": "markdown",
   "metadata": {},
   "source": [
    "### Chat Memory"
   ]
  },
  {
   "cell_type": "code",
   "execution_count": 7,
   "metadata": {},
   "outputs": [],
   "source": [
    "from langchain_core.prompts import MessagesPlaceholder\n",
    "from langchain.memory import ConversationTokenBufferMemory\n",
    "#from langchain_core.messages import count_tokens_approximately\n",
    "from langchain.agents.format_scratchpad.openai_tools import (\n",
    "    format_to_openai_tool_messages,\n",
    ")\n",
    "from langchain.agents.output_parsers.openai_tools import OpenAIToolsAgentOutputParser\n",
    "from langchain_core.output_parsers import StrOutputParser, CommaSeparatedListOutputParser\n",
    "from langchain.agents import AgentExecutor\n",
    "from langchain_core.messages import AIMessage, HumanMessage\n",
    "\n",
    "\n",
    "\n",
    "\n",
    "MEMORY_KEY = \"chat_history\"\n",
    "prompt = ChatPromptTemplate.from_messages(\n",
    "    [\n",
    "        (\n",
    "            \"system\",\n",
    "            \"You are very powerful stock recommendation assistant , but dont know current events so you should use your tools as much as you can.\",\n",
    "        ),\n",
    "        MessagesPlaceholder(variable_name=MEMORY_KEY),\n",
    "        (\"user\", \"{input}\"),\n",
    "        MessagesPlaceholder(variable_name=\"agent_scratchpad\"),\n",
    "    ]\n",
    ")"
   ]
  },
  {
   "cell_type": "code",
   "execution_count": 8,
   "metadata": {},
   "outputs": [
    {
     "name": "stderr",
     "output_type": "stream",
     "text": [
      "/tmp/ipykernel_19520/1189149751.py:4: LangChainDeprecationWarning: Please see the migration guide at: https://python.langchain.com/docs/versions/migrating_memory/\n",
      "  memory = ConversationTokenBufferMemory(\n"
     ]
    }
   ],
   "source": [
    "chat_history = []\n",
    "chat_history.append(HumanMessage(content=\"Your question here\"))\n",
    "chat_history.append(AIMessage(content=\"AI response here\"))\n",
    "memory = ConversationTokenBufferMemory(\n",
    "    llm=llm,  # Required for token counting\n",
    "    max_token_limit=14000,  # Leave buffer for functions + responses\n",
    "    memory_key=\"chat_history\",  # Must match your prompt's key\n",
    "    return_messages=True\n",
    ")\n",
    "\n",
    "agent = (\n",
    "    {\n",
    "        \"input\": lambda x: x[\"input\"],\n",
    "        \"agent_scratchpad\": lambda x: format_to_openai_tool_messages(\n",
    "            x[\"intermediate_steps\"]\n",
    "        ),\n",
    "        \"chat_history\": lambda x: memory.load_memory_variables(x)[\"chat_history\"],\n",
    "    }\n",
    "    | prompt\n",
    "    | llm_with_tools\n",
    "    | OpenAIToolsAgentOutputParser()\n",
    ")\n",
    "agent_executor = AgentExecutor(agent=agent, tools=tools, verbose=True)"
   ]
  },
  {
   "cell_type": "code",
   "execution_count": null,
   "metadata": {},
   "outputs": [],
   "source": [
    "input1 = \"Find the sector that has shown a constant postive performance across quarter, month and week.Once you get it, please extract its valuation metrics and the top performers for this sector.Once you find the top performenrs, get their valuation metrics, compare them with the sector and summarize which companies are doing better than the sector\"\n",
    "result = agent_executor.invoke({\"input\": input1, \"chat_history\": chat_history})\n",
    "chat_history.extend(\n",
    "    [\n",
    "        HumanMessage(content=input1),\n",
    "        AIMessage(content=result[\"output\"]),\n",
    "    ]\n",
    ")\n",
    "print(result['output'])"
   ]
  },
  {
   "cell_type": "markdown",
   "metadata": {},
   "source": [
    "### Let's try to do another approach, We start with the industry, find the ones that are performing better than the industry and narrow down by criteria"
   ]
  },
  {
   "cell_type": "code",
   "execution_count": 12,
   "metadata": {},
   "outputs": [
    {
     "name": "stdout",
     "output_type": "stream",
     "text": [
      "\n",
      "\n",
      "\u001b[1m> Entering new AgentExecutor chain...\u001b[0m\n",
      "\u001b[32;1m\u001b[1;3m\n",
      "Invoking: `get_performance` with `{'group': 'industry'}`\n",
      "\n",
      "\n",
      "\u001b[0m\u001b[36;1m\u001b[1;3m[{\"name\":\"Oil & Gas Drilling\",\"performance_1d\":-0.1525,\"performance_1w\":-0.2647,\"performance_1m\":-0.2081,\"performance_3m\":-0.4135,\"performance_6m\":-0.445,\"performance_1y\":-0.5735,\"performance_ytd\":-0.3924,\"analyst_recommendation\":1.91,\"volume\":125480000,\"volume_average\":57070000,\"volume_relative\":2.2},{\"name\":\"Copper\",\"performance_1d\":-0.1102,\"performance_1w\":-0.1985,\"performance_1m\":-0.1744,\"performance_3m\":-0.1844,\"performance_6m\":-0.3699,\"performance_1y\":-0.3356,\"performance_ytd\":-0.1796,\"analyst_recommendation\":2.73,\"volume\":84920000,\"volume_average\":36090000,\"volume_relative\":2.35},{\"name\":\"Aluminum\",\"performance_1d\":-0.0947,\"performance_1w\":-0.1894,\"performance_1m\":-0.2378,\"performance_3m\":-0.3024,\"performance_6m\":-0.35,\"performance_1y\":-0.3831,\"performance_ytd\":-0.3009,\"analyst_recommendation\":1.77,\"volume\":20180000,\"volume_average\":8640000,\"volume_relative\":2.34},{\"name\":\"Computer Hardware\",\"performance_1d\":-0.0833,\"performance_1w\":-0.1861,\"performance_1m\":-0.2262,\"performance_3m\":-0.3604,\"performance_6m\":-0.3117,\"performance_1y\":-0.3213,\"performance_ytd\":-0.3518,\"analyst_recommendation\":1.87,\"volume\":324980000,\"volume_average\":417830000,\"volume_relative\":0.78},{\"name\":\"Chemicals\",\"performance_1d\":-0.0932,\"performance_1w\":-0.1849,\"performance_1m\":-0.2362,\"performance_3m\":-0.3178,\"performance_6m\":-0.5188,\"performance_1y\":-0.5803,\"performance_ytd\":-0.3263,\"analyst_recommendation\":2.41,\"volume\":51710000,\"volume_average\":26240000,\"volume_relative\":1.97},{\"name\":\"Oil & Gas Equipment & Services\",\"performance_1d\":-0.116,\"performance_1w\":-0.1844,\"performance_1m\":-0.1416,\"performance_3m\":-0.1898,\"performance_6m\":-0.1913,\"performance_1y\":-0.3054,\"performance_ytd\":-0.1796,\"analyst_recommendation\":1.73,\"volume\":193000000,\"volume_average\":86100000,\"volume_relative\":2.24},{\"name\":\"Silver\",\"performance_1d\":-0.1197,\"performance_1w\":-0.1788,\"performance_1m\":-0.098,\"performance_3m\":-0.0749,\"performance_6m\":-0.1509,\"performance_1y\":-0.1248,\"performance_ytd\":-0.0052,\"analyst_recommendation\":1.84,\"volume\":51900000,\"volume_average\":36420000,\"volume_relative\":1.42},{\"name\":\"Oil & Gas Refining & Marketing\",\"performance_1d\":-0.0732,\"performance_1w\":-0.1703,\"performance_1m\":-0.149,\"performance_3m\":-0.1373,\"performance_6m\":-0.2651,\"performance_1y\":-0.4398,\"performance_ytd\":-0.1308,\"analyst_recommendation\":1.92,\"volume\":51840000,\"volume_average\":28720000,\"volume_relative\":1.8},{\"name\":\"Oil & Gas E&P\",\"performance_1d\":-0.1025,\"performance_1w\":-0.16,\"performance_1m\":-0.0768,\"performance_3m\":-0.151,\"performance_6m\":-0.1716,\"performance_1y\":-0.2726,\"performance_ytd\":-0.1356,\"analyst_recommendation\":1.83,\"volume\":424950000,\"volume_average\":217250000,\"volume_relative\":1.96},{\"name\":\"Scientific & Technical Instruments\",\"performance_1d\":-0.0576,\"performance_1w\":-0.1496,\"performance_1m\":-0.1798,\"performance_3m\":-0.1936,\"performance_6m\":-0.1582,\"performance_1y\":-0.1217,\"performance_ytd\":-0.1945,\"analyst_recommendation\":2.12,\"volume\":50070000,\"volume_average\":30160000,\"volume_relative\":1.66},{\"name\":\"Utilities - Independent Power Producers\",\"performance_1d\":-0.0895,\"performance_1w\":-0.149,\"performance_1m\":-0.1113,\"performance_3m\":-0.2688,\"performance_6m\":-0.145,\"performance_1y\":0.3291,\"performance_ytd\":-0.2243,\"analyst_recommendation\":1.69,\"volume\":29050000,\"volume_average\":16770000,\"volume_relative\":1.73},{\"name\":\"Coking Coal\",\"performance_1d\":-0.0689,\"performance_1w\":-0.1466,\"performance_1m\":-0.1633,\"performance_3m\":-0.3357,\"performance_6m\":-0.3935,\"performance_1y\":-0.4937,\"performance_ytd\":-0.3345,\"analyst_recommendation\":1.92,\"volume\":13470000,\"volume_average\":4099999,\"volume_relative\":3.28},{\"name\":\"Marine Shipping\",\"performance_1d\":-0.0741,\"performance_1w\":-0.1444,\"performance_1m\":-0.169,\"performance_3m\":-0.2504,\"performance_6m\":-0.3719,\"performance_1y\":-0.268,\"performance_ytd\":-0.2261,\"analyst_recommendation\":1.89,\"volume\":50140000,\"volume_average\":27060000,\"volume_relative\":1.85},{\"name\":\"Semiconductors\",\"performance_1d\":-0.0725,\"performance_1w\":-0.1424,\"performance_1m\":-0.1695,\"performance_3m\":-0.3087,\"performance_6m\":-0.2216,\"performance_1y\":-0.0796,\"performance_ytd\":-0.2955,\"analyst_recommendation\":1.48,\"volume\":1220000000,\"volume_average\":703450000,\"volume_relative\":1.73},{\"name\":\"Airlines\",\"performance_1d\":-0.0505,\"performance_1w\":-0.1421,\"performance_1m\":-0.2409,\"performance_3m\":-0.2786,\"performance_6m\":-0.0955,\"performance_1y\":-0.2837,\"performance_ytd\":-0.2903,\"analyst_recommendation\":1.87,\"volume\":246630000,\"volume_average\":117530000,\"volume_relative\":2.1},{\"name\":\"Electronic Components\",\"performance_1d\":-0.0581,\"performance_1w\":-0.1405,\"performance_1m\":-0.1293,\"performance_3m\":-0.1867,\"performance_6m\":-0.1253,\"performance_1y\":-0.0919,\"performance_ytd\":-0.1923,\"analyst_recommendation\":1.89,\"volume\":105800000,\"volume_average\":92780000,\"volume_relative\":1.14},{\"name\":\"Thermal Coal\",\"performance_1d\":-0.0694,\"performance_1w\":-0.1396,\"performance_1m\":-0.0603,\"performance_3m\":-0.294,\"performance_6m\":-0.2869,\"performance_1y\":-0.167,\"performance_ytd\":-0.2906,\"analyst_recommendation\":1.49,\"volume\":12540000,\"volume_average\":6320000,\"volume_relative\":1.98},{\"name\":\"Other Precious Metals & Mining\",\"performance_1d\":-0.1061,\"performance_1w\":-0.1381,\"performance_1m\":-0.0379,\"performance_3m\":0.0164,\"performance_6m\":-0.117,\"performance_1y\":-0.1038,\"performance_ytd\":0.0633,\"analyst_recommendation\":1.88,\"volume\":58470000,\"volume_average\":35860000,\"volume_relative\":1.63},{\"name\":\"Consumer Electronics\",\"performance_1d\":-0.0726,\"performance_1w\":-0.1353,\"performance_1m\":-0.1958,\"performance_3m\":-0.2188,\"performance_6m\":-0.1593,\"performance_1y\":0.1147,\"performance_ytd\":-0.2387,\"analyst_recommendation\":2.16,\"volume\":148250000,\"volume_average\":69770000,\"volume_relative\":2.12},{\"name\":\"Electrical Equipment & Parts\",\"performance_1d\":-0.0705,\"performance_1w\":-0.1344,\"performance_1m\":-0.1928,\"performance_3m\":-0.358,\"performance_6m\":-0.2976,\"performance_1y\":-0.2842,\"performance_ytd\":-0.3421,\"analyst_recommendation\":1.89,\"volume\":146410000,\"volume_average\":134060000,\"volume_relative\":1.09},{\"name\":\"Semiconductor Equipment & Materials\",\"performance_1d\":-0.0543,\"performance_1w\":-0.1329,\"performance_1m\":-0.182,\"performance_3m\":-0.1859,\"performance_6m\":-0.3081,\"performance_1y\":-0.3695,\"performance_ytd\":-0.179,\"analyst_recommendation\":1.71,\"volume\":93320000,\"volume_average\":47990000,\"volume_relative\":1.94},{\"name\":\"Capital Markets\",\"performance_1d\":-0.0784,\"performance_1w\":-0.131,\"performance_1m\":-0.1558,\"performance_3m\":-0.1694,\"performance_6m\":-0.0262,\"performance_1y\":0.0577,\"performance_ytd\":-0.1667,\"analyst_recommendation\":2.05,\"volume\":408780000,\"volume_average\":338610000,\"volume_relative\":1.21},{\"name\":\"Asset Management\",\"performance_1d\":-0.0752,\"performance_1w\":-0.1304,\"performance_1m\":-0.1474,\"performance_3m\":-0.2301,\"performance_6m\":-0.1481,\"performance_1y\":-0.0349,\"performance_ytd\":-0.2276,\"analyst_recommendation\":2.06,\"volume\":353980000,\"volume_average\":146280000,\"volume_relative\":2.42},{\"name\":\"Banks - Diversified\",\"performance_1d\":-0.0724,\"performance_1w\":-0.1298,\"performance_1m\":-0.137,\"performance_3m\":-0.0857,\"performance_6m\":-0.0045,\"performance_1y\":0.0476,\"performance_ytd\":-0.0882,\"analyst_recommendation\":1.85,\"volume\":318430000,\"volume_average\":143260000,\"volume_relative\":2.22},{\"name\":\"Other Industrial Metals & Mining\",\"performance_1d\":-0.082,\"performance_1w\":-0.1262,\"performance_1m\":-0.152,\"performance_3m\":-0.1105,\"performance_6m\":-0.2841,\"performance_1y\":-0.2473,\"performance_ytd\":-0.1058,\"analyst_recommendation\":2.0,\"volume\":173000000,\"volume_average\":101500000,\"volume_relative\":1.7},{\"name\":\"Broadcasting\",\"performance_1d\":-0.0731,\"performance_1w\":-0.121,\"performance_1m\":-0.0873,\"performance_3m\":-0.0489,\"performance_6m\":-0.0256,\"performance_1y\":-0.047,\"performance_ytd\":-0.0242,\"analyst_recommendation\":1.93,\"volume\":29450000,\"volume_average\":57410000,\"volume_relative\":0.51},{\"name\":\"Oil & Gas Integrated\",\"performance_1d\":-0.0778,\"performance_1w\":-0.1196,\"performance_1m\":-0.0392,\"performance_3m\":-0.0219,\"performance_6m\":-0.1076,\"performance_1y\":-0.1434,\"performance_ytd\":-0.0127,\"analyst_recommendation\":1.87,\"volume\":213200000,\"volume_average\":106950000,\"volume_relative\":1.99},{\"name\":\"Steel\",\"performance_1d\":-0.0489,\"performance_1w\":-0.1177,\"performance_1m\":-0.1542,\"performance_3m\":-0.0245,\"performance_6m\":-0.2125,\"performance_1y\":-0.3421,\"performance_ytd\":-0.0384,\"analyst_recommendation\":2.14,\"volume\":85120000,\"volume_average\":52560000,\"volume_relative\":1.62},{\"name\":\"Luxury Goods\",\"performance_1d\":-0.0281,\"performance_1w\":-0.1168,\"performance_1m\":-0.1755,\"performance_3m\":-0.1333,\"performance_6m\":-0.0457,\"performance_1y\":-0.0839,\"performance_ytd\":-0.1413,\"analyst_recommendation\":2.02,\"volume\":35380000,\"volume_average\":15480000,\"volume_relative\":2.29},{\"name\":\"Apparel Manufacturing\",\"performance_1d\":-0.0063,\"performance_1w\":-0.1155,\"performance_1m\":-0.2027,\"performance_3m\":-0.2711,\"performance_6m\":-0.2397,\"performance_1y\":-0.1496,\"performance_ytd\":-0.2759,\"analyst_recommendation\":2.37,\"volume\":114570000,\"volume_average\":47730000,\"volume_relative\":2.4},{\"name\":\"Internet Retail\",\"performance_1d\":-0.0542,\"performance_1w\":-0.1153,\"performance_1m\":-0.1486,\"performance_3m\":-0.1484,\"performance_6m\":-0.0858,\"performance_1y\":0.0086,\"performance_ytd\":-0.1449,\"analyst_recommendation\":1.33,\"volume\":359480000,\"volume_average\":157410000,\"volume_relative\":2.28},{\"name\":\"Utilities - Renewable\",\"performance_1d\":-0.0866,\"performance_1w\":-0.1148,\"performance_1m\":-0.0986,\"performance_3m\":-0.2058,\"performance_6m\":-0.1646,\"performance_1y\":0.1743,\"performance_ytd\":-0.169,\"analyst_recommendation\":1.59,\"volume\":50120000,\"volume_average\":38500000,\"volume_relative\":1.3},{\"name\":\"Financial Conglomerates\",\"performance_1d\":-0.0727,\"performance_1w\":-0.1142,\"performance_1m\":-0.1216,\"performance_3m\":-0.1132,\"performance_6m\":-0.1436,\"performance_1y\":-0.0468,\"performance_ytd\":-0.112,\"analyst_recommendation\":1.94,\"volume\":4780000,\"volume_average\":3920000,\"volume_relative\":1.22},{\"name\":\"Resorts & Casinos\",\"performance_1d\":-0.055,\"performance_1w\":-0.1139,\"performance_1m\":-0.2013,\"performance_3m\":-0.2437,\"performance_6m\":-0.2965,\"performance_1y\":-0.3537,\"performance_ytd\":-0.2649,\"analyst_recommendation\":1.8,\"volume\":74270000,\"volume_average\":37130000,\"volume_relative\":2.0},{\"name\":\"Metal Fabrication\",\"performance_1d\":-0.0694,\"performance_1w\":-0.1136,\"performance_1m\":-0.1442,\"performance_3m\":-0.1232,\"performance_6m\":-0.0955,\"performance_1y\":0.1115,\"performance_ytd\":-0.1204,\"analyst_recommendation\":1.73,\"volume\":10570000,\"volume_average\":11990000,\"volume_relative\":0.88},{\"name\":\"Integrated Freight & Logistics\",\"performance_1d\":-0.0262,\"performance_1w\":-0.1134,\"performance_1m\":-0.1635,\"performance_3m\":-0.1942,\"performance_6m\":-0.2393,\"performance_1y\":-0.2775,\"performance_ytd\":-0.2077,\"analyst_recommendation\":2.15,\"volume\":53950000,\"volume_average\":28900000,\"volume_relative\":1.87},{\"name\":\"Specialty Industrial Machinery\",\"performance_1d\":-0.059,\"performance_1w\":-0.1125,\"performance_1m\":-0.1555,\"performance_3m\":-0.1839,\"performance_6m\":-0.1836,\"performance_1y\":-0.1655,\"performance_ytd\":-0.1896,\"analyst_recommendation\":2.15,\"volume\":137800000,\"volume_average\":129250000,\"volume_relative\":1.07},{\"name\":\"Aerospace & Defense\",\"performance_1d\":-0.084,\"performance_1w\":-0.1121,\"performance_1m\":-0.0897,\"performance_3m\":-0.0591,\"performance_6m\":-0.1007,\"performance_1y\":0.049,\"performance_ytd\":-0.0627,\"analyst_recommendation\":1.92,\"volume\":194270000,\"volume_average\":148520000,\"volume_relative\":1.31},{\"name\":\"Rental & Leasing Services\",\"performance_1d\":-0.0641,\"performance_1w\":-0.111,\"performance_1m\":-0.1172,\"performance_3m\":-0.1785,\"performance_6m\":-0.2043,\"performance_1y\":-0.147,\"performance_ytd\":-0.1854,\"analyst_recommendation\":2.07,\"volume\":42980000,\"volume_average\":23870000,\"volume_relative\":1.8},{\"name\":\"Travel Services\",\"performance_1d\":-0.0544,\"performance_1w\":-0.1107,\"performance_1m\":-0.1458,\"performance_3m\":-0.188,\"performance_6m\":-0.0407,\"performance_1y\":0.0502,\"performance_ytd\":-0.196,\"analyst_recommendation\":1.85,\"volume\":110800000,\"volume_average\":64750000,\"volume_relative\":1.71},{\"name\":\"Textile Manufacturing\",\"performance_1d\":-0.0522,\"performance_1w\":-0.1101,\"performance_1m\":-0.1515,\"performance_3m\":-0.2278,\"performance_6m\":-0.2968,\"performance_1y\":-0.3037,\"performance_ytd\":-0.2361,\"analyst_recommendation\":2.48,\"volume\":475940,\"volume_average\":327910,\"volume_relative\":1.45},{\"name\":\"Biotechnology\",\"performance_1d\":-0.0559,\"performance_1w\":-0.11,\"performance_1m\":-0.1396,\"performance_3m\":-0.144,\"performance_6m\":-0.2388,\"performance_1y\":-0.2407,\"performance_ytd\":-0.1346,\"analyst_recommendation\":1.54,\"volume\":929480000,\"volume_average\":840340000,\"volume_relative\":1.11},{\"name\":\"REIT - Office\",\"performance_1d\":-0.0362,\"performance_1w\":-0.109,\"performance_1m\":-0.1208,\"performance_3m\":-0.1848,\"performance_6m\":-0.2301,\"performance_1y\":-0.1178,\"performance_ytd\":-0.1846,\"analyst_recommendation\":2.6,\"volume\":42450000,\"volume_average\":25770000,\"volume_relative\":1.65},{\"name\":\"Communication Equipment\",\"performance_1d\":-0.0555,\"performance_1w\":-0.1085,\"performance_1m\":-0.1402,\"performance_3m\":-0.1369,\"performance_6m\":-0.0537,\"performance_1y\":0.1192,\"performance_ytd\":-0.1372,\"analyst_recommendation\":2.12,\"volume\":220050000,\"volume_average\":146880000,\"volume_relative\":1.5},{\"name\":\"REIT - Hotel & Motel\",\"performance_1d\":-0.0285,\"performance_1w\":-0.1073,\"performance_1m\":-0.1885,\"performance_3m\":-0.2526,\"performance_6m\":-0.2607,\"performance_1y\":-0.3399,\"performance_ytd\":-0.2652,\"analyst_recommendation\":1.93,\"volume\":76040000,\"volume_average\":29860000,\"volume_relative\":2.55},{\"name\":\"Insurance - Life\",\"performance_1d\":-0.0876,\"performance_1w\":-0.1054,\"performance_1m\":-0.0915,\"performance_3m\":-0.0708,\"performance_6m\":-0.0912,\"performance_1y\":0.0324,\"performance_ytd\":-0.0751,\"analyst_recommendation\":2.32,\"volume\":46620000,\"volume_average\":23130000,\"volume_relative\":2.02},{\"name\":\"Advertising Agencies\",\"performance_1d\":-0.0455,\"performance_1w\":-0.1051,\"performance_1m\":-0.1535,\"performance_3m\":-0.2447,\"performance_6m\":-0.2853,\"performance_1y\":-0.2928,\"performance_ytd\":-0.2436,\"analyst_recommendation\":2.12,\"volume\":42360000,\"volume_average\":41790000,\"volume_relative\":1.01},{\"name\":\"Oil & Gas Midstream\",\"performance_1d\":-0.0828,\"performance_1w\":-0.1044,\"performance_1m\":-0.0483,\"performance_3m\":-0.0808,\"performance_6m\":0.0073,\"performance_1y\":0.1281,\"performance_ytd\":-0.0628,\"analyst_recommendation\":2.05,\"volume\":249180000,\"volume_average\":105350000,\"volume_relative\":2.37},{\"name\":\"Diagnostics & Research\",\"performance_1d\":-0.0623,\"performance_1w\":-0.1043,\"performance_1m\":-0.148,\"performance_3m\":-0.1757,\"performance_6m\":-0.2744,\"performance_1y\":-0.2285,\"performance_ytd\":-0.1752,\"analyst_recommendation\":1.75,\"volume\":85830000,\"volume_average\":77420000,\"volume_relative\":1.11},{\"name\":\"Entertainment\",\"performance_1d\":-0.0638,\"performance_1w\":-0.103,\"performance_1m\":-0.1134,\"performance_3m\":-0.111,\"performance_6m\":0.0624,\"performance_1y\":0.0551,\"performance_ytd\":-0.1143,\"analyst_recommendation\":1.76,\"volume\":255840000,\"volume_average\":147050000,\"volume_relative\":1.74},{\"name\":\"Uranium\",\"performance_1d\":-0.0693,\"performance_1w\":-0.1021,\"performance_1m\":-0.1322,\"performance_3m\":-0.3311,\"performance_6m\":-0.2925,\"performance_1y\":-0.3362,\"performance_ytd\":-0.2971,\"analyst_recommendation\":1.2,\"volume\":141730000,\"volume_average\":93650000,\"volume_relative\":1.51},{\"name\":\"Electronics & Computer Distribution\",\"performance_1d\":-0.0378,\"performance_1w\":-0.1009,\"performance_1m\":-0.182,\"performance_3m\":-0.1714,\"performance_6m\":-0.2554,\"performance_1y\":-0.218,\"performance_ytd\":-0.1811,\"analyst_recommendation\":2.39,\"volume\":5760000,\"volume_average\":3210000,\"volume_relative\":1.79},{\"name\":\"Leisure\",\"performance_1d\":-0.0262,\"performance_1w\":-0.1004,\"performance_1m\":-0.1376,\"performance_3m\":-0.1516,\"performance_6m\":-0.0347,\"performance_1y\":0.0491,\"performance_ytd\":-0.1401,\"analyst_recommendation\":1.76,\"volume\":71310000,\"volume_average\":57450000,\"volume_relative\":1.24},{\"name\":\"Farm & Heavy Construction Machinery\",\"performance_1d\":-0.0437,\"performance_1w\":-0.0996,\"performance_1m\":-0.138,\"performance_3m\":-0.1109,\"performance_6m\":-0.1409,\"performance_1y\":-0.1574,\"performance_ytd\":-0.1203,\"analyst_recommendation\":2.43,\"volume\":49360000,\"volume_average\":35190000,\"volume_relative\":1.4},{\"name\":\"Conglomerates\",\"performance_1d\":-0.0775,\"performance_1w\":-0.0993,\"performance_1m\":-0.1089,\"performance_3m\":-0.1102,\"performance_6m\":-0.0691,\"performance_1y\":-0.0003,\"performance_ytd\":-0.1102,\"analyst_recommendation\":2.09,\"volume\":28070000,\"volume_average\":16880000,\"volume_relative\":1.66},{\"name\":\"Credit Services\",\"performance_1d\":-0.0739,\"performance_1w\":-0.099,\"performance_1m\":-0.1138,\"performance_3m\":-0.0929,\"performance_6m\":0.0103,\"performance_1y\":0.0647,\"performance_ytd\":-0.0964,\"analyst_recommendation\":1.81,\"volume\":242360000,\"volume_average\":125820000,\"volume_relative\":1.93},{\"name\":\"Banks - Regional\",\"performance_1d\":-0.0507,\"performance_1w\":-0.0987,\"performance_1m\":-0.0895,\"performance_3m\":-0.0904,\"performance_6m\":-0.0591,\"performance_1y\":0.0514,\"performance_ytd\":-0.0932,\"analyst_recommendation\":1.89,\"volume\":586730000,\"volume_average\":358160000,\"volume_relative\":1.64},{\"name\":\"Software - Application\",\"performance_1d\":-0.0618,\"performance_1w\":-0.0974,\"performance_1m\":-0.1343,\"performance_3m\":-0.1763,\"performance_6m\":-0.072,\"performance_1y\":-0.0626,\"performance_ytd\":-0.1761,\"analyst_recommendation\":1.8,\"volume\":903310000,\"volume_average\":500810000,\"volume_relative\":1.8},{\"name\":\"Tools & Accessories\",\"performance_1d\":-0.0344,\"performance_1w\":-0.096,\"performance_1m\":-0.1385,\"performance_3m\":-0.1013,\"performance_6m\":-0.1608,\"performance_1y\":-0.1657,\"performance_ytd\":-0.1119,\"analyst_recommendation\":2.46,\"volume\":17510000,\"volume_average\":6750000,\"volume_relative\":2.59},{\"name\":\"Department Stores\",\"performance_1d\":-0.0079,\"performance_1w\":-0.0954,\"performance_1m\":-0.1246,\"performance_3m\":-0.2529,\"performance_6m\":-0.1765,\"performance_1y\":-0.2843,\"performance_ytd\":-0.247,\"analyst_recommendation\":3.39,\"volume\":54160000,\"volume_average\":20710000,\"volume_relative\":2.62},{\"name\":\"Gambling\",\"performance_1d\":-0.0457,\"performance_1w\":-0.0953,\"performance_1m\":-0.1839,\"performance_3m\":-0.1606,\"performance_6m\":-0.1266,\"performance_1y\":-0.0981,\"performance_ytd\":-0.1731,\"analyst_recommendation\":1.38,\"volume\":41590000,\"volume_average\":32750000,\"volume_relative\":1.27},{\"name\":\"Auto Manufacturers\",\"performance_1d\":-0.0824,\"performance_1w\":-0.0893,\"performance_1m\":-0.1048,\"performance_3m\":-0.2916,\"performance_6m\":-0.0806,\"performance_1y\":-0.0571,\"performance_ytd\":-0.3238,\"analyst_recommendation\":2.32,\"volume\":1350000000,\"volume_average\":574020000,\"volume_relative\":2.35},{\"name\":\"Financial Data & Stock Exchanges\",\"performance_1d\":-0.0684,\"performance_1w\":-0.0884,\"performance_1m\":-0.1009,\"performance_3m\":-0.0884,\"performance_6m\":-0.0693,\"performance_1y\":0.0356,\"performance_ytd\":-0.0873,\"analyst_recommendation\":1.97,\"volume\":95830000,\"volume_average\":57150000,\"volume_relative\":1.68},{\"name\":\"Trucking\",\"performance_1d\":-0.0156,\"performance_1w\":-0.0882,\"performance_1m\":-0.1524,\"performance_3m\":-0.2427,\"performance_6m\":-0.2545,\"performance_1y\":-0.3414,\"performance_ytd\":-0.2488,\"analyst_recommendation\":2.35,\"volume\":23740000,\"volume_average\":11930000,\"volume_relative\":1.99},{\"name\":\"Medical Instruments & Supplies\",\"performance_1d\":-0.0667,\"performance_1w\":-0.0875,\"performance_1m\":-0.1293,\"performance_3m\":-0.1403,\"performance_6m\":-0.1664,\"performance_1y\":-0.0989,\"performance_ytd\":-0.1407,\"analyst_recommendation\":1.95,\"volume\":138620000,\"volume_average\":94130000,\"volume_relative\":1.47},{\"name\":\"Internet Content & Information\",\"performance_1d\":-0.044,\"performance_1w\":-0.0868,\"performance_1m\":-0.167,\"performance_3m\":-0.1904,\"performance_6m\":-0.1072,\"performance_1y\":-0.0247,\"performance_ytd\":-0.1827,\"analyst_recommendation\":1.52,\"volume\":391650000,\"volume_average\":275690000,\"volume_relative\":1.42},{\"name\":\"Footwear & Accessories\",\"performance_1d\":0.0321,\"performance_1w\":-0.0863,\"performance_1m\":-0.2194,\"performance_3m\":-0.2819,\"performance_6m\":-0.2912,\"performance_1y\":-0.2903,\"performance_ytd\":-0.2897,\"analyst_recommendation\":1.98,\"volume\":206710000,\"volume_average\":39330000,\"volume_relative\":5.26},{\"name\":\"Pollution & Treatment Controls\",\"performance_1d\":-0.0486,\"performance_1w\":-0.0847,\"performance_1m\":-0.1151,\"performance_3m\":-0.1663,\"performance_6m\":-0.2057,\"performance_1y\":-0.0393,\"performance_ytd\":-0.1741,\"analyst_recommendation\":1.97,\"volume\":15890000,\"volume_average\":8820000,\"volume_relative\":1.8},{\"name\":\"Lodging\",\"performance_1d\":-0.0475,\"performance_1w\":-0.0843,\"performance_1m\":-0.1684,\"performance_3m\":-0.1743,\"performance_6m\":-0.1175,\"performance_1y\":-0.0822,\"performance_ytd\":-0.1835,\"analyst_recommendation\":2.43,\"volume\":18690000,\"volume_average\":10030000,\"volume_relative\":1.86},{\"name\":\"REIT - Industrial\",\"performance_1d\":-0.0359,\"performance_1w\":-0.0835,\"performance_1m\":-0.1388,\"performance_3m\":-0.0538,\"performance_6m\":-0.2165,\"performance_1y\":-0.1501,\"performance_ytd\":-0.0657,\"analyst_recommendation\":2.15,\"volume\":45820000,\"volume_average\":21670000,\"volume_relative\":2.11},{\"name\":\"Health Information Services\",\"performance_1d\":-0.0406,\"performance_1w\":-0.0834,\"performance_1m\":-0.1234,\"performance_3m\":-0.0391,\"performance_6m\":-0.0271,\"performance_1y\":-0.0897,\"performance_ytd\":-0.0354,\"analyst_recommendation\":1.88,\"volume\":235810000,\"volume_average\":101700000,\"volume_relative\":2.32},{\"name\":\"REIT - Mortgage\",\"performance_1d\":-0.052,\"performance_1w\":-0.0828,\"performance_1m\":-0.1113,\"performance_3m\":-0.0521,\"performance_6m\":-0.1111,\"performance_1y\":-0.0947,\"performance_ytd\":-0.0475,\"analyst_recommendation\":1.94,\"volume\":150780000,\"volume_average\":70940000,\"volume_relative\":2.13},{\"name\":\"Gold\",\"performance_1d\":-0.0915,\"performance_1w\":-0.082,\"performance_1m\":0.0132,\"performance_3m\":0.187,\"performance_6m\":0.0462,\"performance_1y\":0.2888,\"performance_ytd\":0.2368,\"analyst_recommendation\":1.84,\"volume\":331270000,\"volume_average\":221710000,\"volume_relative\":1.49},{\"name\":\"Agricultural Inputs\",\"performance_1d\":-0.0797,\"performance_1w\":-0.0806,\"performance_1m\":-0.0828,\"performance_3m\":-0.0414,\"performance_6m\":-0.1075,\"performance_1y\":-0.1357,\"performance_ytd\":-0.0422,\"analyst_recommendation\":2.07,\"volume\":33990000,\"volume_average\":25910000,\"volume_relative\":1.31},{\"name\":\"REIT - Residential\",\"performance_1d\":-0.0606,\"performance_1w\":-0.0805,\"performance_1m\":-0.0772,\"performance_3m\":-0.0382,\"performance_6m\":-0.0855,\"performance_1y\":0.072,\"performance_ytd\":-0.0522,\"analyst_recommendation\":2.19,\"volume\":33400000,\"volume_average\":22450000,\"volume_relative\":1.49},{\"name\":\"Drug Manufacturers - General\",\"performance_1d\":-0.059,\"performance_1w\":-0.0801,\"performance_1m\":-0.1374,\"performance_3m\":-0.0263,\"performance_6m\":-0.1512,\"performance_1y\":-0.093,\"performance_ytd\":-0.0225,\"analyst_recommendation\":1.95,\"volume\":219670000,\"volume_average\":140080000,\"volume_relative\":1.57},{\"name\":\"Recreational Vehicles\",\"performance_1d\":-0.0018,\"performance_1w\":-0.0795,\"performance_1m\":-0.1586,\"performance_3m\":-0.2566,\"performance_6m\":-0.3985,\"performance_1y\":-0.4874,\"performance_ytd\":-0.2688,\"analyst_recommendation\":2.5,\"volume\":15150000,\"volume_average\":9050000,\"volume_relative\":1.67},{\"name\":\"Business Equipment & Supplies\",\"performance_1d\":-0.0284,\"performance_1w\":-0.0791,\"performance_1m\":-0.1564,\"performance_3m\":-0.2272,\"performance_6m\":-0.223,\"performance_1y\":-0.2404,\"performance_ytd\":-0.2307,\"analyst_recommendation\":1.0,\"volume\":2060000,\"volume_average\":1500000,\"volume_relative\":1.37},{\"name\":\"Auto & Truck Dealerships\",\"performance_1d\":-0.0333,\"performance_1w\":-0.0784,\"performance_1m\":-0.1058,\"performance_3m\":-0.1322,\"performance_6m\":-0.0778,\"performance_1y\":0.0452,\"performance_ytd\":-0.1453,\"analyst_recommendation\":2.01,\"volume\":40690000,\"volume_average\":20910000,\"volume_relative\":1.95},{\"name\":\"Furnishings, Fixtures & Appliances\",\"performance_1d\":-0.0098,\"performance_1w\":-0.0783,\"performance_1m\":-0.1171,\"performance_3m\":-0.1594,\"performance_6m\":-0.2315,\"performance_1y\":-0.1154,\"performance_ytd\":-0.1677,\"analyst_recommendation\":1.79,\"volume\":34860000,\"volume_average\":22500000,\"volume_relative\":1.55},{\"name\":\"Staffing & Employment Services\",\"performance_1d\":-0.0377,\"performance_1w\":-0.0779,\"performance_1m\":-0.076,\"performance_3m\":-0.1488,\"performance_6m\":-0.2024,\"performance_1y\":-0.2958,\"performance_ytd\":-0.1646,\"analyst_recommendation\":2.5,\"volume\":7750000,\"volume_average\":11990000,\"volume_relative\":0.65},{\"name\":\"Real Estate Services\",\"performance_1d\":-0.046,\"performance_1w\":-0.077,\"performance_1m\":-0.1147,\"performance_3m\":-0.0449,\"performance_6m\":-0.1241,\"performance_1y\":0.0352,\"performance_ytd\":-0.0586,\"analyst_recommendation\":1.74,\"volume\":114700000,\"volume_average\":99760000,\"volume_relative\":1.15},{\"name\":\"Information Technology Services\",\"performance_1d\":-0.0605,\"performance_1w\":-0.0755,\"performance_1m\":-0.1249,\"performance_3m\":-0.1287,\"performance_6m\":-0.1053,\"performance_1y\":0.0021,\"performance_ytd\":-0.126,\"analyst_recommendation\":2.08,\"volume\":259100000,\"volume_average\":213300000,\"volume_relative\":1.21},{\"name\":\"Insurance - Reinsurance\",\"performance_1d\":-0.0673,\"performance_1w\":-0.0753,\"performance_1m\":-0.0659,\"performance_3m\":-0.1027,\"performance_6m\":-0.1505,\"performance_1y\":-0.0588,\"performance_ytd\":-0.1029,\"analyst_recommendation\":2.1,\"volume\":4960000,\"volume_average\":3010000,\"volume_relative\":1.65},{\"name\":\"Paper & Paper Products\",\"performance_1d\":-0.0445,\"performance_1w\":-0.0746,\"performance_1m\":-0.1068,\"performance_3m\":-0.1645,\"performance_6m\":-0.1556,\"performance_1y\":-0.2776,\"performance_ytd\":-0.1629,\"analyst_recommendation\":1.63,\"volume\":5480000,\"volume_average\":3910000,\"volume_relative\":1.4},{\"name\":\"Insurance - Property & Casualty\",\"performance_1d\":-0.0828,\"performance_1w\":-0.0731,\"performance_1m\":-0.0459,\"performance_3m\":0.0242,\"performance_6m\":0.0131,\"performance_1y\":0.1285,\"performance_ytd\":0.0187,\"analyst_recommendation\":2.28,\"volume\":43710000,\"volume_average\":25950000,\"volume_relative\":1.68},{\"name\":\"Medical Devices\",\"performance_1d\":-0.0625,\"performance_1w\":-0.0726,\"performance_1m\":-0.1088,\"performance_3m\":-0.0325,\"performance_6m\":-0.0388,\"performance_1y\":-0.0358,\"performance_ytd\":-0.0325,\"analyst_recommendation\":1.86,\"volume\":319190000,\"volume_average\":181120000,\"volume_relative\":1.76},{\"name\":\"Specialty Chemicals\",\"performance_1d\":-0.0577,\"performance_1w\":-0.0715,\"performance_1m\":-0.1152,\"performance_3m\":-0.0493,\"performance_6m\":-0.1651,\"performance_1y\":-0.1252,\"performance_ytd\":-0.0655,\"analyst_recommendation\":2.0,\"volume\":125120000,\"volume_average\":66940000,\"volume_relative\":1.87},{\"name\":\"Software - Infrastructure\",\"performance_1d\":-0.0489,\"performance_1w\":-0.0708,\"performance_1m\":-0.1079,\"performance_3m\":-0.1491,\"performance_6m\":-0.11,\"performance_1y\":-0.0953,\"performance_ytd\":-0.1522,\"analyst_recommendation\":1.55,\"volume\":662910000,\"volume_average\":484100000,\"volume_relative\":1.37},{\"name\":\"Building Products & Equipment\",\"performance_1d\":-0.0375,\"performance_1w\":-0.0674,\"performance_1m\":-0.096,\"performance_3m\":-0.1473,\"performance_6m\":-0.2179,\"performance_1y\":-0.0871,\"performance_ytd\":-0.1476,\"analyst_recommendation\":2.23,\"volume\":67170000,\"volume_average\":42230000,\"volume_relative\":1.59},{\"name\":\"Real Estate - Diversified\",\"performance_1d\":-0.0271,\"performance_1w\":-0.0671,\"performance_1m\":-0.0734,\"performance_3m\":-0.0647,\"performance_6m\":-0.1721,\"performance_1y\":-0.099,\"performance_ytd\":-0.0749,\"analyst_recommendation\":1.44,\"volume\":1210000,\"volume_average\":733500,\"volume_relative\":1.65},{\"name\":\"REIT - Retail\",\"performance_1d\":-0.0388,\"performance_1w\":-0.0666,\"performance_1m\":-0.0913,\"performance_3m\":-0.0787,\"performance_6m\":-0.117,\"performance_1y\":0.0415,\"performance_ytd\":-0.0868,\"analyst_recommendation\":2.18,\"volume\":64050000,\"volume_average\":33700000,\"volume_relative\":1.9},{\"name\":\"Auto Parts\",\"performance_1d\":-0.0311,\"performance_1w\":-0.0661,\"performance_1m\":-0.1212,\"performance_3m\":-0.147,\"performance_6m\":-0.1866,\"performance_1y\":-0.2935,\"performance_ytd\":-0.1525,\"analyst_recommendation\":2.06,\"volume\":117000000,\"volume_average\":124720000,\"volume_relative\":0.94},{\"name\":\"Engineering & Construction\",\"performance_1d\":-0.0431,\"performance_1w\":-0.0661,\"performance_1m\":-0.0628,\"performance_3m\":-0.2172,\"performance_6m\":-0.2034,\"performance_1y\":-0.1004,\"performance_ytd\":-0.214,\"analyst_recommendation\":1.61,\"volume\":45960000,\"volume_average\":35380000,\"volume_relative\":1.3},{\"name\":\"Restaurants\",\"performance_1d\":-0.0618,\"performance_1w\":-0.0645,\"performance_1m\":-0.0876,\"performance_3m\":-0.0588,\"performance_6m\":-0.0766,\"performance_1y\":-0.0156,\"performance_ytd\":-0.0526,\"analyst_recommendation\":1.98,\"volume\":134900000,\"volume_average\":77490000,\"volume_relative\":1.74},{\"name\":\"Packaging & Containers\",\"performance_1d\":-0.0372,\"performance_1w\":-0.0644,\"performance_1m\":-0.0851,\"performance_3m\":-0.1118,\"performance_6m\":-0.1431,\"performance_1y\":-0.0815,\"performance_ytd\":-0.1208,\"analyst_recommendation\":2.06,\"volume\":92450000,\"volume_average\":56760000,\"volume_relative\":1.63},{\"name\":\"Drug Manufacturers - Specialty & Generic\",\"performance_1d\":-0.0491,\"performance_1w\":-0.063,\"performance_1m\":-0.0811,\"performance_3m\":-0.102,\"performance_6m\":-0.1537,\"performance_1y\":-0.0888,\"performance_ytd\":-0.1039,\"analyst_recommendation\":1.9,\"volume\":163320000,\"volume_average\":196520000,\"volume_relative\":0.83},{\"name\":\"Insurance - Diversified\",\"performance_1d\":-0.0688,\"performance_1w\":-0.0617,\"performance_1m\":-0.0105,\"performance_3m\":0.0833,\"performance_6m\":0.0658,\"performance_1y\":0.1523,\"performance_ytd\":0.0772,\"analyst_recommendation\":2.4,\"volume\":42630000,\"volume_average\":20650000,\"volume_relative\":2.06},{\"name\":\"Insurance - Specialty\",\"performance_1d\":-0.0597,\"performance_1w\":-0.061,\"performance_1m\":-0.0287,\"performance_3m\":0.0138,\"performance_6m\":-0.0376,\"performance_1y\":0.0985,\"performance_ytd\":0.009,\"analyst_recommendation\":2.14,\"volume\":17710000,\"volume_average\":11890000,\"volume_relative\":1.49},{\"name\":\"Utilities - Diversified\",\"performance_1d\":-0.0642,\"performance_1w\":-0.0602,\"performance_1m\":-0.04,\"performance_3m\":-0.1782,\"performance_6m\":-0.2194,\"performance_1y\":-0.1075,\"performance_ytd\":-0.179,\"analyst_recommendation\":1.94,\"volume\":53570000,\"volume_average\":36590000,\"volume_relative\":1.46},{\"name\":\"REIT - Healthcare Facilities\",\"performance_1d\":-0.0546,\"performance_1w\":-0.0593,\"performance_1m\":-0.0307,\"performance_3m\":0.0951,\"performance_6m\":0.0349,\"performance_1y\":0.4143,\"performance_ytd\":0.0827,\"analyst_recommendation\":1.69,\"volume\":58980000,\"volume_average\":37010000,\"volume_relative\":1.59},{\"name\":\"Electronic Gaming & Multimedia\",\"performance_1d\":-0.0676,\"performance_1w\":-0.0585,\"performance_1m\":-0.0482,\"performance_3m\":-0.0017,\"performance_6m\":0.028,\"performance_1y\":0.1058,\"performance_ytd\":-0.0053,\"analyst_recommendation\":1.77,\"volume\":27510000,\"volume_average\":26380000,\"volume_relative\":1.04},{\"name\":\"Railroads\",\"performance_1d\":-0.0347,\"performance_1w\":-0.0573,\"performance_1m\":-0.1092,\"performance_3m\":-0.0882,\"performance_6m\":-0.151,\"performance_1y\":-0.1715,\"performance_ytd\":-0.0843,\"analyst_recommendation\":1.96,\"volume\":49200000,\"volume_average\":29460000,\"volume_relative\":1.67},{\"name\":\"Insurance Brokers\",\"performance_1d\":-0.0611,\"performance_1w\":-0.0557,\"performance_1m\":-0.0505,\"performance_3m\":0.0836,\"performance_6m\":0.044,\"performance_1y\":0.1883,\"performance_ytd\":0.069,\"analyst_recommendation\":2.39,\"volume\":22420000,\"volume_average\":16160000,\"volume_relative\":1.39},{\"name\":\"Telecom Services\",\"performance_1d\":-0.0625,\"performance_1w\":-0.0555,\"performance_1m\":-0.047,\"performance_3m\":0.0481,\"performance_6m\":-0.0026,\"performance_1y\":0.1123,\"performance_ytd\":0.0509,\"analyst_recommendation\":2.08,\"volume\":244800000,\"volume_average\":166420000,\"volume_relative\":1.47},{\"name\":\"Building Materials\",\"performance_1d\":-0.05,\"performance_1w\":-0.0551,\"performance_1m\":-0.1198,\"performance_3m\":-0.1319,\"performance_6m\":-0.1262,\"performance_1y\":-0.1693,\"performance_ytd\":-0.136,\"analyst_recommendation\":1.71,\"volume\":67430000,\"volume_average\":29000000,\"volume_relative\":2.32},{\"name\":\"Education & Training Services\",\"performance_1d\":-0.0494,\"performance_1w\":-0.0512,\"performance_1m\":-0.0701,\"performance_3m\":-0.1814,\"performance_6m\":-0.2231,\"performance_1y\":-0.4598,\"performance_ytd\":-0.2167,\"analyst_recommendation\":1.79,\"volume\":45010000,\"volume_average\":53540000,\"volume_relative\":0.84},{\"name\":\"Utilities - Regulated Gas\",\"performance_1d\":-0.0518,\"performance_1w\":-0.0511,\"performance_1m\":-0.0297,\"performance_3m\":-0.001,\"performance_6m\":0.0351,\"performance_1y\":0.079,\"performance_ytd\":-0.003,\"analyst_recommendation\":2.18,\"volume\":40040000,\"volume_average\":17730000,\"volume_relative\":2.26},{\"name\":\"Security & Protection Services\",\"performance_1d\":-0.0373,\"performance_1w\":-0.0511,\"performance_1m\":-0.0364,\"performance_3m\":-0.0706,\"performance_6m\":-0.0639,\"performance_1y\":-0.0222,\"performance_ytd\":-0.0743,\"analyst_recommendation\":1.9,\"volume\":39040000,\"volume_average\":34120000,\"volume_relative\":1.14},{\"name\":\"Consulting Services\",\"performance_1d\":-0.0628,\"performance_1w\":-0.0502,\"performance_1m\":-0.0567,\"performance_3m\":-0.0604,\"performance_6m\":-0.154,\"performance_1y\":-0.0689,\"performance_ytd\":-0.0691,\"analyst_recommendation\":2.14,\"volume\":11620000,\"volume_average\":6710000,\"volume_relative\":1.73},{\"name\":\"REIT - Diversified\",\"performance_1d\":-0.0337,\"performance_1w\":-0.0496,\"performance_1m\":-0.0601,\"performance_3m\":0.0221,\"performance_6m\":-0.0925,\"performance_1y\":0.0299,\"performance_ytd\":0.015,\"analyst_recommendation\":1.89,\"volume\":26260000,\"volume_average\":16010000,\"volume_relative\":1.64},{\"name\":\"Farm Products\",\"performance_1d\":-0.0619,\"performance_1w\":-0.0486,\"performance_1m\":-0.0336,\"performance_3m\":-0.0634,\"performance_6m\":-0.1472,\"performance_1y\":-0.1723,\"performance_ytd\":-0.0606,\"analyst_recommendation\":2.41,\"volume\":21310000,\"volume_average\":15610000,\"volume_relative\":1.37},{\"name\":\"Airports & Air Services\",\"performance_1d\":-0.051,\"performance_1w\":-0.0485,\"performance_1m\":-0.0562,\"performance_3m\":-0.0876,\"performance_6m\":-0.0285,\"performance_1y\":-0.0619,\"performance_ytd\":-0.0713,\"analyst_recommendation\":2.35,\"volume\":20350000,\"volume_average\":15120000,\"volume_relative\":1.35},{\"name\":\"Specialty Retail\",\"performance_1d\":-0.0312,\"performance_1w\":-0.0463,\"performance_1m\":-0.0472,\"performance_3m\":-0.0618,\"performance_6m\":-0.0111,\"performance_1y\":-0.0174,\"performance_ytd\":-0.0617,\"analyst_recommendation\":2.09,\"volume\":146280000,\"volume_average\":102730000,\"volume_relative\":1.42},{\"name\":\"Pharmaceutical Retailers\",\"performance_1d\":-0.0353,\"performance_1w\":-0.0452,\"performance_1m\":0.0063,\"performance_3m\":0.1359,\"performance_6m\":0.2127,\"performance_1y\":-0.4209,\"performance_ytd\":0.1217,\"analyst_recommendation\":2.83,\"volume\":27540000,\"volume_average\":29840000,\"volume_relative\":0.92},{\"name\":\"Solar\",\"performance_1d\":-0.0404,\"performance_1w\":-0.0443,\"performance_1m\":-0.0519,\"performance_3m\":-0.2578,\"performance_6m\":-0.4156,\"performance_1y\":-0.4711,\"performance_ytd\":-0.2116,\"analyst_recommendation\":1.84,\"volume\":67720000,\"volume_average\":96740000,\"volume_relative\":0.7},{\"name\":\"Specialty Business Services\",\"performance_1d\":-0.0589,\"performance_1w\":-0.0434,\"performance_1m\":-0.0324,\"performance_3m\":-0.0016,\"performance_6m\":-0.0524,\"performance_1y\":0.0288,\"performance_ytd\":-0.0046,\"analyst_recommendation\":2.33,\"volume\":43230000,\"volume_average\":32000000,\"volume_relative\":1.35},{\"name\":\"Food Distribution\",\"performance_1d\":-0.0485,\"performance_1w\":-0.0429,\"performance_1m\":-0.0619,\"performance_3m\":-0.0755,\"performance_6m\":-0.0533,\"performance_1y\":-0.0237,\"performance_ytd\":-0.0813,\"analyst_recommendation\":1.84,\"volume\":14740000,\"volume_average\":13830000,\"volume_relative\":1.07},{\"name\":\"Industrial Distribution\",\"performance_1d\":-0.0304,\"performance_1w\":-0.0402,\"performance_1m\":-0.0605,\"performance_3m\":-0.0599,\"performance_6m\":-0.0792,\"performance_1y\":-0.1224,\"performance_ytd\":-0.0685,\"analyst_recommendation\":2.51,\"volume\":31240000,\"volume_average\":15720000,\"volume_relative\":1.99},{\"name\":\"Publishing\",\"performance_1d\":-0.0349,\"performance_1w\":-0.0371,\"performance_1m\":-0.0485,\"performance_3m\":-0.0758,\"performance_6m\":-0.049,\"performance_1y\":0.1126,\"performance_ytd\":-0.079,\"analyst_recommendation\":2.1,\"volume\":8340000,\"volume_average\":4660000,\"volume_relative\":1.79},{\"name\":\"Medical Care Facilities\",\"performance_1d\":-0.0481,\"performance_1w\":-0.0358,\"performance_1m\":0.0003,\"performance_3m\":0.0418,\"performance_6m\":-0.1631,\"performance_1y\":-0.0226,\"performance_ytd\":0.0364,\"analyst_recommendation\":1.92,\"volume\":50800000,\"volume_average\":49740000,\"volume_relative\":1.02},{\"name\":\"REIT - Specialty\",\"performance_1d\":-0.0426,\"performance_1w\":-0.0297,\"performance_1m\":-0.0361,\"performance_3m\":-0.043,\"performance_6m\":-0.1321,\"performance_1y\":0.0045,\"performance_ytd\":-0.0493,\"analyst_recommendation\":1.65,\"volume\":46450000,\"volume_average\":25050000,\"volume_relative\":1.85},{\"name\":\"Lumber & Wood Production\",\"performance_1d\":0.009,\"performance_1w\":-0.0297,\"performance_1m\":-0.0515,\"performance_3m\":-0.1145,\"performance_6m\":-0.2391,\"performance_1y\":-0.2032,\"performance_ytd\":-0.1216,\"analyst_recommendation\":1.8,\"volume\":2400000,\"volume_average\":1310000,\"volume_relative\":1.83},{\"name\":\"Tobacco\",\"performance_1d\":-0.0572,\"performance_1w\":-0.0283,\"performance_1m\":-0.0176,\"performance_3m\":0.1616,\"performance_6m\":0.1861,\"performance_1y\":0.485,\"performance_ytd\":0.1683,\"analyst_recommendation\":2.26,\"volume\":51000000,\"volume_average\":28830000,\"volume_relative\":1.77},{\"name\":\"Utilities - Regulated Electric\",\"performance_1d\":-0.0498,\"performance_1w\":-0.0268,\"performance_1m\":0.0104,\"performance_3m\":0.0324,\"performance_6m\":-0.0443,\"performance_1y\":0.1595,\"performance_ytd\":0.0311,\"analyst_recommendation\":2.27,\"volume\":209910000,\"volume_average\":141220000,\"volume_relative\":1.49},{\"name\":\"Confectioners\",\"performance_1d\":-0.0244,\"performance_1w\":-0.0261,\"performance_1m\":-0.028,\"performance_3m\":0.0759,\"performance_6m\":-0.0991,\"performance_1y\":-0.0586,\"performance_ytd\":0.0721,\"analyst_recommendation\":2.2,\"volume\":16469999,\"volume_average\":13180000,\"volume_relative\":1.25},{\"name\":\"Beverages - Wineries & Distilleries\",\"performance_1d\":-0.0344,\"performance_1w\":-0.025,\"performance_1m\":-0.0951,\"performance_3m\":-0.1705,\"performance_6m\":-0.2785,\"performance_1y\":-0.3242,\"performance_ytd\":-0.1791,\"analyst_recommendation\":2.61,\"volume\":16980000,\"volume_average\":14460000,\"volume_relative\":1.17},{\"name\":\"Household & Personal Products\",\"performance_1d\":-0.0481,\"performance_1w\":-0.0249,\"performance_1m\":-0.0457,\"performance_3m\":-0.0096,\"performance_6m\":-0.072,\"performance_1y\":0.0261,\"performance_ytd\":-0.0167,\"analyst_recommendation\":2.1,\"volume\":130130000,\"volume_average\":94030000,\"volume_relative\":1.38},{\"name\":\"Personal Services\",\"performance_1d\":-0.0514,\"performance_1w\":-0.0242,\"performance_1m\":-0.0127,\"performance_3m\":0.0422,\"performance_6m\":-0.0372,\"performance_1y\":0.0508,\"performance_ytd\":0.0335,\"analyst_recommendation\":2.21,\"volume\":25720000,\"volume_average\":25540000,\"volume_relative\":1.01},{\"name\":\"Waste Management\",\"performance_1d\":-0.0549,\"performance_1w\":-0.0218,\"performance_1m\":-0.0012,\"performance_3m\":0.1001,\"performance_6m\":0.0836,\"performance_1y\":0.1186,\"performance_ytd\":0.0939,\"analyst_recommendation\":1.99,\"volume\":28840000,\"volume_average\":16100000,\"volume_relative\":1.79},{\"name\":\"Discount Stores\",\"performance_1d\":-0.0451,\"performance_1w\":-0.0204,\"performance_1m\":-0.1094,\"performance_3m\":-0.0527,\"performance_6m\":0.0177,\"performance_1y\":0.2386,\"performance_ytd\":-0.0561,\"analyst_recommendation\":1.69,\"volume\":89320000,\"volume_average\":43100000,\"volume_relative\":2.07},{\"name\":\"Beverages - Brewers\",\"performance_1d\":-0.0363,\"performance_1w\":-0.0182,\"performance_1m\":-0.0081,\"performance_3m\":0.1121,\"performance_6m\":-0.1108,\"performance_1y\":-0.1016,\"performance_ytd\":0.1104,\"analyst_recommendation\":1.84,\"volume\":61230000,\"volume_average\":42980000,\"volume_relative\":1.42},{\"name\":\"Home Improvement Retail\",\"performance_1d\":-0.0029,\"performance_1w\":-0.0164,\"performance_1m\":-0.0781,\"performance_3m\":-0.0943,\"performance_6m\":-0.156,\"performance_1y\":-0.042,\"performance_ytd\":-0.0954,\"analyst_recommendation\":1.94,\"volume\":18580000,\"volume_average\":8650000,\"volume_relative\":2.15},{\"name\":\"Real Estate - Development\",\"performance_1d\":-0.0046,\"performance_1w\":-0.0158,\"performance_1m\":-0.0832,\"performance_3m\":-0.1176,\"performance_6m\":-0.272,\"performance_1y\":-0.3413,\"performance_ytd\":-0.121,\"analyst_recommendation\":2.16,\"volume\":2000000,\"volume_average\":2230000,\"volume_relative\":0.9},{\"name\":\"Shell Companies\",\"performance_1d\":-0.0072,\"performance_1w\":-0.013,\"performance_1m\":-0.0234,\"performance_3m\":-0.0552,\"performance_6m\":0.0741,\"performance_1y\":-0.383,\"performance_ytd\":-0.0433,\"analyst_recommendation\":1.0,\"volume\":15100000,\"volume_average\":19390000,\"volume_relative\":0.78},{\"name\":\"Beverages - Non-Alcoholic\",\"performance_1d\":-0.0419,\"performance_1w\":-0.0114,\"performance_1m\":-0.0136,\"performance_3m\":0.0681,\"performance_6m\":-0.0388,\"performance_1y\":0.0345,\"performance_ytd\":0.0601,\"analyst_recommendation\":1.96,\"volume\":91000000,\"volume_average\":64900000,\"volume_relative\":1.4},{\"name\":\"Packaged Foods\",\"performance_1d\":-0.0254,\"performance_1w\":-0.0094,\"performance_1m\":-0.0143,\"performance_3m\":-0.0427,\"performance_6m\":-0.093,\"performance_1y\":-0.0631,\"performance_ytd\":-0.0429,\"analyst_recommendation\":2.59,\"volume\":111100000,\"volume_average\":77590000,\"volume_relative\":1.43},{\"name\":\"Residential Construction\",\"performance_1d\":0.036,\"performance_1w\":-0.0045,\"performance_1m\":-0.0679,\"performance_3m\":-0.0864,\"performance_6m\":-0.3057,\"performance_1y\":-0.1771,\"performance_ytd\":-0.1009,\"analyst_recommendation\":2.29,\"volume\":36390000,\"volume_average\":19950000,\"volume_relative\":1.82},{\"name\":\"Utilities - Regulated Water\",\"performance_1d\":-0.0347,\"performance_1w\":-0.0028,\"performance_1m\":0.0488,\"performance_3m\":0.1491,\"performance_6m\":0.0091,\"performance_1y\":0.1548,\"performance_ytd\":0.1433,\"analyst_recommendation\":2.08,\"volume\":12260000,\"volume_average\":7110000,\"volume_relative\":1.72},{\"name\":\"Apparel Retail\",\"performance_1d\":-0.0081,\"performance_1w\":-0.0001,\"performance_1m\":-0.0599,\"performance_3m\":-0.1283,\"performance_6m\":-0.0485,\"performance_1y\":-0.0026,\"performance_ytd\":-0.1282,\"analyst_recommendation\":1.8,\"volume\":119910000,\"volume_average\":48010000,\"volume_relative\":2.5},{\"name\":\"Medical Distribution\",\"performance_1d\":-0.0439,\"performance_1w\":0.0018,\"performance_1m\":0.0534,\"performance_3m\":0.1725,\"performance_6m\":0.2758,\"performance_1y\":0.1663,\"performance_ytd\":0.1679,\"analyst_recommendation\":1.79,\"volume\":20650000,\"volume_average\":10700000,\"volume_relative\":1.93},{\"name\":\"Grocery Stores\",\"performance_1d\":-0.0467,\"performance_1w\":0.0024,\"performance_1m\":0.046,\"performance_3m\":0.0685,\"performance_6m\":0.1771,\"performance_1y\":0.194,\"performance_ytd\":0.086,\"analyst_recommendation\":2.28,\"volume\":36050000,\"volume_average\":21300000,\"volume_relative\":1.69},{\"name\":\"Healthcare Plans\",\"performance_1d\":-0.0369,\"performance_1w\":0.0039,\"performance_1m\":0.0515,\"performance_3m\":0.1007,\"performance_6m\":-0.0927,\"performance_1y\":0.0076,\"performance_ytd\":0.0957,\"analyst_recommendation\":1.55,\"volume\":62580000,\"volume_average\":41360000,\"volume_relative\":1.51},{\"name\":\"Mortgage Finance\",\"performance_1d\":0.0101,\"performance_1w\":0.1059,\"performance_1m\":0.0757,\"performance_3m\":0.1498,\"performance_6m\":0.0007,\"performance_1y\":0.2281,\"performance_ytd\":0.125,\"analyst_recommendation\":2.64,\"volume\":50540000,\"volume_average\":14640000,\"volume_relative\":3.45}]\u001b[0m\u001b[32;1m\u001b[1;3m\n",
      "Invoking: `get_valuation_for_industries` with `{'input': 'Medical Distribution'}`\n",
      "responded: Based on the performance data across quarterly, monthly, and weekly timeframes, the industry that has shown consistent positive performance is the \"Medical Distribution\" industry. Here are the performance metrics for the Medical Distribution industry:\n",
      "\n",
      "- Performance Last Week: 0.0018\n",
      "- Performance Last Month: 0.0534\n",
      "- Performance Last Quarter: 0.1725\n",
      "- Performance Last Half Year: 0.2758\n",
      "- Performance Last Year: 0.1663\n",
      "\n",
      "Next, I will extract the relevant valuation metrics for the Medical Distribution industry.\n",
      "\n",
      "\u001b[0m\u001b[33;1m\u001b[1;3m[{\"name\":\"Medical Distribution\",\"market_cap\":182830000000,\"performance_1d\":-0.0439,\"pe\":30.77,\"forward_pe\":16.44,\"peg\":2.54,\"eps_growth_past_5y\":0.8027,\"eps_growth_next_5y\":0.1212,\"volume\":20650000,\"price_to_sales\":0.2,\"price_to_book\":33.31,\"price_to_cash\":20.4,\"price_to_free_cash_flow\":69.25,\"sales_growth_past_5_years\":0.0861}]\u001b[0m\u001b[32;1m\u001b[1;3m\n",
      "Invoking: `get_best_stock_performers_for_sector` with `{'sector': 'Medical Distribution'}`\n",
      "responded: The valuation metrics for the \"Medical Distribution\" industry are as follows:\n",
      "\n",
      "- Market Cap: $182.83 billion\n",
      "- P/E Ratio: 30.77\n",
      "- Forward P/E Ratio: 16.44\n",
      "- PEG Ratio: 2.54\n",
      "- EPS Growth (Past 5 Years): 80.27%\n",
      "- EPS Growth (Next 5 Years): 12.12%\n",
      "- Price to Sales Ratio: 0.2\n",
      "- Price to Book Ratio: 33.31\n",
      "- Price to Cash Ratio: 20.4\n",
      "- Price to Free Cash Flow Ratio: 69.25\n",
      "- Sales Growth (Past 5 Years): 8.61%\n",
      "\n",
      "Next, I will analyze the individual companies within the Medical Distribution industry to determine the top performers based on relevant metrics like stock price appreciation and revenue growth.\n",
      "\n",
      "\u001b[0m"
     ]
    },
    {
     "ename": "OpenBBError",
     "evalue": "\n[Unexpected Error] -> ValueError -> Invalid filter option 'Medical Distribution'. Possible filter options: ['Any', 'Basic Materials', 'Communication Services', 'Consumer Cyclical', 'Consumer Defensive', 'Energy', 'Financial', 'Healthcare', 'Industrials', 'Real Estate', 'Technology', 'Utilities']",
     "output_type": "error",
     "traceback": [
      "\u001b[31m---------------------------------------------------------------------------\u001b[39m",
      "\u001b[31mOpenBBError\u001b[39m                               Traceback (most recent call last)",
      "\u001b[36mCell\u001b[39m\u001b[36m \u001b[39m\u001b[32mIn[12]\u001b[39m\u001b[32m, line 2\u001b[39m\n\u001b[32m      1\u001b[39m input1 = \u001b[33m'''\u001b[39m\u001b[33mFirst, analyze the available data to find an industry that has consistently shown positive performance across quarterly, monthly, and weekly timeframes. Second, once you have identified the industry, extract its relevant valuation metrics (e.g., P/E, P/B, EV/EBITDA). Third, analyze the individual companies within the identified industry to determine the top performers based on relevant metrics like stock price appreciation and revenue growth. Fourth, extract the valuation metrics of the top performers using the same metrics as the industry. Finally, compare the valuation metrics of the top performers to the valuation metrics of the industry to determine if they are overvalued, undervalued, or fairly valued relative to the broader industry.\u001b[39m\u001b[33m'''\u001b[39m\n\u001b[32m----> \u001b[39m\u001b[32m2\u001b[39m result = \u001b[43magent_executor\u001b[49m\u001b[43m.\u001b[49m\u001b[43minvoke\u001b[49m\u001b[43m(\u001b[49m\u001b[43m{\u001b[49m\u001b[33;43m\"\u001b[39;49m\u001b[33;43minput\u001b[39;49m\u001b[33;43m\"\u001b[39;49m\u001b[43m:\u001b[49m\u001b[43m \u001b[49m\u001b[43minput1\u001b[49m\u001b[43m,\u001b[49m\u001b[43m \u001b[49m\u001b[33;43m\"\u001b[39;49m\u001b[33;43mchat_history\u001b[39;49m\u001b[33;43m\"\u001b[39;49m\u001b[43m:\u001b[49m\u001b[43m \u001b[49m\u001b[43mchat_history\u001b[49m\u001b[43m}\u001b[49m\u001b[43m)\u001b[49m\n\u001b[32m      3\u001b[39m \u001b[38;5;28mprint\u001b[39m(result[\u001b[33m'\u001b[39m\u001b[33moutput\u001b[39m\u001b[33m'\u001b[39m])\n",
      "\u001b[36mFile \u001b[39m\u001b[32m/workspaces/Magentic-AlgoTrading101/myenv/lib/python3.12/site-packages/langchain/chains/base.py:170\u001b[39m, in \u001b[36mChain.invoke\u001b[39m\u001b[34m(self, input, config, **kwargs)\u001b[39m\n\u001b[32m    168\u001b[39m \u001b[38;5;28;01mexcept\u001b[39;00m \u001b[38;5;167;01mBaseException\u001b[39;00m \u001b[38;5;28;01mas\u001b[39;00m e:\n\u001b[32m    169\u001b[39m     run_manager.on_chain_error(e)\n\u001b[32m--> \u001b[39m\u001b[32m170\u001b[39m     \u001b[38;5;28;01mraise\u001b[39;00m e\n\u001b[32m    171\u001b[39m run_manager.on_chain_end(outputs)\n\u001b[32m    173\u001b[39m \u001b[38;5;28;01mif\u001b[39;00m include_run_info:\n",
      "\u001b[36mFile \u001b[39m\u001b[32m/workspaces/Magentic-AlgoTrading101/myenv/lib/python3.12/site-packages/langchain/chains/base.py:160\u001b[39m, in \u001b[36mChain.invoke\u001b[39m\u001b[34m(self, input, config, **kwargs)\u001b[39m\n\u001b[32m    157\u001b[39m \u001b[38;5;28;01mtry\u001b[39;00m:\n\u001b[32m    158\u001b[39m     \u001b[38;5;28mself\u001b[39m._validate_inputs(inputs)\n\u001b[32m    159\u001b[39m     outputs = (\n\u001b[32m--> \u001b[39m\u001b[32m160\u001b[39m         \u001b[38;5;28;43mself\u001b[39;49m\u001b[43m.\u001b[49m\u001b[43m_call\u001b[49m\u001b[43m(\u001b[49m\u001b[43minputs\u001b[49m\u001b[43m,\u001b[49m\u001b[43m \u001b[49m\u001b[43mrun_manager\u001b[49m\u001b[43m=\u001b[49m\u001b[43mrun_manager\u001b[49m\u001b[43m)\u001b[49m\n\u001b[32m    161\u001b[39m         \u001b[38;5;28;01mif\u001b[39;00m new_arg_supported\n\u001b[32m    162\u001b[39m         \u001b[38;5;28;01melse\u001b[39;00m \u001b[38;5;28mself\u001b[39m._call(inputs)\n\u001b[32m    163\u001b[39m     )\n\u001b[32m    165\u001b[39m     final_outputs: Dict[\u001b[38;5;28mstr\u001b[39m, Any] = \u001b[38;5;28mself\u001b[39m.prep_outputs(\n\u001b[32m    166\u001b[39m         inputs, outputs, return_only_outputs\n\u001b[32m    167\u001b[39m     )\n\u001b[32m    168\u001b[39m \u001b[38;5;28;01mexcept\u001b[39;00m \u001b[38;5;167;01mBaseException\u001b[39;00m \u001b[38;5;28;01mas\u001b[39;00m e:\n",
      "\u001b[36mFile \u001b[39m\u001b[32m/workspaces/Magentic-AlgoTrading101/myenv/lib/python3.12/site-packages/langchain/agents/agent.py:1624\u001b[39m, in \u001b[36mAgentExecutor._call\u001b[39m\u001b[34m(self, inputs, run_manager)\u001b[39m\n\u001b[32m   1622\u001b[39m \u001b[38;5;66;03m# We now enter the agent loop (until it returns something).\u001b[39;00m\n\u001b[32m   1623\u001b[39m \u001b[38;5;28;01mwhile\u001b[39;00m \u001b[38;5;28mself\u001b[39m._should_continue(iterations, time_elapsed):\n\u001b[32m-> \u001b[39m\u001b[32m1624\u001b[39m     next_step_output = \u001b[38;5;28;43mself\u001b[39;49m\u001b[43m.\u001b[49m\u001b[43m_take_next_step\u001b[49m\u001b[43m(\u001b[49m\n\u001b[32m   1625\u001b[39m \u001b[43m        \u001b[49m\u001b[43mname_to_tool_map\u001b[49m\u001b[43m,\u001b[49m\n\u001b[32m   1626\u001b[39m \u001b[43m        \u001b[49m\u001b[43mcolor_mapping\u001b[49m\u001b[43m,\u001b[49m\n\u001b[32m   1627\u001b[39m \u001b[43m        \u001b[49m\u001b[43minputs\u001b[49m\u001b[43m,\u001b[49m\n\u001b[32m   1628\u001b[39m \u001b[43m        \u001b[49m\u001b[43mintermediate_steps\u001b[49m\u001b[43m,\u001b[49m\n\u001b[32m   1629\u001b[39m \u001b[43m        \u001b[49m\u001b[43mrun_manager\u001b[49m\u001b[43m=\u001b[49m\u001b[43mrun_manager\u001b[49m\u001b[43m,\u001b[49m\n\u001b[32m   1630\u001b[39m \u001b[43m    \u001b[49m\u001b[43m)\u001b[49m\n\u001b[32m   1631\u001b[39m     \u001b[38;5;28;01mif\u001b[39;00m \u001b[38;5;28misinstance\u001b[39m(next_step_output, AgentFinish):\n\u001b[32m   1632\u001b[39m         \u001b[38;5;28;01mreturn\u001b[39;00m \u001b[38;5;28mself\u001b[39m._return(\n\u001b[32m   1633\u001b[39m             next_step_output, intermediate_steps, run_manager=run_manager\n\u001b[32m   1634\u001b[39m         )\n",
      "\u001b[36mFile \u001b[39m\u001b[32m/workspaces/Magentic-AlgoTrading101/myenv/lib/python3.12/site-packages/langchain/agents/agent.py:1330\u001b[39m, in \u001b[36mAgentExecutor._take_next_step\u001b[39m\u001b[34m(self, name_to_tool_map, color_mapping, inputs, intermediate_steps, run_manager)\u001b[39m\n\u001b[32m   1321\u001b[39m \u001b[38;5;28;01mdef\u001b[39;00m\u001b[38;5;250m \u001b[39m\u001b[34m_take_next_step\u001b[39m(\n\u001b[32m   1322\u001b[39m     \u001b[38;5;28mself\u001b[39m,\n\u001b[32m   1323\u001b[39m     name_to_tool_map: Dict[\u001b[38;5;28mstr\u001b[39m, BaseTool],\n\u001b[32m   (...)\u001b[39m\u001b[32m   1327\u001b[39m     run_manager: Optional[CallbackManagerForChainRun] = \u001b[38;5;28;01mNone\u001b[39;00m,\n\u001b[32m   1328\u001b[39m ) -> Union[AgentFinish, List[Tuple[AgentAction, \u001b[38;5;28mstr\u001b[39m]]]:\n\u001b[32m   1329\u001b[39m     \u001b[38;5;28;01mreturn\u001b[39;00m \u001b[38;5;28mself\u001b[39m._consume_next_step(\n\u001b[32m-> \u001b[39m\u001b[32m1330\u001b[39m         \u001b[43m[\u001b[49m\n\u001b[32m   1331\u001b[39m \u001b[43m            \u001b[49m\u001b[43ma\u001b[49m\n\u001b[32m   1332\u001b[39m \u001b[43m            \u001b[49m\u001b[38;5;28;43;01mfor\u001b[39;49;00m\u001b[43m \u001b[49m\u001b[43ma\u001b[49m\u001b[43m \u001b[49m\u001b[38;5;129;43;01min\u001b[39;49;00m\u001b[43m \u001b[49m\u001b[38;5;28;43mself\u001b[39;49m\u001b[43m.\u001b[49m\u001b[43m_iter_next_step\u001b[49m\u001b[43m(\u001b[49m\n\u001b[32m   1333\u001b[39m \u001b[43m                \u001b[49m\u001b[43mname_to_tool_map\u001b[49m\u001b[43m,\u001b[49m\n\u001b[32m   1334\u001b[39m \u001b[43m                \u001b[49m\u001b[43mcolor_mapping\u001b[49m\u001b[43m,\u001b[49m\n\u001b[32m   1335\u001b[39m \u001b[43m                \u001b[49m\u001b[43minputs\u001b[49m\u001b[43m,\u001b[49m\n\u001b[32m   1336\u001b[39m \u001b[43m                \u001b[49m\u001b[43mintermediate_steps\u001b[49m\u001b[43m,\u001b[49m\n\u001b[32m   1337\u001b[39m \u001b[43m                \u001b[49m\u001b[43mrun_manager\u001b[49m\u001b[43m,\u001b[49m\n\u001b[32m   1338\u001b[39m \u001b[43m            \u001b[49m\u001b[43m)\u001b[49m\n\u001b[32m   1339\u001b[39m \u001b[43m        \u001b[49m\u001b[43m]\u001b[49m\n\u001b[32m   1340\u001b[39m     )\n",
      "\u001b[36mFile \u001b[39m\u001b[32m/workspaces/Magentic-AlgoTrading101/myenv/lib/python3.12/site-packages/langchain/agents/agent.py:1415\u001b[39m, in \u001b[36mAgentExecutor._iter_next_step\u001b[39m\u001b[34m(self, name_to_tool_map, color_mapping, inputs, intermediate_steps, run_manager)\u001b[39m\n\u001b[32m   1413\u001b[39m     \u001b[38;5;28;01myield\u001b[39;00m agent_action\n\u001b[32m   1414\u001b[39m \u001b[38;5;28;01mfor\u001b[39;00m agent_action \u001b[38;5;129;01min\u001b[39;00m actions:\n\u001b[32m-> \u001b[39m\u001b[32m1415\u001b[39m     \u001b[38;5;28;01myield\u001b[39;00m \u001b[38;5;28;43mself\u001b[39;49m\u001b[43m.\u001b[49m\u001b[43m_perform_agent_action\u001b[49m\u001b[43m(\u001b[49m\n\u001b[32m   1416\u001b[39m \u001b[43m        \u001b[49m\u001b[43mname_to_tool_map\u001b[49m\u001b[43m,\u001b[49m\u001b[43m \u001b[49m\u001b[43mcolor_mapping\u001b[49m\u001b[43m,\u001b[49m\u001b[43m \u001b[49m\u001b[43magent_action\u001b[49m\u001b[43m,\u001b[49m\u001b[43m \u001b[49m\u001b[43mrun_manager\u001b[49m\n\u001b[32m   1417\u001b[39m \u001b[43m    \u001b[49m\u001b[43m)\u001b[49m\n",
      "\u001b[36mFile \u001b[39m\u001b[32m/workspaces/Magentic-AlgoTrading101/myenv/lib/python3.12/site-packages/langchain/agents/agent.py:1437\u001b[39m, in \u001b[36mAgentExecutor._perform_agent_action\u001b[39m\u001b[34m(self, name_to_tool_map, color_mapping, agent_action, run_manager)\u001b[39m\n\u001b[32m   1435\u001b[39m         tool_run_kwargs[\u001b[33m\"\u001b[39m\u001b[33mllm_prefix\u001b[39m\u001b[33m\"\u001b[39m] = \u001b[33m\"\u001b[39m\u001b[33m\"\u001b[39m\n\u001b[32m   1436\u001b[39m     \u001b[38;5;66;03m# We then call the tool on the tool input to get an observation\u001b[39;00m\n\u001b[32m-> \u001b[39m\u001b[32m1437\u001b[39m     observation = \u001b[43mtool\u001b[49m\u001b[43m.\u001b[49m\u001b[43mrun\u001b[49m\u001b[43m(\u001b[49m\n\u001b[32m   1438\u001b[39m \u001b[43m        \u001b[49m\u001b[43magent_action\u001b[49m\u001b[43m.\u001b[49m\u001b[43mtool_input\u001b[49m\u001b[43m,\u001b[49m\n\u001b[32m   1439\u001b[39m \u001b[43m        \u001b[49m\u001b[43mverbose\u001b[49m\u001b[43m=\u001b[49m\u001b[38;5;28;43mself\u001b[39;49m\u001b[43m.\u001b[49m\u001b[43mverbose\u001b[49m\u001b[43m,\u001b[49m\n\u001b[32m   1440\u001b[39m \u001b[43m        \u001b[49m\u001b[43mcolor\u001b[49m\u001b[43m=\u001b[49m\u001b[43mcolor\u001b[49m\u001b[43m,\u001b[49m\n\u001b[32m   1441\u001b[39m \u001b[43m        \u001b[49m\u001b[43mcallbacks\u001b[49m\u001b[43m=\u001b[49m\u001b[43mrun_manager\u001b[49m\u001b[43m.\u001b[49m\u001b[43mget_child\u001b[49m\u001b[43m(\u001b[49m\u001b[43m)\u001b[49m\u001b[43m \u001b[49m\u001b[38;5;28;43;01mif\u001b[39;49;00m\u001b[43m \u001b[49m\u001b[43mrun_manager\u001b[49m\u001b[43m \u001b[49m\u001b[38;5;28;43;01melse\u001b[39;49;00m\u001b[43m \u001b[49m\u001b[38;5;28;43;01mNone\u001b[39;49;00m\u001b[43m,\u001b[49m\n\u001b[32m   1442\u001b[39m \u001b[43m        \u001b[49m\u001b[43m*\u001b[49m\u001b[43m*\u001b[49m\u001b[43mtool_run_kwargs\u001b[49m\u001b[43m,\u001b[49m\n\u001b[32m   1443\u001b[39m \u001b[43m    \u001b[49m\u001b[43m)\u001b[49m\n\u001b[32m   1444\u001b[39m \u001b[38;5;28;01melse\u001b[39;00m:\n\u001b[32m   1445\u001b[39m     tool_run_kwargs = \u001b[38;5;28mself\u001b[39m._action_agent.tool_run_logging_kwargs()\n",
      "\u001b[36mFile \u001b[39m\u001b[32m/workspaces/Magentic-AlgoTrading101/myenv/lib/python3.12/site-packages/langchain_core/tools/base.py:760\u001b[39m, in \u001b[36mBaseTool.run\u001b[39m\u001b[34m(self, tool_input, verbose, start_color, color, callbacks, tags, metadata, run_name, run_id, config, tool_call_id, **kwargs)\u001b[39m\n\u001b[32m    758\u001b[39m \u001b[38;5;28;01mif\u001b[39;00m error_to_raise:\n\u001b[32m    759\u001b[39m     run_manager.on_tool_error(error_to_raise)\n\u001b[32m--> \u001b[39m\u001b[32m760\u001b[39m     \u001b[38;5;28;01mraise\u001b[39;00m error_to_raise\n\u001b[32m    761\u001b[39m output = _format_output(content, artifact, tool_call_id, \u001b[38;5;28mself\u001b[39m.name, status)\n\u001b[32m    762\u001b[39m run_manager.on_tool_end(output, color=color, name=\u001b[38;5;28mself\u001b[39m.name, **kwargs)\n",
      "\u001b[36mFile \u001b[39m\u001b[32m/workspaces/Magentic-AlgoTrading101/myenv/lib/python3.12/site-packages/langchain_core/tools/base.py:729\u001b[39m, in \u001b[36mBaseTool.run\u001b[39m\u001b[34m(self, tool_input, verbose, start_color, color, callbacks, tags, metadata, run_name, run_id, config, tool_call_id, **kwargs)\u001b[39m\n\u001b[32m    727\u001b[39m \u001b[38;5;28;01mif\u001b[39;00m config_param := _get_runnable_config_param(\u001b[38;5;28mself\u001b[39m._run):\n\u001b[32m    728\u001b[39m     tool_kwargs = tool_kwargs | {config_param: config}\n\u001b[32m--> \u001b[39m\u001b[32m729\u001b[39m response = \u001b[43mcontext\u001b[49m\u001b[43m.\u001b[49m\u001b[43mrun\u001b[49m\u001b[43m(\u001b[49m\u001b[38;5;28;43mself\u001b[39;49m\u001b[43m.\u001b[49m\u001b[43m_run\u001b[49m\u001b[43m,\u001b[49m\u001b[43m \u001b[49m\u001b[43m*\u001b[49m\u001b[43mtool_args\u001b[49m\u001b[43m,\u001b[49m\u001b[43m \u001b[49m\u001b[43m*\u001b[49m\u001b[43m*\u001b[49m\u001b[43mtool_kwargs\u001b[49m\u001b[43m)\u001b[49m\n\u001b[32m    730\u001b[39m \u001b[38;5;28;01mif\u001b[39;00m \u001b[38;5;28mself\u001b[39m.response_format == \u001b[33m\"\u001b[39m\u001b[33mcontent_and_artifact\u001b[39m\u001b[33m\"\u001b[39m:\n\u001b[32m    731\u001b[39m     \u001b[38;5;28;01mif\u001b[39;00m \u001b[38;5;129;01mnot\u001b[39;00m \u001b[38;5;28misinstance\u001b[39m(response, \u001b[38;5;28mtuple\u001b[39m) \u001b[38;5;129;01mor\u001b[39;00m \u001b[38;5;28mlen\u001b[39m(response) != \u001b[32m2\u001b[39m:\n",
      "\u001b[36mFile \u001b[39m\u001b[32m/workspaces/Magentic-AlgoTrading101/myenv/lib/python3.12/site-packages/langchain_core/tools/structured.py:86\u001b[39m, in \u001b[36mStructuredTool._run\u001b[39m\u001b[34m(self, config, run_manager, *args, **kwargs)\u001b[39m\n\u001b[32m     84\u001b[39m     \u001b[38;5;28;01mif\u001b[39;00m config_param := _get_runnable_config_param(\u001b[38;5;28mself\u001b[39m.func):\n\u001b[32m     85\u001b[39m         kwargs[config_param] = config\n\u001b[32m---> \u001b[39m\u001b[32m86\u001b[39m     \u001b[38;5;28;01mreturn\u001b[39;00m \u001b[38;5;28;43mself\u001b[39;49m\u001b[43m.\u001b[49m\u001b[43mfunc\u001b[49m\u001b[43m(\u001b[49m\u001b[43m*\u001b[49m\u001b[43margs\u001b[49m\u001b[43m,\u001b[49m\u001b[43m \u001b[49m\u001b[43m*\u001b[49m\u001b[43m*\u001b[49m\u001b[43mkwargs\u001b[49m\u001b[43m)\u001b[49m\n\u001b[32m     87\u001b[39m msg = \u001b[33m\"\u001b[39m\u001b[33mStructuredTool does not support sync invocation.\u001b[39m\u001b[33m\"\u001b[39m\n\u001b[32m     88\u001b[39m \u001b[38;5;28;01mraise\u001b[39;00m \u001b[38;5;167;01mNotImplementedError\u001b[39;00m(msg)\n",
      "\u001b[36mCell\u001b[39m\u001b[36m \u001b[39m\u001b[32mIn[3]\u001b[39m\u001b[32m, line 16\u001b[39m, in \u001b[36mget_best_stock_performers_for_sector\u001b[39m\u001b[34m(sector)\u001b[39m\n\u001b[32m     13\u001b[39m \u001b[38;5;129m@tool\u001b[39m\n\u001b[32m     14\u001b[39m \u001b[38;5;28;01mdef\u001b[39;00m\u001b[38;5;250m \u001b[39m\u001b[34mget_best_stock_performers_for_sector\u001b[39m(sector:\u001b[38;5;28mstr\u001b[39m) -> \u001b[38;5;28mlist\u001b[39m :\n\u001b[32m     15\u001b[39m \u001b[38;5;250m    \u001b[39m\u001b[33;03m\"\"\" Return the best  5 stock performers for last week and last month for a given sector\"\"\"\u001b[39;00m\n\u001b[32m---> \u001b[39m\u001b[32m16\u001b[39m     data = \u001b[43mobb\u001b[49m\u001b[43m.\u001b[49m\u001b[43mequity\u001b[49m\u001b[43m.\u001b[49m\u001b[43mscreener\u001b[49m\u001b[43m(\u001b[49m\u001b[43mprovider\u001b[49m\u001b[43m=\u001b[49m\u001b[33;43m'\u001b[39;49m\u001b[33;43mfinviz\u001b[39;49m\u001b[33;43m'\u001b[39;49m\u001b[43m,\u001b[49m\u001b[43m \u001b[49m\u001b[43mfilters_dict\u001b[49m\u001b[43m=\u001b[49m\u001b[43m{\u001b[49m\u001b[33;43m'\u001b[39;49m\u001b[33;43mSector\u001b[39;49m\u001b[33;43m'\u001b[39;49m\u001b[43m \u001b[49m\u001b[43m:\u001b[49m\u001b[43m \u001b[49m\u001b[43msector\u001b[49m\u001b[43m,\u001b[49m\u001b[43m \u001b[49m\u001b[33;43m'\u001b[39;49m\u001b[33;43mPerformance\u001b[39;49m\u001b[33;43m'\u001b[39;49m\u001b[43m \u001b[49m\u001b[43m:\u001b[49m\u001b[43m \u001b[49m\u001b[33;43m'\u001b[39;49m\u001b[33;43mWeek Up\u001b[39;49m\u001b[33;43m'\u001b[39;49m\u001b[43m,\u001b[49m\u001b[43m \u001b[49m\u001b[33;43m'\u001b[39;49m\u001b[33;43mPerformance 2\u001b[39;49m\u001b[33;43m'\u001b[39;49m\u001b[43m \u001b[49m\u001b[43m:\u001b[49m\u001b[43m \u001b[49m\u001b[33;43m'\u001b[39;49m\u001b[33;43mMonth Up\u001b[39;49m\u001b[33;43m'\u001b[39;49m\u001b[43m}\u001b[49m\u001b[43m,\u001b[49m\u001b[43m \u001b[49m\u001b[43mlimit\u001b[49m\u001b[43m=\u001b[49m\u001b[32;43m5\u001b[39;49m\u001b[43m)\u001b[49m\n\u001b[32m     17\u001b[39m     \u001b[38;5;28;01mreturn\u001b[39;00m data.to_llm()\n",
      "\u001b[36mFile \u001b[39m\u001b[32m/workspaces/Magentic-AlgoTrading101/myenv/lib/python3.12/site-packages/openbb_core/app/static/utils/decorators.py:101\u001b[39m, in \u001b[36mexception_handler.<locals>.wrapper\u001b[39m\u001b[34m(*f_args, **f_kwargs)\u001b[39m\n\u001b[32m     99\u001b[39m         \u001b[38;5;28;01mraise\u001b[39;00m OpenBBError(\u001b[33mf\u001b[39m\u001b[33m\"\u001b[39m\u001b[38;5;130;01m\\n\u001b[39;00m\u001b[33m[Error] -> \u001b[39m\u001b[38;5;132;01m{\u001b[39;00me\u001b[38;5;132;01m}\u001b[39;00m\u001b[33m\"\u001b[39m).with_traceback(tb) \u001b[38;5;28;01mfrom\u001b[39;00m\u001b[38;5;250m \u001b[39m\u001b[38;5;28;01mNone\u001b[39;00m\n\u001b[32m    100\u001b[39m     \u001b[38;5;28;01mif\u001b[39;00m \u001b[38;5;28misinstance\u001b[39m(e, \u001b[38;5;167;01mException\u001b[39;00m):\n\u001b[32m--> \u001b[39m\u001b[32m101\u001b[39m         \u001b[38;5;28;01mraise\u001b[39;00m OpenBBError(\n\u001b[32m    102\u001b[39m             \u001b[33mf\u001b[39m\u001b[33m\"\u001b[39m\u001b[38;5;130;01m\\n\u001b[39;00m\u001b[33m[Unexpected Error] -> \u001b[39m\u001b[38;5;132;01m{\u001b[39;00me.\u001b[34m__class__\u001b[39m.\u001b[34m__name__\u001b[39m\u001b[38;5;132;01m}\u001b[39;00m\u001b[33m -> \u001b[39m\u001b[38;5;132;01m{\u001b[39;00me\u001b[38;5;132;01m}\u001b[39;00m\u001b[33m\"\u001b[39m\n\u001b[32m    103\u001b[39m         ).with_traceback(tb) \u001b[38;5;28;01mfrom\u001b[39;00m\u001b[38;5;250m \u001b[39m\u001b[38;5;28;01mNone\u001b[39;00m\n\u001b[32m    105\u001b[39m \u001b[38;5;28;01mreturn\u001b[39;00m \u001b[38;5;28;01mNone\u001b[39;00m\n",
      "\u001b[36mFile \u001b[39m\u001b[32m/workspaces/Magentic-AlgoTrading101/myenv/lib/python3.12/site-packages/finvizfinance/screener/base.py:68\u001b[39m, in \u001b[36mBase._set_filters\u001b[39m\u001b[34m(self, filters_dict)\u001b[39m\n\u001b[32m     66\u001b[39m \u001b[38;5;28;01mif\u001b[39;00m value \u001b[38;5;129;01mnot\u001b[39;00m \u001b[38;5;129;01min\u001b[39;00m filter_dict[key][\u001b[33m\"\u001b[39m\u001b[33moption\u001b[39m\u001b[33m\"\u001b[39m]:\n\u001b[32m     67\u001b[39m     filter_options = \u001b[38;5;28mlist\u001b[39m(filter_dict[key][\u001b[33m\"\u001b[39m\u001b[33moption\u001b[39m\u001b[33m\"\u001b[39m].keys())\n\u001b[32m---> \u001b[39m\u001b[32m68\u001b[39m     \u001b[38;5;28;01mraise\u001b[39;00m \u001b[38;5;167;01mValueError\u001b[39;00m(\n\u001b[32m     69\u001b[39m         \u001b[33m\"\u001b[39m\u001b[33mInvalid filter option \u001b[39m\u001b[33m'\u001b[39m\u001b[38;5;132;01m{}\u001b[39;00m\u001b[33m'\u001b[39m\u001b[33m. Possible filter options: \u001b[39m\u001b[38;5;132;01m{}\u001b[39;00m\u001b[33m\"\u001b[39m.format(\n\u001b[32m     70\u001b[39m             value, filter_options\n\u001b[32m     71\u001b[39m         )\n\u001b[32m     72\u001b[39m     )\n\u001b[32m     73\u001b[39m prefix = filter_dict[key][\u001b[33m\"\u001b[39m\u001b[33mprefix\u001b[39m\u001b[33m\"\u001b[39m]\n\u001b[32m     74\u001b[39m urlcode = filter_dict[key][\u001b[33m\"\u001b[39m\u001b[33moption\u001b[39m\u001b[33m\"\u001b[39m][value]\n",
      "\u001b[31mOpenBBError\u001b[39m: \n[Unexpected Error] -> ValueError -> Invalid filter option 'Medical Distribution'. Possible filter options: ['Any', 'Basic Materials', 'Communication Services', 'Consumer Cyclical', 'Consumer Defensive', 'Energy', 'Financial', 'Healthcare', 'Industrials', 'Real Estate', 'Technology', 'Utilities']"
     ]
    }
   ],
   "source": [
    "input1 = '''First, analyze the available data to find an industry that has consistently shown positive performance across quarterly, monthly, and weekly timeframes. Second, once you have identified the industry, extract its relevant valuation metrics (e.g., P/E, P/B, EV/EBITDA). Third, analyze the individual companies within the identified industry to determine the top performers based on relevant metrics like stock price appreciation and revenue growth. Fourth, extract the valuation metrics of the top performers using the same metrics as the industry. Finally, compare the valuation metrics of the top performers to the valuation metrics of the industry to determine if they are overvalued, undervalued, or fairly valued relative to the broader industry.'''\n",
    "result = agent_executor.invoke({\"input\": input1, \"chat_history\": chat_history})\n",
    "print(result['output'])"
   ]
  },
  {
   "cell_type": "code",
   "execution_count": null,
   "metadata": {},
   "outputs": [],
   "source": [
    "input1 = \"Using the recently found strong buys for Utilities , find their valuation metrics and compare it with the Utilities sector valuation metrics\"\n",
    "result = agent_executor.invoke({\"input\": input1, \"chat_history\": chat_history})\n",
    "print(result['output'])"
   ]
  },
  {
   "cell_type": "code",
   "execution_count": null,
   "metadata": {},
   "outputs": [],
   "source": [
    "chat_history.extend(\n",
    "    [\n",
    "        HumanMessage(content=input1),\n",
    "        AIMessage(content=result[\"output\"]),\n",
    "    ]\n",
    ")\n",
    "agent_executor.invoke({\"input\": \"Which stock are recommented for this sector best performing sector\", \"chat_history\": chat_history})"
   ]
  },
  {
   "cell_type": "markdown",
   "metadata": {},
   "source": []
  }
 ],
 "metadata": {
  "kernelspec": {
   "display_name": "myenv",
   "language": "python",
   "name": "python3"
  },
  "language_info": {
   "codemirror_mode": {
    "name": "ipython",
    "version": 3
   },
   "file_extension": ".py",
   "mimetype": "text/x-python",
   "name": "python",
   "nbconvert_exporter": "python",
   "pygments_lexer": "ipython3",
   "version": "3.12.1"
  }
 },
 "nbformat": 4,
 "nbformat_minor": 2
}
