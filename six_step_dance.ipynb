{
 "cells": [
  {
   "cell_type": "markdown",
   "metadata": {},
   "source": [
    "#### @prompt example"
   ]
  },
  {
   "cell_type": "code",
   "execution_count": 1,
   "metadata": {},
   "outputs": [],
   "source": [
    "from openbb import obb\n",
    "import os\n",
    "from magentic import prompt\n",
    "from openbb import obb\n",
    "obb.account.login(pat=os.environ['PAT_KEY'])\n",
    "FMP_KEY = os.environ['FMP_KEY']\n"
   ]
  },
  {
   "cell_type": "markdown",
   "metadata": {},
   "source": [
    "## Six Step Dance via Langchain\n",
    "1. Taking into Account Company Industry (Growth / Value)\n",
    "    1. Growth / Value\n",
    "    2. Sector outperforming market or not\n",
    "    3. Company outperforming sector\n",
    "    4. PE vs Industry\n",
    "2. Determining Company Financial Stability\n",
    "    1. Debt To Equity\n",
    "    2. Current Ratio\n",
    "    3. Interest Margin Cover\n",
    "3. Looking at Historical Earning and Growth\n",
    "    1. Sales Growth\n",
    "    2. EPS Growth\n",
    "    3. Return on Invested Capital\n",
    "    4. Profit Margin\n",
    "    5. Cashflow Growth\n",
    "    6. Equity Growth\n",
    "    7. Return on Equity\n",
    "4. Understanding Earnings and Sales Expectations\n",
    "    1. Analyst Estimates\n",
    "    2. PEG\n",
    "5. Checking out competition\n",
    "    1. P/E\n",
    "    2. P/S\n",
    "    3.MOAT\n",
    "6. Estimating Company Values\n",
    "    1. Insider Buying\n",
    "    2. Senate TRading\n",
    "    3. 13f\n",
    "\n",
    "## Buffett Criteria\n",
    "### Gross Margin Indicates profitability > 40% GrossProfit/Revenue GROSS PM close to 40 for recent years\n",
    "### SG&A Margin efficiency in managing overhead costs < 30% SG&A Expenses / Gross Profit\n",
    "### R&D Margin r&d spending relative to profitability < 30% R&D Expenses / Gross Profit\n",
    "### Interest Expense Margin reliance on debt and financial health < 15 % Interest Expense / Operating Income\n",
    "### Income Tax Margin Gauges tax efficiency ~ 20% Income Tax / Pre-Tax Income\n",
    "### Profit Margin Shows overall profitabilty relative to revenue > 20% Net Income / Revenue\n",
    "### EPS Growth Indicates growth and consistency in earnings >0 and growing Net Income / Shares Outstanding\n",
    "\n",
    "\n"
   ]
  },
  {
   "cell_type": "code",
   "execution_count": null,
   "metadata": {},
   "outputs": [],
   "source": [
    "obb.news.world(provider='fmp').to_llm()"
   ]
  },
  {
   "cell_type": "code",
   "execution_count": null,
   "metadata": {},
   "outputs": [],
   "source": [
    "\n",
    "\n",
    "\n",
    "@prompt(\"Explain like I'm five this financial concept: {concept}\")\n",
    "def explain(concept: str) -> str: ...\n",
    "\n",
    "\n",
    "explain(\"Subprime mortgage crisis\")"
   ]
  },
  {
   "cell_type": "code",
   "execution_count": null,
   "metadata": {},
   "outputs": [],
   "source": [
    "\n",
    "from magentic import prompt\n",
    "from pydantic import BaseModel\n",
    "\n",
    "\n",
    "class Portfolio(BaseModel):\n",
    "    equity_etf_pct: float\n",
    "    bond_etf_pc: float\n",
    "    crypto_etf_pc: float\n",
    "    commodities_pc: float\n",
    "    reasoning: str\n",
    "\n",
    "\n",
    "@prompt(\"Create a strong portfolio of {size} allocation size.\")\n",
    "def create_portfolio(size: str) -> Portfolio: ...\n",
    "\n",
    "\n",
    "portfolio = create_portfolio(\"$50,000\")"
   ]
  },
  {
   "cell_type": "markdown",
   "metadata": {},
   "source": [
    "#### @chatprompt decorator"
   ]
  },
  {
   "cell_type": "code",
   "execution_count": null,
   "metadata": {},
   "outputs": [],
   "source": [
    "from magentic import chatprompt, AssistantMessage, SystemMessage, UserMessage\n",
    "from pydantic import BaseModel\n",
    "\n",
    "class Quote(BaseModel):\n",
    "    quote: str\n",
    "    person: str\n",
    "\n",
    "\n",
    "@chatprompt(\n",
    "    SystemMessage(\"You are an avid reader of financial literature.\"),\n",
    "    UserMessage(\"What is your favorite quote from Warren Buffet?\"),\n",
    "    AssistantMessage(\n",
    "        Quote(\n",
    "            quote=\"Price is what you pay; value is what you get.\",\n",
    "            person=\"Warren Buffet\",\n",
    "        )\n",
    "    ),\n",
    "    UserMessage(\"What is your favorite quote from {person}?\"),\n",
    ")\n",
    "def get_finance_quote(person: str) -> Quote: ...\n",
    "\n",
    "\n",
    "get_finance_quote(\"Charlie Munger\")"
   ]
  },
  {
   "cell_type": "markdown",
   "metadata": {},
   "source": [
    "#### Function calling"
   ]
  },
  {
   "cell_type": "code",
   "execution_count": null,
   "metadata": {},
   "outputs": [],
   "source": [
    "import os\n",
    "import requests\n",
    "from magentic import prompt, FunctionCall\n",
    "import logging\n",
    "from openbb import obb\n",
    "from langchain.tools import Tool\n",
    "import reticker\n",
    "\n",
    "\n",
    "def get_income_statement(query:str) -> str:\n",
    "    ''' retrieves income statement for a company'''\n",
    "    try:\n",
    "        ticker = reticker(query)\n",
    "        period = 'annual' if 'annual' in query else 'quarterly'\n",
    "        return obb.equity.fundamental.income(symbol=ticker, period=period, limit=5, provider='fmp').to_llm()\n",
    "    except Exception as e:\n",
    "        return f'Unable to find data for {ticker}'\n",
    "\n",
    "def get_balance_sheet(query:str) -> str:\n",
    "    ''' retrieves balance sheet for a company'''\n",
    "    try:\n",
    "        ticker = reticker(query)\n",
    "        period = 'annual' if 'annual' in query else 'quarterly'\n",
    "        return obb.equity.fundamental.balance(symbol=ticker, period=period, limit=5, provider='intrinio')\n",
    "    except Exception as e:\n",
    "        return f'Unable to find data for {ticker}'\n",
    "\n",
    "\n",
    "def get_aggressive_smallcaps() -> list :\n",
    "    ''' retrieves aggressive smallcaps'''\n",
    "    return obb.equity.discovery.aggressive_small_caps(sort='desc').to_llm()\n",
    "\n",
    "\n",
    "def get_undervalued_growth() -> list:\n",
    "    ''' retrieves undervalued growth stocks'''\n",
    "    return obb.equity.discovery.undervalued_growth(provider='yfinance').to_llm()\n",
    "\n",
    "\n",
    "def get_ticker_from_query(query):\n",
    "    extractor = reticker.TickerExtractor(deduplicate=True)\n",
    "    tickers = extractor.extract(query)\n",
    "    if len(tickers) > 1:\n",
    "        return ','.join(tickers)\n",
    "    return tickers[0] \n",
    "\n",
    "\n",
    "def get_stock_price(query: str) -> str:\n",
    "    \"\"\"Get the current stock price for a given ticker.\"\"\"\n",
    "    try:\n",
    "        ticker = get_ticker_from_query(query)\n",
    "        data = obb.equity.price.quote(symbol=ticker)\n",
    "\n",
    "        return data.to_llm()\n",
    "    except Exception as e:\n",
    "        return f\"Error fetching stock price for {ticker}: {str(e)}\"\n",
    "\n",
    "def get_company_overview(query: str) -> str:\n",
    "    \"\"\"Get an overview of a company for a given ticker.\"\"\"\n",
    "    try:\n",
    "        ticker = get_ticker_from_query(query)\n",
    "        data = obb.equity.profile(symbol=ticker)\n",
    "        return data.to_llm()\n",
    "    except Exception as e:\n",
    "        return f\"Error fetching company overview for {ticker}: {str(e)}\"\n",
    "    \n",
    "def get_group_performance(group:str) -> list:\n",
    "    \"\"\" Get performane by industry or sector\"\"\"\n",
    "    data = obb.equity.compare.groups(group=group, metric='performance', provider='finviz')\n",
    "    return data.to_llm()\n",
    "\n",
    "def get_latest_news_for_company(query : str) -> str:\n",
    "    \"\"\" Get latest news for a company \"\"\"\n",
    "    try:\n",
    "        ticker = get_ticker_from_query(query)\n",
    "        return obb.news.company(symbol=ticker)\n",
    "    except Exception as e:\n",
    "        return f\"Error fetching stock price for {ticker}: {str(e)}\"\n",
    "\n",
    "@prompt(\n",
    "    \"Use the appropriate search function to answer: {question}\",\n",
    "    functions=[get_stock_price, get_aggressive_smallcaps, get_undervalued_growth, get_latest_news_for_company,\n",
    "               get_balance_sheet, get_income_statement, get_group_performance],\n",
    ")\n",
    "def perform_search(question: str) -> FunctionCall[str]: ...\n",
    "\n",
    "\n",
    "output = perform_search(\"Find the best performing industry\")\n",
    "result = output()\n",
    "from pprint import pprint\n",
    "pprint(result)"
   ]
  },
  {
   "cell_type": "markdown",
   "metadata": {},
   "source": [
    "#### Prompt Chains"
   ]
  },
  {
   "cell_type": "code",
   "execution_count": null,
   "metadata": {},
   "outputs": [],
   "source": [
    "import csv\n",
    "from magentic import prompt_chain\n",
    "\n",
    "\n",
    "def get_earnings_calendar(ticker: str, api_key: str = FMP_KEY) -> list:\n",
    "    url = f\"https://www.alphavantage.co/query?function=EARNINGS_CALENDAR&symbol={ticker}&horizon=12month&apikey={api_key}\"\n",
    "    with requests.Session() as s:\n",
    "        download = s.get(url)\n",
    "        decoded_content = download.content.decode(\"utf-8\")\n",
    "        cr = csv.reader(decoded_content.splitlines(), delimiter=\",\")\n",
    "        my_list = list(cr)\n",
    "    return my_list\n",
    "\n",
    "\n",
    "@prompt_chain(\n",
    "    \"What's {ticker} expected earnings dates for the next 12 months?\",\n",
    "    functions=[get_earnings_calendar],\n",
    ")\n",
    "def get_earnings(ticker: str) -> str: ...\n",
    "\n",
    "\n",
    "get_earnings(\"IBM\")"
   ]
  },
  {
   "cell_type": "markdown",
   "metadata": {},
   "source": [
    "#### Streaming Response"
   ]
  },
  {
   "cell_type": "code",
   "execution_count": null,
   "metadata": {},
   "outputs": [],
   "source": [
    "from magentic import StreamedStr\n",
    "\n",
    "\n",
    "@prompt(\"Explain to me {term} in a way a 5-year-old would understand.\")\n",
    "def describe_finance_term(term: str) -> StreamedStr: ...\n",
    "\n",
    "\n",
    "# Print the chunks while they are being received\n",
    "for chunk in describe_finance_term(\"liquidity\"):\n",
    "    print(chunk, end=\"\")"
   ]
  },
  {
   "cell_type": "markdown",
   "metadata": {},
   "source": [
    "#### Streaming Structured Outputs"
   ]
  },
  {
   "cell_type": "code",
   "execution_count": null,
   "metadata": {},
   "outputs": [],
   "source": [
    "from collections.abc import Iterable\n",
    "from time import time\n",
    "\n",
    "\n",
    "class Portfolio(BaseModel):\n",
    "    equity_etf_pct: float\n",
    "    bond_etf_pc: float\n",
    "    crypto_etf_pc: float\n",
    "    commodities_pc: float\n",
    "    reasoning: str\n",
    "\n",
    "\n",
    "@prompt(\"Create {n_portfolio} portfolios with varying deegress of risk apetite.\")\n",
    "def create_portfolios(n_portfolio: int) -> Iterable[Portfolio]: ...\n",
    "\n",
    "\n",
    "start_time = time()\n",
    "for portfolio in create_portfolios(3):\n",
    "    print(f\"{time() - start_time:.2f}s : {portfolio}\")"
   ]
  },
  {
   "cell_type": "markdown",
   "metadata": {},
   "source": [
    "#### Asynchronous Streaming"
   ]
  },
  {
   "cell_type": "code",
   "execution_count": null,
   "metadata": {},
   "outputs": [],
   "source": [
    "import asyncio\n",
    "from typing import AsyncIterable\n",
    "\n",
    "\n",
    "@prompt(\"List three high-growth stocks.\")\n",
    "async def iter_growth_stocks() -> AsyncIterable[str]: ...\n",
    "\n",
    "\n",
    "@prompt(\"Tell me more about {stock_symbol}\")\n",
    "async def tell_me_more_about(stock_symbol: str) -> str: ...\n",
    "\n",
    "\n",
    "start_time = time()\n",
    "tasks = []\n",
    "async for stock in await iter_growth_stocks():\n",
    "    # Use asyncio.create_task to schedule the coroutine for execution before awaiting it\n",
    "    # This way descriptions will start being generated while the list of stocks is still being generated\n",
    "    task = asyncio.create_task(tell_me_more_about(stock))\n",
    "    tasks.append(task)\n",
    "\n",
    "descriptions = await asyncio.gather(*tasks)\n",
    "\n",
    "for desc in descriptions:\n",
    "    print(desc)"
   ]
  },
  {
   "cell_type": "markdown",
   "metadata": {},
   "source": [
    "### Attempting to write a Small Agent"
   ]
  },
  {
   "cell_type": "code",
   "execution_count": 2,
   "metadata": {},
   "outputs": [],
   "source": [
    "from langchain_openai import ChatOpenAI\n",
    "from langchain.agents import tool\n",
    "from langchain_core.prompts import ChatPromptTemplate, MessagesPlaceholder\n",
    "\n",
    "llm = ChatOpenAI(model=\"gpt-3.5-turbo\", temperature=0)"
   ]
  },
  {
   "cell_type": "code",
   "execution_count": null,
   "metadata": {},
   "outputs": [
    {
     "data": {
      "text/plain": [
       "'[]'"
      ]
     },
     "execution_count": 43,
     "metadata": {},
     "output_type": "execute_result"
    }
   ],
   "source": [
    "@tool\n",
    "def get_performance(group:str) -> list:\n",
    "    \"\"\" Return performance by sector or industyr industry performance for last week, last month, last quarter, last half year and last year\"\"\"\n",
    "    return obb.equity.compare.groups(group=group, metric='performance', provider='finviz').to_llm()\n",
    "\n",
    "@tool\n",
    "def get_strong_buy_for_sector(sector : str) -> list :\n",
    "    \"\"\" Return the strong buy recommendation for a given sector\"\"\"\n",
    "    new_sector = '_'.join(sector.lower().split())\n",
    "    data = obb.equity.screener(provider='finviz', sector=new_sector, recommendation='buy')\n",
    "    return data.to_llm()\n",
    "\n",
    "@tool\n",
    "def get_best_stock_performers_for_sector(sector:str) -> list :\n",
    "    \"\"\" Return the best  10 stock performers for last week and last month for a sector\"\"\"\n",
    "    data = obb.equity.screener(provider='finviz', filters_dict={'Sector' : sector, 'Performance' : 'Week Up', 'Performance 2' : 'Month Up'}, limit=10)\n",
    "    return data.to_llm()\n",
    "\n",
    "@tool\n",
    "def get_best_stock_performers_for_industry(industry:str) -> list :\n",
    "    \"\"\" Return the best  10 stock performers for last week and last month for a sector\"\"\"\n",
    "    data = obb.equity.screener(provider='finviz', filters_dict={'Sector' : industry, 'Performance' : 'Week Up', 'Performance 2' : 'Month Up'}, limit=10)\n",
    "    return data.to_llm()\n",
    "\n",
    "@tool\n",
    "def get_valuation_for_sectors(input:str) -> list:\n",
    "    \"\"\" Return valuation meetrics for all sectors\"\"\"\n",
    "    data = obb.equity.compare.groups(group='sector', metric='valuation', provider='finviz').to_df()\n",
    "    \n",
    "    filtered =  data[data.name == input]\n",
    "    return filtered.to_json(\n",
    "            orient=\"records\",\n",
    "            date_format=\"iso\",\n",
    "            date_unit=\"s\",\n",
    "        )\n",
    "\n",
    "@tool\n",
    "def get_valuation_for_industries() -> list:\n",
    "    \"\"\" Return valuation meetrics for all sectors\"\"\"\n",
    "    return obb.equity.compare.groups(group='industry', metric='valuation', provider='finviz').to_llm()\n",
    "\n",
    "\n",
    "@tool\n",
    "def get_valuation_for_company(ticker:str) -> list:\n",
    "    \"\"\" Return Valuation Ratios  for a company\"\"\"#\n",
    "    # requires obb login\n",
    "    obb.account.login(pat=os.environ['PAT_KEY'])\n",
    "    return obb.equity.fundamental.ratios_ttm(symbol='AAPL', provider='fmp', limit=1).to_llm()\n",
    "\n",
    "#get_strong_buy_for_sector.invoke('Consumer Cyclical')\n",
    "get_valuation_for_sectors.invoke('Financials')"
   ]
  },
  {
   "cell_type": "code",
   "execution_count": null,
   "metadata": {},
   "outputs": [],
   "source": [
    "data = obb.equity.compare.groups(group='sector', metric='valuation', provider='finviz').to_df()"
   ]
  },
  {
   "cell_type": "code",
   "execution_count": 7,
   "metadata": {},
   "outputs": [],
   "source": [
    "from langchain_core.prompts import ChatPromptTemplate, MessagesPlaceholder\n",
    "\n",
    "prompt = ChatPromptTemplate.from_messages(\n",
    "    [\n",
    "        (\n",
    "            \"system\",\n",
    "            \"You are very powerful stock financial analys, but don't know current events. Use the toools as much as you can to retrieve informations\",\n",
    "        ),\n",
    "        (\"user\", \"{input}\"),\n",
    "        MessagesPlaceholder(variable_name=\"agent_scratchpad\"),\n",
    "    ]\n",
    ")"
   ]
  },
  {
   "cell_type": "code",
   "execution_count": 8,
   "metadata": {},
   "outputs": [],
   "source": [
    "tools = [get_performance, get_strong_buy_for_sector, get_best_stock_performers_for_sector, get_valuation_for_group,get_valuation_for_company]\n",
    "llm_with_tools = llm.bind_tools(tools)"
   ]
  },
  {
   "cell_type": "code",
   "execution_count": 21,
   "metadata": {},
   "outputs": [],
   "source": [
    "from langchain.agents.format_scratchpad.openai_tools import (\n",
    "    format_to_openai_tool_messages,\n",
    ")\n",
    "from langchain.agents.output_parsers.openai_tools import OpenAIToolsAgentOutputParser\n",
    "from langchain_core.output_parsers import StrOutputParser, CommaSeparatedListOutputParser\n",
    "\n",
    "agent = (\n",
    "    {\n",
    "        \"input\": lambda x: x[\"input\"],\n",
    "        \"agent_scratchpad\": lambda x: format_to_openai_tool_messages(\n",
    "            x[\"intermediate_steps\"]\n",
    "        ),\n",
    "    }\n",
    "    | prompt\n",
    "    | llm_with_tools\n",
    "    | OpenAIToolsAgentOutputParser()\n",
    ")"
   ]
  },
  {
   "cell_type": "code",
   "execution_count": 22,
   "metadata": {},
   "outputs": [],
   "source": [
    "from langchain.agents import AgentExecutor\n",
    "\n",
    "agent_executor = AgentExecutor(agent=agent, tools=tools, verbose=True)"
   ]
  },
  {
   "cell_type": "code",
   "execution_count": 23,
   "metadata": {},
   "outputs": [
    {
     "name": "stdout",
     "output_type": "stream",
     "text": [
      "\n",
      "\n",
      "\u001b[1m> Entering new None chain...\u001b[0m\n",
      "\u001b[32;1m\u001b[1;3m\n",
      "Invoking: `get_performance` with `{'group': 'sector'}`\n",
      "\n",
      "\n",
      "\u001b[0m\u001b[36;1m\u001b[1;3m[{\"name\":\"Consumer Defensive\",\"performance_1d\":0.0056,\"performance_1w\":-0.0112,\"performance_1m\":-0.0323,\"performance_3m\":-0.0033,\"performance_6m\":-0.0123,\"performance_1y\":0.07,\"performance_ytd\":0.0149,\"analyst_recommendation\":2.01,\"volume\":447610000,\"volume_average\":466650000,\"volume_relative\":0.96},{\"name\":\"Basic Materials\",\"performance_1d\":0.0071,\"performance_1w\":-0.0057,\"performance_1m\":0.0043,\"performance_3m\":0.0583,\"performance_6m\":-0.0498,\"performance_1y\":-0.0265,\"performance_ytd\":0.0692,\"analyst_recommendation\":2.03,\"volume\":656000000,\"volume_average\":648590000,\"volume_relative\":1.01},{\"name\":\"Real Estate\",\"performance_1d\":0.0144,\"performance_1w\":-0.0042,\"performance_1m\":-0.004,\"performance_3m\":0.0287,\"performance_6m\":-0.0644,\"performance_1y\":0.0699,\"performance_ytd\":0.0237,\"analyst_recommendation\":1.97,\"volume\":319170000,\"volume_average\":376220000,\"volume_relative\":0.85},{\"name\":\"Utilities\",\"performance_1d\":0.0018,\"performance_1w\":-0.0035,\"performance_1m\":-0.0144,\"performance_3m\":0.0581,\"performance_6m\":0.0217,\"performance_1y\":0.2296,\"performance_ytd\":0.0359,\"analyst_recommendation\":2.11,\"volume\":198120000,\"volume_average\":253540000,\"volume_relative\":0.78},{\"name\":\"Healthcare\",\"performance_1d\":0.0068,\"performance_1w\":0.0018,\"performance_1m\":-0.0044,\"performance_3m\":0.0504,\"performance_6m\":-0.0818,\"performance_1y\":-0.0154,\"performance_ytd\":0.0535,\"analyst_recommendation\":1.82,\"volume\":1210000000,\"volume_average\":1660000000,\"volume_relative\":0.73},{\"name\":\"Industrials\",\"performance_1d\":0.0199,\"performance_1w\":0.0118,\"performance_1m\":-0.0082,\"performance_3m\":-0.0054,\"performance_6m\":-0.018,\"performance_1y\":0.0349,\"performance_ytd\":-0.0024,\"analyst_recommendation\":2.08,\"volume\":910460000,\"volume_average\":991180000,\"volume_relative\":0.92},{\"name\":\"Communication Services\",\"performance_1d\":0.0192,\"performance_1w\":0.0153,\"performance_1m\":-0.0549,\"performance_3m\":-0.0057,\"performance_6m\":0.0987,\"performance_1y\":0.177,\"performance_ytd\":-0.0017,\"analyst_recommendation\":1.65,\"volume\":715730000,\"volume_average\":661470000,\"volume_relative\":1.08},{\"name\":\"Technology\",\"performance_1d\":0.0194,\"performance_1w\":0.0179,\"performance_1m\":-0.0751,\"performance_3m\":-0.0654,\"performance_6m\":-0.002,\"performance_1y\":0.108,\"performance_ytd\":-0.0667,\"analyst_recommendation\":1.72,\"volume\":2990000000,\"volume_average\":2830000000,\"volume_relative\":1.06},{\"name\":\"Energy\",\"performance_1d\":0.0085,\"performance_1w\":0.022,\"performance_1m\":0.024,\"performance_3m\":0.1024,\"performance_6m\":0.0392,\"performance_1y\":0.0106,\"performance_ytd\":0.0698,\"analyst_recommendation\":1.87,\"volume\":579380000,\"volume_average\":678770000,\"volume_relative\":0.85},{\"name\":\"Financial\",\"performance_1d\":0.0172,\"performance_1w\":0.0252,\"performance_1m\":0.001,\"performance_3m\":0.0644,\"performance_6m\":0.1011,\"performance_1y\":0.2134,\"performance_ytd\":0.0483,\"analyst_recommendation\":2.1,\"volume\":1200000000,\"volume_average\":1250000000,\"volume_relative\":0.96},{\"name\":\"Consumer Cyclical\",\"performance_1d\":0.0338,\"performance_1w\":0.029,\"performance_1m\":-0.0641,\"performance_3m\":-0.0759,\"performance_6m\":0.0438,\"performance_1y\":0.0734,\"performance_ytd\":-0.0645,\"analyst_recommendation\":1.8,\"volume\":1670000000,\"volume_average\":1440000000,\"volume_relative\":1.16}]\u001b[0m\u001b[32;1m\u001b[1;3mThe best performing sector for last month was the **Financial** sector with a performance of 0.1%.\u001b[0m\n",
      "\n",
      "\u001b[1m> Finished chain.\u001b[0m\n"
     ]
    },
    {
     "data": {
      "text/plain": [
       "[{'actions': [ToolAgentAction(tool='get_performance', tool_input={'group': 'sector'}, log=\"\\nInvoking: `get_performance` with `{'group': 'sector'}`\\n\\n\\n\", message_log=[AIMessageChunk(content='', additional_kwargs={'tool_calls': [{'index': 0, 'id': 'call_PGwnZQ0GxKiUxm8tjErzQzOB', 'function': {'arguments': '{\"group\":\"sector\"}', 'name': 'get_performance'}, 'type': 'function'}]}, response_metadata={'finish_reason': 'tool_calls', 'model_name': 'gpt-3.5-turbo-0125'}, id='run-71913799-e284-4612-8d70-f3ee5fb9d49c', tool_calls=[{'name': 'get_performance', 'args': {'group': 'sector'}, 'id': 'call_PGwnZQ0GxKiUxm8tjErzQzOB', 'type': 'tool_call'}], tool_call_chunks=[{'name': 'get_performance', 'args': '{\"group\":\"sector\"}', 'id': 'call_PGwnZQ0GxKiUxm8tjErzQzOB', 'index': 0, 'type': 'tool_call_chunk'}])], tool_call_id='call_PGwnZQ0GxKiUxm8tjErzQzOB')],\n",
       "  'messages': [AIMessageChunk(content='', additional_kwargs={'tool_calls': [{'index': 0, 'id': 'call_PGwnZQ0GxKiUxm8tjErzQzOB', 'function': {'arguments': '{\"group\":\"sector\"}', 'name': 'get_performance'}, 'type': 'function'}]}, response_metadata={'finish_reason': 'tool_calls', 'model_name': 'gpt-3.5-turbo-0125'}, id='run-71913799-e284-4612-8d70-f3ee5fb9d49c', tool_calls=[{'name': 'get_performance', 'args': {'group': 'sector'}, 'id': 'call_PGwnZQ0GxKiUxm8tjErzQzOB', 'type': 'tool_call'}], tool_call_chunks=[{'name': 'get_performance', 'args': '{\"group\":\"sector\"}', 'id': 'call_PGwnZQ0GxKiUxm8tjErzQzOB', 'index': 0, 'type': 'tool_call_chunk'}])]},\n",
       " {'steps': [AgentStep(action=ToolAgentAction(tool='get_performance', tool_input={'group': 'sector'}, log=\"\\nInvoking: `get_performance` with `{'group': 'sector'}`\\n\\n\\n\", message_log=[AIMessageChunk(content='', additional_kwargs={'tool_calls': [{'index': 0, 'id': 'call_PGwnZQ0GxKiUxm8tjErzQzOB', 'function': {'arguments': '{\"group\":\"sector\"}', 'name': 'get_performance'}, 'type': 'function'}]}, response_metadata={'finish_reason': 'tool_calls', 'model_name': 'gpt-3.5-turbo-0125'}, id='run-71913799-e284-4612-8d70-f3ee5fb9d49c', tool_calls=[{'name': 'get_performance', 'args': {'group': 'sector'}, 'id': 'call_PGwnZQ0GxKiUxm8tjErzQzOB', 'type': 'tool_call'}], tool_call_chunks=[{'name': 'get_performance', 'args': '{\"group\":\"sector\"}', 'id': 'call_PGwnZQ0GxKiUxm8tjErzQzOB', 'index': 0, 'type': 'tool_call_chunk'}])], tool_call_id='call_PGwnZQ0GxKiUxm8tjErzQzOB'), observation='[{\"name\":\"Consumer Defensive\",\"performance_1d\":0.0056,\"performance_1w\":-0.0112,\"performance_1m\":-0.0323,\"performance_3m\":-0.0033,\"performance_6m\":-0.0123,\"performance_1y\":0.07,\"performance_ytd\":0.0149,\"analyst_recommendation\":2.01,\"volume\":447610000,\"volume_average\":466650000,\"volume_relative\":0.96},{\"name\":\"Basic Materials\",\"performance_1d\":0.0071,\"performance_1w\":-0.0057,\"performance_1m\":0.0043,\"performance_3m\":0.0583,\"performance_6m\":-0.0498,\"performance_1y\":-0.0265,\"performance_ytd\":0.0692,\"analyst_recommendation\":2.03,\"volume\":656000000,\"volume_average\":648590000,\"volume_relative\":1.01},{\"name\":\"Real Estate\",\"performance_1d\":0.0144,\"performance_1w\":-0.0042,\"performance_1m\":-0.004,\"performance_3m\":0.0287,\"performance_6m\":-0.0644,\"performance_1y\":0.0699,\"performance_ytd\":0.0237,\"analyst_recommendation\":1.97,\"volume\":319170000,\"volume_average\":376220000,\"volume_relative\":0.85},{\"name\":\"Utilities\",\"performance_1d\":0.0018,\"performance_1w\":-0.0035,\"performance_1m\":-0.0144,\"performance_3m\":0.0581,\"performance_6m\":0.0217,\"performance_1y\":0.2296,\"performance_ytd\":0.0359,\"analyst_recommendation\":2.11,\"volume\":198120000,\"volume_average\":253540000,\"volume_relative\":0.78},{\"name\":\"Healthcare\",\"performance_1d\":0.0068,\"performance_1w\":0.0018,\"performance_1m\":-0.0044,\"performance_3m\":0.0504,\"performance_6m\":-0.0818,\"performance_1y\":-0.0154,\"performance_ytd\":0.0535,\"analyst_recommendation\":1.82,\"volume\":1210000000,\"volume_average\":1660000000,\"volume_relative\":0.73},{\"name\":\"Industrials\",\"performance_1d\":0.0199,\"performance_1w\":0.0118,\"performance_1m\":-0.0082,\"performance_3m\":-0.0054,\"performance_6m\":-0.018,\"performance_1y\":0.0349,\"performance_ytd\":-0.0024,\"analyst_recommendation\":2.08,\"volume\":910460000,\"volume_average\":991180000,\"volume_relative\":0.92},{\"name\":\"Communication Services\",\"performance_1d\":0.0192,\"performance_1w\":0.0153,\"performance_1m\":-0.0549,\"performance_3m\":-0.0057,\"performance_6m\":0.0987,\"performance_1y\":0.177,\"performance_ytd\":-0.0017,\"analyst_recommendation\":1.65,\"volume\":715730000,\"volume_average\":661470000,\"volume_relative\":1.08},{\"name\":\"Technology\",\"performance_1d\":0.0194,\"performance_1w\":0.0179,\"performance_1m\":-0.0751,\"performance_3m\":-0.0654,\"performance_6m\":-0.002,\"performance_1y\":0.108,\"performance_ytd\":-0.0667,\"analyst_recommendation\":1.72,\"volume\":2990000000,\"volume_average\":2830000000,\"volume_relative\":1.06},{\"name\":\"Energy\",\"performance_1d\":0.0085,\"performance_1w\":0.022,\"performance_1m\":0.024,\"performance_3m\":0.1024,\"performance_6m\":0.0392,\"performance_1y\":0.0106,\"performance_ytd\":0.0698,\"analyst_recommendation\":1.87,\"volume\":579380000,\"volume_average\":678770000,\"volume_relative\":0.85},{\"name\":\"Financial\",\"performance_1d\":0.0172,\"performance_1w\":0.0252,\"performance_1m\":0.001,\"performance_3m\":0.0644,\"performance_6m\":0.1011,\"performance_1y\":0.2134,\"performance_ytd\":0.0483,\"analyst_recommendation\":2.1,\"volume\":1200000000,\"volume_average\":1250000000,\"volume_relative\":0.96},{\"name\":\"Consumer Cyclical\",\"performance_1d\":0.0338,\"performance_1w\":0.029,\"performance_1m\":-0.0641,\"performance_3m\":-0.0759,\"performance_6m\":0.0438,\"performance_1y\":0.0734,\"performance_ytd\":-0.0645,\"analyst_recommendation\":1.8,\"volume\":1670000000,\"volume_average\":1440000000,\"volume_relative\":1.16}]')],\n",
       "  'messages': [FunctionMessage(content='[{\"name\":\"Consumer Defensive\",\"performance_1d\":0.0056,\"performance_1w\":-0.0112,\"performance_1m\":-0.0323,\"performance_3m\":-0.0033,\"performance_6m\":-0.0123,\"performance_1y\":0.07,\"performance_ytd\":0.0149,\"analyst_recommendation\":2.01,\"volume\":447610000,\"volume_average\":466650000,\"volume_relative\":0.96},{\"name\":\"Basic Materials\",\"performance_1d\":0.0071,\"performance_1w\":-0.0057,\"performance_1m\":0.0043,\"performance_3m\":0.0583,\"performance_6m\":-0.0498,\"performance_1y\":-0.0265,\"performance_ytd\":0.0692,\"analyst_recommendation\":2.03,\"volume\":656000000,\"volume_average\":648590000,\"volume_relative\":1.01},{\"name\":\"Real Estate\",\"performance_1d\":0.0144,\"performance_1w\":-0.0042,\"performance_1m\":-0.004,\"performance_3m\":0.0287,\"performance_6m\":-0.0644,\"performance_1y\":0.0699,\"performance_ytd\":0.0237,\"analyst_recommendation\":1.97,\"volume\":319170000,\"volume_average\":376220000,\"volume_relative\":0.85},{\"name\":\"Utilities\",\"performance_1d\":0.0018,\"performance_1w\":-0.0035,\"performance_1m\":-0.0144,\"performance_3m\":0.0581,\"performance_6m\":0.0217,\"performance_1y\":0.2296,\"performance_ytd\":0.0359,\"analyst_recommendation\":2.11,\"volume\":198120000,\"volume_average\":253540000,\"volume_relative\":0.78},{\"name\":\"Healthcare\",\"performance_1d\":0.0068,\"performance_1w\":0.0018,\"performance_1m\":-0.0044,\"performance_3m\":0.0504,\"performance_6m\":-0.0818,\"performance_1y\":-0.0154,\"performance_ytd\":0.0535,\"analyst_recommendation\":1.82,\"volume\":1210000000,\"volume_average\":1660000000,\"volume_relative\":0.73},{\"name\":\"Industrials\",\"performance_1d\":0.0199,\"performance_1w\":0.0118,\"performance_1m\":-0.0082,\"performance_3m\":-0.0054,\"performance_6m\":-0.018,\"performance_1y\":0.0349,\"performance_ytd\":-0.0024,\"analyst_recommendation\":2.08,\"volume\":910460000,\"volume_average\":991180000,\"volume_relative\":0.92},{\"name\":\"Communication Services\",\"performance_1d\":0.0192,\"performance_1w\":0.0153,\"performance_1m\":-0.0549,\"performance_3m\":-0.0057,\"performance_6m\":0.0987,\"performance_1y\":0.177,\"performance_ytd\":-0.0017,\"analyst_recommendation\":1.65,\"volume\":715730000,\"volume_average\":661470000,\"volume_relative\":1.08},{\"name\":\"Technology\",\"performance_1d\":0.0194,\"performance_1w\":0.0179,\"performance_1m\":-0.0751,\"performance_3m\":-0.0654,\"performance_6m\":-0.002,\"performance_1y\":0.108,\"performance_ytd\":-0.0667,\"analyst_recommendation\":1.72,\"volume\":2990000000,\"volume_average\":2830000000,\"volume_relative\":1.06},{\"name\":\"Energy\",\"performance_1d\":0.0085,\"performance_1w\":0.022,\"performance_1m\":0.024,\"performance_3m\":0.1024,\"performance_6m\":0.0392,\"performance_1y\":0.0106,\"performance_ytd\":0.0698,\"analyst_recommendation\":1.87,\"volume\":579380000,\"volume_average\":678770000,\"volume_relative\":0.85},{\"name\":\"Financial\",\"performance_1d\":0.0172,\"performance_1w\":0.0252,\"performance_1m\":0.001,\"performance_3m\":0.0644,\"performance_6m\":0.1011,\"performance_1y\":0.2134,\"performance_ytd\":0.0483,\"analyst_recommendation\":2.1,\"volume\":1200000000,\"volume_average\":1250000000,\"volume_relative\":0.96},{\"name\":\"Consumer Cyclical\",\"performance_1d\":0.0338,\"performance_1w\":0.029,\"performance_1m\":-0.0641,\"performance_3m\":-0.0759,\"performance_6m\":0.0438,\"performance_1y\":0.0734,\"performance_ytd\":-0.0645,\"analyst_recommendation\":1.8,\"volume\":1670000000,\"volume_average\":1440000000,\"volume_relative\":1.16}]', additional_kwargs={}, response_metadata={}, name='get_performance')]},\n",
       " {'output': 'The best performing sector for last month was the **Financial** sector with a performance of 0.1%.',\n",
       "  'messages': [AIMessage(content='The best performing sector for last month was the **Financial** sector with a performance of 0.1%.', additional_kwargs={}, response_metadata={})]}]"
      ]
     },
     "execution_count": 23,
     "metadata": {},
     "output_type": "execute_result"
    }
   ],
   "source": [
    "list(agent_executor.stream({\"input\": \"What is the best performing sector for last month\"}))"
   ]
  },
  {
   "cell_type": "markdown",
   "metadata": {},
   "source": [
    "### Chat Memory"
   ]
  },
  {
   "cell_type": "code",
   "execution_count": 25,
   "metadata": {},
   "outputs": [],
   "source": [
    "from langchain_core.prompts import MessagesPlaceholder\n",
    "\n",
    "MEMORY_KEY = \"chat_history\"\n",
    "prompt = ChatPromptTemplate.from_messages(\n",
    "    [\n",
    "        (\n",
    "            \"system\",\n",
    "            \"You are very powerful stock recommendation assistant , but dont know current events so you should use your tools as much as you can.\",\n",
    "        ),\n",
    "        MessagesPlaceholder(variable_name=MEMORY_KEY),\n",
    "        (\"user\", \"{input}\"),\n",
    "        MessagesPlaceholder(variable_name=\"agent_scratchpad\"),\n",
    "    ]\n",
    ")"
   ]
  },
  {
   "cell_type": "code",
   "execution_count": 26,
   "metadata": {},
   "outputs": [],
   "source": [
    "from langchain_core.messages import AIMessage, HumanMessage\n",
    "\n",
    "chat_history = []"
   ]
  },
  {
   "cell_type": "code",
   "execution_count": 27,
   "metadata": {},
   "outputs": [],
   "source": [
    "agent = (\n",
    "    {\n",
    "        \"input\": lambda x: x[\"input\"],\n",
    "        \"agent_scratchpad\": lambda x: format_to_openai_tool_messages(\n",
    "            x[\"intermediate_steps\"]\n",
    "        ),\n",
    "        \"chat_history\": lambda x: x[\"chat_history\"],\n",
    "    }\n",
    "    | prompt\n",
    "    | llm_with_tools\n",
    "    | OpenAIToolsAgentOutputParser()\n",
    ")\n",
    "agent_executor = AgentExecutor(agent=agent, tools=tools, verbose=True)"
   ]
  },
  {
   "cell_type": "code",
   "execution_count": 32,
   "metadata": {},
   "outputs": [
    {
     "name": "stdout",
     "output_type": "stream",
     "text": [
      "\n",
      "\n",
      "\u001b[1m> Entering new AgentExecutor chain...\u001b[0m\n",
      "\u001b[32;1m\u001b[1;3m\n",
      "Invoking: `get_performance` with `{'group': 'sector'}`\n",
      "\n",
      "\n",
      "\u001b[0m\u001b[36;1m\u001b[1;3m[{\"name\":\"Consumer Defensive\",\"performance_1d\":0.0056,\"performance_1w\":-0.0112,\"performance_1m\":-0.0323,\"performance_3m\":-0.0033,\"performance_6m\":-0.0123,\"performance_1y\":0.07,\"performance_ytd\":0.0149,\"analyst_recommendation\":2.01,\"volume\":447610000,\"volume_average\":466650000,\"volume_relative\":0.96},{\"name\":\"Basic Materials\",\"performance_1d\":0.0071,\"performance_1w\":-0.0057,\"performance_1m\":0.0043,\"performance_3m\":0.0583,\"performance_6m\":-0.0498,\"performance_1y\":-0.0265,\"performance_ytd\":0.0692,\"analyst_recommendation\":2.03,\"volume\":656000000,\"volume_average\":648590000,\"volume_relative\":1.01},{\"name\":\"Real Estate\",\"performance_1d\":0.0144,\"performance_1w\":-0.0042,\"performance_1m\":-0.004,\"performance_3m\":0.0287,\"performance_6m\":-0.0644,\"performance_1y\":0.0699,\"performance_ytd\":0.0237,\"analyst_recommendation\":1.97,\"volume\":319170000,\"volume_average\":376220000,\"volume_relative\":0.85},{\"name\":\"Utilities\",\"performance_1d\":0.0018,\"performance_1w\":-0.0035,\"performance_1m\":-0.0144,\"performance_3m\":0.0581,\"performance_6m\":0.0217,\"performance_1y\":0.2296,\"performance_ytd\":0.0359,\"analyst_recommendation\":2.11,\"volume\":198120000,\"volume_average\":253540000,\"volume_relative\":0.78},{\"name\":\"Healthcare\",\"performance_1d\":0.0068,\"performance_1w\":0.0018,\"performance_1m\":-0.0044,\"performance_3m\":0.0504,\"performance_6m\":-0.0818,\"performance_1y\":-0.0154,\"performance_ytd\":0.0535,\"analyst_recommendation\":1.82,\"volume\":1210000000,\"volume_average\":1660000000,\"volume_relative\":0.73},{\"name\":\"Industrials\",\"performance_1d\":0.0199,\"performance_1w\":0.0118,\"performance_1m\":-0.0082,\"performance_3m\":-0.0054,\"performance_6m\":-0.018,\"performance_1y\":0.0349,\"performance_ytd\":-0.0024,\"analyst_recommendation\":2.08,\"volume\":910460000,\"volume_average\":991180000,\"volume_relative\":0.92},{\"name\":\"Communication Services\",\"performance_1d\":0.0192,\"performance_1w\":0.0153,\"performance_1m\":-0.0549,\"performance_3m\":-0.0057,\"performance_6m\":0.0987,\"performance_1y\":0.177,\"performance_ytd\":-0.0017,\"analyst_recommendation\":1.65,\"volume\":715730000,\"volume_average\":661470000,\"volume_relative\":1.08},{\"name\":\"Technology\",\"performance_1d\":0.0194,\"performance_1w\":0.0179,\"performance_1m\":-0.0751,\"performance_3m\":-0.0654,\"performance_6m\":-0.002,\"performance_1y\":0.108,\"performance_ytd\":-0.0667,\"analyst_recommendation\":1.72,\"volume\":2990000000,\"volume_average\":2830000000,\"volume_relative\":1.06},{\"name\":\"Energy\",\"performance_1d\":0.0085,\"performance_1w\":0.022,\"performance_1m\":0.024,\"performance_3m\":0.1024,\"performance_6m\":0.0392,\"performance_1y\":0.0106,\"performance_ytd\":0.0698,\"analyst_recommendation\":1.87,\"volume\":579380000,\"volume_average\":678770000,\"volume_relative\":0.85},{\"name\":\"Financial\",\"performance_1d\":0.0172,\"performance_1w\":0.0252,\"performance_1m\":0.001,\"performance_3m\":0.0644,\"performance_6m\":0.1011,\"performance_1y\":0.2134,\"performance_ytd\":0.0483,\"analyst_recommendation\":2.1,\"volume\":1200000000,\"volume_average\":1250000000,\"volume_relative\":0.96},{\"name\":\"Consumer Cyclical\",\"performance_1d\":0.0338,\"performance_1w\":0.029,\"performance_1m\":-0.0641,\"performance_3m\":-0.0759,\"performance_6m\":0.0438,\"performance_1y\":0.0734,\"performance_ytd\":-0.0645,\"analyst_recommendation\":1.8,\"volume\":1670000000,\"volume_average\":1440000000,\"volume_relative\":1.16}]\u001b[0m\u001b[32;1m\u001b[1;3mThe **Financial** sector has shown a constant positive performance across the quarter, month, and week. Here are the performance metrics for the Financial sector:\n",
      "- Performance Last Week: 2.52%\n",
      "- Performance Last Month: 0.10%\n",
      "- Performance Last Quarter: 6.44%\u001b[0m\n",
      "\n",
      "\u001b[1m> Finished chain.\u001b[0m\n",
      "The **Financial** sector has shown a constant positive performance across the quarter, month, and week. Here are the performance metrics for the Financial sector:\n",
      "- Performance Last Week: 2.52%\n",
      "- Performance Last Month: 0.10%\n",
      "- Performance Last Quarter: 6.44%\n"
     ]
    }
   ],
   "source": [
    "input1 = \"Which sector shown a constant postive performance across quarter, month and week?\"\n",
    "result = agent_executor.invoke({\"input\": input1, \"chat_history\": chat_history})\n",
    "chat_history.extend(\n",
    "    [\n",
    "        HumanMessage(content=input1),\n",
    "        AIMessage(content=result[\"output\"]),\n",
    "    ]\n",
    ")\n",
    "print(result['output'])"
   ]
  },
  {
   "cell_type": "code",
   "execution_count": 31,
   "metadata": {},
   "outputs": [
    {
     "name": "stdout",
     "output_type": "stream",
     "text": [
      "\n",
      "\n",
      "\u001b[1m> Entering new AgentExecutor chain...\u001b[0m\n",
      "\u001b[32;1m\u001b[1;3m\n",
      "Invoking: `get_valuation_for_group` with `{'group': 'Financial'}`\n",
      "\n",
      "\n",
      "\u001b[0m\u001b[36;1m\u001b[1;3m[{\"name\":\"Financial Conglomerates\",\"market_cap\":41470000000,\"performance_1d\":0.012,\"pe\":11.4,\"forward_pe\":2.76,\"peg\":0.86,\"eps_growth_past_5y\":0.2385,\"eps_growth_next_5y\":0.132,\"volume\":1940000,\"price_to_sales\":1.26,\"price_to_book\":1.24,\"price_to_cash\":4.22,\"price_to_free_cash_flow\":4.03,\"sales_growth_past_5_years\":0.1758},{\"name\":\"Coking Coal\",\"market_cap\":5530000000,\"performance_1d\":0.0329,\"pe\":10.22,\"forward_pe\":6.01,\"peg\":0.56,\"eps_growth_past_5y\":-0.0269,\"eps_growth_next_5y\":0.181,\"volume\":5310000,\"price_to_sales\":0.78,\"price_to_book\":1.15,\"price_to_cash\":4.57,\"price_to_free_cash_flow\":10.62,\"sales_growth_past_5_years\":0.1487},{\"name\":\"Insurance - Reinsurance\",\"market_cap\":45630000000,\"performance_1d\":0.023,\"pe\":10.67,\"forward_pe\":6.64,\"peg\":0.67,\"eps_growth_past_5y\":0.0403,\"eps_growth_next_5y\":0.1588,\"volume\":2620000,\"price_to_sales\":0.8,\"price_to_book\":1.17,\"price_to_cash\":null,\"price_to_free_cash_flow\":2.31,\"sales_growth_past_5_years\":0.1826},{\"name\":\"Paper & Paper Products\",\"market_cap\":15890000000,\"performance_1d\":-0.0034,\"pe\":54.39,\"forward_pe\":6.68,\"peg\":null,\"eps_growth_past_5y\":-0.1406,\"eps_growth_next_5y\":null,\"volume\":3080000,\"price_to_sales\":0.89,\"price_to_book\":1.84,\"price_to_cash\":3.74,\"price_to_free_cash_flow\":12.61,\"sales_growth_past_5_years\":0.0729},{\"name\":\"Broadcasting\",\"market_cap\":12160000000,\"performance_1d\":0.0028,\"pe\":6.65,\"forward_pe\":6.8,\"peg\":null,\"eps_growth_past_5y\":0.3006,\"eps_growth_next_5y\":-0.0243,\"volume\":126820000,\"price_to_sales\":0.47,\"price_to_book\":1.28,\"price_to_cash\":4.81,\"price_to_free_cash_flow\":4.51,\"sales_growth_past_5_years\":1.0637},{\"name\":\"Thermal Coal\",\"market_cap\":11360000000,\"performance_1d\":0.0123,\"pe\":8.26,\"forward_pe\":6.83,\"peg\":0.83,\"eps_growth_past_5y\":0.1096,\"eps_growth_next_5y\":0.1,\"volume\":6460000,\"price_to_sales\":1.17,\"price_to_book\":1.22,\"price_to_cash\":7.82,\"price_to_free_cash_flow\":10.09,\"sales_growth_past_5_years\":0.1027},{\"name\":\"Airlines\",\"market_cap\":142710000000,\"performance_1d\":0.0283,\"pe\":12.51,\"forward_pe\":7.18,\"peg\":0.6,\"eps_growth_past_5y\":-0.0787,\"eps_growth_next_5y\":0.2102,\"volume\":111620000,\"price_to_sales\":0.52,\"price_to_book\":2.24,\"price_to_cash\":2.84,\"price_to_free_cash_flow\":11.92,\"sales_growth_past_5_years\":0.2403},{\"name\":\"Marine Shipping\",\"market_cap\":31050000000,\"performance_1d\":-0.0012,\"pe\":4.31,\"forward_pe\":7.38,\"peg\":0.28,\"eps_growth_past_5y\":0.312,\"eps_growth_next_5y\":0.1516,\"volume\":81450000,\"price_to_sales\":0.91,\"price_to_book\":0.81,\"price_to_cash\":4.28,\"price_to_free_cash_flow\":4.96,\"sales_growth_past_5_years\":0.2291},{\"name\":\"REIT - Mortgage\",\"market_cap\":62300000000,\"performance_1d\":0.0001,\"pe\":13.54,\"forward_pe\":7.57,\"peg\":2.6,\"eps_growth_past_5y\":-0.049,\"eps_growth_next_5y\":0.052,\"volume\":60420000,\"price_to_sales\":1.83,\"price_to_book\":0.91,\"price_to_cash\":4.24,\"price_to_free_cash_flow\":8.99,\"sales_growth_past_5_years\":0.366},{\"name\":\"Pharmaceutical Retailers\",\"market_cap\":10140000000,\"performance_1d\":-0.001,\"pe\":null,\"forward_pe\":7.84,\"peg\":null,\"eps_growth_past_5y\":0.4793,\"eps_growth_next_5y\":-0.1549,\"volume\":14060000,\"price_to_sales\":0.07,\"price_to_book\":0.99,\"price_to_cash\":7.77,\"price_to_free_cash_flow\":628.26,\"sales_growth_past_5_years\":0.0319},{\"name\":\"Solar\",\"market_cap\":36280000000,\"performance_1d\":-0.0078,\"pe\":18.2,\"forward_pe\":8.37,\"peg\":0.73,\"eps_growth_past_5y\":-0.068,\"eps_growth_next_5y\":0.2492,\"volume\":166720000,\"price_to_sales\":1.0,\"price_to_book\":1.34,\"price_to_cash\":2.3,\"price_to_free_cash_flow\":30.24,\"sales_growth_past_5_years\":0.216},{\"name\":\"Insurance - Life\",\"market_cap\":303290000000,\"performance_1d\":0.0237,\"pe\":11.43,\"forward_pe\":8.7,\"peg\":1.32,\"eps_growth_past_5y\":0.0699,\"eps_growth_next_5y\":0.0866,\"volume\":22330000,\"price_to_sales\":1.06,\"price_to_book\":1.64,\"price_to_cash\":15625.2,\"price_to_free_cash_flow\":4.68,\"sales_growth_past_5_years\":0.0046},{\"name\":\"Aluminum\",\"market_cap\":13130000000,\"performance_1d\":-0.0106,\"pe\":33.58,\"forward_pe\":8.8,\"peg\":0.75,\"eps_growth_past_5y\":-0.0508,\"eps_growth_next_5y\":0.4495,\"volume\":7080000,\"price_to_sales\":0.53,\"price_to_book\":1.82,\"price_to_cash\":9.03,\"price_to_free_cash_flow\":312.58,\"sales_growth_past_5_years\":0.0619},{\"name\":\"Advertising Agencies\",\"market_cap\":48080000000,\"performance_1d\":-0.0117,\"pe\":15.16,\"forward_pe\":8.93,\"peg\":1.4,\"eps_growth_past_5y\":0.0064,\"eps_growth_next_5y\":0.1086,\"volume\":32950000,\"price_to_sales\":0.77,\"price_to_book\":2.33,\"price_to_cash\":3.71,\"price_to_free_cash_flow\":8.84,\"sales_growth_past_5_years\":0.0505},{\"name\":\"Residential Construction\",\"market_cap\":171930000000,\"performance_1d\":0.0247,\"pe\":9.11,\"forward_pe\":9.17,\"peg\":2.38,\"eps_growth_past_5y\":0.2604,\"eps_growth_next_5y\":0.0383,\"volume\":17240000,\"price_to_sales\":1.05,\"price_to_book\":1.6,\"price_to_cash\":10.73,\"price_to_free_cash_flow\":15.54,\"sales_growth_past_5_years\":0.1248},{\"name\":\"Electronics & Computer Distribution\",\"market_cap\":29070000000,\"performance_1d\":0.0308,\"pe\":16.96,\"forward_pe\":9.47,\"peg\":1.43,\"eps_growth_past_5y\":0.0534,\"eps_growth_next_5y\":0.1183,\"volume\":3700000,\"price_to_sales\":0.23,\"price_to_book\":1.3,\"price_to_cash\":12.76,\"price_to_free_cash_flow\":6.93,\"sales_growth_past_5_years\":0.1871},{\"name\":\"Oil & Gas Integrated\",\"market_cap\":1590980000000,\"performance_1d\":0.0005,\"pe\":13.66,\"forward_pe\":9.71,\"peg\":1.14,\"eps_growth_past_5y\":0.188,\"eps_growth_next_5y\":0.1202,\"volume\":75680000,\"price_to_sales\":0.91,\"price_to_book\":1.54,\"price_to_cash\":7.7,\"price_to_free_cash_flow\":8.6,\"sales_growth_past_5_years\":0.1104},{\"name\":\"Other Industrial Metals & Mining\",\"market_cap\":284460000000,\"performance_1d\":0.0018,\"pe\":10.7,\"forward_pe\":9.86,\"peg\":null,\"eps_growth_past_5y\":-0.0172,\"eps_growth_next_5y\":-0.0232,\"volume\":115290000,\"price_to_sales\":1.75,\"price_to_book\":1.92,\"price_to_cash\":8.89,\"price_to_free_cash_flow\":13.98,\"sales_growth_past_5_years\":0.0606},{\"name\":\"Auto Parts\",\"market_cap\":132830000000,\"performance_1d\":0.0236,\"pe\":16.37,\"forward_pe\":10.02,\"peg\":1.15,\"eps_growth_past_5y\":-0.0886,\"eps_growth_next_5y\":0.1425,\"volume\":101560000,\"price_to_sales\":0.56,\"price_to_book\":1.86,\"price_to_cash\":7.68,\"price_to_free_cash_flow\":13.62,\"sales_growth_past_5_years\":0.0876},{\"name\":\"Steel\",\"market_cap\":144620000000,\"performance_1d\":0.0202,\"pe\":17.98,\"forward_pe\":10.05,\"peg\":0.82,\"eps_growth_past_5y\":0.1221,\"eps_growth_next_5y\":0.2199,\"volume\":48670000,\"price_to_sales\":0.53,\"price_to_book\":0.84,\"price_to_cash\":4.7,\"price_to_free_cash_flow\":32.35,\"sales_growth_past_5_years\":0.1166},{\"name\":\"Banks - Regional\",\"market_cap\":1532320000000,\"performance_1d\":0.0161,\"pe\":13.78,\"forward_pe\":10.06,\"peg\":1.01,\"eps_growth_past_5y\":0.1198,\"eps_growth_next_5y\":0.1363,\"volume\":267810000,\"price_to_sales\":1.53,\"price_to_book\":1.3,\"price_to_cash\":121.39,\"price_to_free_cash_flow\":8.86,\"sales_growth_past_5_years\":0.1888},{\"name\":\"Banks - Diversified\",\"market_cap\":2813830000000,\"performance_1d\":0.0131,\"pe\":12.33,\"forward_pe\":10.16,\"peg\":1.1,\"eps_growth_past_5y\":0.092,\"eps_growth_next_5y\":0.1124,\"volume\":115800000,\"price_to_sales\":1.54,\"price_to_book\":1.37,\"price_to_cash\":770.05,\"price_to_free_cash_flow\":10.11,\"sales_growth_past_5_years\":0.1382},{\"name\":\"Department Stores\",\"market_cap\":14890000000,\"performance_1d\":0.046,\"pe\":9.6,\"forward_pe\":10.76,\"peg\":null,\"eps_growth_past_5y\":0.1702,\"eps_growth_next_5y\":-0.0931,\"volume\":25080000,\"price_to_sales\":0.24,\"price_to_book\":1.32,\"price_to_cash\":4.23,\"price_to_free_cash_flow\":7.68,\"sales_growth_past_5_years\":0.0188},{\"name\":\"Oil & Gas Refining & Marketing\",\"market_cap\":176980000000,\"performance_1d\":-0.0026,\"pe\":18.46,\"forward_pe\":10.94,\"peg\":0.8,\"eps_growth_past_5y\":0.064,\"eps_growth_next_5y\":0.2305,\"volume\":32540000,\"price_to_sales\":0.29,\"price_to_book\":1.75,\"price_to_cash\":7.72,\"price_to_free_cash_flow\":10.6,\"sales_growth_past_5_years\":0.1334},{\"name\":\"Oil & Gas E&P\",\"market_cap\":712120000000,\"performance_1d\":0.0156,\"pe\":14.44,\"forward_pe\":11.01,\"peg\":1.12,\"eps_growth_past_5y\":0.1925,\"eps_growth_next_5y\":0.1292,\"volume\":169490000,\"price_to_sales\":2.49,\"price_to_book\":1.71,\"price_to_cash\":23.68,\"price_to_free_cash_flow\":17.16,\"sales_growth_past_5_years\":0.2655},{\"name\":\"Oil & Gas Drilling\",\"market_cap\":18310000000,\"performance_1d\":0.0165,\"pe\":13.43,\"forward_pe\":11.05,\"peg\":1.78,\"eps_growth_past_5y\":0.1438,\"eps_growth_next_5y\":0.0753,\"volume\":38040000,\"price_to_sales\":0.85,\"price_to_book\":0.67,\"price_to_cash\":5.41,\"price_to_free_cash_flow\":15.56,\"sales_growth_past_5_years\":0.1582},{\"name\":\"Insurance - Specialty\",\"market_cap\":84850000000,\"performance_1d\":0.0217,\"pe\":13.75,\"forward_pe\":11.17,\"peg\":0.8,\"eps_growth_past_5y\":0.0475,\"eps_growth_next_5y\":0.1722,\"volume\":10430000,\"price_to_sales\":2.17,\"price_to_book\":1.69,\"price_to_cash\":157.06,\"price_to_free_cash_flow\":6.39,\"sales_growth_past_5_years\":0.1079},{\"name\":\"Recreational Vehicles\",\"market_cap\":21120000000,\"performance_1d\":0.0262,\"pe\":19.54,\"forward_pe\":11.51,\"peg\":2.8,\"eps_growth_past_5y\":0.0501,\"eps_growth_next_5y\":0.0697,\"volume\":6600000,\"price_to_sales\":0.51,\"price_to_book\":1.48,\"price_to_cash\":6.26,\"price_to_free_cash_flow\":8.44,\"sales_growth_past_5_years\":0.078},{\"name\":\"Farm Products\",\"market_cap\":72020000000,\"performance_1d\":0.0045,\"pe\":15.27,\"forward_pe\":11.57,\"peg\":1.81,\"eps_growth_past_5y\":0.0338,\"eps_growth_next_5y\":0.0846,\"volume\":12920000,\"price_to_sales\":0.29,\"price_to_book\":1.15,\"price_to_cash\":5.71,\"price_to_free_cash_flow\":18.05,\"sales_growth_past_5_years\":0.071},{\"name\":\"Real Estate - Development\",\"market_cap\":8900000000,\"performance_1d\":0.0085,\"pe\":10.22,\"forward_pe\":11.61,\"peg\":null,\"eps_growth_past_5y\":0.2319,\"eps_growth_next_5y\":-0.0289,\"volume\":1300000,\"price_to_sales\":0.93,\"price_to_book\":0.98,\"price_to_cash\":6.83,\"price_to_free_cash_flow\":38.46,\"sales_growth_past_5_years\":0.2814},{\"name\":\"Telecom Services\",\"market_cap\":1201340000000,\"performance_1d\":-0.0009,\"pe\":16.27,\"forward_pe\":11.75,\"peg\":1.32,\"eps_growth_past_5y\":0.0717,\"eps_growth_next_5y\":0.1228,\"volume\":149570000,\"price_to_sales\":1.4,\"price_to_book\":1.95,\"price_to_cash\":14.61,\"price_to_free_cash_flow\":10.13,\"sales_growth_past_5_years\":0.1136},{\"name\":\"Chemicals\",\"market_cap\":46350000000,\"performance_1d\":0.0095,\"pe\":28.22,\"forward_pe\":11.82,\"peg\":1.53,\"eps_growth_past_5y\":0.1034,\"eps_growth_next_5y\":0.1841,\"volume\":25310000,\"price_to_sales\":0.48,\"price_to_book\":1.26,\"price_to_cash\":4.94,\"price_to_free_cash_flow\":23.75,\"sales_growth_past_5_years\":0.0482},{\"name\":\"Oil & Gas Equipment & Services\",\"market_cap\":229190000000,\"performance_1d\":0.0198,\"pe\":14.04,\"forward_pe\":11.83,\"peg\":1.08,\"eps_growth_past_5y\":0.3758,\"eps_growth_next_5y\":0.1305,\"volume\":78200000,\"price_to_sales\":1.37,\"price_to_book\":2.19,\"price_to_cash\":9.88,\"price_to_free_cash_flow\":13.94,\"sales_growth_past_5_years\":0.1016},{\"name\":\"Business Equipment & Supplies\",\"market_cap\":1280000000,\"performance_1d\":-0.005,\"pe\":31.05,\"forward_pe\":11.89,\"peg\":null,\"eps_growth_past_5y\":0.023,\"eps_growth_next_5y\":null,\"volume\":1600000,\"price_to_sales\":0.58,\"price_to_book\":0.82,\"price_to_cash\":2.83,\"price_to_free_cash_flow\":6.44,\"sales_growth_past_5_years\":0.2688},{\"name\":\"Furnishings, Fixtures & Appliances\",\"market_cap\":54810000000,\"performance_1d\":0.0351,\"pe\":22.8,\"forward_pe\":12.39,\"peg\":1.91,\"eps_growth_past_5y\":0.0403,\"eps_growth_next_5y\":0.1191,\"volume\":19950000,\"price_to_sales\":0.76,\"price_to_book\":2.31,\"price_to_cash\":11.31,\"price_to_free_cash_flow\":16.53,\"sales_growth_past_5_years\":0.0794},{\"name\":\"Packaging & Containers\",\"market_cap\":168580000000,\"performance_1d\":0.0145,\"pe\":25.94,\"forward_pe\":12.4,\"peg\":0.96,\"eps_growth_past_5y\":0.0017,\"eps_growth_next_5y\":0.2696,\"volume\":53670000,\"price_to_sales\":1.05,\"price_to_book\":2.56,\"price_to_cash\":15.99,\"price_to_free_cash_flow\":23.99,\"sales_growth_past_5_years\":0.0544},{\"name\":\"Healthcare Plans\",\"market_cap\":832520000000,\"performance_1d\":0.0032,\"pe\":24.86,\"forward_pe\":12.85,\"peg\":2.05,\"eps_growth_past_5y\":0.0046,\"eps_growth_next_5y\":0.1212,\"volume\":32590000,\"price_to_sales\":0.54,\"price_to_book\":2.78,\"price_to_cash\":73.57,\"price_to_free_cash_flow\":18.65,\"sales_growth_past_5_years\":0.1146},{\"name\":\"Medical Care Facilities\",\"market_cap\":204110000000,\"performance_1d\":0.0181,\"pe\":15.17,\"forward_pe\":12.87,\"peg\":1.19,\"eps_growth_past_5y\":0.1143,\"eps_growth_next_5y\":0.1273,\"volume\":63660000,\"price_to_sales\":0.89,\"price_to_book\":3.97,\"price_to_cash\":15.01,\"price_to_free_cash_flow\":13.86,\"sales_growth_past_5_years\":0.1624},{\"name\":\"Luxury Goods\",\"market_cap\":23190000000,\"performance_1d\":0.0392,\"pe\":31.52,\"forward_pe\":13.16,\"peg\":3.38,\"eps_growth_past_5y\":0.0936,\"eps_growth_next_5y\":0.0932,\"volume\":13400000,\"price_to_sales\":1.08,\"price_to_book\":4.35,\"price_to_cash\":9.09,\"price_to_free_cash_flow\":13.88,\"sales_growth_past_5_years\":0.0414},{\"name\":\"Airports & Air Services\",\"market_cap\":29350000000,\"performance_1d\":0.0184,\"pe\":22.88,\"forward_pe\":13.25,\"peg\":2.26,\"eps_growth_past_5y\":0.7634,\"eps_growth_next_5y\":0.1014,\"volume\":12840000,\"price_to_sales\":0.03,\"price_to_book\":5.58,\"price_to_cash\":0.22,\"price_to_free_cash_flow\":1.35,\"sales_growth_past_5_years\":15.5582},{\"name\":\"Tobacco\",\"market_cap\":427300000000,\"performance_1d\":0.0006,\"pe\":19.39,\"forward_pe\":13.27,\"peg\":2.85,\"eps_growth_past_5y\":-0.0285,\"eps_growth_next_5y\":0.0681,\"volume\":24100000,\"price_to_sales\":4.49,\"price_to_book\":6.52,\"price_to_cash\":26.47,\"price_to_free_cash_flow\":14.28,\"sales_growth_past_5_years\":0.0319},{\"name\":\"Insurance - Property & Casualty\",\"market_cap\":631780000000,\"performance_1d\":0.0091,\"pe\":14.16,\"forward_pe\":13.34,\"peg\":1.74,\"eps_growth_past_5y\":0.1357,\"eps_growth_next_5y\":0.0816,\"volume\":24960000,\"price_to_sales\":1.52,\"price_to_book\":2.39,\"price_to_cash\":null,\"price_to_free_cash_flow\":7.7,\"sales_growth_past_5_years\":0.1442},{\"name\":\"Integrated Freight & Logistics\",\"market_cap\":229270000000,\"performance_1d\":0.019,\"pe\":17.99,\"forward_pe\":13.47,\"peg\":1.99,\"eps_growth_past_5y\":0.1741,\"eps_growth_next_5y\":0.0902,\"volume\":25560000,\"price_to_sales\":0.9,\"price_to_book\":3.54,\"price_to_cash\":12.63,\"price_to_free_cash_flow\":18.81,\"sales_growth_past_5_years\":0.0637},{\"name\":\"Lumber & Wood Production\",\"market_cap\":19730000000,\"performance_1d\":0.0293,\"pe\":27.16,\"forward_pe\":13.55,\"peg\":null,\"eps_growth_past_5y\":0.2842,\"eps_growth_next_5y\":null,\"volume\":936080,\"price_to_sales\":1.31,\"price_to_book\":1.67,\"price_to_cash\":9.41,\"price_to_free_cash_flow\":26.15,\"sales_growth_past_5_years\":0.1664},{\"name\":\"Security & Protection Services\",\"market_cap\":40440000000,\"performance_1d\":0.0269,\"pe\":21.38,\"forward_pe\":13.66,\"peg\":2.3,\"eps_growth_past_5y\":0.0892,\"eps_growth_next_5y\":0.0928,\"volume\":20610000,\"price_to_sales\":1.77,\"price_to_book\":3.54,\"price_to_cash\":11.34,\"price_to_free_cash_flow\":13.95,\"sales_growth_past_5_years\":0.0607},{\"name\":\"Resorts & Casinos\",\"market_cap\":87200000000,\"performance_1d\":0.0092,\"pe\":21.95,\"forward_pe\":13.67,\"peg\":1.58,\"eps_growth_past_5y\":-0.013,\"eps_growth_next_5y\":0.1388,\"volume\":54650000,\"price_to_sales\":1.05,\"price_to_book\":4.05,\"price_to_cash\":6.05,\"price_to_free_cash_flow\":15.66,\"sales_growth_past_5_years\":0.3254},{\"name\":\"Utilities - Diversified\",\"market_cap\":92980000000,\"performance_1d\":0.0116,\"pe\":15.1,\"forward_pe\":13.73,\"peg\":2.66,\"eps_growth_past_5y\":0.0819,\"eps_growth_next_5y\":0.0568,\"volume\":26360000,\"price_to_sales\":1.44,\"price_to_book\":1.66,\"price_to_cash\":12.43,\"price_to_free_cash_flow\":58.03,\"sales_growth_past_5_years\":0.0946},{\"name\":\"Rental & Leasing Services\",\"market_cap\":138110000000,\"performance_1d\":0.0293,\"pe\":19.98,\"forward_pe\":13.77,\"peg\":2.34,\"eps_growth_past_5y\":0.0413,\"eps_growth_next_5y\":0.0854,\"volume\":23620000,\"price_to_sales\":1.5,\"price_to_book\":2.56,\"price_to_cash\":19.46,\"price_to_free_cash_flow\":101.19,\"sales_growth_past_5_years\":0.1405},{\"name\":\"Grocery Stores\",\"market_cap\":81010000000,\"performance_1d\":0.002,\"pe\":18.49,\"forward_pe\":13.96,\"peg\":2.36,\"eps_growth_past_5y\":0.2078,\"eps_growth_next_5y\":0.0783,\"volume\":14980000,\"price_to_sales\":0.31,\"price_to_book\":4.16,\"price_to_cash\":11.11,\"price_to_free_cash_flow\":20.69,\"sales_growth_past_5_years\":0.0542},{\"name\":\"Beverages - Brewers\",\"market_cap\":214000000000,\"performance_1d\":-0.0124,\"pe\":20.7,\"forward_pe\":13.97,\"peg\":2.26,\"eps_growth_past_5y\":-0.0281,\"eps_growth_next_5y\":0.0917,\"volume\":46770000,\"price_to_sales\":1.47,\"price_to_book\":1.63,\"price_to_cash\":8.58,\"price_to_free_cash_flow\":10.61,\"sales_growth_past_5_years\":0.045},{\"name\":\"Gold\",\"market_cap\":333450000000,\"performance_1d\":-0.0061,\"pe\":23.95,\"forward_pe\":14.07,\"peg\":1.9,\"eps_growth_past_5y\":0.1237,\"eps_growth_next_5y\":0.1259,\"volume\":179110000,\"price_to_sales\":4.17,\"price_to_book\":2.23,\"price_to_cash\":16.64,\"price_to_free_cash_flow\":27.89,\"sales_growth_past_5_years\":0.2281},{\"name\":\"Utilities - Independent Power Producers\",\"market_cap\":77860000000,\"performance_1d\":0.0254,\"pe\":15.11,\"forward_pe\":14.07,\"peg\":2.23,\"eps_growth_past_5y\":0.1451,\"eps_growth_next_5y\":0.0678,\"volume\":12910000,\"price_to_sales\":1.42,\"price_to_book\":6.82,\"price_to_cash\":14.73,\"price_to_free_cash_flow\":22.29,\"sales_growth_past_5_years\":0.1905},{\"name\":\"Computer Hardware\",\"market_cap\":341460000000,\"performance_1d\":0.0309,\"pe\":21.82,\"forward_pe\":14.23,\"peg\":1.1,\"eps_growth_past_5y\":0.1303,\"eps_growth_next_5y\":0.1988,\"volume\":385860000,\"price_to_sales\":1.55,\"price_to_book\":6.9,\"price_to_cash\":11.87,\"price_to_free_cash_flow\":26.02,\"sales_growth_past_5_years\":0.1618},{\"name\":\"Packaged Foods\",\"market_cap\":261090000000,\"performance_1d\":0.0005,\"pe\":18.43,\"forward_pe\":14.36,\"peg\":3.91,\"eps_growth_past_5y\":0.0573,\"eps_growth_next_5y\":0.0472,\"volume\":73940000,\"price_to_sales\":1.24,\"price_to_book\":1.98,\"price_to_cash\":17.62,\"price_to_free_cash_flow\":13.64,\"sales_growth_past_5_years\":0.0534},{\"name\":\"Drug Manufacturers - Specialty & Generic\",\"market_cap\":297730000000,\"performance_1d\":0.0008,\"pe\":35.93,\"forward_pe\":14.39,\"peg\":2.89,\"eps_growth_past_5y\":0.1046,\"eps_growth_next_5y\":0.1245,\"volume\":120220000,\"price_to_sales\":2.26,\"price_to_book\":2.23,\"price_to_cash\":11.1,\"price_to_free_cash_flow\":15.38,\"sales_growth_past_5_years\":3.8609},{\"name\":\"Other Precious Metals & Mining\",\"market_cap\":17640000000,\"performance_1d\":0.0036,\"pe\":39.57,\"forward_pe\":14.41,\"peg\":1.64,\"eps_growth_past_5y\":-0.0414,\"eps_growth_next_5y\":0.2409,\"volume\":31680000,\"price_to_sales\":2.02,\"price_to_book\":1.63,\"price_to_cash\":11.18,\"price_to_free_cash_flow\":55.08,\"sales_growth_past_5_years\":0.243},{\"name\":\"Drug Manufacturers - General\",\"market_cap\":3334790000000,\"performance_1d\":0.0017,\"pe\":33.26,\"forward_pe\":14.42,\"peg\":1.61,\"eps_growth_past_5y\":0.0658,\"eps_growth_next_5y\":0.207,\"volume\":121880000,\"price_to_sales\":4.89,\"price_to_book\":6.86,\"price_to_cash\":23.49,\"price_to_free_cash_flow\":21.01,\"sales_growth_past_5_years\":0.1075},{\"name\":\"Food Distribution\",\"market_cap\":69950000000,\"performance_1d\":0.0129,\"pe\":23.41,\"forward_pe\":14.57,\"peg\":1.61,\"eps_growth_past_5y\":0.0594,\"eps_growth_next_5y\":0.1458,\"volume\":9040000,\"price_to_sales\":0.29,\"price_to_book\":4.15,\"price_to_cash\":39.21,\"price_to_free_cash_flow\":18.55,\"sales_growth_past_5_years\":0.1386},{\"name\":\"Staffing & Employment Services\",\"market_cap\":23740000000,\"performance_1d\":0.0278,\"pe\":23.69,\"forward_pe\":14.61,\"peg\":1.69,\"eps_growth_past_5y\":-0.0408,\"eps_growth_next_5y\":0.1399,\"volume\":6230000,\"price_to_sales\":0.49,\"price_to_book\":2.93,\"price_to_cash\":3.84,\"price_to_free_cash_flow\":12.39,\"sales_growth_past_5_years\":0.0438},{\"name\":\"Agricultural Inputs\",\"market_cap\":108230000000,\"performance_1d\":0.0024,\"pe\":29.43,\"forward_pe\":14.77,\"peg\":3.31,\"eps_growth_past_5y\":0.0302,\"eps_growth_next_5y\":0.089,\"volume\":17200000,\"price_to_sales\":1.38,\"price_to_book\":1.41,\"price_to_cash\":14.59,\"price_to_free_cash_flow\":15.99,\"sales_growth_past_5_years\":0.0693},{\"name\":\"REIT - Diversified\",\"market_cap\":59360000000,\"performance_1d\":0.0109,\"pe\":16.52,\"forward_pe\":15.04,\"peg\":3.32,\"eps_growth_past_5y\":0.0976,\"eps_growth_next_5y\":0.0498,\"volume\":12940000,\"price_to_sales\":6.27,\"price_to_book\":1.25,\"price_to_cash\":23.66,\"price_to_free_cash_flow\":11.6,\"sales_growth_past_5_years\":0.2394},{\"name\":\"Utilities - Regulated Electric\",\"market_cap\":1080600000000,\"performance_1d\":-0.0045,\"pe\":20.15,\"forward_pe\":15.35,\"peg\":2.81,\"eps_growth_past_5y\":0.0317,\"eps_growth_next_5y\":0.0716,\"volume\":115530000,\"price_to_sales\":2.38,\"price_to_book\":1.89,\"price_to_cash\":38.73,\"price_to_free_cash_flow\":127.29,\"sales_growth_past_5_years\":0.0465},{\"name\":\"Utilities - Regulated Gas\",\"market_cap\":89060000000,\"performance_1d\":0.0123,\"pe\":22.32,\"forward_pe\":15.36,\"peg\":2.73,\"eps_growth_past_5y\":0.0656,\"eps_growth_next_5y\":0.0817,\"volume\":16750000,\"price_to_sales\":2.08,\"price_to_book\":1.88,\"price_to_cash\":26.29,\"price_to_free_cash_flow\":67.68,\"sales_growth_past_5_years\":0.101},{\"name\":\"Capital Markets\",\"market_cap\":859600000000,\"performance_1d\":0.032,\"pe\":20.46,\"forward_pe\":15.46,\"peg\":1.42,\"eps_growth_past_5y\":0.1363,\"eps_growth_next_5y\":0.1445,\"volume\":342880000,\"price_to_sales\":1.78,\"price_to_book\":2.59,\"price_to_cash\":3.58,\"price_to_free_cash_flow\":8.08,\"sales_growth_past_5_years\":0.3271},{\"name\":\"Farm & Heavy Construction Machinery\",\"market_cap\":388310000000,\"performance_1d\":0.0174,\"pe\":16.4,\"forward_pe\":15.47,\"peg\":7.93,\"eps_growth_past_5y\":0.162,\"eps_growth_next_5y\":0.0207,\"volume\":48440000,\"price_to_sales\":1.82,\"price_to_book\":4.68,\"price_to_cash\":12.54,\"price_to_free_cash_flow\":21.27,\"sales_growth_past_5_years\":0.0579},{\"name\":\"Apparel Manufacturing\",\"market_cap\":61340000000,\"performance_1d\":0.0316,\"pe\":25.62,\"forward_pe\":15.83,\"peg\":2.06,\"eps_growth_past_5y\":0.0787,\"eps_growth_next_5y\":0.1245,\"volume\":51020000,\"price_to_sales\":0.91,\"price_to_book\":3.22,\"price_to_cash\":6.99,\"price_to_free_cash_flow\":12.18,\"sales_growth_past_5_years\":0.0378},{\"name\":\"Asset Management\",\"market_cap\":1225020000000,\"performance_1d\":0.0272,\"pe\":25.01,\"forward_pe\":15.84,\"peg\":1.6,\"eps_growth_past_5y\":0.0563,\"eps_growth_next_5y\":0.1561,\"volume\":123950000,\"price_to_sales\":3.3,\"price_to_book\":3.34,\"price_to_cash\":10.45,\"price_to_free_cash_flow\":23.33,\"sales_growth_past_5_years\":0.4502},{\"name\":\"Metal Fabrication\",\"market_cap\":40560000000,\"performance_1d\":0.0391,\"pe\":24.54,\"forward_pe\":16.15,\"peg\":1.25,\"eps_growth_past_5y\":0.1395,\"eps_growth_next_5y\":0.1961,\"volume\":8920000,\"price_to_sales\":1.74,\"price_to_book\":3.43,\"price_to_cash\":14.8,\"price_to_free_cash_flow\":21.19,\"sales_growth_past_5_years\":0.0698},{\"name\":\"Medical Distribution\",\"market_cap\":179580000000,\"performance_1d\":0.0027,\"pe\":30.3,\"forward_pe\":16.15,\"peg\":2.51,\"eps_growth_past_5y\":0.7888,\"eps_growth_next_5y\":0.1205,\"volume\":7360000,\"price_to_sales\":0.2,\"price_to_book\":33.04,\"price_to_cash\":20.05,\"price_to_free_cash_flow\":67.98,\"sales_growth_past_5_years\":0.0858},{\"name\":\"Education & Training Services\",\"market_cap\":49340000000,\"performance_1d\":0.0087,\"pe\":19.83,\"forward_pe\":16.18,\"peg\":1.1,\"eps_growth_past_5y\":0.1206,\"eps_growth_next_5y\":0.1796,\"volume\":22730000,\"price_to_sales\":1.55,\"price_to_book\":2.18,\"price_to_cash\":3.1,\"price_to_free_cash_flow\":23.11,\"sales_growth_past_5_years\":0.1191},{\"name\":\"Oil & Gas Midstream\",\"market_cap\":854030000000,\"performance_1d\":0.0167,\"pe\":18.54,\"forward_pe\":16.21,\"peg\":2.17,\"eps_growth_past_5y\":0.0988,\"eps_growth_next_5y\":0.0853,\"volume\":82480000,\"price_to_sales\":1.91,\"price_to_book\":3.24,\"price_to_cash\":38.81,\"price_to_free_cash_flow\":16.41,\"sales_growth_past_5_years\":0.1205},{\"name\":\"Tools & Accessories\",\"market_cap\":68450000000,\"performance_1d\":0.0254,\"pe\":23.86,\"forward_pe\":16.33,\"peg\":2.49,\"eps_growth_past_5y\":0.0648,\"eps_growth_next_5y\":0.0958,\"volume\":6220000,\"price_to_sales\":1.75,\"price_to_book\":2.71,\"price_to_cash\":24.14,\"price_to_free_cash_flow\":18.26,\"sales_growth_past_5_years\":0.1197},{\"name\":\"Building Materials\",\"market_cap\":173110000000,\"performance_1d\":0.0185,\"pe\":18.83,\"forward_pe\":16.42,\"peg\":1.91,\"eps_growth_past_5y\":0.2257,\"eps_growth_next_5y\":0.0986,\"volume\":52310000,\"price_to_sales\":2.05,\"price_to_book\":2.92,\"price_to_cash\":21.36,\"price_to_free_cash_flow\":28.98,\"sales_growth_past_5_years\":0.0715},{\"name\":\"Railroads\",\"market_cap\":420410000000,\"performance_1d\":0.0129,\"pe\":20.92,\"forward_pe\":16.72,\"peg\":1.84,\"eps_growth_past_5y\":0.059,\"eps_growth_next_5y\":0.1136,\"volume\":27070000,\"price_to_sales\":4.56,\"price_to_book\":4.02,\"price_to_cash\":70.88,\"price_to_free_cash_flow\":29.41,\"sales_growth_past_5_years\":0.0479},{\"name\":\"Communication Equipment\",\"market_cap\":488840000000,\"performance_1d\":0.0181,\"pe\":29.95,\"forward_pe\":16.73,\"peg\":3.9,\"eps_growth_past_5y\":0.1549,\"eps_growth_next_5y\":0.0768,\"volume\":143450000,\"price_to_sales\":2.51,\"price_to_book\":3.57,\"price_to_cash\":7.6,\"price_to_free_cash_flow\":18.35,\"sales_growth_past_5_years\":0.0484},{\"name\":\"Travel Services\",\"market_cap\":442970000000,\"performance_1d\":0.0212,\"pe\":25.9,\"forward_pe\":16.94,\"peg\":1.59,\"eps_growth_past_5y\":0.0063,\"eps_growth_next_5y\":0.1626,\"volume\":59150000,\"price_to_sales\":2.95,\"price_to_book\":9.16,\"price_to_cash\":8.56,\"price_to_free_cash_flow\":20.41,\"sales_growth_past_5_years\":0.4288},{\"name\":\"Silver\",\"market_cap\":7200000000,\"performance_1d\":0.0185,\"pe\":47.4,\"forward_pe\":17.09,\"peg\":1.09,\"eps_growth_past_5y\":-0.0342,\"eps_growth_next_5y\":0.4335,\"volume\":28440000,\"price_to_sales\":6.9,\"price_to_book\":1.83,\"price_to_cash\":8.7,\"price_to_free_cash_flow\":79.95,\"sales_growth_past_5_years\":0.0888},{\"name\":\"Auto & Truck Dealerships\",\"market_cap\":122850000000,\"performance_1d\":0.0569,\"pe\":25.53,\"forward_pe\":17.43,\"peg\":0.7,\"eps_growth_past_5y\":0.1664,\"eps_growth_next_5y\":0.365,\"volume\":24640000,\"price_to_sales\":0.58,\"price_to_book\":3.29,\"price_to_cash\":20.12,\"price_to_free_cash_flow\":38.61,\"sales_growth_past_5_years\":0.218},{\"name\":\"Publishing\",\"market_cap\":22450000000,\"performance_1d\":0.0052,\"pe\":25.09,\"forward_pe\":17.9,\"peg\":2.35,\"eps_growth_past_5y\":0.1469,\"eps_growth_next_5y\":0.1067,\"volume\":4500000,\"price_to_sales\":1.64,\"price_to_book\":2.51,\"price_to_cash\":14.28,\"price_to_free_cash_flow\":12.57,\"sales_growth_past_5_years\":0.0234},{\"name\":\"Electronic Gaming & Multimedia\",\"market_cap\":182770000000,\"performance_1d\":0.0113,\"pe\":33.72,\"forward_pe\":17.92,\"peg\":1.79,\"eps_growth_past_5y\":-0.1271,\"eps_growth_next_5y\":0.1884,\"volume\":20840000,\"price_to_sales\":5.09,\"price_to_book\":5.16,\"price_to_cash\":6.31,\"price_to_free_cash_flow\":21.39,\"sales_growth_past_5_years\":0.2108},{\"name\":\"Conglomerates\",\"market_cap\":249560000000,\"performance_1d\":0.0134,\"pe\":21.95,\"forward_pe\":18.11,\"peg\":2.72,\"eps_growth_past_5y\":0.0134,\"eps_growth_next_5y\":0.0808,\"volume\":12940000,\"price_to_sales\":1.81,\"price_to_book\":6.02,\"price_to_cash\":6.62,\"price_to_free_cash_flow\":34.03,\"sales_growth_past_5_years\":-0.0023},{\"name\":\"Engineering & Construction\",\"market_cap\":210890000000,\"performance_1d\":0.0354,\"pe\":23.8,\"forward_pe\":18.2,\"peg\":1.41,\"eps_growth_past_5y\":0.1607,\"eps_growth_next_5y\":0.1686,\"volume\":50680000,\"price_to_sales\":1.16,\"price_to_book\":4.1,\"price_to_cash\":13.36,\"price_to_free_cash_flow\":17.91,\"sales_growth_past_5_years\":0.1185},{\"name\":\"Electrical Equipment & Parts\",\"market_cap\":104080000000,\"performance_1d\":0.0347,\"pe\":33.14,\"forward_pe\":18.31,\"peg\":1.76,\"eps_growth_past_5y\":0.2325,\"eps_growth_next_5y\":0.1884,\"volume\":97040000,\"price_to_sales\":2.61,\"price_to_book\":4.45,\"price_to_cash\":13.58,\"price_to_free_cash_flow\":24.33,\"sales_growth_past_5_years\":0.7733},{\"name\":\"Building Products & Equipment\",\"market_cap\":345360000000,\"performance_1d\":0.0319,\"pe\":21.69,\"forward_pe\":18.57,\"peg\":1.97,\"eps_growth_past_5y\":0.1228,\"eps_growth_next_5y\":0.1098,\"volume\":57850000,\"price_to_sales\":2.3,\"price_to_book\":5.01,\"price_to_cash\":28.08,\"price_to_free_cash_flow\":26.61,\"sales_growth_past_5_years\":0.0703},{\"name\":\"Textile Manufacturing\",\"market_cap\":2490000000,\"performance_1d\":0.0249,\"pe\":0.85,\"forward_pe\":18.67,\"peg\":null,\"eps_growth_past_5y\":-0.0735,\"eps_growth_next_5y\":null,\"volume\":748120,\"price_to_sales\":1.19,\"price_to_book\":2.0,\"price_to_cash\":17.63,\"price_to_free_cash_flow\":18.11,\"sales_growth_past_5_years\":0.0319},{\"name\":\"Auto Manufacturers\",\"market_cap\":1484800000000,\"performance_1d\":0.073,\"pe\":22.42,\"forward_pe\":18.75,\"peg\":1.23,\"eps_growth_past_5y\":0.2256,\"eps_growth_next_5y\":0.182,\"volume\":750640000,\"price_to_sales\":1.28,\"price_to_book\":2.46,\"price_to_cash\":5.47,\"price_to_free_cash_flow\":122.5,\"sales_growth_past_5_years\":0.4897},{\"name\":\"Specialty Chemicals\",\"market_cap\":664160000000,\"performance_1d\":0.0099,\"pe\":27.99,\"forward_pe\":18.9,\"peg\":2.75,\"eps_growth_past_5y\":0.1469,\"eps_growth_next_5y\":0.1017,\"volume\":96050000,\"price_to_sales\":2.37,\"price_to_book\":3.44,\"price_to_cash\":21.64,\"price_to_free_cash_flow\":34.01,\"sales_growth_past_5_years\":0.0565},{\"name\":\"Trucking\",\"market_cap\":88270000000,\"performance_1d\":0.0305,\"pe\":30.53,\"forward_pe\":18.99,\"peg\":1.21,\"eps_growth_past_5y\":0.0979,\"eps_growth_next_5y\":0.2523,\"volume\":10530000,\"price_to_sales\":1.58,\"price_to_book\":3.29,\"price_to_cash\":65.45,\"price_to_free_cash_flow\":49.4,\"sales_growth_past_5_years\":0.068},{\"name\":\"Specialty Retail\",\"market_cap\":314330000000,\"performance_1d\":0.025,\"pe\":22.97,\"forward_pe\":19.0,\"peg\":2.27,\"eps_growth_past_5y\":0.1804,\"eps_growth_next_5y\":0.1013,\"volume\":90060000,\"price_to_sales\":1.3,\"price_to_book\":8.43,\"price_to_cash\":16.9,\"price_to_free_cash_flow\":26.41,\"sales_growth_past_5_years\":0.09},{\"name\":\"Apparel Retail\",\"market_cap\":269840000000,\"performance_1d\":0.0383,\"pe\":22.32,\"forward_pe\":19.1,\"peg\":2.42,\"eps_growth_past_5y\":0.131,\"eps_growth_next_5y\":0.0923,\"volume\":55670000,\"price_to_sales\":1.6,\"price_to_book\":7.24,\"price_to_cash\":13.9,\"price_to_free_cash_flow\":24.3,\"sales_growth_past_5_years\":0.1083},{\"name\":\"Leisure\",\"market_cap\":72220000000,\"performance_1d\":0.0258,\"pe\":33.96,\"forward_pe\":19.11,\"peg\":1.61,\"eps_growth_past_5y\":-0.1987,\"eps_growth_next_5y\":0.2104,\"volume\":43560000,\"price_to_sales\":1.78,\"price_to_book\":3.78,\"price_to_cash\":13.41,\"price_to_free_cash_flow\":24.37,\"sales_growth_past_5_years\":0.2763},{\"name\":\"Copper\",\"market_cap\":145890000000,\"performance_1d\":0.0098,\"pe\":27.39,\"forward_pe\":19.2,\"peg\":2.26,\"eps_growth_past_5y\":0.1767,\"eps_growth_next_5y\":0.1214,\"volume\":45530000,\"price_to_sales\":3.7,\"price_to_book\":4.74,\"price_to_cash\":15.85,\"price_to_free_cash_flow\":24.35,\"sales_growth_past_5_years\":0.1196},{\"name\":\"Electronic Components\",\"market_cap\":261510000000,\"performance_1d\":0.0329,\"pe\":33.05,\"forward_pe\":19.28,\"peg\":2.38,\"eps_growth_past_5y\":0.153,\"eps_growth_next_5y\":0.1388,\"volume\":226570000,\"price_to_sales\":1.89,\"price_to_book\":4.34,\"price_to_cash\":16.06,\"price_to_free_cash_flow\":23.6,\"sales_growth_past_5_years\":0.0792},{\"name\":\"Information Technology Services\",\"market_cap\":990770000000,\"performance_1d\":0.0139,\"pe\":29.61,\"forward_pe\":19.34,\"peg\":3.44,\"eps_growth_past_5y\":0.0696,\"eps_growth_next_5y\":0.0861,\"volume\":175610000,\"price_to_sales\":2.57,\"price_to_book\":4.99,\"price_to_cash\":16.83,\"price_to_free_cash_flow\":19.62,\"sales_growth_past_5_years\":0.0793},{\"name\":\"Beverages - Wineries & Distilleries\",\"market_cap\":91880000000,\"performance_1d\":-0.0112,\"pe\":19.94,\"forward_pe\":19.43,\"peg\":null,\"eps_growth_past_5y\":0.0204,\"eps_growth_next_5y\":-0.0051,\"volume\":36130000,\"price_to_sales\":3.09,\"price_to_book\":5.81,\"price_to_cash\":26.63,\"price_to_free_cash_flow\":23.44,\"sales_growth_past_5_years\":0.0581},{\"name\":\"Scientific & Technical Instruments\",\"market_cap\":192120000000,\"performance_1d\":0.0274,\"pe\":29.31,\"forward_pe\":19.46,\"peg\":2.36,\"eps_growth_past_5y\":0.0791,\"eps_growth_next_5y\":0.1243,\"volume\":28180000,\"price_to_sales\":3.82,\"price_to_book\":3.38,\"price_to_cash\":16.48,\"price_to_free_cash_flow\":25.88,\"sales_growth_past_5_years\":0.0995},{\"name\":\"Beverages - Non-Alcoholic\",\"market_cap\":684260000000,\"performance_1d\":0.0049,\"pe\":26.43,\"forward_pe\":19.59,\"peg\":3.59,\"eps_growth_past_5y\":0.0746,\"eps_growth_next_5y\":0.0736,\"volume\":67980000,\"price_to_sales\":3.12,\"price_to_book\":7.58,\"price_to_cash\":20.58,\"price_to_free_cash_flow\":34.46,\"sales_growth_past_5_years\":0.0865},{\"name\":\"Utilities - Regulated Water\",\"market_cap\":61770000000,\"performance_1d\":-0.012,\"pe\":15.63,\"forward_pe\":19.86,\"peg\":2.05,\"eps_growth_past_5y\":0.0913,\"eps_growth_next_5y\":0.0763,\"volume\":6490000,\"price_to_sales\":3.64,\"price_to_book\":2.12,\"price_to_cash\":51.81,\"price_to_free_cash_flow\":53.58,\"sales_growth_past_5_years\":0.095},{\"name\":\"Semiconductors\",\"market_cap\":6171110000000,\"performance_1d\":0.0265,\"pe\":40.15,\"forward_pe\":19.97,\"peg\":1.44,\"eps_growth_past_5y\":0.5562,\"eps_growth_next_5y\":0.278,\"volume\":580190000,\"price_to_sales\":11.01,\"price_to_book\":8.87,\"price_to_cash\":27.1,\"price_to_free_cash_flow\":43.1,\"sales_growth_past_5_years\":0.4327},{\"name\":\"Specialty Industrial Machinery\",\"market_cap\":811250000000,\"performance_1d\":0.0245,\"pe\":25.46,\"forward_pe\":20.2,\"peg\":2.47,\"eps_growth_past_5y\":0.0288,\"eps_growth_next_5y\":0.1029,\"volume\":102950000,\"price_to_sales\":3.24,\"price_to_book\":4.69,\"price_to_cash\":26.84,\"price_to_free_cash_flow\":27.97,\"sales_growth_past_5_years\":0.0763},{\"name\":\"Credit Services\",\"market_cap\":1661660000000,\"performance_1d\":0.0224,\"pe\":26.95,\"forward_pe\":20.37,\"peg\":1.99,\"eps_growth_past_5y\":0.1105,\"eps_growth_next_5y\":0.1354,\"volume\":129250000,\"price_to_sales\":4.79,\"price_to_book\":6.61,\"price_to_cash\":13.28,\"price_to_free_cash_flow\":16.23,\"sales_growth_past_5_years\":0.1099},{\"name\":\"Semiconductor Equipment & Materials\",\"market_cap\":679460000000,\"performance_1d\":0.022,\"pe\":28.24,\"forward_pe\":20.46,\"peg\":1.69,\"eps_growth_past_5y\":0.2322,\"eps_growth_next_5y\":0.1675,\"volume\":40200000,\"price_to_sales\":6.19,\"price_to_book\":8.96,\"price_to_cash\":16.79,\"price_to_free_cash_flow\":26.63,\"sales_growth_past_5_years\":0.1642},{\"name\":\"Household & Personal Products\",\"market_cap\":797660000000,\"performance_1d\":-0.0032,\"pe\":27.43,\"forward_pe\":20.54,\"peg\":4.2,\"eps_growth_past_5y\":0.1581,\"eps_growth_next_5y\":0.0653,\"volume\":88950000,\"price_to_sales\":3.03,\"price_to_book\":7.59,\"price_to_cash\":28.68,\"price_to_free_cash_flow\":21.98,\"sales_growth_past_5_years\":0.0456},{\"name\":\"Home Improvement Retail\",\"market_cap\":502740000000,\"performance_1d\":0.0329,\"pe\":22.91,\"forward_pe\":20.7,\"peg\":3.61,\"eps_growth_past_5y\":0.1025,\"eps_growth_next_5y\":0.0635,\"volume\":8470000,\"price_to_sales\":2.01,\"price_to_book\":54.12,\"price_to_cash\":121.4,\"price_to_free_cash_flow\":20.75,\"sales_growth_past_5_years\":0.0702},{\"name\":\"Internet Retail\",\"market_cap\":3017240000000,\"performance_1d\":0.028,\"pe\":29.88,\"forward_pe\":20.84,\"peg\":1.41,\"eps_growth_past_5y\":0.3138,\"eps_growth_next_5y\":0.2121,\"volume\":124620000,\"price_to_sales\":2.66,\"price_to_book\":5.69,\"price_to_cash\":9.89,\"price_to_free_cash_flow\":52.21,\"sales_growth_past_5_years\":0.2887},{\"name\":\"Industrial Distribution\",\"market_cap\":212670000000,\"performance_1d\":0.0246,\"pe\":26.44,\"forward_pe\":21.41,\"peg\":3.14,\"eps_growth_past_5y\":0.1611,\"eps_growth_next_5y\":0.0843,\"volume\":18430000,\"price_to_sales\":1.52,\"price_to_book\":5.84,\"price_to_cash\":35.48,\"price_to_free_cash_flow\":23.31,\"sales_growth_past_5_years\":0.0943},{\"name\":\"Gambling\",\"market_cap\":110380000000,\"performance_1d\":0.023,\"pe\":83.81,\"forward_pe\":21.67,\"peg\":2.97,\"eps_growth_past_5y\":-0.1785,\"eps_growth_next_5y\":0.2824,\"volume\":17850000,\"price_to_sales\":3.26,\"price_to_book\":7.2,\"price_to_cash\":15.3,\"price_to_free_cash_flow\":29.71,\"sales_growth_past_5_years\":0.4536},{\"name\":\"Diagnostics & Research\",\"market_cap\":666500000000,\"performance_1d\":0.0077,\"pe\":36.43,\"forward_pe\":21.89,\"peg\":3.53,\"eps_growth_past_5y\":0.0999,\"eps_growth_next_5y\":0.1032,\"volume\":66260000,\"price_to_sales\":4.14,\"price_to_book\":3.81,\"price_to_cash\":24.97,\"price_to_free_cash_flow\":27.09,\"sales_growth_past_5_years\":0.1118},{\"name\":\"Real Estate Services\",\"market_cap\":145840000000,\"performance_1d\":0.0225,\"pe\":53.12,\"forward_pe\":21.92,\"peg\":2.34,\"eps_growth_past_5y\":0.0058,\"eps_growth_next_5y\":0.2269,\"volume\":70880000,\"price_to_sales\":1.15,\"price_to_book\":3.06,\"price_to_cash\":7.14,\"price_to_free_cash_flow\":36.3,\"sales_growth_past_5_years\":0.137},{\"name\":\"Personal Services\",\"market_cap\":55330000000,\"performance_1d\":0.0146,\"pe\":28.3,\"forward_pe\":22.28,\"peg\":2.32,\"eps_growth_past_5y\":0.1305,\"eps_growth_next_5y\":0.1218,\"volume\":9390000,\"price_to_sales\":3.06,\"price_to_book\":9.1,\"price_to_cash\":27.61,\"price_to_free_cash_flow\":23.52,\"sales_growth_past_5_years\":0.0815},{\"name\":\"REIT - Hotel & Motel\",\"market_cap\":31150000000,\"performance_1d\":0.0183,\"pe\":20.71,\"forward_pe\":22.32,\"peg\":2.82,\"eps_growth_past_5y\":-0.0544,\"eps_growth_next_5y\":0.0735,\"volume\":26310000,\"price_to_sales\":1.36,\"price_to_book\":1.19,\"price_to_cash\":9.25,\"price_to_free_cash_flow\":11.57,\"sales_growth_past_5_years\":0.1817},{\"name\":\"Mortgage Finance\",\"market_cap\":54900000000,\"performance_1d\":0.0128,\"pe\":42.67,\"forward_pe\":22.46,\"peg\":0.8,\"eps_growth_past_5y\":0.0962,\"eps_growth_next_5y\":0.5301,\"volume\":12790000,\"price_to_sales\":2.96,\"price_to_book\":3.9,\"price_to_cash\":9.92,\"price_to_free_cash_flow\":227.19,\"sales_growth_past_5_years\":0.1583},{\"name\":\"Medical Devices\",\"market_cap\":954520000000,\"performance_1d\":0.01,\"pe\":32.31,\"forward_pe\":22.47,\"peg\":2.66,\"eps_growth_past_5y\":0.0807,\"eps_growth_next_5y\":0.1215,\"volume\":119320000,\"price_to_sales\":4.24,\"price_to_book\":4.05,\"price_to_cash\":19.02,\"price_to_free_cash_flow\":35.37,\"sales_growth_past_5_years\":0.1434},{\"name\":\"Lodging\",\"market_cap\":182630000000,\"performance_1d\":0.0166,\"pe\":30.16,\"forward_pe\":22.68,\"peg\":2.22,\"eps_growth_past_5y\":0.1744,\"eps_growth_next_5y\":0.1356,\"volume\":9380000,\"price_to_sales\":3.16,\"price_to_book\":39.09,\"price_to_cash\":26.39,\"price_to_free_cash_flow\":26.64,\"sales_growth_past_5_years\":0.1123},{\"name\":\"Pollution & Treatment Controls\",\"market_cap\":41920000000,\"performance_1d\":0.0153,\"pe\":29.59,\"forward_pe\":22.8,\"peg\":2.85,\"eps_growth_past_5y\":-0.1481,\"eps_growth_next_5y\":0.1038,\"volume\":6990000,\"price_to_sales\":3.75,\"price_to_book\":6.93,\"price_to_cash\":23.41,\"price_to_free_cash_flow\":30.69,\"sales_growth_past_5_years\":0.0717},{\"name\":\"Confectioners\",\"market_cap\":120170000000,\"performance_1d\":0.0063,\"pe\":19.47,\"forward_pe\":23.02,\"peg\":null,\"eps_growth_past_5y\":0.0777,\"eps_growth_next_5y\":-0.008,\"volume\":9090000,\"price_to_sales\":2.48,\"price_to_book\":3.89,\"price_to_cash\":51.65,\"price_to_free_cash_flow\":21.58,\"sales_growth_past_5_years\":0.0719},{\"name\":\"Insurance Brokers\",\"market_cap\":393250000000,\"performance_1d\":0.0128,\"pe\":38.83,\"forward_pe\":23.05,\"peg\":3.45,\"eps_growth_past_5y\":0.1619,\"eps_growth_next_5y\":0.1126,\"volume\":10510000,\"price_to_sales\":4.98,\"price_to_book\":6.66,\"price_to_cash\":15.91,\"price_to_free_cash_flow\":31.39,\"sales_growth_past_5_years\":0.0989},{\"name\":\"Footwear & Accessories\",\"market_cap\":162020000000,\"performance_1d\":0.0136,\"pe\":21.43,\"forward_pe\":23.33,\"peg\":null,\"eps_growth_past_5y\":0.132,\"eps_growth_next_5y\":-0.0007,\"volume\":51480000,\"price_to_sales\":2.03,\"price_to_book\":5.64,\"price_to_cash\":10.12,\"price_to_free_cash_flow\":17.93,\"sales_growth_past_5_years\":0.142},{\"name\":\"Restaurants\",\"market_cap\":594460000000,\"performance_1d\":0.0066,\"pe\":29.69,\"forward_pe\":24.09,\"peg\":2.57,\"eps_growth_past_5y\":0.094,\"eps_growth_next_5y\":0.1155,\"volume\":78280000,\"price_to_sales\":3.59,\"price_to_book\":23.74,\"price_to_cash\":38.85,\"price_to_free_cash_flow\":33.22,\"sales_growth_past_5_years\":0.0857},{\"name\":\"Medical Instruments & Supplies\",\"market_cap\":484510000000,\"performance_1d\":0.0196,\"pe\":49.17,\"forward_pe\":24.3,\"peg\":3.81,\"eps_growth_past_5y\":0.1029,\"eps_growth_next_5y\":0.129,\"volume\":53300000,\"price_to_sales\":4.55,\"price_to_book\":3.69,\"price_to_cash\":25.23,\"price_to_free_cash_flow\":37.19,\"sales_growth_past_5_years\":0.1089},{\"name\":\"Financial Data & Stock Exchanges\",\"market_cap\":648390000000,\"performance_1d\":0.0138,\"pe\":35.42,\"forward_pe\":24.69,\"peg\":3.68,\"eps_growth_past_5y\":0.0903,\"eps_growth_next_5y\":0.0962,\"volume\":109020000,\"price_to_sales\":9.05,\"price_to_book\":5.14,\"price_to_cash\":27.01,\"price_to_free_cash_flow\":25.8,\"sales_growth_past_5_years\":0.2201},{\"name\":\"Utilities - Renewable\",\"market_cap\":221140000000,\"performance_1d\":0.0208,\"pe\":30.29,\"forward_pe\":24.82,\"peg\":1.88,\"eps_growth_past_5y\":0.1833,\"eps_growth_next_5y\":0.1609,\"volume\":20060000,\"price_to_sales\":2.57,\"price_to_book\":4.04,\"price_to_cash\":8.39,\"price_to_free_cash_flow\":44.6,\"sales_growth_past_5_years\":0.0542},{\"name\":\"Aerospace & Defense\",\"market_cap\":1250990000000,\"performance_1d\":0.0183,\"pe\":37.57,\"forward_pe\":25.27,\"peg\":2.79,\"eps_growth_past_5y\":0.1989,\"eps_growth_next_5y\":0.1347,\"volume\":132130000,\"price_to_sales\":2.56,\"price_to_book\":6.2,\"price_to_cash\":17.45,\"price_to_free_cash_flow\":41.25,\"sales_growth_past_5_years\":0.0545},{\"name\":\"Consulting Services\",\"market_cap\":98060000000,\"performance_1d\":0.0001,\"pe\":32.56,\"forward_pe\":25.38,\"peg\":2.46,\"eps_growth_past_5y\":0.1659,\"eps_growth_next_5y\":0.1322,\"volume\":8990000,\"price_to_sales\":3.33,\"price_to_book\":8.99,\"price_to_cash\":49.53,\"price_to_free_cash_flow\":29.06,\"sales_growth_past_5_years\":0.0625},{\"name\":\"Consumer Electronics\",\"market_cap\":3473790000000,\"performance_1d\":0.0108,\"pe\":34.05,\"forward_pe\":26.47,\"peg\":3.43,\"eps_growth_past_5y\":0.1454,\"eps_growth_next_5y\":0.0994,\"volume\":69790000,\"price_to_sales\":6.81,\"price_to_book\":27.77,\"price_to_cash\":46.65,\"price_to_free_cash_flow\":29.35,\"sales_growth_past_5_years\":0.0891},{\"name\":\"Software - Infrastructure\",\"market_cap\":4656440000000,\"performance_1d\":0.0125,\"pe\":37.07,\"forward_pe\":26.83,\"peg\":2.35,\"eps_growth_past_5y\":0.1674,\"eps_growth_next_5y\":0.1575,\"volume\":698410000,\"price_to_sales\":8.97,\"price_to_book\":9.56,\"price_to_cash\":23.81,\"price_to_free_cash_flow\":40.82,\"sales_growth_past_5_years\":0.1874},{\"name\":\"Entertainment\",\"market_cap\":905700000000,\"performance_1d\":0.0122,\"pe\":50.0,\"forward_pe\":27.46,\"peg\":2.51,\"eps_growth_past_5y\":0.1665,\"eps_growth_next_5y\":0.1989,\"volume\":142850000,\"price_to_sales\":2.65,\"price_to_book\":3.9,\"price_to_cash\":15.98,\"price_to_free_cash_flow\":29.2,\"sales_growth_past_5_years\":0.1499},{\"name\":\"Specialty Business Services\",\"market_cap\":390470000000,\"performance_1d\":0.01,\"pe\":37.06,\"forward_pe\":28.01,\"peg\":3.3,\"eps_growth_past_5y\":0.0937,\"eps_growth_next_5y\":0.1124,\"volume\":24710000,\"price_to_sales\":3.81,\"price_to_book\":6.29,\"price_to_cash\":32.15,\"price_to_free_cash_flow\":32.62,\"sales_growth_past_5_years\":0.088},{\"name\":\"Real Estate - Diversified\",\"market_cap\":6820000000,\"performance_1d\":0.0204,\"pe\":23.68,\"forward_pe\":28.41,\"peg\":null,\"eps_growth_past_5y\":0.1997,\"eps_growth_next_5y\":null,\"volume\":726480,\"price_to_sales\":2.96,\"price_to_book\":1.82,\"price_to_cash\":6.0,\"price_to_free_cash_flow\":14.76,\"sales_growth_past_5_years\":0.247},{\"name\":\"Health Information Services\",\"market_cap\":116470000000,\"performance_1d\":0.032,\"pe\":77.11,\"forward_pe\":28.68,\"peg\":4.89,\"eps_growth_past_5y\":0.3081,\"eps_growth_next_5y\":0.1576,\"volume\":56720000,\"price_to_sales\":2.79,\"price_to_book\":3.88,\"price_to_cash\":8.51,\"price_to_free_cash_flow\":29.24,\"sales_growth_past_5_years\":0.2264},{\"name\":\"Discount Stores\",\"market_cap\":1221770000000,\"performance_1d\":0.0187,\"pe\":37.09,\"forward_pe\":30.1,\"peg\":3.85,\"eps_growth_past_5y\":0.0962,\"eps_growth_next_5y\":0.0962,\"volume\":40980000,\"price_to_sales\":1.06,\"price_to_book\":8.08,\"price_to_cash\":41.44,\"price_to_free_cash_flow\":45.18,\"sales_growth_past_5_years\":0.0752},{\"name\":\"Waste Management\",\"market_cap\":252530000000,\"performance_1d\":0.0088,\"pe\":43.6,\"forward_pe\":30.38,\"peg\":3.66,\"eps_growth_past_5y\":0.0911,\"eps_growth_next_5y\":0.119,\"volume\":12010000,\"price_to_sales\":3.96,\"price_to_book\":6.72,\"price_to_cash\":117.53,\"price_to_free_cash_flow\":41.72,\"sales_growth_past_5_years\":0.1194},{\"name\":\"Software - Application\",\"market_cap\":2979630000000,\"performance_1d\":0.0246,\"pe\":54.85,\"forward_pe\":30.91,\"peg\":2.93,\"eps_growth_past_5y\":0.2829,\"eps_growth_next_5y\":0.187,\"volume\":475840000,\"price_to_sales\":7.91,\"price_to_book\":7.82,\"price_to_cash\":18.37,\"price_to_free_cash_flow\":34.91,\"sales_growth_past_5_years\":0.2201},{\"name\":\"Biotechnology\",\"market_cap\":862760000000,\"performance_1d\":0.0158,\"pe\":59.51,\"forward_pe\":31.01,\"peg\":3.27,\"eps_growth_past_5y\":-0.0911,\"eps_growth_next_5y\":0.1821,\"volume\":556630000,\"price_to_sales\":9.06,\"price_to_book\":3.63,\"price_to_cash\":4.53,\"price_to_free_cash_flow\":59.11,\"sales_growth_past_5_years\":5.1421},{\"name\":\"Internet Content & Information\",\"market_cap\":6087120000000,\"performance_1d\":0.0284,\"pe\":40.15,\"forward_pe\":31.55,\"peg\":2.51,\"eps_growth_past_5y\":0.2719,\"eps_growth_next_5y\":0.1598,\"volume\":238200000,\"price_to_sales\":6.28,\"price_to_book\":11.06,\"price_to_cash\":17.81,\"price_to_free_cash_flow\":29.18,\"sales_growth_past_5_years\":1.5298},{\"name\":\"REIT - Retail\",\"market_cap\":219060000000,\"performance_1d\":0.0186,\"pe\":32.39,\"forward_pe\":32.08,\"peg\":3.9,\"eps_growth_past_5y\":-0.0046,\"eps_growth_next_5y\":0.0831,\"volume\":31420000,\"price_to_sales\":8.45,\"price_to_book\":2.17,\"price_to_cash\":39.81,\"price_to_free_cash_flow\":18.75,\"sales_growth_past_5_years\":0.1265},{\"name\":\"REIT - Industrial\",\"market_cap\":267810000000,\"performance_1d\":0.0167,\"pe\":31.99,\"forward_pe\":33.99,\"peg\":21.26,\"eps_growth_past_5y\":0.0961,\"eps_growth_next_5y\":0.0151,\"volume\":20430000,\"price_to_sales\":10.54,\"price_to_book\":2.31,\"price_to_cash\":83.06,\"price_to_free_cash_flow\":24.12,\"sales_growth_past_5_years\":0.1756},{\"name\":\"Uranium\",\"market_cap\":29640000000,\"performance_1d\":0.0237,\"pe\":151.94,\"forward_pe\":36.3,\"peg\":3.32,\"eps_growth_past_5y\":0.0654,\"eps_growth_next_5y\":0.458,\"volume\":96500000,\"price_to_sales\":10.0,\"price_to_book\":3.77,\"price_to_cash\":15.55,\"price_to_free_cash_flow\":64.52,\"sales_growth_past_5_years\":2.6804},{\"name\":\"REIT - Specialty\",\"market_cap\":394120000000,\"performance_1d\":0.0059,\"pe\":56.83,\"forward_pe\":36.79,\"peg\":3.37,\"eps_growth_past_5y\":0.0475,\"eps_growth_next_5y\":0.1688,\"volume\":22500000,\"price_to_sales\":6.85,\"price_to_book\":6.51,\"price_to_cash\":28.07,\"price_to_free_cash_flow\":42.23,\"sales_growth_past_5_years\":1.1387},{\"name\":\"Insurance - Diversified\",\"market_cap\":2414760000000,\"performance_1d\":0.0096,\"pe\":24.27,\"forward_pe\":39.67,\"peg\":22.66,\"eps_growth_past_5y\":0.0465,\"eps_growth_next_5y\":0.0107,\"volume\":24170000,\"price_to_sales\":2.78,\"price_to_book\":3.18,\"price_to_cash\":3.61,\"price_to_free_cash_flow\":54.11,\"sales_growth_past_5_years\":0.0909},{\"name\":\"REIT - Residential\",\"market_cap\":208690000000,\"performance_1d\":0.0151,\"pe\":40.81,\"forward_pe\":48.84,\"peg\":6.06,\"eps_growth_past_5y\":0.0475,\"eps_growth_next_5y\":0.0674,\"volume\":17910000,\"price_to_sales\":8.43,\"price_to_book\":2.75,\"price_to_cash\":104.14,\"price_to_free_cash_flow\":23.72,\"sales_growth_past_5_years\":0.0815},{\"name\":\"REIT - Healthcare Facilities\",\"market_cap\":184870000000,\"performance_1d\":0.0205,\"pe\":99.26,\"forward_pe\":52.92,\"peg\":3.42,\"eps_growth_past_5y\":-0.043,\"eps_growth_next_5y\":0.2905,\"volume\":33049999,\"price_to_sales\":7.47,\"price_to_book\":2.29,\"price_to_cash\":28.25,\"price_to_free_cash_flow\":30.36,\"sales_growth_past_5_years\":0.1425},{\"name\":\"REIT - Office\",\"market_cap\":81480000000,\"performance_1d\":0.0204,\"pe\":88.48,\"forward_pe\":54.74,\"peg\":1.17,\"eps_growth_past_5y\":-0.3015,\"eps_growth_next_5y\":0.7541,\"volume\":21290000,\"price_to_sales\":4.14,\"price_to_book\":1.24,\"price_to_cash\":9.89,\"price_to_free_cash_flow\":14.86,\"sales_growth_past_5_years\":0.0449},{\"name\":\"Infrastructure Operations\",\"market_cap\":35630000000,\"performance_1d\":-0.0055,\"pe\":10.02,\"forward_pe\":149.89,\"peg\":0.76,\"eps_growth_past_5y\":0.5753,\"eps_growth_next_5y\":0.1323,\"volume\":1050000,\"price_to_sales\":3.3,\"price_to_book\":5.25,\"price_to_cash\":6.99,\"price_to_free_cash_flow\":35.95,\"sales_growth_past_5_years\":0.088},{\"name\":\"Shell Companies\",\"market_cap\":29810000000,\"performance_1d\":-0.0035,\"pe\":189.25,\"forward_pe\":null,\"peg\":null,\"eps_growth_past_5y\":null,\"eps_growth_next_5y\":null,\"volume\":4900000,\"price_to_sales\":13.92,\"price_to_book\":3.47,\"price_to_cash\":53.96,\"price_to_free_cash_flow\":null,\"sales_growth_past_5_years\":-0.0051}]\u001b[0m"
     ]
    },
    {
     "ename": "BadRequestError",
     "evalue": "Error code: 400 - {'error': {'message': \"This model's maximum context length is 16385 tokens. However, your messages resulted in 17583 tokens (17405 in the messages, 178 in the functions). Please reduce the length of the messages or functions.\", 'type': 'invalid_request_error', 'param': 'messages', 'code': 'context_length_exceeded'}}",
     "output_type": "error",
     "traceback": [
      "\u001b[31m---------------------------------------------------------------------------\u001b[39m",
      "\u001b[31mBadRequestError\u001b[39m                           Traceback (most recent call last)",
      "\u001b[36mCell\u001b[39m\u001b[36m \u001b[39m\u001b[32mIn[31]\u001b[39m\u001b[32m, line 2\u001b[39m\n\u001b[32m      1\u001b[39m input1 = \u001b[33m\"\u001b[39m\u001b[33mWhat are the valutiom metrics for this sector\u001b[39m\u001b[33m\"\u001b[39m\n\u001b[32m----> \u001b[39m\u001b[32m2\u001b[39m result = \u001b[43magent_executor\u001b[49m\u001b[43m.\u001b[49m\u001b[43minvoke\u001b[49m\u001b[43m(\u001b[49m\u001b[43m{\u001b[49m\u001b[33;43m\"\u001b[39;49m\u001b[33;43minput\u001b[39;49m\u001b[33;43m\"\u001b[39;49m\u001b[43m:\u001b[49m\u001b[43m \u001b[49m\u001b[43minput1\u001b[49m\u001b[43m,\u001b[49m\u001b[43m \u001b[49m\u001b[33;43m\"\u001b[39;49m\u001b[33;43mchat_history\u001b[39;49m\u001b[33;43m\"\u001b[39;49m\u001b[43m:\u001b[49m\u001b[43m \u001b[49m\u001b[43mchat_history\u001b[49m\u001b[43m}\u001b[49m\u001b[43m)\u001b[49m\n\u001b[32m      3\u001b[39m \u001b[38;5;28mprint\u001b[39m(result[\u001b[33m'\u001b[39m\u001b[33moutput\u001b[39m\u001b[33m'\u001b[39m])\n",
      "\u001b[36mFile \u001b[39m\u001b[32m/workspaces/Magentic-AlgoTrading101/myenv/lib/python3.12/site-packages/langchain/chains/base.py:170\u001b[39m, in \u001b[36mChain.invoke\u001b[39m\u001b[34m(self, input, config, **kwargs)\u001b[39m\n\u001b[32m    168\u001b[39m \u001b[38;5;28;01mexcept\u001b[39;00m \u001b[38;5;167;01mBaseException\u001b[39;00m \u001b[38;5;28;01mas\u001b[39;00m e:\n\u001b[32m    169\u001b[39m     run_manager.on_chain_error(e)\n\u001b[32m--> \u001b[39m\u001b[32m170\u001b[39m     \u001b[38;5;28;01mraise\u001b[39;00m e\n\u001b[32m    171\u001b[39m run_manager.on_chain_end(outputs)\n\u001b[32m    173\u001b[39m \u001b[38;5;28;01mif\u001b[39;00m include_run_info:\n",
      "\u001b[36mFile \u001b[39m\u001b[32m/workspaces/Magentic-AlgoTrading101/myenv/lib/python3.12/site-packages/langchain/chains/base.py:160\u001b[39m, in \u001b[36mChain.invoke\u001b[39m\u001b[34m(self, input, config, **kwargs)\u001b[39m\n\u001b[32m    157\u001b[39m \u001b[38;5;28;01mtry\u001b[39;00m:\n\u001b[32m    158\u001b[39m     \u001b[38;5;28mself\u001b[39m._validate_inputs(inputs)\n\u001b[32m    159\u001b[39m     outputs = (\n\u001b[32m--> \u001b[39m\u001b[32m160\u001b[39m         \u001b[38;5;28;43mself\u001b[39;49m\u001b[43m.\u001b[49m\u001b[43m_call\u001b[49m\u001b[43m(\u001b[49m\u001b[43minputs\u001b[49m\u001b[43m,\u001b[49m\u001b[43m \u001b[49m\u001b[43mrun_manager\u001b[49m\u001b[43m=\u001b[49m\u001b[43mrun_manager\u001b[49m\u001b[43m)\u001b[49m\n\u001b[32m    161\u001b[39m         \u001b[38;5;28;01mif\u001b[39;00m new_arg_supported\n\u001b[32m    162\u001b[39m         \u001b[38;5;28;01melse\u001b[39;00m \u001b[38;5;28mself\u001b[39m._call(inputs)\n\u001b[32m    163\u001b[39m     )\n\u001b[32m    165\u001b[39m     final_outputs: Dict[\u001b[38;5;28mstr\u001b[39m, Any] = \u001b[38;5;28mself\u001b[39m.prep_outputs(\n\u001b[32m    166\u001b[39m         inputs, outputs, return_only_outputs\n\u001b[32m    167\u001b[39m     )\n\u001b[32m    168\u001b[39m \u001b[38;5;28;01mexcept\u001b[39;00m \u001b[38;5;167;01mBaseException\u001b[39;00m \u001b[38;5;28;01mas\u001b[39;00m e:\n",
      "\u001b[36mFile \u001b[39m\u001b[32m/workspaces/Magentic-AlgoTrading101/myenv/lib/python3.12/site-packages/langchain/agents/agent.py:1624\u001b[39m, in \u001b[36mAgentExecutor._call\u001b[39m\u001b[34m(self, inputs, run_manager)\u001b[39m\n\u001b[32m   1622\u001b[39m \u001b[38;5;66;03m# We now enter the agent loop (until it returns something).\u001b[39;00m\n\u001b[32m   1623\u001b[39m \u001b[38;5;28;01mwhile\u001b[39;00m \u001b[38;5;28mself\u001b[39m._should_continue(iterations, time_elapsed):\n\u001b[32m-> \u001b[39m\u001b[32m1624\u001b[39m     next_step_output = \u001b[38;5;28;43mself\u001b[39;49m\u001b[43m.\u001b[49m\u001b[43m_take_next_step\u001b[49m\u001b[43m(\u001b[49m\n\u001b[32m   1625\u001b[39m \u001b[43m        \u001b[49m\u001b[43mname_to_tool_map\u001b[49m\u001b[43m,\u001b[49m\n\u001b[32m   1626\u001b[39m \u001b[43m        \u001b[49m\u001b[43mcolor_mapping\u001b[49m\u001b[43m,\u001b[49m\n\u001b[32m   1627\u001b[39m \u001b[43m        \u001b[49m\u001b[43minputs\u001b[49m\u001b[43m,\u001b[49m\n\u001b[32m   1628\u001b[39m \u001b[43m        \u001b[49m\u001b[43mintermediate_steps\u001b[49m\u001b[43m,\u001b[49m\n\u001b[32m   1629\u001b[39m \u001b[43m        \u001b[49m\u001b[43mrun_manager\u001b[49m\u001b[43m=\u001b[49m\u001b[43mrun_manager\u001b[49m\u001b[43m,\u001b[49m\n\u001b[32m   1630\u001b[39m \u001b[43m    \u001b[49m\u001b[43m)\u001b[49m\n\u001b[32m   1631\u001b[39m     \u001b[38;5;28;01mif\u001b[39;00m \u001b[38;5;28misinstance\u001b[39m(next_step_output, AgentFinish):\n\u001b[32m   1632\u001b[39m         \u001b[38;5;28;01mreturn\u001b[39;00m \u001b[38;5;28mself\u001b[39m._return(\n\u001b[32m   1633\u001b[39m             next_step_output, intermediate_steps, run_manager=run_manager\n\u001b[32m   1634\u001b[39m         )\n",
      "\u001b[36mFile \u001b[39m\u001b[32m/workspaces/Magentic-AlgoTrading101/myenv/lib/python3.12/site-packages/langchain/agents/agent.py:1330\u001b[39m, in \u001b[36mAgentExecutor._take_next_step\u001b[39m\u001b[34m(self, name_to_tool_map, color_mapping, inputs, intermediate_steps, run_manager)\u001b[39m\n\u001b[32m   1321\u001b[39m \u001b[38;5;28;01mdef\u001b[39;00m\u001b[38;5;250m \u001b[39m\u001b[34m_take_next_step\u001b[39m(\n\u001b[32m   1322\u001b[39m     \u001b[38;5;28mself\u001b[39m,\n\u001b[32m   1323\u001b[39m     name_to_tool_map: Dict[\u001b[38;5;28mstr\u001b[39m, BaseTool],\n\u001b[32m   (...)\u001b[39m\u001b[32m   1327\u001b[39m     run_manager: Optional[CallbackManagerForChainRun] = \u001b[38;5;28;01mNone\u001b[39;00m,\n\u001b[32m   1328\u001b[39m ) -> Union[AgentFinish, List[Tuple[AgentAction, \u001b[38;5;28mstr\u001b[39m]]]:\n\u001b[32m   1329\u001b[39m     \u001b[38;5;28;01mreturn\u001b[39;00m \u001b[38;5;28mself\u001b[39m._consume_next_step(\n\u001b[32m-> \u001b[39m\u001b[32m1330\u001b[39m         \u001b[43m[\u001b[49m\n\u001b[32m   1331\u001b[39m \u001b[43m            \u001b[49m\u001b[43ma\u001b[49m\n\u001b[32m   1332\u001b[39m \u001b[43m            \u001b[49m\u001b[38;5;28;43;01mfor\u001b[39;49;00m\u001b[43m \u001b[49m\u001b[43ma\u001b[49m\u001b[43m \u001b[49m\u001b[38;5;129;43;01min\u001b[39;49;00m\u001b[43m \u001b[49m\u001b[38;5;28;43mself\u001b[39;49m\u001b[43m.\u001b[49m\u001b[43m_iter_next_step\u001b[49m\u001b[43m(\u001b[49m\n\u001b[32m   1333\u001b[39m \u001b[43m                \u001b[49m\u001b[43mname_to_tool_map\u001b[49m\u001b[43m,\u001b[49m\n\u001b[32m   1334\u001b[39m \u001b[43m                \u001b[49m\u001b[43mcolor_mapping\u001b[49m\u001b[43m,\u001b[49m\n\u001b[32m   1335\u001b[39m \u001b[43m                \u001b[49m\u001b[43minputs\u001b[49m\u001b[43m,\u001b[49m\n\u001b[32m   1336\u001b[39m \u001b[43m                \u001b[49m\u001b[43mintermediate_steps\u001b[49m\u001b[43m,\u001b[49m\n\u001b[32m   1337\u001b[39m \u001b[43m                \u001b[49m\u001b[43mrun_manager\u001b[49m\u001b[43m,\u001b[49m\n\u001b[32m   1338\u001b[39m \u001b[43m            \u001b[49m\u001b[43m)\u001b[49m\n\u001b[32m   1339\u001b[39m \u001b[43m        \u001b[49m\u001b[43m]\u001b[49m\n\u001b[32m   1340\u001b[39m     )\n",
      "\u001b[36mFile \u001b[39m\u001b[32m/workspaces/Magentic-AlgoTrading101/myenv/lib/python3.12/site-packages/langchain/agents/agent.py:1358\u001b[39m, in \u001b[36mAgentExecutor._iter_next_step\u001b[39m\u001b[34m(self, name_to_tool_map, color_mapping, inputs, intermediate_steps, run_manager)\u001b[39m\n\u001b[32m   1355\u001b[39m     intermediate_steps = \u001b[38;5;28mself\u001b[39m._prepare_intermediate_steps(intermediate_steps)\n\u001b[32m   1357\u001b[39m     \u001b[38;5;66;03m# Call the LLM to see what to do.\u001b[39;00m\n\u001b[32m-> \u001b[39m\u001b[32m1358\u001b[39m     output = \u001b[38;5;28;43mself\u001b[39;49m\u001b[43m.\u001b[49m\u001b[43m_action_agent\u001b[49m\u001b[43m.\u001b[49m\u001b[43mplan\u001b[49m\u001b[43m(\u001b[49m\n\u001b[32m   1359\u001b[39m \u001b[43m        \u001b[49m\u001b[43mintermediate_steps\u001b[49m\u001b[43m,\u001b[49m\n\u001b[32m   1360\u001b[39m \u001b[43m        \u001b[49m\u001b[43mcallbacks\u001b[49m\u001b[43m=\u001b[49m\u001b[43mrun_manager\u001b[49m\u001b[43m.\u001b[49m\u001b[43mget_child\u001b[49m\u001b[43m(\u001b[49m\u001b[43m)\u001b[49m\u001b[43m \u001b[49m\u001b[38;5;28;43;01mif\u001b[39;49;00m\u001b[43m \u001b[49m\u001b[43mrun_manager\u001b[49m\u001b[43m \u001b[49m\u001b[38;5;28;43;01melse\u001b[39;49;00m\u001b[43m \u001b[49m\u001b[38;5;28;43;01mNone\u001b[39;49;00m\u001b[43m,\u001b[49m\n\u001b[32m   1361\u001b[39m \u001b[43m        \u001b[49m\u001b[43m*\u001b[49m\u001b[43m*\u001b[49m\u001b[43minputs\u001b[49m\u001b[43m,\u001b[49m\n\u001b[32m   1362\u001b[39m \u001b[43m    \u001b[49m\u001b[43m)\u001b[49m\n\u001b[32m   1363\u001b[39m \u001b[38;5;28;01mexcept\u001b[39;00m OutputParserException \u001b[38;5;28;01mas\u001b[39;00m e:\n\u001b[32m   1364\u001b[39m     \u001b[38;5;28;01mif\u001b[39;00m \u001b[38;5;28misinstance\u001b[39m(\u001b[38;5;28mself\u001b[39m.handle_parsing_errors, \u001b[38;5;28mbool\u001b[39m):\n",
      "\u001b[36mFile \u001b[39m\u001b[32m/workspaces/Magentic-AlgoTrading101/myenv/lib/python3.12/site-packages/langchain/agents/agent.py:581\u001b[39m, in \u001b[36mRunnableMultiActionAgent.plan\u001b[39m\u001b[34m(self, intermediate_steps, callbacks, **kwargs)\u001b[39m\n\u001b[32m    573\u001b[39m final_output: Any = \u001b[38;5;28;01mNone\u001b[39;00m\n\u001b[32m    574\u001b[39m \u001b[38;5;28;01mif\u001b[39;00m \u001b[38;5;28mself\u001b[39m.stream_runnable:\n\u001b[32m    575\u001b[39m     \u001b[38;5;66;03m# Use streaming to make sure that the underlying LLM is invoked in a\u001b[39;00m\n\u001b[32m    576\u001b[39m     \u001b[38;5;66;03m# streaming\u001b[39;00m\n\u001b[32m   (...)\u001b[39m\u001b[32m    579\u001b[39m     \u001b[38;5;66;03m# Because the response from the plan is not a generator, we need to\u001b[39;00m\n\u001b[32m    580\u001b[39m     \u001b[38;5;66;03m# accumulate the output into final output and return that.\u001b[39;00m\n\u001b[32m--> \u001b[39m\u001b[32m581\u001b[39m \u001b[43m    \u001b[49m\u001b[38;5;28;43;01mfor\u001b[39;49;00m\u001b[43m \u001b[49m\u001b[43mchunk\u001b[49m\u001b[43m \u001b[49m\u001b[38;5;129;43;01min\u001b[39;49;00m\u001b[43m \u001b[49m\u001b[38;5;28;43mself\u001b[39;49m\u001b[43m.\u001b[49m\u001b[43mrunnable\u001b[49m\u001b[43m.\u001b[49m\u001b[43mstream\u001b[49m\u001b[43m(\u001b[49m\u001b[43minputs\u001b[49m\u001b[43m,\u001b[49m\u001b[43m \u001b[49m\u001b[43mconfig\u001b[49m\u001b[43m=\u001b[49m\u001b[43m{\u001b[49m\u001b[33;43m\"\u001b[39;49m\u001b[33;43mcallbacks\u001b[39;49m\u001b[33;43m\"\u001b[39;49m\u001b[43m:\u001b[49m\u001b[43m \u001b[49m\u001b[43mcallbacks\u001b[49m\u001b[43m}\u001b[49m\u001b[43m)\u001b[49m\u001b[43m:\u001b[49m\n\u001b[32m    582\u001b[39m \u001b[43m        \u001b[49m\u001b[38;5;28;43;01mif\u001b[39;49;00m\u001b[43m \u001b[49m\u001b[43mfinal_output\u001b[49m\u001b[43m \u001b[49m\u001b[38;5;129;43;01mis\u001b[39;49;00m\u001b[43m \u001b[49m\u001b[38;5;28;43;01mNone\u001b[39;49;00m\u001b[43m:\u001b[49m\n\u001b[32m    583\u001b[39m \u001b[43m            \u001b[49m\u001b[43mfinal_output\u001b[49m\u001b[43m \u001b[49m\u001b[43m=\u001b[49m\u001b[43m \u001b[49m\u001b[43mchunk\u001b[49m\n",
      "\u001b[36mFile \u001b[39m\u001b[32m/workspaces/Magentic-AlgoTrading101/myenv/lib/python3.12/site-packages/langchain_core/runnables/base.py:3409\u001b[39m, in \u001b[36mRunnableSequence.stream\u001b[39m\u001b[34m(self, input, config, **kwargs)\u001b[39m\n\u001b[32m   3403\u001b[39m \u001b[38;5;28;01mdef\u001b[39;00m\u001b[38;5;250m \u001b[39m\u001b[34mstream\u001b[39m(\n\u001b[32m   3404\u001b[39m     \u001b[38;5;28mself\u001b[39m,\n\u001b[32m   3405\u001b[39m     \u001b[38;5;28minput\u001b[39m: Input,\n\u001b[32m   3406\u001b[39m     config: Optional[RunnableConfig] = \u001b[38;5;28;01mNone\u001b[39;00m,\n\u001b[32m   3407\u001b[39m     **kwargs: Optional[Any],\n\u001b[32m   3408\u001b[39m ) -> Iterator[Output]:\n\u001b[32m-> \u001b[39m\u001b[32m3409\u001b[39m     \u001b[38;5;28;01myield from\u001b[39;00m \u001b[38;5;28mself\u001b[39m.transform(\u001b[38;5;28miter\u001b[39m([\u001b[38;5;28minput\u001b[39m]), config, **kwargs)\n",
      "\u001b[36mFile \u001b[39m\u001b[32m/workspaces/Magentic-AlgoTrading101/myenv/lib/python3.12/site-packages/langchain_core/runnables/base.py:3396\u001b[39m, in \u001b[36mRunnableSequence.transform\u001b[39m\u001b[34m(self, input, config, **kwargs)\u001b[39m\n\u001b[32m   3390\u001b[39m \u001b[38;5;28;01mdef\u001b[39;00m\u001b[38;5;250m \u001b[39m\u001b[34mtransform\u001b[39m(\n\u001b[32m   3391\u001b[39m     \u001b[38;5;28mself\u001b[39m,\n\u001b[32m   3392\u001b[39m     \u001b[38;5;28minput\u001b[39m: Iterator[Input],\n\u001b[32m   3393\u001b[39m     config: Optional[RunnableConfig] = \u001b[38;5;28;01mNone\u001b[39;00m,\n\u001b[32m   3394\u001b[39m     **kwargs: Optional[Any],\n\u001b[32m   3395\u001b[39m ) -> Iterator[Output]:\n\u001b[32m-> \u001b[39m\u001b[32m3396\u001b[39m     \u001b[38;5;28;01myield from\u001b[39;00m \u001b[38;5;28mself\u001b[39m._transform_stream_with_config(\n\u001b[32m   3397\u001b[39m         \u001b[38;5;28minput\u001b[39m,\n\u001b[32m   3398\u001b[39m         \u001b[38;5;28mself\u001b[39m._transform,\n\u001b[32m   3399\u001b[39m         patch_config(config, run_name=(config \u001b[38;5;129;01mor\u001b[39;00m {}).get(\u001b[33m\"\u001b[39m\u001b[33mrun_name\u001b[39m\u001b[33m\"\u001b[39m) \u001b[38;5;129;01mor\u001b[39;00m \u001b[38;5;28mself\u001b[39m.name),\n\u001b[32m   3400\u001b[39m         **kwargs,\n\u001b[32m   3401\u001b[39m     )\n",
      "\u001b[36mFile \u001b[39m\u001b[32m/workspaces/Magentic-AlgoTrading101/myenv/lib/python3.12/site-packages/langchain_core/runnables/base.py:2196\u001b[39m, in \u001b[36mRunnable._transform_stream_with_config\u001b[39m\u001b[34m(self, input, transformer, config, run_type, **kwargs)\u001b[39m\n\u001b[32m   2194\u001b[39m \u001b[38;5;28;01mtry\u001b[39;00m:\n\u001b[32m   2195\u001b[39m     \u001b[38;5;28;01mwhile\u001b[39;00m \u001b[38;5;28;01mTrue\u001b[39;00m:\n\u001b[32m-> \u001b[39m\u001b[32m2196\u001b[39m         chunk: Output = \u001b[43mcontext\u001b[49m\u001b[43m.\u001b[49m\u001b[43mrun\u001b[49m\u001b[43m(\u001b[49m\u001b[38;5;28;43mnext\u001b[39;49m\u001b[43m,\u001b[49m\u001b[43m \u001b[49m\u001b[43miterator\u001b[49m\u001b[43m)\u001b[49m  \u001b[38;5;66;03m# type: ignore\u001b[39;00m\n\u001b[32m   2197\u001b[39m         \u001b[38;5;28;01myield\u001b[39;00m chunk\n\u001b[32m   2198\u001b[39m         \u001b[38;5;28;01mif\u001b[39;00m final_output_supported:\n",
      "\u001b[36mFile \u001b[39m\u001b[32m/workspaces/Magentic-AlgoTrading101/myenv/lib/python3.12/site-packages/langchain_core/runnables/base.py:3359\u001b[39m, in \u001b[36mRunnableSequence._transform\u001b[39m\u001b[34m(self, input, run_manager, config, **kwargs)\u001b[39m\n\u001b[32m   3356\u001b[39m     \u001b[38;5;28;01melse\u001b[39;00m:\n\u001b[32m   3357\u001b[39m         final_pipeline = step.transform(final_pipeline, config)\n\u001b[32m-> \u001b[39m\u001b[32m3359\u001b[39m \u001b[38;5;28;01myield from\u001b[39;00m final_pipeline\n",
      "\u001b[36mFile \u001b[39m\u001b[32m/workspaces/Magentic-AlgoTrading101/myenv/lib/python3.12/site-packages/langchain_core/runnables/base.py:1414\u001b[39m, in \u001b[36mRunnable.transform\u001b[39m\u001b[34m(self, input, config, **kwargs)\u001b[39m\n\u001b[32m   1411\u001b[39m final: Input\n\u001b[32m   1412\u001b[39m got_first_val = \u001b[38;5;28;01mFalse\u001b[39;00m\n\u001b[32m-> \u001b[39m\u001b[32m1414\u001b[39m \u001b[43m\u001b[49m\u001b[38;5;28;43;01mfor\u001b[39;49;00m\u001b[43m \u001b[49m\u001b[43michunk\u001b[49m\u001b[43m \u001b[49m\u001b[38;5;129;43;01min\u001b[39;49;00m\u001b[43m \u001b[49m\u001b[38;5;28;43minput\u001b[39;49m\u001b[43m:\u001b[49m\n\u001b[32m   1415\u001b[39m \u001b[43m    \u001b[49m\u001b[38;5;66;43;03m# The default implementation of transform is to buffer input and\u001b[39;49;00m\n\u001b[32m   1416\u001b[39m \u001b[43m    \u001b[49m\u001b[38;5;66;43;03m# then call stream.\u001b[39;49;00m\n\u001b[32m   1417\u001b[39m \u001b[43m    \u001b[49m\u001b[38;5;66;43;03m# It'll attempt to gather all input into a single chunk using\u001b[39;49;00m\n\u001b[32m   1418\u001b[39m \u001b[43m    \u001b[49m\u001b[38;5;66;43;03m# the `+` operator.\u001b[39;49;00m\n\u001b[32m   1419\u001b[39m \u001b[43m    \u001b[49m\u001b[38;5;66;43;03m# If the input is not addable, then we'll assume that we can\u001b[39;49;00m\n\u001b[32m   1420\u001b[39m \u001b[43m    \u001b[49m\u001b[38;5;66;43;03m# only operate on the last chunk,\u001b[39;49;00m\n\u001b[32m   1421\u001b[39m \u001b[43m    \u001b[49m\u001b[38;5;66;43;03m# and we'll iterate until we get to the last chunk.\u001b[39;49;00m\n\u001b[32m   1422\u001b[39m \u001b[43m    \u001b[49m\u001b[38;5;28;43;01mif\u001b[39;49;00m\u001b[43m \u001b[49m\u001b[38;5;129;43;01mnot\u001b[39;49;00m\u001b[43m \u001b[49m\u001b[43mgot_first_val\u001b[49m\u001b[43m:\u001b[49m\n\u001b[32m   1423\u001b[39m \u001b[43m        \u001b[49m\u001b[43mfinal\u001b[49m\u001b[43m \u001b[49m\u001b[43m=\u001b[49m\u001b[43m \u001b[49m\u001b[43michunk\u001b[49m\n",
      "\u001b[36mFile \u001b[39m\u001b[32m/workspaces/Magentic-AlgoTrading101/myenv/lib/python3.12/site-packages/langchain_core/runnables/base.py:5567\u001b[39m, in \u001b[36mRunnableBindingBase.transform\u001b[39m\u001b[34m(self, input, config, **kwargs)\u001b[39m\n\u001b[32m   5561\u001b[39m \u001b[38;5;28;01mdef\u001b[39;00m\u001b[38;5;250m \u001b[39m\u001b[34mtransform\u001b[39m(\n\u001b[32m   5562\u001b[39m     \u001b[38;5;28mself\u001b[39m,\n\u001b[32m   5563\u001b[39m     \u001b[38;5;28minput\u001b[39m: Iterator[Input],\n\u001b[32m   5564\u001b[39m     config: Optional[RunnableConfig] = \u001b[38;5;28;01mNone\u001b[39;00m,\n\u001b[32m   5565\u001b[39m     **kwargs: Any,\n\u001b[32m   5566\u001b[39m ) -> Iterator[Output]:\n\u001b[32m-> \u001b[39m\u001b[32m5567\u001b[39m     \u001b[38;5;28;01myield from\u001b[39;00m \u001b[38;5;28mself\u001b[39m.bound.transform(\n\u001b[32m   5568\u001b[39m         \u001b[38;5;28minput\u001b[39m,\n\u001b[32m   5569\u001b[39m         \u001b[38;5;28mself\u001b[39m._merge_configs(config),\n\u001b[32m   5570\u001b[39m         **{**\u001b[38;5;28mself\u001b[39m.kwargs, **kwargs},\n\u001b[32m   5571\u001b[39m     )\n",
      "\u001b[36mFile \u001b[39m\u001b[32m/workspaces/Magentic-AlgoTrading101/myenv/lib/python3.12/site-packages/langchain_core/runnables/base.py:1432\u001b[39m, in \u001b[36mRunnable.transform\u001b[39m\u001b[34m(self, input, config, **kwargs)\u001b[39m\n\u001b[32m   1429\u001b[39m             final = ichunk\n\u001b[32m   1431\u001b[39m \u001b[38;5;28;01mif\u001b[39;00m got_first_val:\n\u001b[32m-> \u001b[39m\u001b[32m1432\u001b[39m     \u001b[38;5;28;01myield from\u001b[39;00m \u001b[38;5;28mself\u001b[39m.stream(final, config, **kwargs)\n",
      "\u001b[36mFile \u001b[39m\u001b[32m/workspaces/Magentic-AlgoTrading101/myenv/lib/python3.12/site-packages/langchain_core/language_models/chat_models.py:415\u001b[39m, in \u001b[36mBaseChatModel.stream\u001b[39m\u001b[34m(self, input, config, stop, **kwargs)\u001b[39m\n\u001b[32m    412\u001b[39m     \u001b[38;5;28mself\u001b[39m.rate_limiter.acquire(blocking=\u001b[38;5;28;01mTrue\u001b[39;00m)\n\u001b[32m    414\u001b[39m \u001b[38;5;28;01mtry\u001b[39;00m:\n\u001b[32m--> \u001b[39m\u001b[32m415\u001b[39m \u001b[43m    \u001b[49m\u001b[38;5;28;43;01mfor\u001b[39;49;00m\u001b[43m \u001b[49m\u001b[43mchunk\u001b[49m\u001b[43m \u001b[49m\u001b[38;5;129;43;01min\u001b[39;49;00m\u001b[43m \u001b[49m\u001b[38;5;28;43mself\u001b[39;49m\u001b[43m.\u001b[49m\u001b[43m_stream\u001b[49m\u001b[43m(\u001b[49m\u001b[43mmessages\u001b[49m\u001b[43m,\u001b[49m\u001b[43m \u001b[49m\u001b[43mstop\u001b[49m\u001b[43m=\u001b[49m\u001b[43mstop\u001b[49m\u001b[43m,\u001b[49m\u001b[43m \u001b[49m\u001b[43m*\u001b[49m\u001b[43m*\u001b[49m\u001b[43mkwargs\u001b[49m\u001b[43m)\u001b[49m\u001b[43m:\u001b[49m\n\u001b[32m    416\u001b[39m \u001b[43m        \u001b[49m\u001b[38;5;28;43;01mif\u001b[39;49;00m\u001b[43m \u001b[49m\u001b[43mchunk\u001b[49m\u001b[43m.\u001b[49m\u001b[43mmessage\u001b[49m\u001b[43m.\u001b[49m\u001b[43mid\u001b[49m\u001b[43m \u001b[49m\u001b[38;5;129;43;01mis\u001b[39;49;00m\u001b[43m \u001b[49m\u001b[38;5;28;43;01mNone\u001b[39;49;00m\u001b[43m:\u001b[49m\n\u001b[32m    417\u001b[39m \u001b[43m            \u001b[49m\u001b[43mchunk\u001b[49m\u001b[43m.\u001b[49m\u001b[43mmessage\u001b[49m\u001b[43m.\u001b[49m\u001b[43mid\u001b[49m\u001b[43m \u001b[49m\u001b[43m=\u001b[49m\u001b[43m \u001b[49m\u001b[33;43mf\u001b[39;49m\u001b[33;43m\"\u001b[39;49m\u001b[33;43mrun-\u001b[39;49m\u001b[38;5;132;43;01m{\u001b[39;49;00m\u001b[43mrun_manager\u001b[49m\u001b[43m.\u001b[49m\u001b[43mrun_id\u001b[49m\u001b[38;5;132;43;01m}\u001b[39;49;00m\u001b[33;43m\"\u001b[39;49m\n",
      "\u001b[36mFile \u001b[39m\u001b[32m/workspaces/Magentic-AlgoTrading101/myenv/lib/python3.12/site-packages/langchain_openai/chat_models/base.py:732\u001b[39m, in \u001b[36mBaseChatOpenAI._stream\u001b[39m\u001b[34m(self, messages, stop, run_manager, **kwargs)\u001b[39m\n\u001b[32m    730\u001b[39m         base_generation_info = {\u001b[33m\"\u001b[39m\u001b[33mheaders\u001b[39m\u001b[33m\"\u001b[39m: \u001b[38;5;28mdict\u001b[39m(raw_response.headers)}\n\u001b[32m    731\u001b[39m     \u001b[38;5;28;01melse\u001b[39;00m:\n\u001b[32m--> \u001b[39m\u001b[32m732\u001b[39m         response = \u001b[38;5;28;43mself\u001b[39;49m\u001b[43m.\u001b[49m\u001b[43mclient\u001b[49m\u001b[43m.\u001b[49m\u001b[43mcreate\u001b[49m\u001b[43m(\u001b[49m\u001b[43m*\u001b[49m\u001b[43m*\u001b[49m\u001b[43mpayload\u001b[49m\u001b[43m)\u001b[49m\n\u001b[32m    733\u001b[39m     context_manager = response\n\u001b[32m    734\u001b[39m \u001b[38;5;28;01mtry\u001b[39;00m:\n",
      "\u001b[36mFile \u001b[39m\u001b[32m/workspaces/Magentic-AlgoTrading101/myenv/lib/python3.12/site-packages/openai/_utils/_utils.py:279\u001b[39m, in \u001b[36mrequired_args.<locals>.inner.<locals>.wrapper\u001b[39m\u001b[34m(*args, **kwargs)\u001b[39m\n\u001b[32m    277\u001b[39m             msg = \u001b[33mf\u001b[39m\u001b[33m\"\u001b[39m\u001b[33mMissing required argument: \u001b[39m\u001b[38;5;132;01m{\u001b[39;00mquote(missing[\u001b[32m0\u001b[39m])\u001b[38;5;132;01m}\u001b[39;00m\u001b[33m\"\u001b[39m\n\u001b[32m    278\u001b[39m     \u001b[38;5;28;01mraise\u001b[39;00m \u001b[38;5;167;01mTypeError\u001b[39;00m(msg)\n\u001b[32m--> \u001b[39m\u001b[32m279\u001b[39m \u001b[38;5;28;01mreturn\u001b[39;00m \u001b[43mfunc\u001b[49m\u001b[43m(\u001b[49m\u001b[43m*\u001b[49m\u001b[43margs\u001b[49m\u001b[43m,\u001b[49m\u001b[43m \u001b[49m\u001b[43m*\u001b[49m\u001b[43m*\u001b[49m\u001b[43mkwargs\u001b[49m\u001b[43m)\u001b[49m\n",
      "\u001b[36mFile \u001b[39m\u001b[32m/workspaces/Magentic-AlgoTrading101/myenv/lib/python3.12/site-packages/openai/resources/chat/completions/completions.py:879\u001b[39m, in \u001b[36mCompletions.create\u001b[39m\u001b[34m(self, messages, model, audio, frequency_penalty, function_call, functions, logit_bias, logprobs, max_completion_tokens, max_tokens, metadata, modalities, n, parallel_tool_calls, prediction, presence_penalty, reasoning_effort, response_format, seed, service_tier, stop, store, stream, stream_options, temperature, tool_choice, tools, top_logprobs, top_p, user, extra_headers, extra_query, extra_body, timeout)\u001b[39m\n\u001b[32m    837\u001b[39m \u001b[38;5;129m@required_args\u001b[39m([\u001b[33m\"\u001b[39m\u001b[33mmessages\u001b[39m\u001b[33m\"\u001b[39m, \u001b[33m\"\u001b[39m\u001b[33mmodel\u001b[39m\u001b[33m\"\u001b[39m], [\u001b[33m\"\u001b[39m\u001b[33mmessages\u001b[39m\u001b[33m\"\u001b[39m, \u001b[33m\"\u001b[39m\u001b[33mmodel\u001b[39m\u001b[33m\"\u001b[39m, \u001b[33m\"\u001b[39m\u001b[33mstream\u001b[39m\u001b[33m\"\u001b[39m])\n\u001b[32m    838\u001b[39m \u001b[38;5;28;01mdef\u001b[39;00m\u001b[38;5;250m \u001b[39m\u001b[34mcreate\u001b[39m(\n\u001b[32m    839\u001b[39m     \u001b[38;5;28mself\u001b[39m,\n\u001b[32m   (...)\u001b[39m\u001b[32m    876\u001b[39m     timeout: \u001b[38;5;28mfloat\u001b[39m | httpx.Timeout | \u001b[38;5;28;01mNone\u001b[39;00m | NotGiven = NOT_GIVEN,\n\u001b[32m    877\u001b[39m ) -> ChatCompletion | Stream[ChatCompletionChunk]:\n\u001b[32m    878\u001b[39m     validate_response_format(response_format)\n\u001b[32m--> \u001b[39m\u001b[32m879\u001b[39m     \u001b[38;5;28;01mreturn\u001b[39;00m \u001b[38;5;28;43mself\u001b[39;49m\u001b[43m.\u001b[49m\u001b[43m_post\u001b[49m\u001b[43m(\u001b[49m\n\u001b[32m    880\u001b[39m \u001b[43m        \u001b[49m\u001b[33;43m\"\u001b[39;49m\u001b[33;43m/chat/completions\u001b[39;49m\u001b[33;43m\"\u001b[39;49m\u001b[43m,\u001b[49m\n\u001b[32m    881\u001b[39m \u001b[43m        \u001b[49m\u001b[43mbody\u001b[49m\u001b[43m=\u001b[49m\u001b[43mmaybe_transform\u001b[49m\u001b[43m(\u001b[49m\n\u001b[32m    882\u001b[39m \u001b[43m            \u001b[49m\u001b[43m{\u001b[49m\n\u001b[32m    883\u001b[39m \u001b[43m                \u001b[49m\u001b[33;43m\"\u001b[39;49m\u001b[33;43mmessages\u001b[39;49m\u001b[33;43m\"\u001b[39;49m\u001b[43m:\u001b[49m\u001b[43m \u001b[49m\u001b[43mmessages\u001b[49m\u001b[43m,\u001b[49m\n\u001b[32m    884\u001b[39m \u001b[43m                \u001b[49m\u001b[33;43m\"\u001b[39;49m\u001b[33;43mmodel\u001b[39;49m\u001b[33;43m\"\u001b[39;49m\u001b[43m:\u001b[49m\u001b[43m \u001b[49m\u001b[43mmodel\u001b[49m\u001b[43m,\u001b[49m\n\u001b[32m    885\u001b[39m \u001b[43m                \u001b[49m\u001b[33;43m\"\u001b[39;49m\u001b[33;43maudio\u001b[39;49m\u001b[33;43m\"\u001b[39;49m\u001b[43m:\u001b[49m\u001b[43m \u001b[49m\u001b[43maudio\u001b[49m\u001b[43m,\u001b[49m\n\u001b[32m    886\u001b[39m \u001b[43m                \u001b[49m\u001b[33;43m\"\u001b[39;49m\u001b[33;43mfrequency_penalty\u001b[39;49m\u001b[33;43m\"\u001b[39;49m\u001b[43m:\u001b[49m\u001b[43m \u001b[49m\u001b[43mfrequency_penalty\u001b[49m\u001b[43m,\u001b[49m\n\u001b[32m    887\u001b[39m \u001b[43m                \u001b[49m\u001b[33;43m\"\u001b[39;49m\u001b[33;43mfunction_call\u001b[39;49m\u001b[33;43m\"\u001b[39;49m\u001b[43m:\u001b[49m\u001b[43m \u001b[49m\u001b[43mfunction_call\u001b[49m\u001b[43m,\u001b[49m\n\u001b[32m    888\u001b[39m \u001b[43m                \u001b[49m\u001b[33;43m\"\u001b[39;49m\u001b[33;43mfunctions\u001b[39;49m\u001b[33;43m\"\u001b[39;49m\u001b[43m:\u001b[49m\u001b[43m \u001b[49m\u001b[43mfunctions\u001b[49m\u001b[43m,\u001b[49m\n\u001b[32m    889\u001b[39m \u001b[43m                \u001b[49m\u001b[33;43m\"\u001b[39;49m\u001b[33;43mlogit_bias\u001b[39;49m\u001b[33;43m\"\u001b[39;49m\u001b[43m:\u001b[49m\u001b[43m \u001b[49m\u001b[43mlogit_bias\u001b[49m\u001b[43m,\u001b[49m\n\u001b[32m    890\u001b[39m \u001b[43m                \u001b[49m\u001b[33;43m\"\u001b[39;49m\u001b[33;43mlogprobs\u001b[39;49m\u001b[33;43m\"\u001b[39;49m\u001b[43m:\u001b[49m\u001b[43m \u001b[49m\u001b[43mlogprobs\u001b[49m\u001b[43m,\u001b[49m\n\u001b[32m    891\u001b[39m \u001b[43m                \u001b[49m\u001b[33;43m\"\u001b[39;49m\u001b[33;43mmax_completion_tokens\u001b[39;49m\u001b[33;43m\"\u001b[39;49m\u001b[43m:\u001b[49m\u001b[43m \u001b[49m\u001b[43mmax_completion_tokens\u001b[49m\u001b[43m,\u001b[49m\n\u001b[32m    892\u001b[39m \u001b[43m                \u001b[49m\u001b[33;43m\"\u001b[39;49m\u001b[33;43mmax_tokens\u001b[39;49m\u001b[33;43m\"\u001b[39;49m\u001b[43m:\u001b[49m\u001b[43m \u001b[49m\u001b[43mmax_tokens\u001b[49m\u001b[43m,\u001b[49m\n\u001b[32m    893\u001b[39m \u001b[43m                \u001b[49m\u001b[33;43m\"\u001b[39;49m\u001b[33;43mmetadata\u001b[39;49m\u001b[33;43m\"\u001b[39;49m\u001b[43m:\u001b[49m\u001b[43m \u001b[49m\u001b[43mmetadata\u001b[49m\u001b[43m,\u001b[49m\n\u001b[32m    894\u001b[39m \u001b[43m                \u001b[49m\u001b[33;43m\"\u001b[39;49m\u001b[33;43mmodalities\u001b[39;49m\u001b[33;43m\"\u001b[39;49m\u001b[43m:\u001b[49m\u001b[43m \u001b[49m\u001b[43mmodalities\u001b[49m\u001b[43m,\u001b[49m\n\u001b[32m    895\u001b[39m \u001b[43m                \u001b[49m\u001b[33;43m\"\u001b[39;49m\u001b[33;43mn\u001b[39;49m\u001b[33;43m\"\u001b[39;49m\u001b[43m:\u001b[49m\u001b[43m \u001b[49m\u001b[43mn\u001b[49m\u001b[43m,\u001b[49m\n\u001b[32m    896\u001b[39m \u001b[43m                \u001b[49m\u001b[33;43m\"\u001b[39;49m\u001b[33;43mparallel_tool_calls\u001b[39;49m\u001b[33;43m\"\u001b[39;49m\u001b[43m:\u001b[49m\u001b[43m \u001b[49m\u001b[43mparallel_tool_calls\u001b[49m\u001b[43m,\u001b[49m\n\u001b[32m    897\u001b[39m \u001b[43m                \u001b[49m\u001b[33;43m\"\u001b[39;49m\u001b[33;43mprediction\u001b[39;49m\u001b[33;43m\"\u001b[39;49m\u001b[43m:\u001b[49m\u001b[43m \u001b[49m\u001b[43mprediction\u001b[49m\u001b[43m,\u001b[49m\n\u001b[32m    898\u001b[39m \u001b[43m                \u001b[49m\u001b[33;43m\"\u001b[39;49m\u001b[33;43mpresence_penalty\u001b[39;49m\u001b[33;43m\"\u001b[39;49m\u001b[43m:\u001b[49m\u001b[43m \u001b[49m\u001b[43mpresence_penalty\u001b[49m\u001b[43m,\u001b[49m\n\u001b[32m    899\u001b[39m \u001b[43m                \u001b[49m\u001b[33;43m\"\u001b[39;49m\u001b[33;43mreasoning_effort\u001b[39;49m\u001b[33;43m\"\u001b[39;49m\u001b[43m:\u001b[49m\u001b[43m \u001b[49m\u001b[43mreasoning_effort\u001b[49m\u001b[43m,\u001b[49m\n\u001b[32m    900\u001b[39m \u001b[43m                \u001b[49m\u001b[33;43m\"\u001b[39;49m\u001b[33;43mresponse_format\u001b[39;49m\u001b[33;43m\"\u001b[39;49m\u001b[43m:\u001b[49m\u001b[43m \u001b[49m\u001b[43mresponse_format\u001b[49m\u001b[43m,\u001b[49m\n\u001b[32m    901\u001b[39m \u001b[43m                \u001b[49m\u001b[33;43m\"\u001b[39;49m\u001b[33;43mseed\u001b[39;49m\u001b[33;43m\"\u001b[39;49m\u001b[43m:\u001b[49m\u001b[43m \u001b[49m\u001b[43mseed\u001b[49m\u001b[43m,\u001b[49m\n\u001b[32m    902\u001b[39m \u001b[43m                \u001b[49m\u001b[33;43m\"\u001b[39;49m\u001b[33;43mservice_tier\u001b[39;49m\u001b[33;43m\"\u001b[39;49m\u001b[43m:\u001b[49m\u001b[43m \u001b[49m\u001b[43mservice_tier\u001b[49m\u001b[43m,\u001b[49m\n\u001b[32m    903\u001b[39m \u001b[43m                \u001b[49m\u001b[33;43m\"\u001b[39;49m\u001b[33;43mstop\u001b[39;49m\u001b[33;43m\"\u001b[39;49m\u001b[43m:\u001b[49m\u001b[43m \u001b[49m\u001b[43mstop\u001b[49m\u001b[43m,\u001b[49m\n\u001b[32m    904\u001b[39m \u001b[43m                \u001b[49m\u001b[33;43m\"\u001b[39;49m\u001b[33;43mstore\u001b[39;49m\u001b[33;43m\"\u001b[39;49m\u001b[43m:\u001b[49m\u001b[43m \u001b[49m\u001b[43mstore\u001b[49m\u001b[43m,\u001b[49m\n\u001b[32m    905\u001b[39m \u001b[43m                \u001b[49m\u001b[33;43m\"\u001b[39;49m\u001b[33;43mstream\u001b[39;49m\u001b[33;43m\"\u001b[39;49m\u001b[43m:\u001b[49m\u001b[43m \u001b[49m\u001b[43mstream\u001b[49m\u001b[43m,\u001b[49m\n\u001b[32m    906\u001b[39m \u001b[43m                \u001b[49m\u001b[33;43m\"\u001b[39;49m\u001b[33;43mstream_options\u001b[39;49m\u001b[33;43m\"\u001b[39;49m\u001b[43m:\u001b[49m\u001b[43m \u001b[49m\u001b[43mstream_options\u001b[49m\u001b[43m,\u001b[49m\n\u001b[32m    907\u001b[39m \u001b[43m                \u001b[49m\u001b[33;43m\"\u001b[39;49m\u001b[33;43mtemperature\u001b[39;49m\u001b[33;43m\"\u001b[39;49m\u001b[43m:\u001b[49m\u001b[43m \u001b[49m\u001b[43mtemperature\u001b[49m\u001b[43m,\u001b[49m\n\u001b[32m    908\u001b[39m \u001b[43m                \u001b[49m\u001b[33;43m\"\u001b[39;49m\u001b[33;43mtool_choice\u001b[39;49m\u001b[33;43m\"\u001b[39;49m\u001b[43m:\u001b[49m\u001b[43m \u001b[49m\u001b[43mtool_choice\u001b[49m\u001b[43m,\u001b[49m\n\u001b[32m    909\u001b[39m \u001b[43m                \u001b[49m\u001b[33;43m\"\u001b[39;49m\u001b[33;43mtools\u001b[39;49m\u001b[33;43m\"\u001b[39;49m\u001b[43m:\u001b[49m\u001b[43m \u001b[49m\u001b[43mtools\u001b[49m\u001b[43m,\u001b[49m\n\u001b[32m    910\u001b[39m \u001b[43m                \u001b[49m\u001b[33;43m\"\u001b[39;49m\u001b[33;43mtop_logprobs\u001b[39;49m\u001b[33;43m\"\u001b[39;49m\u001b[43m:\u001b[49m\u001b[43m \u001b[49m\u001b[43mtop_logprobs\u001b[49m\u001b[43m,\u001b[49m\n\u001b[32m    911\u001b[39m \u001b[43m                \u001b[49m\u001b[33;43m\"\u001b[39;49m\u001b[33;43mtop_p\u001b[39;49m\u001b[33;43m\"\u001b[39;49m\u001b[43m:\u001b[49m\u001b[43m \u001b[49m\u001b[43mtop_p\u001b[49m\u001b[43m,\u001b[49m\n\u001b[32m    912\u001b[39m \u001b[43m                \u001b[49m\u001b[33;43m\"\u001b[39;49m\u001b[33;43muser\u001b[39;49m\u001b[33;43m\"\u001b[39;49m\u001b[43m:\u001b[49m\u001b[43m \u001b[49m\u001b[43muser\u001b[49m\u001b[43m,\u001b[49m\n\u001b[32m    913\u001b[39m \u001b[43m            \u001b[49m\u001b[43m}\u001b[49m\u001b[43m,\u001b[49m\n\u001b[32m    914\u001b[39m \u001b[43m            \u001b[49m\u001b[43mcompletion_create_params\u001b[49m\u001b[43m.\u001b[49m\u001b[43mCompletionCreateParams\u001b[49m\u001b[43m,\u001b[49m\n\u001b[32m    915\u001b[39m \u001b[43m        \u001b[49m\u001b[43m)\u001b[49m\u001b[43m,\u001b[49m\n\u001b[32m    916\u001b[39m \u001b[43m        \u001b[49m\u001b[43moptions\u001b[49m\u001b[43m=\u001b[49m\u001b[43mmake_request_options\u001b[49m\u001b[43m(\u001b[49m\n\u001b[32m    917\u001b[39m \u001b[43m            \u001b[49m\u001b[43mextra_headers\u001b[49m\u001b[43m=\u001b[49m\u001b[43mextra_headers\u001b[49m\u001b[43m,\u001b[49m\u001b[43m \u001b[49m\u001b[43mextra_query\u001b[49m\u001b[43m=\u001b[49m\u001b[43mextra_query\u001b[49m\u001b[43m,\u001b[49m\u001b[43m \u001b[49m\u001b[43mextra_body\u001b[49m\u001b[43m=\u001b[49m\u001b[43mextra_body\u001b[49m\u001b[43m,\u001b[49m\u001b[43m \u001b[49m\u001b[43mtimeout\u001b[49m\u001b[43m=\u001b[49m\u001b[43mtimeout\u001b[49m\n\u001b[32m    918\u001b[39m \u001b[43m        \u001b[49m\u001b[43m)\u001b[49m\u001b[43m,\u001b[49m\n\u001b[32m    919\u001b[39m \u001b[43m        \u001b[49m\u001b[43mcast_to\u001b[49m\u001b[43m=\u001b[49m\u001b[43mChatCompletion\u001b[49m\u001b[43m,\u001b[49m\n\u001b[32m    920\u001b[39m \u001b[43m        \u001b[49m\u001b[43mstream\u001b[49m\u001b[43m=\u001b[49m\u001b[43mstream\u001b[49m\u001b[43m \u001b[49m\u001b[38;5;129;43;01mor\u001b[39;49;00m\u001b[43m \u001b[49m\u001b[38;5;28;43;01mFalse\u001b[39;49;00m\u001b[43m,\u001b[49m\n\u001b[32m    921\u001b[39m \u001b[43m        \u001b[49m\u001b[43mstream_cls\u001b[49m\u001b[43m=\u001b[49m\u001b[43mStream\u001b[49m\u001b[43m[\u001b[49m\u001b[43mChatCompletionChunk\u001b[49m\u001b[43m]\u001b[49m\u001b[43m,\u001b[49m\n\u001b[32m    922\u001b[39m \u001b[43m    \u001b[49m\u001b[43m)\u001b[49m\n",
      "\u001b[36mFile \u001b[39m\u001b[32m/workspaces/Magentic-AlgoTrading101/myenv/lib/python3.12/site-packages/openai/_base_client.py:1296\u001b[39m, in \u001b[36mSyncAPIClient.post\u001b[39m\u001b[34m(self, path, cast_to, body, options, files, stream, stream_cls)\u001b[39m\n\u001b[32m   1282\u001b[39m \u001b[38;5;28;01mdef\u001b[39;00m\u001b[38;5;250m \u001b[39m\u001b[34mpost\u001b[39m(\n\u001b[32m   1283\u001b[39m     \u001b[38;5;28mself\u001b[39m,\n\u001b[32m   1284\u001b[39m     path: \u001b[38;5;28mstr\u001b[39m,\n\u001b[32m   (...)\u001b[39m\u001b[32m   1291\u001b[39m     stream_cls: \u001b[38;5;28mtype\u001b[39m[_StreamT] | \u001b[38;5;28;01mNone\u001b[39;00m = \u001b[38;5;28;01mNone\u001b[39;00m,\n\u001b[32m   1292\u001b[39m ) -> ResponseT | _StreamT:\n\u001b[32m   1293\u001b[39m     opts = FinalRequestOptions.construct(\n\u001b[32m   1294\u001b[39m         method=\u001b[33m\"\u001b[39m\u001b[33mpost\u001b[39m\u001b[33m\"\u001b[39m, url=path, json_data=body, files=to_httpx_files(files), **options\n\u001b[32m   1295\u001b[39m     )\n\u001b[32m-> \u001b[39m\u001b[32m1296\u001b[39m     \u001b[38;5;28;01mreturn\u001b[39;00m cast(ResponseT, \u001b[38;5;28;43mself\u001b[39;49m\u001b[43m.\u001b[49m\u001b[43mrequest\u001b[49m\u001b[43m(\u001b[49m\u001b[43mcast_to\u001b[49m\u001b[43m,\u001b[49m\u001b[43m \u001b[49m\u001b[43mopts\u001b[49m\u001b[43m,\u001b[49m\u001b[43m \u001b[49m\u001b[43mstream\u001b[49m\u001b[43m=\u001b[49m\u001b[43mstream\u001b[49m\u001b[43m,\u001b[49m\u001b[43m \u001b[49m\u001b[43mstream_cls\u001b[49m\u001b[43m=\u001b[49m\u001b[43mstream_cls\u001b[49m\u001b[43m)\u001b[49m)\n",
      "\u001b[36mFile \u001b[39m\u001b[32m/workspaces/Magentic-AlgoTrading101/myenv/lib/python3.12/site-packages/openai/_base_client.py:973\u001b[39m, in \u001b[36mSyncAPIClient.request\u001b[39m\u001b[34m(self, cast_to, options, remaining_retries, stream, stream_cls)\u001b[39m\n\u001b[32m    970\u001b[39m \u001b[38;5;28;01melse\u001b[39;00m:\n\u001b[32m    971\u001b[39m     retries_taken = \u001b[32m0\u001b[39m\n\u001b[32m--> \u001b[39m\u001b[32m973\u001b[39m \u001b[38;5;28;01mreturn\u001b[39;00m \u001b[38;5;28;43mself\u001b[39;49m\u001b[43m.\u001b[49m\u001b[43m_request\u001b[49m\u001b[43m(\u001b[49m\n\u001b[32m    974\u001b[39m \u001b[43m    \u001b[49m\u001b[43mcast_to\u001b[49m\u001b[43m=\u001b[49m\u001b[43mcast_to\u001b[49m\u001b[43m,\u001b[49m\n\u001b[32m    975\u001b[39m \u001b[43m    \u001b[49m\u001b[43moptions\u001b[49m\u001b[43m=\u001b[49m\u001b[43moptions\u001b[49m\u001b[43m,\u001b[49m\n\u001b[32m    976\u001b[39m \u001b[43m    \u001b[49m\u001b[43mstream\u001b[49m\u001b[43m=\u001b[49m\u001b[43mstream\u001b[49m\u001b[43m,\u001b[49m\n\u001b[32m    977\u001b[39m \u001b[43m    \u001b[49m\u001b[43mstream_cls\u001b[49m\u001b[43m=\u001b[49m\u001b[43mstream_cls\u001b[49m\u001b[43m,\u001b[49m\n\u001b[32m    978\u001b[39m \u001b[43m    \u001b[49m\u001b[43mretries_taken\u001b[49m\u001b[43m=\u001b[49m\u001b[43mretries_taken\u001b[49m\u001b[43m,\u001b[49m\n\u001b[32m    979\u001b[39m \u001b[43m\u001b[49m\u001b[43m)\u001b[49m\n",
      "\u001b[36mFile \u001b[39m\u001b[32m/workspaces/Magentic-AlgoTrading101/myenv/lib/python3.12/site-packages/openai/_base_client.py:1077\u001b[39m, in \u001b[36mSyncAPIClient._request\u001b[39m\u001b[34m(self, cast_to, options, retries_taken, stream, stream_cls)\u001b[39m\n\u001b[32m   1074\u001b[39m         err.response.read()\n\u001b[32m   1076\u001b[39m     log.debug(\u001b[33m\"\u001b[39m\u001b[33mRe-raising status error\u001b[39m\u001b[33m\"\u001b[39m)\n\u001b[32m-> \u001b[39m\u001b[32m1077\u001b[39m     \u001b[38;5;28;01mraise\u001b[39;00m \u001b[38;5;28mself\u001b[39m._make_status_error_from_response(err.response) \u001b[38;5;28;01mfrom\u001b[39;00m\u001b[38;5;250m \u001b[39m\u001b[38;5;28;01mNone\u001b[39;00m\n\u001b[32m   1079\u001b[39m \u001b[38;5;28;01mreturn\u001b[39;00m \u001b[38;5;28mself\u001b[39m._process_response(\n\u001b[32m   1080\u001b[39m     cast_to=cast_to,\n\u001b[32m   1081\u001b[39m     options=options,\n\u001b[32m   (...)\u001b[39m\u001b[32m   1085\u001b[39m     retries_taken=retries_taken,\n\u001b[32m   1086\u001b[39m )\n",
      "\u001b[31mBadRequestError\u001b[39m: Error code: 400 - {'error': {'message': \"This model's maximum context length is 16385 tokens. However, your messages resulted in 17583 tokens (17405 in the messages, 178 in the functions). Please reduce the length of the messages or functions.\", 'type': 'invalid_request_error', 'param': 'messages', 'code': 'context_length_exceeded'}}"
     ]
    }
   ],
   "source": [
    "input1 = \"What are the valutiom metrics for this sector\"\n",
    "result = agent_executor.invoke({\"input\": input1, \"chat_history\": chat_history})\n",
    "print(result['output'])"
   ]
  },
  {
   "cell_type": "code",
   "execution_count": null,
   "metadata": {},
   "outputs": [],
   "source": [
    "chat_history.extend(\n",
    "    [\n",
    "        HumanMessage(content=input1),\n",
    "        AIMessage(content=result[\"output\"]),\n",
    "    ]\n",
    ")\n",
    "agent_executor.invoke({\"input\": \"Which stock are recommented for this sector best performing sector\", \"chat_history\": chat_history})"
   ]
  },
  {
   "cell_type": "markdown",
   "metadata": {},
   "source": []
  }
 ],
 "metadata": {
  "kernelspec": {
   "display_name": "myenv",
   "language": "python",
   "name": "python3"
  },
  "language_info": {
   "codemirror_mode": {
    "name": "ipython",
    "version": 3
   },
   "file_extension": ".py",
   "mimetype": "text/x-python",
   "name": "python",
   "nbconvert_exporter": "python",
   "pygments_lexer": "ipython3",
   "version": "3.12.1"
  }
 },
 "nbformat": 4,
 "nbformat_minor": 2
}
