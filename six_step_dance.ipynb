{
 "cells": [
  {
   "cell_type": "markdown",
   "metadata": {},
   "source": [
    "#### @prompt example"
   ]
  },
  {
   "cell_type": "code",
   "execution_count": null,
   "metadata": {},
   "outputs": [],
   "source": [
    "from openbb import obb\n",
    "import os\n",
    "from magentic import prompt\n",
    "from openbb import obb\n",
    "obb.account.login(pat=os.environ['PAT_KEY'])\n",
    "FMP_KEY = os.environ['FMP_KEY']\n"
   ]
  },
  {
   "cell_type": "markdown",
   "metadata": {},
   "source": [
    "## Six Step Dance via Langchain\n",
    "1. Taking into Account Company Industry (Growth / Value)\n",
    "    1. Growth / Value\n",
    "    2. Sector outperforming market or not\n",
    "    3. Company outperforming sector\n",
    "    4. PE vs Industry\n",
    "2. Determining Company Financial Stability\n",
    "    1. Debt To Equity\n",
    "    2. Current Ratio\n",
    "    3. Interest Margin Cover\n",
    "3. Looking at Historical Earning and Growth\n",
    "    1. Sales Growth\n",
    "    2. EPS Growth\n",
    "    3. Return on Invested Capital\n",
    "    4. Profit Margin\n",
    "    5. Cashflow Growth\n",
    "    6. Equity Growth\n",
    "    7. Return on Equity\n",
    "4. Understanding Earnings and Sales Expectations\n",
    "    1. Analyst Estimates\n",
    "    2. PEG\n",
    "5. Checking out competition\n",
    "    1. P/E\n",
    "    2. P/S\n",
    "    3.MOAT\n",
    "6. Estimating Company Values\n",
    "    1. Insider Buying\n",
    "    2. Senate TRading\n",
    "    3. 13f\n",
    "\n",
    "## Buffett Criteria\n",
    "### Gross Margin Indicates profitability > 40% GrossProfit/Revenue GROSS PM close to 40 for recent years\n",
    "### SG&A Margin efficiency in managing overhead costs < 30% SG&A Expenses / Gross Profit\n",
    "### R&D Margin r&d spending relative to profitability < 30% R&D Expenses / Gross Profit\n",
    "### Interest Expense Margin reliance on debt and financial health < 15 % Interest Expense / Operating Income\n",
    "### Income Tax Margin Gauges tax efficiency ~ 20% Income Tax / Pre-Tax Income\n",
    "### Profit Margin Shows overall profitabilty relative to revenue > 20% Net Income / Revenue\n",
    "### EPS Growth Indicates growth and consistency in earnings >0 and growing Net Income / Shares Outstanding\n",
    "\n",
    "\n"
   ]
  },
  {
   "cell_type": "markdown",
   "metadata": {},
   "source": [
    "### Attempting to write a Small Agent"
   ]
  },
  {
   "cell_type": "code",
   "execution_count": null,
   "metadata": {},
   "outputs": [],
   "source": [
    "from langchain_openai import ChatOpenAI\n",
    "from langchain.agents import tool\n",
    "from langchain_core.prompts import ChatPromptTemplate, MessagesPlaceholder\n",
    "\n",
    "llm = ChatOpenAI(model=\"gpt-3.5-turbo\", temperature=0)"
   ]
  },
  {
   "cell_type": "code",
   "execution_count": 26,
   "metadata": {},
   "outputs": [
    {
     "data": {
      "text/plain": [
       "'[]'"
      ]
     },
     "execution_count": 26,
     "metadata": {},
     "output_type": "execute_result"
    }
   ],
   "source": [
    "@tool\n",
    "def get_performance(group:str) -> list:\n",
    "    \"\"\" Return performance by sector or industyr industry performance for last week, last month, last quarter, last half year and last year\"\"\"\n",
    "    return obb.equity.compare.groups(group=group, metric='performance', provider='finviz').to_llm()\n",
    "\n",
    "@tool\n",
    "def get_strong_buy_for_sector(sector : str) -> list :\n",
    "    \"\"\" Return the strong buy recommendation for a given sector\"\"\"\n",
    "    new_sector = '_'.join(sector.lower().split())\n",
    "    data = obb.equity.screener(provider='finviz', sector=new_sector, recommendation='buy')\n",
    "    return data.to_llm()\n",
    "\n",
    "@tool\n",
    "def get_best_stock_performers_for_sector(sector:str) -> list :\n",
    "    \"\"\" Return the best  10 stock performers for last week and last month for a sector\"\"\"\n",
    "    data = obb.equity.screener(provider='finviz', filters_dict={'Sector' : sector, 'Performance' : 'Week Up', 'Performance 2' : 'Month Up'}, limit=10)\n",
    "    return data.to_llm()\n",
    "\n",
    "@tool\n",
    "def get_best_stock_performers_for_industry(industry:str) -> list :\n",
    "    \"\"\" Return the best  10 stock performers for last week and last month for a sector\"\"\"\n",
    "    data = obb.equity.screener(provider='finviz', filters_dict={'Sector' : industry, 'Performance' : 'Week Up', 'Performance 2' : 'Month Up'}, limit=10)\n",
    "    return data.to_llm()\n",
    "\n",
    "@tool\n",
    "def get_valuation_for_sectors(input:str) -> list:\n",
    "    \"\"\" Return valuation metrics for the sector provided as input\"\"\"\n",
    "    data = obb.equity.compare.groups(group='sector', metric='valuation', provider='finviz').to_df()\n",
    "    \n",
    "    filtered =  data[data.name == input]\n",
    "    return filtered.to_json(\n",
    "            orient=\"records\",\n",
    "            date_format=\"iso\",\n",
    "            date_unit=\"s\",\n",
    "        )\n",
    "\n",
    "@tool\n",
    "def get_valuation_for_industries(input:str) -> list:\n",
    "    \"\"\" Return valuation meetrics for the industry provided as input\"\"\"\n",
    "    data =  obb.equity.compare.groups(group='industry', metric='valuation', provider='finviz').to_df()\n",
    "    filtered =  data[data.name == input]\n",
    "    return filtered.to_json(\n",
    "            orient=\"records\",\n",
    "            date_format=\"iso\",\n",
    "            date_unit=\"s\",\n",
    "        )\n",
    "\n",
    "\n",
    "@tool\n",
    "def get_valuation_for_company(ticker:str) -> list:\n",
    "    \"\"\" Return Valuation Ratios  for a company\"\"\"#\n",
    "    # requires obb login\n",
    "    obb.account.login(pat=os.environ['PAT_KEY'])\n",
    "    return obb.equity.fundamental.ratios_ttm(symbol='AAPL', provider='fmp', limit=1).to_llm()\n",
    "\n",
    "#get_strong_buy_for_sector.invoke('Consumer Cyclical')\n",
    "get_valuation_for_sectors.invoke('Financials')"
   ]
  },
  {
   "cell_type": "code",
   "execution_count": 27,
   "metadata": {},
   "outputs": [],
   "source": [
    "from langchain_core.prompts import ChatPromptTemplate, MessagesPlaceholder\n",
    "\n",
    "prompt = ChatPromptTemplate.from_messages(\n",
    "    [\n",
    "        (\n",
    "            \"system\",\n",
    "            \"You are very powerful stock financial analys, but don't know current events. Use the toools as much as you can to retrieve informations\",\n",
    "        ),\n",
    "        (\"user\", \"{input}\"),\n",
    "        MessagesPlaceholder(variable_name=\"agent_scratchpad\"),\n",
    "    ]\n",
    ")"
   ]
  },
  {
   "cell_type": "code",
   "execution_count": 36,
   "metadata": {},
   "outputs": [],
   "source": [
    "tools = [get_performance, get_strong_buy_for_sector, get_best_stock_performers_for_sector, get_valuation_for_sectors, get_valuation_for_industries,get_valuation_for_company]\n",
    "llm_with_tools = llm.bind_tools(tools)"
   ]
  },
  {
   "cell_type": "code",
   "execution_count": 37,
   "metadata": {},
   "outputs": [],
   "source": [
    "from langchain.agents.format_scratchpad.openai_tools import (\n",
    "    format_to_openai_tool_messages,\n",
    ")\n",
    "from langchain.agents.output_parsers.openai_tools import OpenAIToolsAgentOutputParser\n",
    "from langchain_core.output_parsers import StrOutputParser, CommaSeparatedListOutputParser\n",
    "\n",
    "agent = (\n",
    "    {\n",
    "        \"input\": lambda x: x[\"input\"],\n",
    "        \"agent_scratchpad\": lambda x: format_to_openai_tool_messages(\n",
    "            x[\"intermediate_steps\"]\n",
    "        ),\n",
    "    }\n",
    "    | prompt\n",
    "    | llm_with_tools\n",
    "    | OpenAIToolsAgentOutputParser()\n",
    ")"
   ]
  },
  {
   "cell_type": "markdown",
   "metadata": {},
   "source": [
    "### Chat Memory"
   ]
  },
  {
   "cell_type": "code",
   "execution_count": 38,
   "metadata": {},
   "outputs": [],
   "source": [
    "from langchain_core.prompts import MessagesPlaceholder\n",
    "from langchain.memory import ConversationTokenBufferMemory\n",
    "#from langchain_core.messages import count_tokens_approximately\n",
    "from langchain.agents.format_scratchpad.openai_tools import (\n",
    "    format_to_openai_tool_messages,\n",
    ")\n",
    "from langchain.agents.output_parsers.openai_tools import OpenAIToolsAgentOutputParser\n",
    "from langchain_core.output_parsers import StrOutputParser, CommaSeparatedListOutputParser\n",
    "from langchain.agents import AgentExecutor\n",
    "from langchain_core.messages import AIMessage, HumanMessage\n",
    "\n",
    "\n",
    "\n",
    "\n",
    "MEMORY_KEY = \"chat_history\"\n",
    "prompt = ChatPromptTemplate.from_messages(\n",
    "    [\n",
    "        (\n",
    "            \"system\",\n",
    "            \"You are very powerful stock recommendation assistant , but dont know current events so you should use your tools as much as you can.\",\n",
    "        ),\n",
    "        MessagesPlaceholder(variable_name=MEMORY_KEY),\n",
    "        (\"user\", \"{input}\"),\n",
    "        MessagesPlaceholder(variable_name=\"agent_scratchpad\"),\n",
    "    ]\n",
    ")"
   ]
  },
  {
   "cell_type": "code",
   "execution_count": 39,
   "metadata": {},
   "outputs": [],
   "source": [
    "chat_history = []\n",
    "chat_history.append(HumanMessage(content=\"Your question here\"))\n",
    "chat_history.append(AIMessage(content=\"AI response here\"))\n",
    "memory = ConversationTokenBufferMemory(\n",
    "    llm=llm,  # Required for token counting\n",
    "    max_token_limit=14000,  # Leave buffer for functions + responses\n",
    "    memory_key=\"chat_history\",  # Must match your prompt's key\n",
    "    return_messages=True\n",
    ")\n",
    "\n",
    "agent = (\n",
    "    {\n",
    "        \"input\": lambda x: x[\"input\"],\n",
    "        \"agent_scratchpad\": lambda x: format_to_openai_tool_messages(\n",
    "            x[\"intermediate_steps\"]\n",
    "        ),\n",
    "        \"chat_history\": lambda x: memory.load_memory_variables(x)[\"chat_history\"],\n",
    "    }\n",
    "    | prompt\n",
    "    | llm_with_tools\n",
    "    | OpenAIToolsAgentOutputParser()\n",
    ")\n",
    "agent_executor = AgentExecutor(agent=agent, tools=tools, verbose=True)"
   ]
  },
  {
   "cell_type": "code",
   "execution_count": 40,
   "metadata": {},
   "outputs": [
    {
     "name": "stdout",
     "output_type": "stream",
     "text": [
      "\n",
      "\n",
      "\u001b[1m> Entering new AgentExecutor chain...\u001b[0m\n",
      "\u001b[32;1m\u001b[1;3m\n",
      "Invoking: `get_performance` with `{'group': 'sector'}`\n",
      "\n",
      "\n",
      "\u001b[0m\u001b[36;1m\u001b[1;3m[{\"name\":\"Healthcare\",\"performance_1d\":-0.0076,\"performance_1w\":-0.018,\"performance_1m\":-0.035,\"performance_3m\":0.0322,\"performance_6m\":-0.0886,\"performance_1y\":-0.0347,\"performance_ytd\":0.032,\"analyst_recommendation\":1.82,\"volume\":3710000000,\"volume_average\":1700000000,\"volume_relative\":2.18},{\"name\":\"Utilities\",\"performance_1d\":0.0014,\"performance_1w\":-0.014,\"performance_1m\":-0.0175,\"performance_3m\":0.0217,\"performance_6m\":-0.0193,\"performance_1y\":0.2149,\"performance_ytd\":0.0233,\"analyst_recommendation\":2.11,\"volume\":193060000,\"volume_average\":254330000,\"volume_relative\":0.76},{\"name\":\"Basic Materials\",\"performance_1d\":-0.0046,\"performance_1w\":-0.0119,\"performance_1m\":0.0007,\"performance_3m\":0.0567,\"performance_6m\":-0.0514,\"performance_1y\":-0.0243,\"performance_ytd\":0.0668,\"analyst_recommendation\":2.04,\"volume\":594820000,\"volume_average\":651870000,\"volume_relative\":0.91},{\"name\":\"Real Estate\",\"performance_1d\":0.0046,\"performance_1w\":-0.0057,\"performance_1m\":-0.026,\"performance_3m\":0.0204,\"performance_6m\":-0.0758,\"performance_1y\":0.0698,\"performance_ytd\":0.0168,\"analyst_recommendation\":1.97,\"volume\":313690000,\"volume_average\":375050000,\"volume_relative\":0.84},{\"name\":\"Technology\",\"performance_1d\":-0.0254,\"performance_1w\":-0.0042,\"performance_1m\":-0.0697,\"performance_3m\":-0.1008,\"performance_6m\":-0.0201,\"performance_1y\":0.0768,\"performance_ytd\":-0.0883,\"analyst_recommendation\":1.72,\"volume\":2700000000,\"volume_average\":2830000000,\"volume_relative\":0.96},{\"name\":\"Industrials\",\"performance_1d\":-0.007,\"performance_1w\":0.0005,\"performance_1m\":-0.0149,\"performance_3m\":-0.0173,\"performance_6m\":-0.0224,\"performance_1y\":0.0208,\"performance_ytd\":-0.0084,\"analyst_recommendation\":2.09,\"volume\":750310000,\"volume_average\":984740000,\"volume_relative\":0.76},{\"name\":\"Consumer Defensive\",\"performance_1d\":0.0114,\"performance_1w\":0.0013,\"performance_1m\":-0.0444,\"performance_3m\":0.0051,\"performance_6m\":-0.0186,\"performance_1y\":0.0777,\"performance_ytd\":0.0169,\"analyst_recommendation\":2.01,\"volume\":469620000,\"volume_average\":468890000,\"volume_relative\":1.0},{\"name\":\"Financial\",\"performance_1d\":-0.005,\"performance_1w\":0.0142,\"performance_1m\":-0.0029,\"performance_3m\":0.0487,\"performance_6m\":0.1031,\"performance_1y\":0.216,\"performance_ytd\":0.0479,\"analyst_recommendation\":2.05,\"volume\":1120000000,\"volume_average\":1250000000,\"volume_relative\":0.89},{\"name\":\"Energy\",\"performance_1d\":0.0058,\"performance_1w\":0.0145,\"performance_1m\":0.0489,\"performance_3m\":0.1102,\"performance_6m\":0.0407,\"performance_1y\":0.0218,\"performance_ytd\":0.0806,\"analyst_recommendation\":1.88,\"volume\":579700000,\"volume_average\":682120000,\"volume_relative\":0.85},{\"name\":\"Communication Services\",\"performance_1d\":-0.0184,\"performance_1w\":0.0173,\"performance_1m\":-0.0414,\"performance_3m\":-0.0162,\"performance_6m\":0.0895,\"performance_1y\":0.1667,\"performance_ytd\":-0.0075,\"analyst_recommendation\":1.65,\"volume\":778040000,\"volume_average\":666090000,\"volume_relative\":1.17},{\"name\":\"Consumer Cyclical\",\"performance_1d\":-0.0155,\"performance_1w\":0.0202,\"performance_1m\":-0.055,\"performance_3m\":-0.0878,\"performance_6m\":0.0228,\"performance_1y\":0.0673,\"performance_ytd\":-0.074,\"analyst_recommendation\":1.8,\"volume\":1640000000,\"volume_average\":1460000000,\"volume_relative\":1.13}]\u001b[0m\u001b[32;1m\u001b[1;3m\n",
      "Invoking: `get_valuation_for_sectors` with `{'input': 'Financial'}`\n",
      "responded: The sector that has shown a constant positive performance across the quarter, month, and week is the **Financial** sector. \n",
      "\n",
      "Now, I will extract the valuation metrics for the Financial sector.\n",
      "\n",
      "\u001b[0m\u001b[36;1m\u001b[1;3m[{\"name\":\"Financial\",\"market_cap\":12718260000000,\"performance_1d\":-0.005,\"pe\":17.96,\"forward_pe\":14.73,\"peg\":1.75,\"eps_growth_past_5y\":0.0919,\"eps_growth_next_5y\":0.1029,\"volume\":1120000000,\"price_to_sales\":2.16,\"price_to_book\":2.22,\"price_to_cash\":10.31,\"price_to_free_cash_flow\":12.91,\"sales_growth_past_5_years\":0.1708}]\u001b[0m\u001b[32;1m\u001b[1;3mThe valuation metrics for the Financial sector are as follows:\n",
      "- Market Cap: $12,718,260,000,000\n",
      "- PE Ratio: 17.96\n",
      "- Forward PE Ratio: 14.73\n",
      "- PEG Ratio: 1.75\n",
      "- EPS Growth (Past 5 Years): 9.19%\n",
      "- EPS Growth (Next 5 Years): 10.29%\n",
      "- Price to Sales Ratio: 2.16\n",
      "- Price to Book Ratio: 2.22\n",
      "- Price to Cash Ratio: 10.31\n",
      "- Price to Free Cash Flow Ratio: 12.91\n",
      "- Sales Growth (Past 5 Years): 17.08%\u001b[0m\n",
      "\n",
      "\u001b[1m> Finished chain.\u001b[0m\n",
      "The valuation metrics for the Financial sector are as follows:\n",
      "- Market Cap: $12,718,260,000,000\n",
      "- PE Ratio: 17.96\n",
      "- Forward PE Ratio: 14.73\n",
      "- PEG Ratio: 1.75\n",
      "- EPS Growth (Past 5 Years): 9.19%\n",
      "- EPS Growth (Next 5 Years): 10.29%\n",
      "- Price to Sales Ratio: 2.16\n",
      "- Price to Book Ratio: 2.22\n",
      "- Price to Cash Ratio: 10.31\n",
      "- Price to Free Cash Flow Ratio: 12.91\n",
      "- Sales Growth (Past 5 Years): 17.08%\n"
     ]
    }
   ],
   "source": [
    "input1 = \"Find the sector that has shown a constant postive performance across quarter, month and week.Once you get it, please extract its valuation metrics\"\n",
    "result = agent_executor.invoke({\"input\": input1, \"chat_history\": chat_history})\n",
    "chat_history.extend(\n",
    "    [\n",
    "        HumanMessage(content=input1),\n",
    "        AIMessage(content=result[\"output\"]),\n",
    "    ]\n",
    ")\n",
    "print(result['output'])"
   ]
  },
  {
   "cell_type": "code",
   "execution_count": 41,
   "metadata": {},
   "outputs": [
    {
     "name": "stdout",
     "output_type": "stream",
     "text": [
      "\n",
      "\n",
      "\u001b[1m> Entering new AgentExecutor chain...\u001b[0m\n",
      "\u001b[32;1m\u001b[1;3m\n",
      "Invoking: `get_best_stock_performers_for_sector` with `{'sector': 'Technology'}`\n",
      "\n",
      "\n",
      "\u001b[0m\u001b[38;5;200m\u001b[1;3m[{\"symbol\":\"VVPR\",\"name\":\"VivoPower International PLC\",\"country\":\"United Kingdom\",\"sector\":\"Technology\",\"industry\":\"Solar\",\"market_cap\":18560000.0,\"price\":4.18,\"change_percent\":0.8496,\"volume\":141677402},{\"symbol\":\"VS\",\"name\":\"Versus Systems Inc\",\"country\":\"Canada\",\"sector\":\"Technology\",\"industry\":\"Software - Application\",\"market_cap\":6450000.0,\"price\":2.35,\"change_percent\":0.1244,\"volume\":142005},{\"symbol\":\"AEVA\",\"name\":\"Aeva Technologies Inc\",\"country\":\"USA\",\"sector\":\"Technology\",\"industry\":\"Software - Infrastructure\",\"market_cap\":312500000.0,\"price\":5.8,\"change_percent\":0.1175,\"volume\":2731338},{\"symbol\":\"TDTH\",\"name\":\"Trident Digital Tech Holdings Ltd. ADR\",\"country\":\"Singapore\",\"sector\":\"Technology\",\"industry\":\"Information Technology Services\",\"market_cap\":85320000.0,\"price\":1.51,\"change_percent\":0.071,\"volume\":158168},{\"symbol\":\"FCUV\",\"name\":\"Focus Universal Inc\",\"country\":\"USA\",\"sector\":\"Technology\",\"industry\":\"Scientific & Technical Instruments\",\"market_cap\":35570000.0,\"price\":5.0,\"change_percent\":0.0707,\"volume\":13193},{\"symbol\":\"CLRO\",\"name\":\"ClearOne Inc\",\"country\":\"USA\",\"sector\":\"Technology\",\"industry\":\"Communication Equipment\",\"market_cap\":15540000.0,\"price\":0.65,\"change_percent\":0.0632,\"volume\":15764},{\"symbol\":\"XBP\",\"name\":\"XBP Europe Holdings Inc\",\"country\":\"USA\",\"sector\":\"Technology\",\"industry\":\"Software - Infrastructure\",\"market_cap\":39160000.0,\"price\":1.29,\"change_percent\":0.0574,\"volume\":2958},{\"symbol\":\"GLE\",\"name\":\"Global Engine Group Holding Ltd\",\"country\":\"Hong Kong\",\"sector\":\"Technology\",\"industry\":\"Information Technology Services\",\"market_cap\":36050000.0,\"price\":1.97,\"change_percent\":0.0535,\"volume\":15868},{\"symbol\":\"GRAB\",\"name\":\"Grab Holdings Limited\",\"country\":\"Singapore\",\"sector\":\"Technology\",\"industry\":\"Software - Application\",\"market_cap\":19470000000.0,\"price\":4.78,\"change_percent\":0.0529,\"volume\":34217447},{\"symbol\":\"SATX\",\"name\":\"SatixFy Communications Ltd\",\"country\":\"Israel\",\"sector\":\"Technology\",\"industry\":\"Communication Equipment\",\"market_cap\":120440000.0,\"price\":1.42,\"change_percent\":0.0365,\"volume\":109481}]\u001b[0m\u001b[32;1m\u001b[1;3m\n",
      "Invoking: `get_valuation_for_company` with `{'ticker': 'VVPR'}`\n",
      "\n",
      "\n",
      "\u001b[0m"
     ]
    },
    {
     "ename": "AttributeError",
     "evalue": "'ROUTER_equity_fundamental' object has no attribute 'ratios_ttm'",
     "output_type": "error",
     "traceback": [
      "\u001b[31m---------------------------------------------------------------------------\u001b[39m",
      "\u001b[31mAttributeError\u001b[39m                            Traceback (most recent call last)",
      "\u001b[36mCell\u001b[39m\u001b[36m \u001b[39m\u001b[32mIn[41]\u001b[39m\u001b[32m, line 2\u001b[39m\n\u001b[32m      1\u001b[39m input1 = \u001b[33m\"\u001b[39m\u001b[33mNow find me the best performers for this sector, and once you find them get the valuation metrics for the top 3\u001b[39m\u001b[33m\"\u001b[39m\n\u001b[32m----> \u001b[39m\u001b[32m2\u001b[39m result = \u001b[43magent_executor\u001b[49m\u001b[43m.\u001b[49m\u001b[43minvoke\u001b[49m\u001b[43m(\u001b[49m\u001b[43m{\u001b[49m\u001b[33;43m\"\u001b[39;49m\u001b[33;43minput\u001b[39;49m\u001b[33;43m\"\u001b[39;49m\u001b[43m:\u001b[49m\u001b[43m \u001b[49m\u001b[43minput1\u001b[49m\u001b[43m,\u001b[49m\u001b[43m \u001b[49m\u001b[33;43m\"\u001b[39;49m\u001b[33;43mchat_history\u001b[39;49m\u001b[33;43m\"\u001b[39;49m\u001b[43m:\u001b[49m\u001b[43m \u001b[49m\u001b[43mchat_history\u001b[49m\u001b[43m}\u001b[49m\u001b[43m)\u001b[49m\n\u001b[32m      3\u001b[39m \u001b[38;5;28mprint\u001b[39m(result[\u001b[33m'\u001b[39m\u001b[33moutput\u001b[39m\u001b[33m'\u001b[39m])\n",
      "\u001b[36mFile \u001b[39m\u001b[32m/workspaces/Magentic-AlgoTrading101/myenv/lib/python3.12/site-packages/langchain/chains/base.py:170\u001b[39m, in \u001b[36mChain.invoke\u001b[39m\u001b[34m(self, input, config, **kwargs)\u001b[39m\n\u001b[32m    168\u001b[39m \u001b[38;5;28;01mexcept\u001b[39;00m \u001b[38;5;167;01mBaseException\u001b[39;00m \u001b[38;5;28;01mas\u001b[39;00m e:\n\u001b[32m    169\u001b[39m     run_manager.on_chain_error(e)\n\u001b[32m--> \u001b[39m\u001b[32m170\u001b[39m     \u001b[38;5;28;01mraise\u001b[39;00m e\n\u001b[32m    171\u001b[39m run_manager.on_chain_end(outputs)\n\u001b[32m    173\u001b[39m \u001b[38;5;28;01mif\u001b[39;00m include_run_info:\n",
      "\u001b[36mFile \u001b[39m\u001b[32m/workspaces/Magentic-AlgoTrading101/myenv/lib/python3.12/site-packages/langchain/chains/base.py:160\u001b[39m, in \u001b[36mChain.invoke\u001b[39m\u001b[34m(self, input, config, **kwargs)\u001b[39m\n\u001b[32m    157\u001b[39m \u001b[38;5;28;01mtry\u001b[39;00m:\n\u001b[32m    158\u001b[39m     \u001b[38;5;28mself\u001b[39m._validate_inputs(inputs)\n\u001b[32m    159\u001b[39m     outputs = (\n\u001b[32m--> \u001b[39m\u001b[32m160\u001b[39m         \u001b[38;5;28;43mself\u001b[39;49m\u001b[43m.\u001b[49m\u001b[43m_call\u001b[49m\u001b[43m(\u001b[49m\u001b[43minputs\u001b[49m\u001b[43m,\u001b[49m\u001b[43m \u001b[49m\u001b[43mrun_manager\u001b[49m\u001b[43m=\u001b[49m\u001b[43mrun_manager\u001b[49m\u001b[43m)\u001b[49m\n\u001b[32m    161\u001b[39m         \u001b[38;5;28;01mif\u001b[39;00m new_arg_supported\n\u001b[32m    162\u001b[39m         \u001b[38;5;28;01melse\u001b[39;00m \u001b[38;5;28mself\u001b[39m._call(inputs)\n\u001b[32m    163\u001b[39m     )\n\u001b[32m    165\u001b[39m     final_outputs: Dict[\u001b[38;5;28mstr\u001b[39m, Any] = \u001b[38;5;28mself\u001b[39m.prep_outputs(\n\u001b[32m    166\u001b[39m         inputs, outputs, return_only_outputs\n\u001b[32m    167\u001b[39m     )\n\u001b[32m    168\u001b[39m \u001b[38;5;28;01mexcept\u001b[39;00m \u001b[38;5;167;01mBaseException\u001b[39;00m \u001b[38;5;28;01mas\u001b[39;00m e:\n",
      "\u001b[36mFile \u001b[39m\u001b[32m/workspaces/Magentic-AlgoTrading101/myenv/lib/python3.12/site-packages/langchain/agents/agent.py:1624\u001b[39m, in \u001b[36mAgentExecutor._call\u001b[39m\u001b[34m(self, inputs, run_manager)\u001b[39m\n\u001b[32m   1622\u001b[39m \u001b[38;5;66;03m# We now enter the agent loop (until it returns something).\u001b[39;00m\n\u001b[32m   1623\u001b[39m \u001b[38;5;28;01mwhile\u001b[39;00m \u001b[38;5;28mself\u001b[39m._should_continue(iterations, time_elapsed):\n\u001b[32m-> \u001b[39m\u001b[32m1624\u001b[39m     next_step_output = \u001b[38;5;28;43mself\u001b[39;49m\u001b[43m.\u001b[49m\u001b[43m_take_next_step\u001b[49m\u001b[43m(\u001b[49m\n\u001b[32m   1625\u001b[39m \u001b[43m        \u001b[49m\u001b[43mname_to_tool_map\u001b[49m\u001b[43m,\u001b[49m\n\u001b[32m   1626\u001b[39m \u001b[43m        \u001b[49m\u001b[43mcolor_mapping\u001b[49m\u001b[43m,\u001b[49m\n\u001b[32m   1627\u001b[39m \u001b[43m        \u001b[49m\u001b[43minputs\u001b[49m\u001b[43m,\u001b[49m\n\u001b[32m   1628\u001b[39m \u001b[43m        \u001b[49m\u001b[43mintermediate_steps\u001b[49m\u001b[43m,\u001b[49m\n\u001b[32m   1629\u001b[39m \u001b[43m        \u001b[49m\u001b[43mrun_manager\u001b[49m\u001b[43m=\u001b[49m\u001b[43mrun_manager\u001b[49m\u001b[43m,\u001b[49m\n\u001b[32m   1630\u001b[39m \u001b[43m    \u001b[49m\u001b[43m)\u001b[49m\n\u001b[32m   1631\u001b[39m     \u001b[38;5;28;01mif\u001b[39;00m \u001b[38;5;28misinstance\u001b[39m(next_step_output, AgentFinish):\n\u001b[32m   1632\u001b[39m         \u001b[38;5;28;01mreturn\u001b[39;00m \u001b[38;5;28mself\u001b[39m._return(\n\u001b[32m   1633\u001b[39m             next_step_output, intermediate_steps, run_manager=run_manager\n\u001b[32m   1634\u001b[39m         )\n",
      "\u001b[36mFile \u001b[39m\u001b[32m/workspaces/Magentic-AlgoTrading101/myenv/lib/python3.12/site-packages/langchain/agents/agent.py:1330\u001b[39m, in \u001b[36mAgentExecutor._take_next_step\u001b[39m\u001b[34m(self, name_to_tool_map, color_mapping, inputs, intermediate_steps, run_manager)\u001b[39m\n\u001b[32m   1321\u001b[39m \u001b[38;5;28;01mdef\u001b[39;00m\u001b[38;5;250m \u001b[39m\u001b[34m_take_next_step\u001b[39m(\n\u001b[32m   1322\u001b[39m     \u001b[38;5;28mself\u001b[39m,\n\u001b[32m   1323\u001b[39m     name_to_tool_map: Dict[\u001b[38;5;28mstr\u001b[39m, BaseTool],\n\u001b[32m   (...)\u001b[39m\u001b[32m   1327\u001b[39m     run_manager: Optional[CallbackManagerForChainRun] = \u001b[38;5;28;01mNone\u001b[39;00m,\n\u001b[32m   1328\u001b[39m ) -> Union[AgentFinish, List[Tuple[AgentAction, \u001b[38;5;28mstr\u001b[39m]]]:\n\u001b[32m   1329\u001b[39m     \u001b[38;5;28;01mreturn\u001b[39;00m \u001b[38;5;28mself\u001b[39m._consume_next_step(\n\u001b[32m-> \u001b[39m\u001b[32m1330\u001b[39m         \u001b[43m[\u001b[49m\n\u001b[32m   1331\u001b[39m \u001b[43m            \u001b[49m\u001b[43ma\u001b[49m\n\u001b[32m   1332\u001b[39m \u001b[43m            \u001b[49m\u001b[38;5;28;43;01mfor\u001b[39;49;00m\u001b[43m \u001b[49m\u001b[43ma\u001b[49m\u001b[43m \u001b[49m\u001b[38;5;129;43;01min\u001b[39;49;00m\u001b[43m \u001b[49m\u001b[38;5;28;43mself\u001b[39;49m\u001b[43m.\u001b[49m\u001b[43m_iter_next_step\u001b[49m\u001b[43m(\u001b[49m\n\u001b[32m   1333\u001b[39m \u001b[43m                \u001b[49m\u001b[43mname_to_tool_map\u001b[49m\u001b[43m,\u001b[49m\n\u001b[32m   1334\u001b[39m \u001b[43m                \u001b[49m\u001b[43mcolor_mapping\u001b[49m\u001b[43m,\u001b[49m\n\u001b[32m   1335\u001b[39m \u001b[43m                \u001b[49m\u001b[43minputs\u001b[49m\u001b[43m,\u001b[49m\n\u001b[32m   1336\u001b[39m \u001b[43m                \u001b[49m\u001b[43mintermediate_steps\u001b[49m\u001b[43m,\u001b[49m\n\u001b[32m   1337\u001b[39m \u001b[43m                \u001b[49m\u001b[43mrun_manager\u001b[49m\u001b[43m,\u001b[49m\n\u001b[32m   1338\u001b[39m \u001b[43m            \u001b[49m\u001b[43m)\u001b[49m\n\u001b[32m   1339\u001b[39m \u001b[43m        \u001b[49m\u001b[43m]\u001b[49m\n\u001b[32m   1340\u001b[39m     )\n",
      "\u001b[36mFile \u001b[39m\u001b[32m/workspaces/Magentic-AlgoTrading101/myenv/lib/python3.12/site-packages/langchain/agents/agent.py:1415\u001b[39m, in \u001b[36mAgentExecutor._iter_next_step\u001b[39m\u001b[34m(self, name_to_tool_map, color_mapping, inputs, intermediate_steps, run_manager)\u001b[39m\n\u001b[32m   1413\u001b[39m     \u001b[38;5;28;01myield\u001b[39;00m agent_action\n\u001b[32m   1414\u001b[39m \u001b[38;5;28;01mfor\u001b[39;00m agent_action \u001b[38;5;129;01min\u001b[39;00m actions:\n\u001b[32m-> \u001b[39m\u001b[32m1415\u001b[39m     \u001b[38;5;28;01myield\u001b[39;00m \u001b[38;5;28;43mself\u001b[39;49m\u001b[43m.\u001b[49m\u001b[43m_perform_agent_action\u001b[49m\u001b[43m(\u001b[49m\n\u001b[32m   1416\u001b[39m \u001b[43m        \u001b[49m\u001b[43mname_to_tool_map\u001b[49m\u001b[43m,\u001b[49m\u001b[43m \u001b[49m\u001b[43mcolor_mapping\u001b[49m\u001b[43m,\u001b[49m\u001b[43m \u001b[49m\u001b[43magent_action\u001b[49m\u001b[43m,\u001b[49m\u001b[43m \u001b[49m\u001b[43mrun_manager\u001b[49m\n\u001b[32m   1417\u001b[39m \u001b[43m    \u001b[49m\u001b[43m)\u001b[49m\n",
      "\u001b[36mFile \u001b[39m\u001b[32m/workspaces/Magentic-AlgoTrading101/myenv/lib/python3.12/site-packages/langchain/agents/agent.py:1437\u001b[39m, in \u001b[36mAgentExecutor._perform_agent_action\u001b[39m\u001b[34m(self, name_to_tool_map, color_mapping, agent_action, run_manager)\u001b[39m\n\u001b[32m   1435\u001b[39m         tool_run_kwargs[\u001b[33m\"\u001b[39m\u001b[33mllm_prefix\u001b[39m\u001b[33m\"\u001b[39m] = \u001b[33m\"\u001b[39m\u001b[33m\"\u001b[39m\n\u001b[32m   1436\u001b[39m     \u001b[38;5;66;03m# We then call the tool on the tool input to get an observation\u001b[39;00m\n\u001b[32m-> \u001b[39m\u001b[32m1437\u001b[39m     observation = \u001b[43mtool\u001b[49m\u001b[43m.\u001b[49m\u001b[43mrun\u001b[49m\u001b[43m(\u001b[49m\n\u001b[32m   1438\u001b[39m \u001b[43m        \u001b[49m\u001b[43magent_action\u001b[49m\u001b[43m.\u001b[49m\u001b[43mtool_input\u001b[49m\u001b[43m,\u001b[49m\n\u001b[32m   1439\u001b[39m \u001b[43m        \u001b[49m\u001b[43mverbose\u001b[49m\u001b[43m=\u001b[49m\u001b[38;5;28;43mself\u001b[39;49m\u001b[43m.\u001b[49m\u001b[43mverbose\u001b[49m\u001b[43m,\u001b[49m\n\u001b[32m   1440\u001b[39m \u001b[43m        \u001b[49m\u001b[43mcolor\u001b[49m\u001b[43m=\u001b[49m\u001b[43mcolor\u001b[49m\u001b[43m,\u001b[49m\n\u001b[32m   1441\u001b[39m \u001b[43m        \u001b[49m\u001b[43mcallbacks\u001b[49m\u001b[43m=\u001b[49m\u001b[43mrun_manager\u001b[49m\u001b[43m.\u001b[49m\u001b[43mget_child\u001b[49m\u001b[43m(\u001b[49m\u001b[43m)\u001b[49m\u001b[43m \u001b[49m\u001b[38;5;28;43;01mif\u001b[39;49;00m\u001b[43m \u001b[49m\u001b[43mrun_manager\u001b[49m\u001b[43m \u001b[49m\u001b[38;5;28;43;01melse\u001b[39;49;00m\u001b[43m \u001b[49m\u001b[38;5;28;43;01mNone\u001b[39;49;00m\u001b[43m,\u001b[49m\n\u001b[32m   1442\u001b[39m \u001b[43m        \u001b[49m\u001b[43m*\u001b[49m\u001b[43m*\u001b[49m\u001b[43mtool_run_kwargs\u001b[49m\u001b[43m,\u001b[49m\n\u001b[32m   1443\u001b[39m \u001b[43m    \u001b[49m\u001b[43m)\u001b[49m\n\u001b[32m   1444\u001b[39m \u001b[38;5;28;01melse\u001b[39;00m:\n\u001b[32m   1445\u001b[39m     tool_run_kwargs = \u001b[38;5;28mself\u001b[39m._action_agent.tool_run_logging_kwargs()\n",
      "\u001b[36mFile \u001b[39m\u001b[32m/workspaces/Magentic-AlgoTrading101/myenv/lib/python3.12/site-packages/langchain_core/tools/base.py:760\u001b[39m, in \u001b[36mBaseTool.run\u001b[39m\u001b[34m(self, tool_input, verbose, start_color, color, callbacks, tags, metadata, run_name, run_id, config, tool_call_id, **kwargs)\u001b[39m\n\u001b[32m    758\u001b[39m \u001b[38;5;28;01mif\u001b[39;00m error_to_raise:\n\u001b[32m    759\u001b[39m     run_manager.on_tool_error(error_to_raise)\n\u001b[32m--> \u001b[39m\u001b[32m760\u001b[39m     \u001b[38;5;28;01mraise\u001b[39;00m error_to_raise\n\u001b[32m    761\u001b[39m output = _format_output(content, artifact, tool_call_id, \u001b[38;5;28mself\u001b[39m.name, status)\n\u001b[32m    762\u001b[39m run_manager.on_tool_end(output, color=color, name=\u001b[38;5;28mself\u001b[39m.name, **kwargs)\n",
      "\u001b[36mFile \u001b[39m\u001b[32m/workspaces/Magentic-AlgoTrading101/myenv/lib/python3.12/site-packages/langchain_core/tools/base.py:729\u001b[39m, in \u001b[36mBaseTool.run\u001b[39m\u001b[34m(self, tool_input, verbose, start_color, color, callbacks, tags, metadata, run_name, run_id, config, tool_call_id, **kwargs)\u001b[39m\n\u001b[32m    727\u001b[39m \u001b[38;5;28;01mif\u001b[39;00m config_param := _get_runnable_config_param(\u001b[38;5;28mself\u001b[39m._run):\n\u001b[32m    728\u001b[39m     tool_kwargs = tool_kwargs | {config_param: config}\n\u001b[32m--> \u001b[39m\u001b[32m729\u001b[39m response = \u001b[43mcontext\u001b[49m\u001b[43m.\u001b[49m\u001b[43mrun\u001b[49m\u001b[43m(\u001b[49m\u001b[38;5;28;43mself\u001b[39;49m\u001b[43m.\u001b[49m\u001b[43m_run\u001b[49m\u001b[43m,\u001b[49m\u001b[43m \u001b[49m\u001b[43m*\u001b[49m\u001b[43mtool_args\u001b[49m\u001b[43m,\u001b[49m\u001b[43m \u001b[49m\u001b[43m*\u001b[49m\u001b[43m*\u001b[49m\u001b[43mtool_kwargs\u001b[49m\u001b[43m)\u001b[49m\n\u001b[32m    730\u001b[39m \u001b[38;5;28;01mif\u001b[39;00m \u001b[38;5;28mself\u001b[39m.response_format == \u001b[33m\"\u001b[39m\u001b[33mcontent_and_artifact\u001b[39m\u001b[33m\"\u001b[39m:\n\u001b[32m    731\u001b[39m     \u001b[38;5;28;01mif\u001b[39;00m \u001b[38;5;129;01mnot\u001b[39;00m \u001b[38;5;28misinstance\u001b[39m(response, \u001b[38;5;28mtuple\u001b[39m) \u001b[38;5;129;01mor\u001b[39;00m \u001b[38;5;28mlen\u001b[39m(response) != \u001b[32m2\u001b[39m:\n",
      "\u001b[36mFile \u001b[39m\u001b[32m/workspaces/Magentic-AlgoTrading101/myenv/lib/python3.12/site-packages/langchain_core/tools/structured.py:86\u001b[39m, in \u001b[36mStructuredTool._run\u001b[39m\u001b[34m(self, config, run_manager, *args, **kwargs)\u001b[39m\n\u001b[32m     84\u001b[39m     \u001b[38;5;28;01mif\u001b[39;00m config_param := _get_runnable_config_param(\u001b[38;5;28mself\u001b[39m.func):\n\u001b[32m     85\u001b[39m         kwargs[config_param] = config\n\u001b[32m---> \u001b[39m\u001b[32m86\u001b[39m     \u001b[38;5;28;01mreturn\u001b[39;00m \u001b[38;5;28;43mself\u001b[39;49m\u001b[43m.\u001b[49m\u001b[43mfunc\u001b[49m\u001b[43m(\u001b[49m\u001b[43m*\u001b[49m\u001b[43margs\u001b[49m\u001b[43m,\u001b[49m\u001b[43m \u001b[49m\u001b[43m*\u001b[49m\u001b[43m*\u001b[49m\u001b[43mkwargs\u001b[49m\u001b[43m)\u001b[49m\n\u001b[32m     87\u001b[39m msg = \u001b[33m\"\u001b[39m\u001b[33mStructuredTool does not support sync invocation.\u001b[39m\u001b[33m\"\u001b[39m\n\u001b[32m     88\u001b[39m \u001b[38;5;28;01mraise\u001b[39;00m \u001b[38;5;167;01mNotImplementedError\u001b[39;00m(msg)\n",
      "\u001b[36mCell\u001b[39m\u001b[36m \u001b[39m\u001b[32mIn[26]\u001b[39m\u001b[32m, line 54\u001b[39m, in \u001b[36mget_valuation_for_company\u001b[39m\u001b[34m(ticker)\u001b[39m\n\u001b[32m     52\u001b[39m \u001b[38;5;66;03m# requires obb login\u001b[39;00m\n\u001b[32m     53\u001b[39m obb.account.login(pat=os.environ[\u001b[33m'\u001b[39m\u001b[33mPAT_KEY\u001b[39m\u001b[33m'\u001b[39m])\n\u001b[32m---> \u001b[39m\u001b[32m54\u001b[39m \u001b[38;5;28;01mreturn\u001b[39;00m \u001b[43mobb\u001b[49m\u001b[43m.\u001b[49m\u001b[43mequity\u001b[49m\u001b[43m.\u001b[49m\u001b[43mfundamental\u001b[49m\u001b[43m.\u001b[49m\u001b[43mratios_ttm\u001b[49m(symbol=\u001b[33m'\u001b[39m\u001b[33mAAPL\u001b[39m\u001b[33m'\u001b[39m, provider=\u001b[33m'\u001b[39m\u001b[33mfmp\u001b[39m\u001b[33m'\u001b[39m, limit=\u001b[32m1\u001b[39m).to_llm()\n",
      "\u001b[31mAttributeError\u001b[39m: 'ROUTER_equity_fundamental' object has no attribute 'ratios_ttm'"
     ]
    }
   ],
   "source": [
    "input1 = \"Now find me the best performers for this sector, and once you find them get the valuation metrics for the top 3\"\n",
    "result = agent_executor.invoke({\"input\": input1, \"chat_history\": chat_history})\n",
    "print(result['output'])"
   ]
  },
  {
   "cell_type": "code",
   "execution_count": null,
   "metadata": {},
   "outputs": [],
   "source": []
  },
  {
   "cell_type": "code",
   "execution_count": null,
   "metadata": {},
   "outputs": [],
   "source": [
    "chat_history.extend(\n",
    "    [\n",
    "        HumanMessage(content=input1),\n",
    "        AIMessage(content=result[\"output\"]),\n",
    "    ]\n",
    ")\n",
    "agent_executor.invoke({\"input\": \"Which stock are recommented for this sector best performing sector\", \"chat_history\": chat_history})"
   ]
  },
  {
   "cell_type": "markdown",
   "metadata": {},
   "source": []
  }
 ],
 "metadata": {
  "kernelspec": {
   "display_name": "myenv",
   "language": "python",
   "name": "python3"
  },
  "language_info": {
   "codemirror_mode": {
    "name": "ipython",
    "version": 3
   },
   "file_extension": ".py",
   "mimetype": "text/x-python",
   "name": "python",
   "nbconvert_exporter": "python",
   "pygments_lexer": "ipython3",
   "version": "3.12.1"
  }
 },
 "nbformat": 4,
 "nbformat_minor": 2
}
