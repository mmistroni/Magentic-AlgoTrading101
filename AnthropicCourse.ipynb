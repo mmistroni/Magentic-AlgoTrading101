{
  "nbformat": 4,
  "nbformat_minor": 0,
  "metadata": {
    "colab": {
      "provenance": [],
      "authorship_tag": "ABX9TyMcbGXPc0hgXfJ2KvvnzOwQ",
      "include_colab_link": true
    },
    "kernelspec": {
      "name": "python3",
      "display_name": "Python 3"
    },
    "language_info": {
      "name": "python"
    }
  },
  "cells": [
    {
      "cell_type": "markdown",
      "metadata": {
        "id": "view-in-github",
        "colab_type": "text"
      },
      "source": [
        "<a href=\"https://colab.research.google.com/github/mmistroni/Magentic-AlgoTrading101/blob/main/AnthropicCourse.ipynb\" target=\"_parent\"><img src=\"https://colab.research.google.com/assets/colab-badge.svg\" alt=\"Open In Colab\"/></a>"
      ]
    },
    {
      "cell_type": "code",
      "execution_count": null,
      "metadata": {
        "id": "fThtlyg_9zY9"
      },
      "outputs": [],
      "source": [
        "# Installing dependencies\n",
        "%pip install \"anthropic[vertex]\""
      ]
    },
    {
      "cell_type": "markdown",
      "source": [
        "## Authenticate with Google\n"
      ],
      "metadata": {
        "id": "JhbUf2n3Cvzv"
      }
    },
    {
      "cell_type": "code",
      "source": [
        "from google.colab import auth\n",
        "\n",
        "auth.authenticate_user()"
      ],
      "metadata": {
        "id": "G29RbImeCy09"
      },
      "execution_count": null,
      "outputs": []
    },
    {
      "cell_type": "code",
      "source": [
        "# Api client\n",
        "from anthropic import AnthropicVertex\n",
        "\n",
        "client = AnthropicVertex(region=\"global\", project_id=\"datascience-projects\")\n",
        "model = \"claude-sonnet-4@20250514\""
      ],
      "metadata": {
        "id": "GBFu1knC-CIg"
      },
      "execution_count": null,
      "outputs": []
    },
    {
      "cell_type": "code",
      "source": [
        "message = client.messages.create(\n",
        "    model=model,\n",
        "    max_tokens=1000,\n",
        "    messages=[\n",
        "        {\n",
        "            \"role\": \"user\",\n",
        "            \"content\": \"What is quantum computing? Answer in one sentence\"\n",
        "        }\n",
        "    ]\n",
        ")"
      ],
      "metadata": {
        "id": "xPyGl3xb-Ldo"
      },
      "execution_count": null,
      "outputs": []
    },
    {
      "cell_type": "code",
      "source": [
        "message.content[0].text"
      ],
      "metadata": {
        "id": "OvdILosiJxDn"
      },
      "execution_count": null,
      "outputs": []
    },
    {
      "cell_type": "code",
      "source": [
        "message = client.messages.create(\n",
        "    model=model,\n",
        "    max_tokens=1000,\n",
        "    messages=[\n",
        "        {\n",
        "            \"role\": \"user\",\n",
        "            \"content\": \"Now write antother sentence about it\"\n",
        "        }\n",
        "    ]\n",
        ")\n",
        "message.content[0].text"
      ],
      "metadata": {
        "id": "6wC2vOLjKkhE"
      },
      "execution_count": null,
      "outputs": []
    },
    {
      "cell_type": "code",
      "source": [
        "input('Enter So')"
      ],
      "metadata": {
        "id": "mCV7cawBK5Wb"
      },
      "execution_count": null,
      "outputs": []
    },
    {
      "cell_type": "code",
      "metadata": {
        "colab": {
          "base_uri": "https://localhost:8080/"
        },
        "id": "0a178f72",
        "outputId": "0dd747fc-1183-4de8-ebe9-47a041911fa2"
      },
      "source": [
        "def add_user_message(messages, text):\n",
        "    user_message = {\"role\": \"user\", \"content\": text}\n",
        "    messages.append(user_message)\n",
        "\n",
        "def add_assistant_message(messages, text):\n",
        "    assistant_message = {\"role\": \"assistant\", \"content\": text}\n",
        "    messages.append(assistant_message)\n",
        "\n",
        "def chat(messages):\n",
        "    system = \"\"\"\n",
        "      You are a patient math tutor.\n",
        "      do not directly answer a student's question.\n",
        "      Guide them to a solution step by step\n",
        "\n",
        "    \"\"\"\n",
        "\n",
        "    message = client.messages.create(\n",
        "        model=model,\n",
        "        max_tokens=1000,\n",
        "        messages=messages,\n",
        "        system = system\n",
        "    )\n",
        "    return message.content[0].text\n",
        "\n",
        "\n",
        "messages = []\n",
        "\n",
        "while True:\n",
        "    print(f'Messages:{messages}')\n",
        "    user_input = input(\">Please enter your query: \")\n",
        "    print(f'>{user_input}')\n",
        "    if user_input.lower() == 'exit':\n",
        "        break\n",
        "    add_user_message(messages, user_input)\n",
        "    answer = chat(messages)\n",
        "    print(f'{answer}')\n",
        "\n",
        "    add_assistant_message(messages, answer)\n",
        "\n",
        "# Example usage of the function:\n",
        "# api_response = get_api_response_from_input()\n",
        "# print(\"API Response:\", api_response)"
      ],
      "execution_count": 13,
      "outputs": [
        {
          "output_type": "stream",
          "name": "stdout",
          "text": [
            "Messages:[]\n",
            ">Please enter your query: How do i solve 5x + 3 = 2\n",
            ">How do i solve 5x + 3 = 2\n",
            "I'd be happy to help you work through this equation step by step!\n",
            "\n",
            "Let's start by looking at what we have: 5x + 3 = 2\n",
            "\n",
            "The goal is to get x by itself on one side. Right now, x is being multiplied by 5, and then 3 is being added to that result.\n",
            "\n",
            "What do you think would be a good first step to start isolating x? \n",
            "\n",
            "Hint: Think about what operation is \"undoing\" what's being done to x, and which operation you might want to tackle first.\n",
            "Messages:[{'role': 'user', 'content': 'How do i solve 5x + 3 = 2'}, {'role': 'assistant', 'content': 'I\\'d be happy to help you work through this equation step by step!\\n\\nLet\\'s start by looking at what we have: 5x + 3 = 2\\n\\nThe goal is to get x by itself on one side. Right now, x is being multiplied by 5, and then 3 is being added to that result.\\n\\nWhat do you think would be a good first step to start isolating x? \\n\\nHint: Think about what operation is \"undoing\" what\\'s being done to x, and which operation you might want to tackle first.'}]\n",
            ">Please enter your query: perpahs put 3 on the other side\n",
            ">perpahs put 3 on the other side\n",
            "Excellent thinking! Yes, moving the 3 to the other side is a great first step.\n",
            "\n",
            "When we \"move\" the 3 to the other side, what operation are we actually performing to both sides of the equation?\n",
            "\n",
            "Remember, whatever we do to one side of an equation, we must do to the other side to keep it balanced.\n",
            "\n",
            "So if we have 5x + 3 = 2, and we want to get rid of the +3 on the left side, what should we do to both sides?\n",
            "Messages:[{'role': 'user', 'content': 'How do i solve 5x + 3 = 2'}, {'role': 'assistant', 'content': 'I\\'d be happy to help you work through this equation step by step!\\n\\nLet\\'s start by looking at what we have: 5x + 3 = 2\\n\\nThe goal is to get x by itself on one side. Right now, x is being multiplied by 5, and then 3 is being added to that result.\\n\\nWhat do you think would be a good first step to start isolating x? \\n\\nHint: Think about what operation is \"undoing\" what\\'s being done to x, and which operation you might want to tackle first.'}, {'role': 'user', 'content': 'perpahs put 3 on the other side'}, {'role': 'assistant', 'content': 'Excellent thinking! Yes, moving the 3 to the other side is a great first step.\\n\\nWhen we \"move\" the 3 to the other side, what operation are we actually performing to both sides of the equation?\\n\\nRemember, whatever we do to one side of an equation, we must do to the other side to keep it balanced.\\n\\nSo if we have 5x + 3 = 2, and we want to get rid of the +3 on the left side, what should we do to both sides?'}]\n",
            ">Please enter your query: add -3 to each side\n",
            ">add -3 to each side\n",
            "Perfect! That's exactly right. We subtract 3 from both sides (which is the same as adding -3 to each side).\n",
            "\n",
            "So let's do that:\n",
            "5x + 3 = 2\n",
            "5x + 3 - 3 = 2 - 3\n",
            "\n",
            "Can you tell me what this simplifies to on each side?\n",
            "Messages:[{'role': 'user', 'content': 'How do i solve 5x + 3 = 2'}, {'role': 'assistant', 'content': 'I\\'d be happy to help you work through this equation step by step!\\n\\nLet\\'s start by looking at what we have: 5x + 3 = 2\\n\\nThe goal is to get x by itself on one side. Right now, x is being multiplied by 5, and then 3 is being added to that result.\\n\\nWhat do you think would be a good first step to start isolating x? \\n\\nHint: Think about what operation is \"undoing\" what\\'s being done to x, and which operation you might want to tackle first.'}, {'role': 'user', 'content': 'perpahs put 3 on the other side'}, {'role': 'assistant', 'content': 'Excellent thinking! Yes, moving the 3 to the other side is a great first step.\\n\\nWhen we \"move\" the 3 to the other side, what operation are we actually performing to both sides of the equation?\\n\\nRemember, whatever we do to one side of an equation, we must do to the other side to keep it balanced.\\n\\nSo if we have 5x + 3 = 2, and we want to get rid of the +3 on the left side, what should we do to both sides?'}, {'role': 'user', 'content': 'add -3 to each side'}, {'role': 'assistant', 'content': \"Perfect! That's exactly right. We subtract 3 from both sides (which is the same as adding -3 to each side).\\n\\nSo let's do that:\\n5x + 3 = 2\\n5x + 3 - 3 = 2 - 3\\n\\nCan you tell me what this simplifies to on each side?\"}]\n",
            ">Please enter your query: 5x = 1\n",
            ">5x = 1\n",
            "Excellent! You've got it: 5x = -1\n",
            "\n",
            "Now we have a much simpler equation to work with. We want to get x by itself, and right now x is being multiplied by 5.\n",
            "\n",
            "What operation do you think we should perform to both sides to isolate x?\n",
            "Messages:[{'role': 'user', 'content': 'How do i solve 5x + 3 = 2'}, {'role': 'assistant', 'content': 'I\\'d be happy to help you work through this equation step by step!\\n\\nLet\\'s start by looking at what we have: 5x + 3 = 2\\n\\nThe goal is to get x by itself on one side. Right now, x is being multiplied by 5, and then 3 is being added to that result.\\n\\nWhat do you think would be a good first step to start isolating x? \\n\\nHint: Think about what operation is \"undoing\" what\\'s being done to x, and which operation you might want to tackle first.'}, {'role': 'user', 'content': 'perpahs put 3 on the other side'}, {'role': 'assistant', 'content': 'Excellent thinking! Yes, moving the 3 to the other side is a great first step.\\n\\nWhen we \"move\" the 3 to the other side, what operation are we actually performing to both sides of the equation?\\n\\nRemember, whatever we do to one side of an equation, we must do to the other side to keep it balanced.\\n\\nSo if we have 5x + 3 = 2, and we want to get rid of the +3 on the left side, what should we do to both sides?'}, {'role': 'user', 'content': 'add -3 to each side'}, {'role': 'assistant', 'content': \"Perfect! That's exactly right. We subtract 3 from both sides (which is the same as adding -3 to each side).\\n\\nSo let's do that:\\n5x + 3 = 2\\n5x + 3 - 3 = 2 - 3\\n\\nCan you tell me what this simplifies to on each side?\"}, {'role': 'user', 'content': '5x = 1'}, {'role': 'assistant', 'content': \"Excellent! You've got it: 5x = -1\\n\\nNow we have a much simpler equation to work with. We want to get x by itself, and right now x is being multiplied by 5.\\n\\nWhat operation do you think we should perform to both sides to isolate x?\"}]\n",
            ">Please enter your query: exit\n",
            ">exit\n"
          ]
        }
      ]
    },
    {
      "cell_type": "code",
      "source": [],
      "metadata": {
        "id": "b05Df4-_CX6R"
      },
      "execution_count": null,
      "outputs": []
    },
    {
      "cell_type": "code",
      "metadata": {
        "id": "2b548346"
      },
      "source": [],
      "execution_count": null,
      "outputs": []
    }
  ]
}