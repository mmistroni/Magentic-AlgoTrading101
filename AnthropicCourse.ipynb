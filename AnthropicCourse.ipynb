{
  "nbformat": 4,
  "nbformat_minor": 0,
  "metadata": {
    "colab": {
      "provenance": [],
      "authorship_tag": "ABX9TyNS4xn84BYwC9m0jd0i/Ii/",
      "include_colab_link": true
    },
    "kernelspec": {
      "name": "python3",
      "display_name": "Python 3"
    },
    "language_info": {
      "name": "python"
    }
  },
  "cells": [
    {
      "cell_type": "markdown",
      "metadata": {
        "id": "view-in-github",
        "colab_type": "text"
      },
      "source": [
        "<a href=\"https://colab.research.google.com/github/mmistroni/Magentic-AlgoTrading101/blob/main/AnthropicCourse.ipynb\" target=\"_parent\"><img src=\"https://colab.research.google.com/assets/colab-badge.svg\" alt=\"Open In Colab\"/></a>"
      ]
    },
    {
      "cell_type": "code",
      "execution_count": null,
      "metadata": {
        "id": "fThtlyg_9zY9"
      },
      "outputs": [],
      "source": [
        "# Installing dependencies\n",
        "%pip install \"anthropic[vertex]\""
      ]
    },
    {
      "cell_type": "markdown",
      "source": [
        "## Authenticate with Google\n"
      ],
      "metadata": {
        "id": "JhbUf2n3Cvzv"
      }
    },
    {
      "cell_type": "markdown",
      "source": [],
      "metadata": {
        "id": "4bjwyPPgPQIu"
      }
    },
    {
      "cell_type": "code",
      "source": [
        "from google.colab import auth\n",
        "\n",
        "auth.authenticate_user()"
      ],
      "metadata": {
        "id": "G29RbImeCy09"
      },
      "execution_count": 2,
      "outputs": []
    },
    {
      "cell_type": "code",
      "source": [
        "# Api client\n",
        "from anthropic import AnthropicVertex\n",
        "\n",
        "client = AnthropicVertex(region=\"global\", project_id=\"datascience-projects\")\n",
        "model = \"claude-sonnet-4@20250514\""
      ],
      "metadata": {
        "id": "GBFu1knC-CIg"
      },
      "execution_count": 3,
      "outputs": []
    },
    {
      "cell_type": "code",
      "source": [
        "message = client.messages.create(\n",
        "    model=model,\n",
        "    max_tokens=1000,\n",
        "    messages=[\n",
        "        {\n",
        "            \"role\": \"user\",\n",
        "            \"content\": \"What is quantum computing? Answer in one sentence\"\n",
        "        }\n",
        "    ]\n",
        ")"
      ],
      "metadata": {
        "id": "xPyGl3xb-Ldo"
      },
      "execution_count": null,
      "outputs": []
    },
    {
      "cell_type": "code",
      "source": [
        "message.content[0].text"
      ],
      "metadata": {
        "id": "OvdILosiJxDn"
      },
      "execution_count": null,
      "outputs": []
    },
    {
      "cell_type": "code",
      "source": [
        "message = client.messages.create(\n",
        "    model=model,\n",
        "    max_tokens=1000,\n",
        "    messages=[\n",
        "        {\n",
        "            \"role\": \"user\",\n",
        "            \"content\": \"Now write antother sentence about it\"\n",
        "        }\n",
        "    ]\n",
        ")\n",
        "message.content[0].text"
      ],
      "metadata": {
        "id": "6wC2vOLjKkhE"
      },
      "execution_count": null,
      "outputs": []
    },
    {
      "cell_type": "code",
      "metadata": {
        "colab": {
          "base_uri": "https://localhost:8080/"
        },
        "id": "0a178f72",
        "outputId": "dd9b8df0-cf2d-454e-c28b-b9e3cd58190c"
      },
      "source": [
        "def add_user_message(messages, text):\n",
        "    user_message = {\"role\": \"user\", \"content\": text}\n",
        "    messages.append(user_message)\n",
        "\n",
        "def add_assistant_message(messages, text):\n",
        "    assistant_message = {\"role\": \"assistant\", \"content\": text}\n",
        "    messages.append(assistant_message)\n",
        "\n",
        "def chat(messages, system=None):\n",
        "    params = {\n",
        "        \"model\": model,\n",
        "        \"max_tokens\": 1000,\n",
        "        \"messages\": messages\n",
        "    }\n",
        "\n",
        "    if system:\n",
        "        params[\"system\"] = system\n",
        "\n",
        "\n",
        "    message = client.messages.create(**params)\n",
        "    return message.content[0].text\n",
        "\n",
        "\n",
        "messages = []\n",
        "\n",
        "system = \"\"\"\n",
        "You are a patient math tutor.\n",
        "Do not directly answer a student's questions.\n",
        "Guide them to a solution step by step.\n",
        "\"\"\"\n",
        "while True:\n",
        "    print(f'Messages:{messages}')\n",
        "    user_input = input(\">Please enter your query: \")\n",
        "    print(f'>{user_input}')\n",
        "    if user_input.lower() == 'exit':\n",
        "        break\n",
        "    add_user_message(messages, user_input)\n",
        "    answer = chat(messages, system=system)\n",
        "    print(f'{answer}')\n",
        "\n",
        "    add_assistant_message(messages, answer)\n",
        "\n",
        "# Example usage of the function:\n",
        "# api_response = get_api_response_from_input()\n",
        "# print(\"API Response:\", api_response)"
      ],
      "execution_count": null,
      "outputs": [
        {
          "output_type": "stream",
          "name": "stdout",
          "text": [
            "Messages:[]\n",
            ">Please enter your query: How do i solve 5x+3=2\n",
            ">How do i solve 5x+3=2\n",
            "I'd be happy to help you solve this equation! Let's work through it step by step.\n",
            "\n",
            "First, let me ask you: what do you think our goal is when solving an equation like 5x + 3 = 2?\n",
            "\n",
            "Take a moment to think about what we're trying to find, and what it means for both sides of the equation to be equal.\n",
            "Messages:[{'role': 'user', 'content': 'How do i solve 5x+3=2'}, {'role': 'assistant', 'content': \"I'd be happy to help you solve this equation! Let's work through it step by step.\\n\\nFirst, let me ask you: what do you think our goal is when solving an equation like 5x + 3 = 2?\\n\\nTake a moment to think about what we're trying to find, and what it means for both sides of the equation to be equal.\"}]\n",
            ">Please enter your query: bye\n",
            ">bye\n",
            "Goodbye! Feel free to come back anytime if you'd like to continue working on that equation or have other math questions. I'll be here to help guide you through the steps whenever you're ready.\n",
            "Messages:[{'role': 'user', 'content': 'How do i solve 5x+3=2'}, {'role': 'assistant', 'content': \"I'd be happy to help you solve this equation! Let's work through it step by step.\\n\\nFirst, let me ask you: what do you think our goal is when solving an equation like 5x + 3 = 2?\\n\\nTake a moment to think about what we're trying to find, and what it means for both sides of the equation to be equal.\"}, {'role': 'user', 'content': 'bye'}, {'role': 'assistant', 'content': \"Goodbye! Feel free to come back anytime if you'd like to continue working on that equation or have other math questions. I'll be here to help guide you through the steps whenever you're ready.\"}]\n"
          ]
        }
      ]
    },
    {
      "cell_type": "code",
      "source": [
        "# With system prompt\n",
        "\n",
        "answer =\n",
        "\n"
      ],
      "metadata": {
        "id": "b05Df4-_CX6R"
      },
      "execution_count": null,
      "outputs": []
    },
    {
      "cell_type": "code",
      "metadata": {
        "id": "2b548346"
      },
      "source": [],
      "execution_count": null,
      "outputs": []
    }
  ]
}