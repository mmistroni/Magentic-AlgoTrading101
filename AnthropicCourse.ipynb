{
  "cells": [
    {
      "cell_type": "markdown",
      "metadata": {
        "id": "view-in-github",
        "colab_type": "text"
      },
      "source": [
        "<a href=\"https://colab.research.google.com/github/mmistroni/Magentic-AlgoTrading101/blob/main/AnthropicCourse.ipynb\" target=\"_parent\"><img src=\"https://colab.research.google.com/assets/colab-badge.svg\" alt=\"Open In Colab\"/></a>"
      ]
    },
    {
      "cell_type": "code",
      "execution_count": 1,
      "metadata": {
        "id": "fThtlyg_9zY9",
        "colab": {
          "base_uri": "https://localhost:8080/"
        },
        "outputId": "e6a4893d-e210-4564-a621-30aadde958e1"
      },
      "outputs": [
        {
          "output_type": "stream",
          "name": "stdout",
          "text": [
            "Collecting anthropic[vertex]\n",
            "  Downloading anthropic-0.66.0-py3-none-any.whl.metadata (27 kB)\n",
            "Requirement already satisfied: anyio<5,>=3.5.0 in /usr/local/lib/python3.12/dist-packages (from anthropic[vertex]) (4.10.0)\n",
            "Requirement already satisfied: distro<2,>=1.7.0 in /usr/local/lib/python3.12/dist-packages (from anthropic[vertex]) (1.9.0)\n",
            "Requirement already satisfied: httpx<1,>=0.25.0 in /usr/local/lib/python3.12/dist-packages (from anthropic[vertex]) (0.28.1)\n",
            "Requirement already satisfied: jiter<1,>=0.4.0 in /usr/local/lib/python3.12/dist-packages (from anthropic[vertex]) (0.10.0)\n",
            "Requirement already satisfied: pydantic<3,>=1.9.0 in /usr/local/lib/python3.12/dist-packages (from anthropic[vertex]) (2.11.7)\n",
            "Requirement already satisfied: sniffio in /usr/local/lib/python3.12/dist-packages (from anthropic[vertex]) (1.3.1)\n",
            "Requirement already satisfied: typing-extensions<5,>=4.10 in /usr/local/lib/python3.12/dist-packages (from anthropic[vertex]) (4.15.0)\n",
            "Requirement already satisfied: google-auth<3,>=2 in /usr/local/lib/python3.12/dist-packages (from google-auth[requests]<3,>=2; extra == \"vertex\"->anthropic[vertex]) (2.38.0)\n",
            "Requirement already satisfied: idna>=2.8 in /usr/local/lib/python3.12/dist-packages (from anyio<5,>=3.5.0->anthropic[vertex]) (3.10)\n",
            "Requirement already satisfied: cachetools<6.0,>=2.0.0 in /usr/local/lib/python3.12/dist-packages (from google-auth<3,>=2->google-auth[requests]<3,>=2; extra == \"vertex\"->anthropic[vertex]) (5.5.2)\n",
            "Requirement already satisfied: pyasn1-modules>=0.2.1 in /usr/local/lib/python3.12/dist-packages (from google-auth<3,>=2->google-auth[requests]<3,>=2; extra == \"vertex\"->anthropic[vertex]) (0.4.2)\n",
            "Requirement already satisfied: rsa<5,>=3.1.4 in /usr/local/lib/python3.12/dist-packages (from google-auth<3,>=2->google-auth[requests]<3,>=2; extra == \"vertex\"->anthropic[vertex]) (4.9.1)\n",
            "Requirement already satisfied: requests<3.0.0.dev0,>=2.20.0 in /usr/local/lib/python3.12/dist-packages (from google-auth[requests]<3,>=2; extra == \"vertex\"->anthropic[vertex]) (2.32.4)\n",
            "Requirement already satisfied: certifi in /usr/local/lib/python3.12/dist-packages (from httpx<1,>=0.25.0->anthropic[vertex]) (2025.8.3)\n",
            "Requirement already satisfied: httpcore==1.* in /usr/local/lib/python3.12/dist-packages (from httpx<1,>=0.25.0->anthropic[vertex]) (1.0.9)\n",
            "Requirement already satisfied: h11>=0.16 in /usr/local/lib/python3.12/dist-packages (from httpcore==1.*->httpx<1,>=0.25.0->anthropic[vertex]) (0.16.0)\n",
            "Requirement already satisfied: annotated-types>=0.6.0 in /usr/local/lib/python3.12/dist-packages (from pydantic<3,>=1.9.0->anthropic[vertex]) (0.7.0)\n",
            "Requirement already satisfied: pydantic-core==2.33.2 in /usr/local/lib/python3.12/dist-packages (from pydantic<3,>=1.9.0->anthropic[vertex]) (2.33.2)\n",
            "Requirement already satisfied: typing-inspection>=0.4.0 in /usr/local/lib/python3.12/dist-packages (from pydantic<3,>=1.9.0->anthropic[vertex]) (0.4.1)\n",
            "Requirement already satisfied: pyasn1<0.7.0,>=0.6.1 in /usr/local/lib/python3.12/dist-packages (from pyasn1-modules>=0.2.1->google-auth<3,>=2->google-auth[requests]<3,>=2; extra == \"vertex\"->anthropic[vertex]) (0.6.1)\n",
            "Requirement already satisfied: charset_normalizer<4,>=2 in /usr/local/lib/python3.12/dist-packages (from requests<3.0.0.dev0,>=2.20.0->google-auth[requests]<3,>=2; extra == \"vertex\"->anthropic[vertex]) (3.4.3)\n",
            "Requirement already satisfied: urllib3<3,>=1.21.1 in /usr/local/lib/python3.12/dist-packages (from requests<3.0.0.dev0,>=2.20.0->google-auth[requests]<3,>=2; extra == \"vertex\"->anthropic[vertex]) (2.5.0)\n",
            "Downloading anthropic-0.66.0-py3-none-any.whl (308 kB)\n",
            "\u001b[2K   \u001b[90m━━━━━━━━━━━━━━━━━━━━━━━━━━━━━━━━━━━━━━━━\u001b[0m \u001b[32m308.0/308.0 kB\u001b[0m \u001b[31m1.6 MB/s\u001b[0m eta \u001b[36m0:00:00\u001b[0m\n",
            "\u001b[?25hInstalling collected packages: anthropic\n",
            "Successfully installed anthropic-0.66.0\n"
          ]
        }
      ],
      "source": [
        "# Installing dependencies\n",
        "%pip install \"anthropic[vertex]\""
      ]
    },
    {
      "cell_type": "markdown",
      "metadata": {
        "id": "JhbUf2n3Cvzv"
      },
      "source": [
        "## Authenticate with Google\n"
      ]
    },
    {
      "cell_type": "markdown",
      "metadata": {
        "id": "4bjwyPPgPQIu"
      },
      "source": []
    },
    {
      "cell_type": "code",
      "execution_count": 2,
      "metadata": {
        "id": "G29RbImeCy09"
      },
      "outputs": [],
      "source": [
        "from google.colab import auth\n",
        "\n",
        "auth.authenticate_user()"
      ]
    },
    {
      "cell_type": "code",
      "execution_count": 5,
      "metadata": {
        "id": "GBFu1knC-CIg"
      },
      "outputs": [],
      "source": [
        "# Api client\n",
        "from anthropic import AnthropicVertex\n",
        "\n",
        "client = AnthropicVertex(region=\"global\", project_id=\"datascience-projects\")\n",
        "model = \"claude-sonnet-4@20250514\""
      ]
    },
    {
      "cell_type": "code",
      "execution_count": null,
      "metadata": {
        "id": "xPyGl3xb-Ldo"
      },
      "outputs": [],
      "source": [
        "message = client.messages.create(\n",
        "    model=model,\n",
        "    max_tokens=1000,\n",
        "    messages=[\n",
        "        {\n",
        "            \"role\": \"user\",\n",
        "            \"content\": \"What is quantum computing? Answer in one sentence\"\n",
        "        }\n",
        "    ]\n",
        ")"
      ]
    },
    {
      "cell_type": "code",
      "execution_count": null,
      "metadata": {
        "id": "OvdILosiJxDn"
      },
      "outputs": [],
      "source": [
        "message.content[0].text"
      ]
    },
    {
      "cell_type": "code",
      "execution_count": null,
      "metadata": {
        "id": "6wC2vOLjKkhE"
      },
      "outputs": [],
      "source": [
        "message = client.messages.create(\n",
        "    model=model,\n",
        "    max_tokens=1000,\n",
        "    messages=[\n",
        "        {\n",
        "            \"role\": \"user\",\n",
        "            \"content\": \"Now write antother sentence about it\"\n",
        "        }\n",
        "    ]\n",
        ")\n",
        "message.content[0].text"
      ]
    },
    {
      "cell_type": "code",
      "execution_count": 6,
      "metadata": {
        "id": "0a178f72"
      },
      "outputs": [],
      "source": [
        "def add_user_message(messages, text):\n",
        "    user_message = {\"role\": \"user\", \"content\": text}\n",
        "    messages.append(user_message)\n",
        "\n",
        "def add_assistant_message(messages, text):\n",
        "    assistant_message = {\"role\": \"assistant\", \"content\": text}\n",
        "    messages.append(assistant_message)\n",
        "\n",
        "def chat(messages, system=None):\n",
        "    params = {\n",
        "        \"model\": model,\n",
        "        \"max_tokens\": 1000,\n",
        "        \"messages\": messages\n",
        "    }\n",
        "\n",
        "    if system:\n",
        "        params[\"system\"] = system\n",
        "\n",
        "\n",
        "    message = client.messages.create(**params)\n",
        "    return message.content[0].text\n",
        "\n",
        "\n",
        "messages = []\n",
        "\n"
      ]
    },
    {
      "cell_type": "code",
      "source": [
        "system = \"\"\"\n",
        "You are a patient math tutor.\n",
        "Do not directly answer a student's questions.\n",
        "Guide them to a solution step by step.\n",
        "\"\"\"\n",
        "while True:\n",
        "    print(f'Messages:{messages}')\n",
        "    user_input = input(\">Please enter your query: \")\n",
        "    print(f'>{user_input}')\n",
        "    if user_input.lower() == 'exit':\n",
        "        break\n",
        "    add_user_message(messages, user_input)\n",
        "    answer = chat(messages, system=system)\n",
        "    print(f'{answer}')\n",
        "\n",
        "    add_assistant_message(messages, answer)\n",
        "\n",
        "# Example usage of the function:\n",
        "# api_response = get_api_response_from_input()\n",
        "# print(\"API Response:\", api_response)"
      ],
      "metadata": {
        "id": "JZrggq-9ZKLG"
      },
      "execution_count": null,
      "outputs": []
    },
    {
      "cell_type": "code",
      "execution_count": 7,
      "metadata": {
        "id": "b05Df4-_CX6R",
        "colab": {
          "base_uri": "https://localhost:8080/"
        },
        "outputId": "6edab4a8-58b2-440a-f751-d1343971ddc5"
      },
      "outputs": [
        {
          "output_type": "stream",
          "name": "stdout",
          "text": [
            "Here are several implementations of a function that checks for duplicate characters in a string:\n",
            "\n",
            "## Python Implementation\n",
            "\n",
            "```python\n",
            "def has_duplicates(s):\n",
            "    \"\"\"\n",
            "    Check if a string contains duplicate characters.\n",
            "    \n",
            "    Args:\n",
            "        s (str): The string to check\n",
            "        \n",
            "    Returns:\n",
            "        bool: True if duplicates exist, False otherwise\n",
            "    \"\"\"\n",
            "    return len(s) != len(set(s))\n",
            "\n",
            "# Alternative implementation with more details\n",
            "def find_duplicates(s):\n",
            "    \"\"\"\n",
            "    Find all duplicate characters in a string.\n",
            "    \n",
            "    Args:\n",
            "        s (str): The string to check\n",
            "        \n",
            "    Returns:\n",
            "        dict: Dictionary with duplicate characters and their counts\n",
            "    \"\"\"\n",
            "    char_count = {}\n",
            "    duplicates = {}\n",
            "    \n",
            "    for char in s:\n",
            "        char_count[char] = char_count.get(char, 0) + 1\n",
            "    \n",
            "    for char, count in char_count.items():\n",
            "        if count > 1:\n",
            "            duplicates[char] = count\n",
            "            \n",
            "    return duplicates\n",
            "\n",
            "# Example usage\n",
            "print(has_duplicates(\"hello\"))      # True\n",
            "print(has_duplicates(\"world\"))      # False\n",
            "print(find_duplicates(\"hello\"))     # {'l': 2}\n",
            "print(find_duplicates(\"programming\"))  # {'r': 2, 'g': 2, 'm': 2}\n",
            "```\n",
            "\n",
            "## JavaScript Implementation\n",
            "\n",
            "```javascript\n",
            "function hasDuplicates(str) {\n",
            "    /**\n",
            "     * Check if a string contains duplicate characters\n",
            "     * @param {string} str - The string to check\n",
            "     * @returns {boolean} - True if duplicates exist, false otherwise\n",
            "     */\n",
            "    return str.length !== new Set(str).size;\n",
            "}\n",
            "\n",
            "function findDuplicates(str) {\n",
            "    /**\n",
            "     * Find all duplicate characters in a string\n",
            "     * @param {string} str - The string to check\n",
            "     * @returns {Object} - Object with duplicate characters and their counts\n",
            "     */\n",
            "    const charCount = {};\n",
            "    const duplicates = {};\n",
            "    \n",
            "    // Count characters\n",
            "    for (let char of str) {\n",
            "        charCount[char] = (charCount[char] || 0) + 1;\n",
            "    }\n",
            "    \n",
            "    // Find duplicates\n",
            "    for (let char in charCount) {\n",
            "        if (charCount[char] > 1) {\n",
            "            duplicates[char] = charCount[char];\n",
            "        }\n",
            "    }\n",
            "    \n",
            "    return duplicates;\n",
            "}\n",
            "\n",
            "// Example usage\n",
            "console.log(hasDuplicates(\"hello\"));      // true\n",
            "console.log(hasDuplicates(\"world\"));      // false\n",
            "console.log(findDuplicates(\"hello\"));     // {l: 2}\n",
            "console.log(findDuplicates(\"javascript\")); // {a: 2}\n",
            "```\n",
            "\n",
            "## Java Implementation\n",
            "\n",
            "```java\n",
            "import java.util.*;\n",
            "\n",
            "public class DuplicateChecker {\n",
            "    \n",
            "    /**\n",
            "     * Check if a string contains duplicate characters\n",
            "     * @param str The string to check\n",
            "     * @return true if duplicates exist, false otherwise\n",
            "     */\n",
            "    public static boolean hasDuplicates(String str) {\n",
            "        Set<Character> seen = new HashSet<>();\n",
            "        \n",
            "        for (char c : str.toCharArray()) {\n",
            "            if (seen.contains(c)) {\n",
            "                return true;\n",
            "            }\n",
            "            seen.add(c);\n",
            "        }\n",
            "        \n",
            "        return false;\n",
            "    }\n",
            "    \n",
            "    /**\n",
            "     * Find all duplicate characters in a string\n",
            "     * @param str The string to check\n",
            "     * @return Map with duplicate characters and their counts\n",
            "     */\n",
            "    public static Map<Character, Integer> findDuplicates(String str) {\n",
            "        Map<Character, Integer> charCount = new HashMap<>();\n",
            "        Map<Character, Integer> duplicates = new HashMap<>();\n",
            "        \n",
            "        // Count characters\n",
            "        for (char c : str.toCharArray()) {\n",
            "            charCount.put(c, charCount.getOrDefault(c, 0) + 1);\n",
            "        }\n",
            "        \n",
            "        // Find duplicates\n",
            "        for (Map.Entry<Character, Integer> entry : charCount.entrySet()) {\n",
            "            if (entry.getValue() > 1) {\n",
            "                duplicates.put(entry.getKey\n"
          ]
        }
      ],
      "source": [
        "# With system prompt\n",
        "\n",
        "add_user_message(messages, \"Write me a function that checks a string for duplicate characters\")\n",
        "answer = chat(messages)\n",
        "print(f'{answer}')\n",
        "\n"
      ]
    },
    {
      "cell_type": "code",
      "execution_count": null,
      "metadata": {
        "id": "2b548346"
      },
      "outputs": [],
      "source": []
    }
  ],
  "metadata": {
    "colab": {
      "provenance": [],
      "authorship_tag": "ABX9TyM+/Eq+qSOhQXpYolAH3PbX",
      "include_colab_link": true
    },
    "kernelspec": {
      "display_name": "Python 3",
      "name": "python3"
    },
    "language_info": {
      "name": "python"
    }
  },
  "nbformat": 4,
  "nbformat_minor": 0
}