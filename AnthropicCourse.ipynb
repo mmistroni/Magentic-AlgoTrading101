{
  "nbformat": 4,
  "nbformat_minor": 0,
  "metadata": {
    "colab": {
      "provenance": [],
      "authorship_tag": "ABX9TyNyjzbkJOM159v2R2FOSxSx",
      "include_colab_link": true
    },
    "kernelspec": {
      "name": "python3",
      "display_name": "Python 3"
    },
    "language_info": {
      "name": "python"
    }
  },
  "cells": [
    {
      "cell_type": "markdown",
      "metadata": {
        "id": "view-in-github",
        "colab_type": "text"
      },
      "source": [
        "<a href=\"https://colab.research.google.com/github/mmistroni/Magentic-AlgoTrading101/blob/main/AnthropicCourse.ipynb\" target=\"_parent\"><img src=\"https://colab.research.google.com/assets/colab-badge.svg\" alt=\"Open In Colab\"/></a>"
      ]
    },
    {
      "cell_type": "code",
      "execution_count": null,
      "metadata": {
        "id": "fThtlyg_9zY9"
      },
      "outputs": [],
      "source": [
        "# Installing dependencies\n",
        "%pip install \"anthropic[vertex]\""
      ]
    },
    {
      "cell_type": "markdown",
      "source": [
        "## Authenticate with Google\n"
      ],
      "metadata": {
        "id": "JhbUf2n3Cvzv"
      }
    },
    {
      "cell_type": "code",
      "source": [
        "from google.colab import auth\n",
        "\n",
        "auth.authenticate_user()"
      ],
      "metadata": {
        "id": "G29RbImeCy09"
      },
      "execution_count": null,
      "outputs": []
    },
    {
      "cell_type": "code",
      "source": [
        "# Api client\n",
        "from anthropic import AnthropicVertex\n",
        "\n",
        "client = AnthropicVertex(region=\"global\", project_id=\"datascience-projects\")\n",
        "model = \"claude-sonnet-4@20250514\""
      ],
      "metadata": {
        "id": "GBFu1knC-CIg"
      },
      "execution_count": null,
      "outputs": []
    },
    {
      "cell_type": "code",
      "source": [
        "message = client.messages.create(\n",
        "    model=model,\n",
        "    max_tokens=1000,\n",
        "    messages=[\n",
        "        {\n",
        "            \"role\": \"user\",\n",
        "            \"content\": \"What is quantum computing? Answer in one sentence\"\n",
        "        }\n",
        "    ]\n",
        ")"
      ],
      "metadata": {
        "id": "xPyGl3xb-Ldo"
      },
      "execution_count": null,
      "outputs": []
    },
    {
      "cell_type": "code",
      "source": [
        "message.content[0].text"
      ],
      "metadata": {
        "id": "OvdILosiJxDn"
      },
      "execution_count": null,
      "outputs": []
    },
    {
      "cell_type": "code",
      "source": [
        "message = client.messages.create(\n",
        "    model=model,\n",
        "    max_tokens=1000,\n",
        "    messages=[\n",
        "        {\n",
        "            \"role\": \"user\",\n",
        "            \"content\": \"Now write antother sentence about it\"\n",
        "        }\n",
        "    ]\n",
        ")\n",
        "message.content[0].text"
      ],
      "metadata": {
        "id": "6wC2vOLjKkhE"
      },
      "execution_count": null,
      "outputs": []
    },
    {
      "cell_type": "code",
      "source": [
        "input('Enter So')"
      ],
      "metadata": {
        "id": "mCV7cawBK5Wb"
      },
      "execution_count": null,
      "outputs": []
    },
    {
      "cell_type": "code",
      "metadata": {
        "id": "0a178f72"
      },
      "source": [
        "def add_user_message(messages, text):\n",
        "    user_message = {\"role\": \"user\", \"content\": text}\n",
        "    messages.append(user_message)\n",
        "\n",
        "def add_assistant_message(messages, text):\n",
        "    assistant_message = {\"role\": \"assistant\", \"content\": text}\n",
        "    messages.append(assistant_message)\n",
        "\n",
        "def chat(messages):\n",
        "    message = client.messages.create(\n",
        "        model=model,\n",
        "        max_tokens=1000,\n",
        "        messages=messages,\n",
        "    )\n",
        "    return message.content[0].text\n",
        "\n",
        "\n",
        "messages = []\n",
        "\n",
        "while True:\n",
        "    print(f'Messages:{messages}')\n",
        "    user_input = input(\">Please enter your query: \")\n",
        "    print(f'>{user_input}')\n",
        "    if user_input.lower() == 'exit':\n",
        "        break\n",
        "    add_user_message(messages, user_input)\n",
        "    answer = chat(messages)\n",
        "    print(f'{answer}')\n",
        "\n",
        "    add_assistant_message(messages, answer)\n",
        "\n",
        "# Example usage of the function:\n",
        "# api_response = get_api_response_from_input()\n",
        "# print(\"API Response:\", api_response)"
      ],
      "execution_count": null,
      "outputs": []
    },
    {
      "cell_type": "code",
      "source": [],
      "metadata": {
        "id": "b05Df4-_CX6R"
      },
      "execution_count": null,
      "outputs": []
    },
    {
      "cell_type": "code",
      "metadata": {
        "id": "2b548346"
      },
      "source": [],
      "execution_count": null,
      "outputs": []
    }
  ]
}