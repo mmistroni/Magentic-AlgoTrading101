{
 "cells": [
  {
   "cell_type": "code",
   "execution_count": 1,
   "id": "34180455",
   "metadata": {},
   "outputs": [
    {
     "name": "stderr",
     "output_type": "stream",
     "text": [
      "/workspaces/Magentic-AlgoTrading101/.venv/lib/python3.11/site-packages/tqdm/auto.py:21: TqdmWarning: IProgress not found. Please update jupyter and ipywidgets. See https://ipywidgets.readthedocs.io/en/stable/user_install.html\n",
      "  from .autonotebook import tqdm as notebook_tqdm\n"
     ]
    }
   ],
   "source": [
    "import os\n",
    "import json\n",
    "from typing import List, Dict, Any, Optional, Union\n",
    "\n",
    "# Import smolagents components\n",
    "from smolagents import CodeAgent, HfApiModel, tool\n",
    "\n",
    "\n"
   ]
  },
  {
   "cell_type": "markdown",
   "id": "05557cc1",
   "metadata": {},
   "source": [
    "### Initialize Google Sheet Manager"
   ]
  },
  {
   "cell_type": "code",
   "execution_count": 2,
   "id": "92b19af2",
   "metadata": {},
   "outputs": [
    {
     "name": "stdout",
     "output_type": "stream",
     "text": [
      "GoogleSheetManager initialized and authenticated successfully.\n"
     ]
    }
   ],
   "source": [
    "# Import the GoogleSheetManager class from the conceptual 'google_sheet_manager.py' file\n",
    "# In a real environment, this would be: `from google_sheet_manager import GoogleSheetManager`\n",
    "# For this self-contained immersive, we're assuming GoogleSheetManager is defined above\n",
    "# or is imported from a separate file accessible in the environment.\n",
    "# For direct execution within this single block, the class would need to be in the same file.\n",
    "\n",
    "# --- Agent Tool Definitions ---\n",
    "\n",
    "# IMPORTANT: Ensure GOOGLE_SHEET_CREDENTIALS environment variable is set\n",
    "# with the JSON content of your Google Service Account key file.\n",
    "# Replace with the actual ID of your Google Spreadsheet\n",
    "MY_SPREADSHEET_ID = os.getenv('BUDGET_SPREADSHEET_ID', 'YOUR_SPREADSHEET_ID_HERE') # <--- CHANGE THIS!\n",
    "# Default sheet name for convenience if not specified in prompt\n",
    "DEFAULT_SHEET_NAME = 'Sheet1'\n",
    "# Default row where expenses start (adjust based on your sheet's layout)\n",
    "DEFAULT_START_EXPENSE_ROW = 7 # Assuming headers and budget info are in rows 1-6\n",
    "\n",
    "# Initialize GoogleSheetManager once for the agent's tools to use\n",
    "# This instance will be shared by all the @tool functions.\n",
    "sheet_manager_instance = None\n",
    "try:\n",
    "    # Attempt to initialize the manager.\n",
    "    # If this script were in a separate file, GoogleSheetManager would be imported.\n",
    "    # For this immersive, it's conceptually here, assume it's available.\n",
    "    from google_sheet_manager import GoogleSheetManager # This is how it would look in a separate file\n",
    "    sheet_manager_instance = GoogleSheetManager()\n",
    "except ImportError:\n",
    "    print(\"Error: 'google_sheet_manager' module not found. Please ensure google_sheet_manager.py is accessible.\")\n",
    "    exit() # Exit if the manager class cannot be imported.\n",
    "except Exception as e:\n",
    "    print(f\"Error initializing GoogleSheetManager: {e}\")\n",
    "    print(\"Please ensure GOOGLE_SHEET_CREDENTIALS environment variable is correctly set.\")\n",
    "    exit()\n",
    "\n",
    "# Exit if manager couldn't be authenticated (e.g., credentials missing/invalid)\n",
    "if not sheet_manager_instance.service:\n",
    "    print(\"Agent tools cannot be initialized without a valid GoogleSheetManager. Exiting.\")\n",
    "    exit()\n",
    "\n"
   ]
  },
  {
   "cell_type": "markdown",
   "id": "a3b4fd35",
   "metadata": {},
   "source": [
    "### Initializing Tools"
   ]
  },
  {
   "cell_type": "code",
   "execution_count": 3,
   "id": "6de9ce65",
   "metadata": {},
   "outputs": [],
   "source": [
    "@tool\n",
    "def insert_sheet_row(spreadsheet_id: str = MY_SPREADSHEET_ID, sheet_name: str = DEFAULT_SHEET_NAME, insert_at_row_index: int = DEFAULT_START_EXPENSE_ROW, num_rows: int = 1) -> bool:\n",
    "    \"\"\"\n",
    "    Inserts one or more empty rows into a Google Sheet at a specified 1-based row index.\n",
    "    Existing rows will be shifted down.\n",
    "    Args:\n",
    "        spreadsheet_id (str): The ID of the Google Spreadsheet.\n",
    "        sheet_name (str): The name of the sheet (default is 'Sheet1').\n",
    "        insert_at_row_index (int): The 1-based index where new rows will be inserted.\n",
    "                                   (e.g., 1 to insert at the very top, 7 to insert before row 7).\n",
    "        num_rows (int): The number of rows to insert (default is 1).\n",
    "    Returns:\n",
    "        bool: True if rows were successfully inserted, False otherwise.\n",
    "    \"\"\"\n",
    "    return sheet_manager_instance.insert_empty_row(spreadsheet_id, sheet_name, insert_at_row_index, num_rows)\n",
    "\n",
    "@tool\n",
    "def get_current_budget(spreadsheet_id: str = MY_SPREADSHEET_ID, sheet_name: str = DEFAULT_SHEET_NAME) -> Optional[float]:\n",
    "    \"\"\"\n",
    "    Retrieves the total budget value from cell B1 of the specified Google Sheet.\n",
    "    Args:\n",
    "        spreadsheet_id (str): The ID of the Google Spreadsheet.\n",
    "        sheet_name (str): The name of the sheet (default is 'Sheet1').\n",
    "    Returns:\n",
    "        Optional[float]: The budget as a float, or None if not found or not numeric.\n",
    "    \"\"\"\n",
    "    return sheet_manager_instance.get_current_budget(spreadsheet_id, sheet_name)\n",
    "\n",
    "@tool\n",
    "def get_total_sheet_expenses(spreadsheet_id: str = MY_SPREADSHEET_ID, sheet_name: str = DEFAULT_SHEET_NAME, start_expense_row: int = DEFAULT_START_EXPENSE_ROW) -> Union[int, float, None]:\n",
    "    \"\"\"\n",
    "    Calculates the total sum of all expenses in column C of the specified Google Sheet,\n",
    "    starting from a given row.\n",
    "    Args:\n",
    "        spreadsheet_id (str): The ID of the Google Spreadsheet.\n",
    "        sheet_name (str): The name of the sheet (default is 'Sheet1').\n",
    "        start_expense_row (int): The 1-based row number where expense data starts.\n",
    "    Returns:\n",
    "        Union[int, float, None]: The total sum of expenses, 0 if no numeric data, or None on error.\n",
    "    \"\"\"\n",
    "    return sheet_manager_instance.get_total_expenses(spreadsheet_id, sheet_name, start_expense_row)\n",
    "\n",
    "@tool\n",
    "def get_remaining_sheet_budget(spreadsheet_id: str = MY_SPREADSHEET_ID, sheet_name: str = DEFAULT_SHEET_NAME, start_expense_row: int = DEFAULT_START_EXPENSE_ROW) -> Union[int, float, None]:\n",
    "    \"\"\"\n",
    "    Calculates the remaining budget by subtracting total expenses from the total budget\n",
    "    in the specified Google Sheet.\n",
    "    Args:\n",
    "        spreadsheet_id (str): The ID of the Google Spreadsheet.\n",
    "        sheet_name (str): The name of the sheet (default is 'Sheet1').\n",
    "        start_expense_row (int): The 1-based row number where expense data starts.\n",
    "    Returns:\n",
    "        Union[int, float, None]: The remaining budget, or None if data cannot be retrieved.\n",
    "    \"\"\"\n",
    "    return sheet_manager_instance.get_remaining_budget(spreadsheet_id, sheet_name, start_expense_row)\n",
    "\n",
    "@tool\n",
    "def get_daily_remaining_sheet_budget(spreadsheet_id: str = MY_SPREADSHEET_ID, sheet_name: str = DEFAULT_SHEET_NAME, start_expense_row: int = DEFAULT_START_EXPENSE_ROW) -> Optional[str]:\n",
    "    \"\"\"\n",
    "    Calculates and formats the daily remaining budget.\n",
    "    If remaining budget is positive, returns \"<remaining budget> (number of days left)\".\n",
    "    If remaining budget is negative, returns \"<remaining budget>\".\n",
    "    Args:\n",
    "        spreadsheet_id (str): The ID of the Google Spreadsheet.\n",
    "        sheet_name (str): The name of the sheet (default is 'Sheet1').\n",
    "        start_expense_row (int): The 1-based row number where expense data starts.\n",
    "    Returns:\n",
    "        Optional[str]: A formatted string representing the daily remaining budget,\n",
    "                       or None if data cannot be retrieved or dates are invalid.\n",
    "    \"\"\"\n",
    "    return sheet_manager_instance.get_daily_remaining_budget(spreadsheet_id, sheet_name, start_expense_row)\n",
    "\n",
    "@tool\n",
    "def get_all_sheet_expenses(spreadsheet_id: str = MY_SPREADSHEET_ID, sheet_name: str = DEFAULT_SHEET_NAME, start_expense_row: int = DEFAULT_START_EXPENSE_ROW, expense_columns: str = 'A:C') -> Optional[List[List[Any]]]:\n",
    "    \"\"\"\n",
    "    Reads and returns all expense data from the specified Google Sheet and columns,\n",
    "    starting from a given row.\n",
    "    Args:\n",
    "        spreadsheet_id (str): The ID of the Google Spreadsheet.\n",
    "        sheet_name (str): The name of the sheet (default is 'Sheet1').\n",
    "        start_expense_row (int): The 1-based row number where expense data starts.\n",
    "                                 (e.g., 7 if headers are up to row 6).\n",
    "        expense_columns (str): The A1 notation of the columns covering expense data (e.g., 'A:C').\n",
    "    Returns:\n",
    "        Optional[List[List[Any]]]: A list of lists representing all expense data, or None on error.\n",
    "    \"\"\"\n",
    "    return sheet_manager_instance.get_all_expenses(spreadsheet_id, sheet_name, start_expense_row, expense_columns)\n",
    "\n",
    "@tool\n",
    "def append_rows_to_sheet(spreadsheet_id: str, sheet_name: str, start_row_for_append: int, data_to_append: List[List[Any]]) -> Optional[str]:\n",
    "    \"\"\"\n",
    "    Appends one or more rows of data to a Google Sheet after a specific row number.\n",
    "    Args:\n",
    "        spreadsheet_id (str): The ID of the Google Spreadsheet.\n",
    "        sheet_name (str): The name of the sheet within the spreadsheet (e.g., \"Sheet1\").\n",
    "        start_row_for_append (int): The row number *after* which you want to append.\n",
    "                                    For example, if headers are in row 3, use 4.\n",
    "        data_to_append (List[List[Any]]): A list of lists representing the rows to append.\n",
    "                                          Example: [['2025-06-07', 'Groceries', 150]]\n",
    "    Returns:\n",
    "        Optional[str]: The updated range string (e.g., 'Sheet1!A10:C11') if successful,\n",
    "                       or None if an adhesion error occurs.\n",
    "    \"\"\"\n",
    "    return sheet_manager_instance.append_row(spreadsheet_id, sheet_name, start_row_for_append, data_to_append)\n",
    "\n",
    "@tool\n",
    "def read_data_from_sheet(spreadsheet_id: str, range_name: str) -> Optional[List[List[Any]]]:\n",
    "    \"\"\"\n",
    "    Reads data from a specified range in a Google Sheet.\n",
    "    Args:\n",
    "        spreadsheet_id (str): The ID of the Google Spreadsheet.\n",
    "        range_name (str): The A1 notation or R1C1 notation of the range to retrieve.\n",
    "                          (e.g., 'Sheet1!A1:C10' or 'Sheet2!B:B')\n",
    "    Returns:\n",
    "        Optional[List[List[Any]]]: A list of lists representing the data in the specified range,\n",
    "                                  or None if an error occurs or no data is found.\n",
    "    \"\"\"\n",
    "    return sheet_manager_instance.read_sheet_data(spreadsheet_id, range_name)\n",
    "\n",
    "\n"
   ]
  },
  {
   "cell_type": "markdown",
   "id": "0df43484",
   "metadata": {},
   "source": [
    "### Initializing Agent"
   ]
  },
  {
   "cell_type": "code",
   "execution_count": 4,
   "id": "49ad8b3d",
   "metadata": {},
   "outputs": [
    {
     "name": "stdout",
     "output_type": "stream",
     "text": [
      "\n",
      "--- Google Sheets Agent ('AdvancedGoogleSheetsAssistant') Initialized ---\n",
      "Agent description: An AI assistant capable of managing Google Sheet data. It can: (1) Insert empty rows, (2) Get the total budget, (3) Get total expenses, (4) Calculate remaining budget, (5) Calculate daily remaining budget based on start/end dates (B3/B4), and (6) Show all recorded expenses. It primarily operates on the spreadsheet with ID: 1hGkQHbYKtDfsQvAsgTT6eZe9sPjuxA3MrTVZV1O7RLE, assuming 'Sheet1' and expenses starting from row 7 in column C, with dates in YYYY-MM-DD format.\n"
     ]
    },
    {
     "name": "stderr",
     "output_type": "stream",
     "text": [
      "/workspaces/Magentic-AlgoTrading101/.venv/lib/python3.11/site-packages/smolagents/models.py:1372: FutureWarning: HfApiModel was renamed to InferenceClientModel in version 1.14.0 and will be removed in 1.17.0.\n",
      "  warnings.warn(\n"
     ]
    }
   ],
   "source": [
    "# --- Example Agent Workflow ---\n",
    "# IMPORTANT: Ensure GOOGLE_SHEET_CREDENTIALS and BUDGET_SPREADSHEET_ID\n",
    "# environment variables are set in your Codespace secrets.\n",
    "# The `MY_SPREADSHEET_ID` and `DEFAULT_START_EXPENSE_ROW` should match your spreadsheet setup.\n",
    "\n",
    "# Initialize the LLM model for the agent\n",
    "try:\n",
    "    agent_model = HfApiModel(model_id=\"mistralai/Mistral-7B-Instruct-v0.2\")\n",
    "except Exception as e:\n",
    "    print(f\"Failed to initialize agent model: {e}\")\n",
    "    print(\"Please ensure your Hugging Face API token (HF_TOKEN) is correctly set and you have access to the model.\")\n",
    "    exit()\n",
    "\n",
    "# List of all tools the agent can use\n",
    "google_sheets_agent_tools = [\n",
    "    insert_sheet_row,\n",
    "    get_current_budget,\n",
    "    get_total_sheet_expenses,\n",
    "    get_remaining_sheet_budget,\n",
    "    get_daily_remaining_sheet_budget,\n",
    "    get_all_sheet_expenses,\n",
    "    append_rows_to_sheet, # Existing append tool\n",
    "    read_data_from_sheet # Existing generic read tool\n",
    "]\n",
    "\n",
    "# Create the agent\n",
    "agent = CodeAgent(\n",
    "    tools=google_sheets_agent_tools,\n",
    "    model=agent_model,\n",
    "    max_steps=20, # Increased max_steps to allow for more complex multi-tool tasks\n",
    "    name=\"AdvancedGoogleSheetsAssistant\",\n",
    "    description=\"An AI assistant capable of managing Google Sheet data. \"\n",
    "                \"It can: (1) Insert empty rows, (2) Get the total budget, \"\n",
    "                \"(3) Get total expenses, (4) Calculate remaining budget, \"\n",
    "                \"(5) Calculate daily remaining budget based on start/end dates (B3/B4), \"\n",
    "                \"and (6) Show all recorded expenses. \"\n",
    "                \"It primarily operates on the spreadsheet with ID: \"\n",
    "                f\"{MY_SPREADSHEET_ID}, assuming 'Sheet1' and expenses starting from row \"\n",
    "                f\"{DEFAULT_START_EXPENSE_ROW} in column C, with dates in YYYY-MM-DD format.\"\n",
    ")\n",
    "\n",
    "print(f\"\\n--- Google Sheets Agent ('{agent.name}') Initialized ---\")\n",
    "print(f\"Agent description: {agent.description}\")\n",
    "\n"
   ]
  },
  {
   "cell_type": "markdown",
   "id": "a70ae688",
   "metadata": {},
   "source": [
    "### Insert a  Row"
   ]
  },
  {
   "cell_type": "code",
   "execution_count": 5,
   "id": "97c99e8e",
   "metadata": {},
   "outputs": [
    {
     "name": "stdout",
     "output_type": "stream",
     "text": [
      "\n",
      "--- Task 1: Add a new expense record ---\n"
     ]
    },
    {
     "data": {
      "text/html": [
       "<pre style=\"white-space:pre;overflow-x:auto;line-height:normal;font-family:Menlo,'DejaVu Sans Mono',consolas,'Courier New',monospace\"><span style=\"color: #d4b702; text-decoration-color: #d4b702\">╭──────────────────────────────────── </span><span style=\"color: #d4b702; text-decoration-color: #d4b702; font-weight: bold\">New run - AdvancedGoogleSheetsAssistant</span><span style=\"color: #d4b702; text-decoration-color: #d4b702\"> ────────────────────────────────────╮</span>\n",
       "<span style=\"color: #d4b702; text-decoration-color: #d4b702\">│</span>                                                                                                                 <span style=\"color: #d4b702; text-decoration-color: #d4b702\">│</span>\n",
       "<span style=\"color: #d4b702; text-decoration-color: #d4b702\">│</span> <span style=\"font-weight: bold\">Add a new expense record to my Google Sheet (ID: 1hGkQHbYKtDfsQvAsgTT6eZe9sPjuxA3MrTVZV1O7RLE, Sheet: Sheet1). </span> <span style=\"color: #d4b702; text-decoration-color: #d4b702\">│</span>\n",
       "<span style=\"color: #d4b702; text-decoration-color: #d4b702\">│</span> <span style=\"font-weight: bold\">The expense is for 'Groceries' on '2025-06-23' with an amount of £35.75. Ensure the data is appended correctly </span> <span style=\"color: #d4b702; text-decoration-color: #d4b702\">│</span>\n",
       "<span style=\"color: #d4b702; text-decoration-color: #d4b702\">│</span> <span style=\"font-weight: bold\">to the expense section starting from row 7.</span>                                                                     <span style=\"color: #d4b702; text-decoration-color: #d4b702\">│</span>\n",
       "<span style=\"color: #d4b702; text-decoration-color: #d4b702\">│</span>                                                                                                                 <span style=\"color: #d4b702; text-decoration-color: #d4b702\">│</span>\n",
       "<span style=\"color: #d4b702; text-decoration-color: #d4b702\">╰─ HfApiModel - mistralai/Mistral-7B-Instruct-v0.2 ───────────────────────────────────────────────────────────────╯</span>\n",
       "</pre>\n"
      ],
      "text/plain": [
       "\u001b[38;2;212;183;2m╭─\u001b[0m\u001b[38;2;212;183;2m───────────────────────────────────\u001b[0m\u001b[38;2;212;183;2m \u001b[0m\u001b[1;38;2;212;183;2mNew run - AdvancedGoogleSheetsAssistant\u001b[0m\u001b[38;2;212;183;2m \u001b[0m\u001b[38;2;212;183;2m───────────────────────────────────\u001b[0m\u001b[38;2;212;183;2m─╮\u001b[0m\n",
       "\u001b[38;2;212;183;2m│\u001b[0m                                                                                                                 \u001b[38;2;212;183;2m│\u001b[0m\n",
       "\u001b[38;2;212;183;2m│\u001b[0m \u001b[1mAdd a new expense record to my Google Sheet (ID: 1hGkQHbYKtDfsQvAsgTT6eZe9sPjuxA3MrTVZV1O7RLE, Sheet: Sheet1). \u001b[0m \u001b[38;2;212;183;2m│\u001b[0m\n",
       "\u001b[38;2;212;183;2m│\u001b[0m \u001b[1mThe expense is for 'Groceries' on '2025-06-23' with an amount of £35.75. Ensure the data is appended correctly \u001b[0m \u001b[38;2;212;183;2m│\u001b[0m\n",
       "\u001b[38;2;212;183;2m│\u001b[0m \u001b[1mto the expense section starting from row 7.\u001b[0m                                                                     \u001b[38;2;212;183;2m│\u001b[0m\n",
       "\u001b[38;2;212;183;2m│\u001b[0m                                                                                                                 \u001b[38;2;212;183;2m│\u001b[0m\n",
       "\u001b[38;2;212;183;2m╰─\u001b[0m\u001b[38;2;212;183;2m HfApiModel - mistralai/Mistral-7B-Instruct-v0.2 \u001b[0m\u001b[38;2;212;183;2m──────────────────────────────────────────────────────────────\u001b[0m\u001b[38;2;212;183;2m─╯\u001b[0m\n"
      ]
     },
     "metadata": {},
     "output_type": "display_data"
    },
    {
     "data": {
      "text/html": [
       "<pre style=\"white-space:pre;overflow-x:auto;line-height:normal;font-family:Menlo,'DejaVu Sans Mono',consolas,'Courier New',monospace\"><span style=\"color: #d4b702; text-decoration-color: #d4b702\">━━━━━━━━━━━━━━━━━━━━━━━━━━━━━━━━━━━━━━━━━━━━━━━━━━━━━ </span><span style=\"font-weight: bold\">Step </span><span style=\"color: #008080; text-decoration-color: #008080; font-weight: bold\">1</span><span style=\"color: #d4b702; text-decoration-color: #d4b702\"> ━━━━━━━━━━━━━━━━━━━━━━━━━━━━━━━━━━━━━━━━━━━━━━━━━━━━━━</span>\n",
       "</pre>\n"
      ],
      "text/plain": [
       "\u001b[38;2;212;183;2m━━━━━━━━━━━━━━━━━━━━━━━━━━━━━━━━━━━━━━━━━━━━━━━━━━━━━ \u001b[0m\u001b[1mStep \u001b[0m\u001b[1;36m1\u001b[0m\u001b[38;2;212;183;2m ━━━━━━━━━━━━━━━━━━━━━━━━━━━━━━━━━━━━━━━━━━━━━━━━━━━━━━\u001b[0m\n"
      ]
     },
     "metadata": {},
     "output_type": "display_data"
    },
    {
     "data": {
      "text/html": [
       "<pre style=\"white-space:pre;overflow-x:auto;line-height:normal;font-family:Menlo,'DejaVu Sans Mono',consolas,'Courier New',monospace\"><span style=\"color: #800000; text-decoration-color: #800000; font-weight: bold\">Error in generating model output:</span>\n",
       "<span style=\"color: #800000; text-decoration-color: #800000; font-weight: bold\">Provider </span><span style=\"color: #008000; text-decoration-color: #008000\">'featherless-ai'</span><span style=\"color: #800000; text-decoration-color: #800000; font-weight: bold\"> not supported. Available values: </span><span style=\"color: #008000; text-decoration-color: #008000\">'auto'</span><span style=\"color: #800000; text-decoration-color: #800000; font-weight: bold\"> or any provider from [</span><span style=\"color: #008000; text-decoration-color: #008000\">'black-forest-labs'</span><span style=\"color: #800000; text-decoration-color: #800000; font-weight: bold\">, </span>\n",
       "<span style=\"color: #008000; text-decoration-color: #008000\">'cerebras'</span><span style=\"color: #800000; text-decoration-color: #800000; font-weight: bold\">, </span><span style=\"color: #008000; text-decoration-color: #008000\">'cohere'</span><span style=\"color: #800000; text-decoration-color: #800000; font-weight: bold\">, </span><span style=\"color: #008000; text-decoration-color: #008000\">'fal-ai'</span><span style=\"color: #800000; text-decoration-color: #800000; font-weight: bold\">, </span><span style=\"color: #008000; text-decoration-color: #008000\">'fireworks-ai'</span><span style=\"color: #800000; text-decoration-color: #800000; font-weight: bold\">, </span><span style=\"color: #008000; text-decoration-color: #008000\">'hf-inference'</span><span style=\"color: #800000; text-decoration-color: #800000; font-weight: bold\">, </span><span style=\"color: #008000; text-decoration-color: #008000\">'hyperbolic'</span><span style=\"color: #800000; text-decoration-color: #800000; font-weight: bold\">, </span><span style=\"color: #008000; text-decoration-color: #008000\">'nebius'</span><span style=\"color: #800000; text-decoration-color: #800000; font-weight: bold\">, </span><span style=\"color: #008000; text-decoration-color: #008000\">'novita'</span><span style=\"color: #800000; text-decoration-color: #800000; font-weight: bold\">, </span><span style=\"color: #008000; text-decoration-color: #008000\">'openai'</span><span style=\"color: #800000; text-decoration-color: #800000; font-weight: bold\">, </span>\n",
       "<span style=\"color: #008000; text-decoration-color: #008000\">'replicate'</span><span style=\"color: #800000; text-decoration-color: #800000; font-weight: bold\">, </span><span style=\"color: #008000; text-decoration-color: #008000\">'sambanova'</span><span style=\"color: #800000; text-decoration-color: #800000; font-weight: bold\">, </span><span style=\"color: #008000; text-decoration-color: #008000\">'together'</span><span style=\"color: #800000; text-decoration-color: #800000; font-weight: bold\">\\].Passing </span><span style=\"color: #008000; text-decoration-color: #008000\">'auto'</span><span style=\"color: #800000; text-decoration-color: #800000; font-weight: bold\"> (default value) will automatically select the first provider </span>\n",
       "<span style=\"color: #800000; text-decoration-color: #800000; font-weight: bold\">available for the model, sorted by the user's order in </span><span style=\"color: #0000ff; text-decoration-color: #0000ff; text-decoration: underline\">https://hf.co/settings/inference-providers.</span>\n",
       "</pre>\n"
      ],
      "text/plain": [
       "\u001b[1;31mError in generating model output:\u001b[0m\n",
       "\u001b[1;31mProvider \u001b[0m\u001b[32m'featherless-ai'\u001b[0m\u001b[1;31m not supported. Available values: \u001b[0m\u001b[32m'auto'\u001b[0m\u001b[1;31m or any provider from \u001b[0m\u001b[1;31m[\u001b[0m\u001b[32m'black-forest-labs'\u001b[0m\u001b[1;31m, \u001b[0m\n",
       "\u001b[32m'cerebras'\u001b[0m\u001b[1;31m, \u001b[0m\u001b[32m'cohere'\u001b[0m\u001b[1;31m, \u001b[0m\u001b[32m'fal-ai'\u001b[0m\u001b[1;31m, \u001b[0m\u001b[32m'fireworks-ai'\u001b[0m\u001b[1;31m, \u001b[0m\u001b[32m'hf-inference'\u001b[0m\u001b[1;31m, \u001b[0m\u001b[32m'hyperbolic'\u001b[0m\u001b[1;31m, \u001b[0m\u001b[32m'nebius'\u001b[0m\u001b[1;31m, \u001b[0m\u001b[32m'novita'\u001b[0m\u001b[1;31m, \u001b[0m\u001b[32m'openai'\u001b[0m\u001b[1;31m, \u001b[0m\n",
       "\u001b[32m'replicate'\u001b[0m\u001b[1;31m, \u001b[0m\u001b[32m'sambanova'\u001b[0m\u001b[1;31m, \u001b[0m\u001b[32m'together'\u001b[0m\u001b[1;31m\\\u001b[0m\u001b[1;31m]\u001b[0m\u001b[1;31m.Passing \u001b[0m\u001b[32m'auto'\u001b[0m\u001b[1;31m \u001b[0m\u001b[1;31m(\u001b[0m\u001b[1;31mdefault value\u001b[0m\u001b[1;31m)\u001b[0m\u001b[1;31m will automatically select the first provider \u001b[0m\n",
       "\u001b[1;31mavailable for the model, sorted by the user's order in \u001b[0m\u001b[4;94mhttps://hf.co/settings/inference-providers.\u001b[0m\n"
      ]
     },
     "metadata": {},
     "output_type": "display_data"
    },
    {
     "data": {
      "text/html": [
       "<pre style=\"white-space:pre;overflow-x:auto;line-height:normal;font-family:Menlo,'DejaVu Sans Mono',consolas,'Courier New',monospace\"><span style=\"color: #7f7f7f; text-decoration-color: #7f7f7f\">[Step 1: Duration 0.21 seconds]</span>\n",
       "</pre>\n"
      ],
      "text/plain": [
       "\u001b[2m[Step 1: Duration 0.21 seconds]\u001b[0m\n"
      ]
     },
     "metadata": {},
     "output_type": "display_data"
    },
    {
     "ename": "AgentGenerationError",
     "evalue": "Error in generating model output:\nProvider 'featherless-ai' not supported. Available values: 'auto' or any provider from ['black-forest-labs', 'cerebras', 'cohere', 'fal-ai', 'fireworks-ai', 'hf-inference', 'hyperbolic', 'nebius', 'novita', 'openai', 'replicate', 'sambanova', 'together'].Passing 'auto' (default value) will automatically select the first provider available for the model, sorted by the user's order in https://hf.co/settings/inference-providers.",
     "output_type": "error",
     "traceback": [
      "\u001b[31m---------------------------------------------------------------------------\u001b[39m",
      "\u001b[31mValueError\u001b[39m                                Traceback (most recent call last)",
      "\u001b[36mFile \u001b[39m\u001b[32m/workspaces/Magentic-AlgoTrading101/.venv/lib/python3.11/site-packages/smolagents/agents.py:1496\u001b[39m, in \u001b[36mCodeAgent._step_stream\u001b[39m\u001b[34m(self, memory_step)\u001b[39m\n\u001b[32m   1495\u001b[39m \u001b[38;5;28;01melse\u001b[39;00m:\n\u001b[32m-> \u001b[39m\u001b[32m1496\u001b[39m     chat_message: ChatMessage = \u001b[38;5;28;43mself\u001b[39;49m\u001b[43m.\u001b[49m\u001b[43mmodel\u001b[49m\u001b[43m.\u001b[49m\u001b[43mgenerate\u001b[49m\u001b[43m(\u001b[49m\n\u001b[32m   1497\u001b[39m \u001b[43m        \u001b[49m\u001b[43minput_messages\u001b[49m\u001b[43m,\u001b[49m\n\u001b[32m   1498\u001b[39m \u001b[43m        \u001b[49m\u001b[43mstop_sequences\u001b[49m\u001b[43m=\u001b[49m\u001b[43m[\u001b[49m\u001b[33;43m\"\u001b[39;49m\u001b[33;43m<end_code>\u001b[39;49m\u001b[33;43m\"\u001b[39;49m\u001b[43m,\u001b[49m\u001b[43m \u001b[49m\u001b[33;43m\"\u001b[39;49m\u001b[33;43mObservation:\u001b[39;49m\u001b[33;43m\"\u001b[39;49m\u001b[43m,\u001b[49m\u001b[43m \u001b[49m\u001b[33;43m\"\u001b[39;49m\u001b[33;43mCalling tools:\u001b[39;49m\u001b[33;43m\"\u001b[39;49m\u001b[43m]\u001b[49m\u001b[43m,\u001b[49m\n\u001b[32m   1499\u001b[39m \u001b[43m        \u001b[49m\u001b[43m*\u001b[49m\u001b[43m*\u001b[49m\u001b[43madditional_args\u001b[49m\u001b[43m,\u001b[49m\n\u001b[32m   1500\u001b[39m \u001b[43m    \u001b[49m\u001b[43m)\u001b[49m\n\u001b[32m   1501\u001b[39m     memory_step.model_output_message = chat_message\n",
      "\u001b[36mFile \u001b[39m\u001b[32m/workspaces/Magentic-AlgoTrading101/.venv/lib/python3.11/site-packages/smolagents/models.py:1309\u001b[39m, in \u001b[36mInferenceClientModel.generate\u001b[39m\u001b[34m(self, messages, stop_sequences, response_format, tools_to_call_from, **kwargs)\u001b[39m\n\u001b[32m   1300\u001b[39m completion_kwargs = \u001b[38;5;28mself\u001b[39m._prepare_completion_kwargs(\n\u001b[32m   1301\u001b[39m     messages=messages,\n\u001b[32m   1302\u001b[39m     stop_sequences=stop_sequences,\n\u001b[32m   (...)\u001b[39m\u001b[32m   1307\u001b[39m     **kwargs,\n\u001b[32m   1308\u001b[39m )\n\u001b[32m-> \u001b[39m\u001b[32m1309\u001b[39m response = \u001b[38;5;28;43mself\u001b[39;49m\u001b[43m.\u001b[49m\u001b[43mclient\u001b[49m\u001b[43m.\u001b[49m\u001b[43mchat_completion\u001b[49m\u001b[43m(\u001b[49m\u001b[43m*\u001b[49m\u001b[43m*\u001b[49m\u001b[43mcompletion_kwargs\u001b[49m\u001b[43m)\u001b[49m\n\u001b[32m   1311\u001b[39m \u001b[38;5;28mself\u001b[39m._last_input_token_count = response.usage.prompt_tokens\n",
      "\u001b[36mFile \u001b[39m\u001b[32m/workspaces/Magentic-AlgoTrading101/.venv/lib/python3.11/site-packages/huggingface_hub/inference/_client.py:886\u001b[39m, in \u001b[36mInferenceClient.chat_completion\u001b[39m\u001b[34m(self, messages, model, stream, frequency_penalty, logit_bias, logprobs, max_tokens, n, presence_penalty, response_format, seed, stop, stream_options, temperature, tool_choice, tool_prompt, tools, top_logprobs, top_p, extra_body)\u001b[39m\n\u001b[32m    885\u001b[39m \u001b[38;5;66;03m# Get the provider helper\u001b[39;00m\n\u001b[32m--> \u001b[39m\u001b[32m886\u001b[39m provider_helper = \u001b[43mget_provider_helper\u001b[49m\u001b[43m(\u001b[49m\n\u001b[32m    887\u001b[39m \u001b[43m    \u001b[49m\u001b[38;5;28;43mself\u001b[39;49m\u001b[43m.\u001b[49m\u001b[43mprovider\u001b[49m\u001b[43m,\u001b[49m\n\u001b[32m    888\u001b[39m \u001b[43m    \u001b[49m\u001b[43mtask\u001b[49m\u001b[43m=\u001b[49m\u001b[33;43m\"\u001b[39;49m\u001b[33;43mconversational\u001b[39;49m\u001b[33;43m\"\u001b[39;49m\u001b[43m,\u001b[49m\n\u001b[32m    889\u001b[39m \u001b[43m    \u001b[49m\u001b[43mmodel\u001b[49m\u001b[43m=\u001b[49m\u001b[43mmodel_id_or_url\u001b[49m\n\u001b[32m    890\u001b[39m \u001b[43m    \u001b[49m\u001b[38;5;28;43;01mif\u001b[39;49;00m\u001b[43m \u001b[49m\u001b[43mmodel_id_or_url\u001b[49m\u001b[43m \u001b[49m\u001b[38;5;129;43;01mis\u001b[39;49;00m\u001b[43m \u001b[49m\u001b[38;5;129;43;01mnot\u001b[39;49;00m\u001b[43m \u001b[49m\u001b[38;5;28;43;01mNone\u001b[39;49;00m\u001b[43m \u001b[49m\u001b[38;5;129;43;01mand\u001b[39;49;00m\u001b[43m \u001b[49m\u001b[43mmodel_id_or_url\u001b[49m\u001b[43m.\u001b[49m\u001b[43mstartswith\u001b[49m\u001b[43m(\u001b[49m\u001b[43m(\u001b[49m\u001b[33;43m\"\u001b[39;49m\u001b[33;43mhttp://\u001b[39;49m\u001b[33;43m\"\u001b[39;49m\u001b[43m,\u001b[49m\u001b[43m \u001b[49m\u001b[33;43m\"\u001b[39;49m\u001b[33;43mhttps://\u001b[39;49m\u001b[33;43m\"\u001b[39;49m\u001b[43m)\u001b[49m\u001b[43m)\u001b[49m\n\u001b[32m    891\u001b[39m \u001b[43m    \u001b[49m\u001b[38;5;28;43;01melse\u001b[39;49;00m\u001b[43m \u001b[49m\u001b[43mpayload_model\u001b[49m\u001b[43m,\u001b[49m\n\u001b[32m    892\u001b[39m \u001b[43m\u001b[49m\u001b[43m)\u001b[49m\n\u001b[32m    894\u001b[39m \u001b[38;5;66;03m# Prepare the payload\u001b[39;00m\n",
      "\u001b[36mFile \u001b[39m\u001b[32m/workspaces/Magentic-AlgoTrading101/.venv/lib/python3.11/site-packages/huggingface_hub/inference/_providers/__init__.py:169\u001b[39m, in \u001b[36mget_provider_helper\u001b[39m\u001b[34m(provider, task, model)\u001b[39m\n\u001b[32m    168\u001b[39m \u001b[38;5;28;01mif\u001b[39;00m provider_tasks \u001b[38;5;129;01mis\u001b[39;00m \u001b[38;5;28;01mNone\u001b[39;00m:\n\u001b[32m--> \u001b[39m\u001b[32m169\u001b[39m     \u001b[38;5;28;01mraise\u001b[39;00m \u001b[38;5;167;01mValueError\u001b[39;00m(\n\u001b[32m    170\u001b[39m         \u001b[33mf\u001b[39m\u001b[33m\"\u001b[39m\u001b[33mProvider \u001b[39m\u001b[33m'\u001b[39m\u001b[38;5;132;01m{\u001b[39;00mprovider\u001b[38;5;132;01m}\u001b[39;00m\u001b[33m'\u001b[39m\u001b[33m not supported. Available values: \u001b[39m\u001b[33m'\u001b[39m\u001b[33mauto\u001b[39m\u001b[33m'\u001b[39m\u001b[33m or any provider from \u001b[39m\u001b[38;5;132;01m{\u001b[39;00m\u001b[38;5;28mlist\u001b[39m(PROVIDERS.keys())\u001b[38;5;132;01m}\u001b[39;00m\u001b[33m.\u001b[39m\u001b[33m\"\u001b[39m\n\u001b[32m    171\u001b[39m         \u001b[33m\"\u001b[39m\u001b[33mPassing \u001b[39m\u001b[33m'\u001b[39m\u001b[33mauto\u001b[39m\u001b[33m'\u001b[39m\u001b[33m (default value) will automatically select the first provider available for the model, sorted \u001b[39m\u001b[33m\"\u001b[39m\n\u001b[32m    172\u001b[39m         \u001b[33m\"\u001b[39m\u001b[33mby the user\u001b[39m\u001b[33m'\u001b[39m\u001b[33ms order in https://hf.co/settings/inference-providers.\u001b[39m\u001b[33m\"\u001b[39m\n\u001b[32m    173\u001b[39m     )\n\u001b[32m    175\u001b[39m \u001b[38;5;28;01mif\u001b[39;00m task \u001b[38;5;129;01mnot\u001b[39;00m \u001b[38;5;129;01min\u001b[39;00m provider_tasks:\n",
      "\u001b[31mValueError\u001b[39m: Provider 'featherless-ai' not supported. Available values: 'auto' or any provider from ['black-forest-labs', 'cerebras', 'cohere', 'fal-ai', 'fireworks-ai', 'hf-inference', 'hyperbolic', 'nebius', 'novita', 'openai', 'replicate', 'sambanova', 'together'].Passing 'auto' (default value) will automatically select the first provider available for the model, sorted by the user's order in https://hf.co/settings/inference-providers.",
      "\nThe above exception was the direct cause of the following exception:\n",
      "\u001b[31mAgentGenerationError\u001b[39m                      Traceback (most recent call last)",
      "\u001b[36mCell\u001b[39m\u001b[36m \u001b[39m\u001b[32mIn[5]\u001b[39m\u001b[32m, line 26\u001b[39m\n\u001b[32m     18\u001b[39m \u001b[38;5;66;03m# The agent needs to know the specific data to append.\u001b[39;00m\n\u001b[32m     19\u001b[39m \u001b[38;5;66;03m# Agent prompt should clearly state the intention and provide the data.\u001b[39;00m\n\u001b[32m     20\u001b[39m add_expense_prompt = (\n\u001b[32m     21\u001b[39m     \u001b[33mf\u001b[39m\u001b[33m\"\u001b[39m\u001b[33mAdd a new expense record to my Google Sheet (ID: \u001b[39m\u001b[38;5;132;01m{\u001b[39;00mMY_SPREADSHEET_ID\u001b[38;5;132;01m}\u001b[39;00m\u001b[33m, Sheet: \u001b[39m\u001b[38;5;132;01m{\u001b[39;00mDEFAULT_SHEET_NAME\u001b[38;5;132;01m}\u001b[39;00m\u001b[33m). \u001b[39m\u001b[33m\"\u001b[39m\n\u001b[32m     22\u001b[39m     \u001b[33mf\u001b[39m\u001b[33m\"\u001b[39m\u001b[33mThe expense is for \u001b[39m\u001b[33m'\u001b[39m\u001b[38;5;132;01m{\u001b[39;00mexpense_type\u001b[38;5;132;01m}\u001b[39;00m\u001b[33m'\u001b[39m\u001b[33m on \u001b[39m\u001b[33m'\u001b[39m\u001b[38;5;132;01m{\u001b[39;00mtoday_date\u001b[38;5;132;01m}\u001b[39;00m\u001b[33m'\u001b[39m\u001b[33m with an amount of £\u001b[39m\u001b[38;5;132;01m{\u001b[39;00mamount\u001b[38;5;132;01m:\u001b[39;00m\u001b[33m.2f\u001b[39m\u001b[38;5;132;01m}\u001b[39;00m\u001b[33m. \u001b[39m\u001b[33m\"\u001b[39m\n\u001b[32m     23\u001b[39m     \u001b[33mf\u001b[39m\u001b[33m\"\u001b[39m\u001b[33mEnsure the data is appended correctly to the expense section starting from row \u001b[39m\u001b[38;5;132;01m{\u001b[39;00mDEFAULT_START_EXPENSE_ROW\u001b[38;5;132;01m}\u001b[39;00m\u001b[33m.\u001b[39m\u001b[33m\"\u001b[39m\n\u001b[32m     24\u001b[39m )\n\u001b[32m---> \u001b[39m\u001b[32m26\u001b[39m response_add_expense = \u001b[43magent\u001b[49m\u001b[43m.\u001b[49m\u001b[43mrun\u001b[49m\u001b[43m(\u001b[49m\u001b[43madd_expense_prompt\u001b[49m\u001b[43m)\u001b[49m\n\u001b[32m     27\u001b[39m \u001b[38;5;28mprint\u001b[39m(\u001b[33mf\u001b[39m\u001b[33m\"\u001b[39m\u001b[33mAgent\u001b[39m\u001b[33m'\u001b[39m\u001b[33ms response for Task 1 (Add Expense):\u001b[39m\u001b[38;5;130;01m\\n\u001b[39;00m\u001b[38;5;132;01m{\u001b[39;00mresponse_add_expense\u001b[38;5;132;01m}\u001b[39;00m\u001b[33m\"\u001b[39m)\n\u001b[32m     29\u001b[39m \u001b[38;5;66;03m# Note: After running this, you might want to immediately run a task\u001b[39;00m\n\u001b[32m     30\u001b[39m \u001b[38;5;66;03m# to get total expenses or remaining budget to confirm the addition.\u001b[39;00m\n",
      "\u001b[36mFile \u001b[39m\u001b[32m/workspaces/Magentic-AlgoTrading101/.venv/lib/python3.11/site-packages/smolagents/agents.py:399\u001b[39m, in \u001b[36mMultiStepAgent.run\u001b[39m\u001b[34m(self, task, stream, reset, images, additional_args, max_steps)\u001b[39m\n\u001b[32m    396\u001b[39m run_start_time = time.time()\n\u001b[32m    397\u001b[39m \u001b[38;5;66;03m# Outputs are returned only at the end. We only look at the last step.\u001b[39;00m\n\u001b[32m--> \u001b[39m\u001b[32m399\u001b[39m steps = \u001b[38;5;28;43mlist\u001b[39;49m\u001b[43m(\u001b[49m\u001b[38;5;28;43mself\u001b[39;49m\u001b[43m.\u001b[49m\u001b[43m_run_stream\u001b[49m\u001b[43m(\u001b[49m\u001b[43mtask\u001b[49m\u001b[43m=\u001b[49m\u001b[38;5;28;43mself\u001b[39;49m\u001b[43m.\u001b[49m\u001b[43mtask\u001b[49m\u001b[43m,\u001b[49m\u001b[43m \u001b[49m\u001b[43mmax_steps\u001b[49m\u001b[43m=\u001b[49m\u001b[43mmax_steps\u001b[49m\u001b[43m,\u001b[49m\u001b[43m \u001b[49m\u001b[43mimages\u001b[49m\u001b[43m=\u001b[49m\u001b[43mimages\u001b[49m\u001b[43m)\u001b[49m\u001b[43m)\u001b[49m\n\u001b[32m    400\u001b[39m \u001b[38;5;28;01massert\u001b[39;00m \u001b[38;5;28misinstance\u001b[39m(steps[-\u001b[32m1\u001b[39m], FinalAnswerStep)\n\u001b[32m    401\u001b[39m output = steps[-\u001b[32m1\u001b[39m].output\n",
      "\u001b[36mFile \u001b[39m\u001b[32m/workspaces/Magentic-AlgoTrading101/.venv/lib/python3.11/site-packages/smolagents/agents.py:478\u001b[39m, in \u001b[36mMultiStepAgent._run_stream\u001b[39m\u001b[34m(self, task, max_steps, images)\u001b[39m\n\u001b[32m    475\u001b[39m     final_answer = el\n\u001b[32m    476\u001b[39m \u001b[38;5;28;01mexcept\u001b[39;00m AgentGenerationError \u001b[38;5;28;01mas\u001b[39;00m e:\n\u001b[32m    477\u001b[39m     \u001b[38;5;66;03m# Agent generation errors are not caused by a Model error but an implementation error: so we should raise them and exit.\u001b[39;00m\n\u001b[32m--> \u001b[39m\u001b[32m478\u001b[39m     \u001b[38;5;28;01mraise\u001b[39;00m e\n\u001b[32m    479\u001b[39m \u001b[38;5;28;01mexcept\u001b[39;00m AgentError \u001b[38;5;28;01mas\u001b[39;00m e:\n\u001b[32m    480\u001b[39m     \u001b[38;5;66;03m# Other AgentError types are caused by the Model, so we should log them and iterate.\u001b[39;00m\n\u001b[32m    481\u001b[39m     action_step.error = e\n",
      "\u001b[36mFile \u001b[39m\u001b[32m/workspaces/Magentic-AlgoTrading101/.venv/lib/python3.11/site-packages/smolagents/agents.py:473\u001b[39m, in \u001b[36mMultiStepAgent._run_stream\u001b[39m\u001b[34m(self, task, max_steps, images)\u001b[39m\n\u001b[32m    467\u001b[39m action_step = ActionStep(\n\u001b[32m    468\u001b[39m     step_number=\u001b[38;5;28mself\u001b[39m.step_number,\n\u001b[32m    469\u001b[39m     timing=Timing(start_time=action_step_start_time),\n\u001b[32m    470\u001b[39m     observations_images=images,\n\u001b[32m    471\u001b[39m )\n\u001b[32m    472\u001b[39m \u001b[38;5;28;01mtry\u001b[39;00m:\n\u001b[32m--> \u001b[39m\u001b[32m473\u001b[39m \u001b[43m    \u001b[49m\u001b[38;5;28;43;01mfor\u001b[39;49;00m\u001b[43m \u001b[49m\u001b[43mel\u001b[49m\u001b[43m \u001b[49m\u001b[38;5;129;43;01min\u001b[39;49;00m\u001b[43m \u001b[49m\u001b[38;5;28;43mself\u001b[39;49m\u001b[43m.\u001b[49m\u001b[43m_execute_step\u001b[49m\u001b[43m(\u001b[49m\u001b[43maction_step\u001b[49m\u001b[43m)\u001b[49m\u001b[43m:\u001b[49m\n\u001b[32m    474\u001b[39m \u001b[43m        \u001b[49m\u001b[38;5;28;43;01myield\u001b[39;49;00m\u001b[43m \u001b[49m\u001b[43mel\u001b[49m\n\u001b[32m    475\u001b[39m     final_answer = el\n",
      "\u001b[36mFile \u001b[39m\u001b[32m/workspaces/Magentic-AlgoTrading101/.venv/lib/python3.11/site-packages/smolagents/agents.py:495\u001b[39m, in \u001b[36mMultiStepAgent._execute_step\u001b[39m\u001b[34m(self, memory_step)\u001b[39m\n\u001b[32m    493\u001b[39m \u001b[38;5;28;01mdef\u001b[39;00m\u001b[38;5;250m \u001b[39m\u001b[34m_execute_step\u001b[39m(\u001b[38;5;28mself\u001b[39m, memory_step: ActionStep) -> Generator[ChatMessageStreamDelta | FinalOutput]:\n\u001b[32m    494\u001b[39m     \u001b[38;5;28mself\u001b[39m.logger.log_rule(\u001b[33mf\u001b[39m\u001b[33m\"\u001b[39m\u001b[33mStep \u001b[39m\u001b[38;5;132;01m{\u001b[39;00m\u001b[38;5;28mself\u001b[39m.step_number\u001b[38;5;132;01m}\u001b[39;00m\u001b[33m\"\u001b[39m, level=LogLevel.INFO)\n\u001b[32m--> \u001b[39m\u001b[32m495\u001b[39m \u001b[43m    \u001b[49m\u001b[38;5;28;43;01mfor\u001b[39;49;00m\u001b[43m \u001b[49m\u001b[43mel\u001b[49m\u001b[43m \u001b[49m\u001b[38;5;129;43;01min\u001b[39;49;00m\u001b[43m \u001b[49m\u001b[38;5;28;43mself\u001b[39;49m\u001b[43m.\u001b[49m\u001b[43m_step_stream\u001b[49m\u001b[43m(\u001b[49m\u001b[43mmemory_step\u001b[49m\u001b[43m)\u001b[49m\u001b[43m:\u001b[49m\n\u001b[32m    496\u001b[39m \u001b[43m        \u001b[49m\u001b[43mfinal_answer\u001b[49m\u001b[43m \u001b[49m\u001b[43m=\u001b[49m\u001b[43m \u001b[49m\u001b[43mel\u001b[49m\n\u001b[32m    497\u001b[39m \u001b[43m        \u001b[49m\u001b[38;5;28;43;01mif\u001b[39;49;00m\u001b[43m \u001b[49m\u001b[38;5;28;43misinstance\u001b[39;49m\u001b[43m(\u001b[49m\u001b[43mel\u001b[49m\u001b[43m,\u001b[49m\u001b[43m \u001b[49m\u001b[43mChatMessageStreamDelta\u001b[49m\u001b[43m)\u001b[49m\u001b[43m:\u001b[49m\n",
      "\u001b[36mFile \u001b[39m\u001b[32m/workspaces/Magentic-AlgoTrading101/.venv/lib/python3.11/site-packages/smolagents/agents.py:1518\u001b[39m, in \u001b[36mCodeAgent._step_stream\u001b[39m\u001b[34m(self, memory_step)\u001b[39m\n\u001b[32m   1516\u001b[39m     memory_step.model_output = output_text\n\u001b[32m   1517\u001b[39m \u001b[38;5;28;01mexcept\u001b[39;00m \u001b[38;5;167;01mException\u001b[39;00m \u001b[38;5;28;01mas\u001b[39;00m e:\n\u001b[32m-> \u001b[39m\u001b[32m1518\u001b[39m     \u001b[38;5;28;01mraise\u001b[39;00m AgentGenerationError(\u001b[33mf\u001b[39m\u001b[33m\"\u001b[39m\u001b[33mError in generating model output:\u001b[39m\u001b[38;5;130;01m\\n\u001b[39;00m\u001b[38;5;132;01m{\u001b[39;00me\u001b[38;5;132;01m}\u001b[39;00m\u001b[33m\"\u001b[39m, \u001b[38;5;28mself\u001b[39m.logger) \u001b[38;5;28;01mfrom\u001b[39;00m\u001b[38;5;250m \u001b[39m\u001b[34;01me\u001b[39;00m\n\u001b[32m   1520\u001b[39m \u001b[38;5;66;03m### Parse output ###\u001b[39;00m\n\u001b[32m   1521\u001b[39m \u001b[38;5;28;01mtry\u001b[39;00m:\n",
      "\u001b[31mAgentGenerationError\u001b[39m: Error in generating model output:\nProvider 'featherless-ai' not supported. Available values: 'auto' or any provider from ['black-forest-labs', 'cerebras', 'cohere', 'fal-ai', 'fireworks-ai', 'hf-inference', 'hyperbolic', 'nebius', 'novita', 'openai', 'replicate', 'sambanova', 'together'].Passing 'auto' (default value) will automatically select the first provider available for the model, sorted by the user's order in https://hf.co/settings/inference-providers."
     ]
    }
   ],
   "source": [
    "# --- Agent Tasks (Demonstrations) ---\n",
    "\n",
    "import datetime\n",
    "\n",
    "# --- Task 1: Add a new expense record ---\n",
    "print(\"\\n--- Task 1: Add a new expense record ---\")\n",
    "\n",
    "# Define the data for the new expense.\n",
    "# The format should match your sheet's columns, e.g., Date, Expense Type, Amount.\n",
    "# Make sure the date format matches what your sheet and tool expect (YYYY-MM-DD).\n",
    "\n",
    "# Get today's date in YYYY-MM-DD format\n",
    "today_date = datetime.date.today().strftime(\"%Y-%m-%d\")\n",
    "\n",
    "expense_type = \"Groceries\" # Example expense type\n",
    "amount = 35.75             # Example amount\n",
    "\n",
    "# The agent needs to know the specific data to append.\n",
    "# Agent prompt should clearly state the intention and provide the data.\n",
    "add_expense_prompt = (\n",
    "    f\"Add a new expense record to my Google Sheet (ID: {MY_SPREADSHEET_ID}, Sheet: {DEFAULT_SHEET_NAME}). \"\n",
    "    f\"The expense is for '{expense_type}' on '{today_date}' with an amount of £{amount:.2f}. \"\n",
    "    f\"Ensure the data is appended correctly to the expense section starting from row {DEFAULT_START_EXPENSE_ROW}.\"\n",
    ")\n",
    "\n",
    "response_add_expense = agent.run(add_expense_prompt)\n",
    "print(f\"Agent's response for Task 1 (Add Expense):\\n{response_add_expense}\")\n",
    "\n",
    "# Note: After running this, you might want to immediately run a task\n",
    "# to get total expenses or remaining budget to confirm the addition.\n",
    "\n"
   ]
  },
  {
   "cell_type": "markdown",
   "id": "701bc80c",
   "metadata": {},
   "source": [
    "### Get Current Budget"
   ]
  },
  {
   "cell_type": "code",
   "execution_count": null,
   "id": "fe0baaca",
   "metadata": {},
   "outputs": [],
   "source": [
    "# Task 2: Get current budget\n",
    "print(\"\\n--- Task 2: Find Current Budget ---\")\n",
    "current_budget_prompt = f\"What is the total budget from my Google Sheet (ID: {MY_SPREADSHEET_ID}, Sheet1)?\"\n",
    "response_budget = agent.run(current_budget_prompt)\n",
    "print(f\"Agent's response for Task 2:\\n{response_budget}\")\n",
    "\n"
   ]
  },
  {
   "cell_type": "markdown",
   "id": "fcc570d6",
   "metadata": {},
   "source": [
    "### Get Total Expenses and Remaining Budget"
   ]
  },
  {
   "cell_type": "code",
   "execution_count": null,
   "id": "21064645",
   "metadata": {},
   "outputs": [],
   "source": [
    "# Task 3: Get total expenses and remaining budget\n",
    "print(\"\\n--- Task 3: Find Total and Remaining Budget ---\")\n",
    "total_remaining_budget_prompt = (\n",
    "    f\"Calculate my total expenses and then tell me my remaining budget in my Google Sheet \"\n",
    "    f\"(ID: {MY_SPREADSHEET_ID}, Sheet1, expenses starting row {DEFAULT_START_EXPENSE_ROW}).\"\n",
    ")\n",
    "response_remaining_budget = agent.run(total_remaining_budget_prompt)\n",
    "print(f\"Agent's response for Task 3:\\n{response_remaining_budget}\")\n",
    "\n"
   ]
  },
  {
   "cell_type": "markdown",
   "id": "a277ed0b",
   "metadata": {},
   "source": [
    "### Calculate Daily Budget"
   ]
  },
  {
   "cell_type": "code",
   "execution_count": null,
   "id": "da57dbec",
   "metadata": {},
   "outputs": [],
   "source": [
    "# Task 4: Calculate daily budget remaining\n",
    "print(\"\\n--- Task 4: Calculate Daily Remaining Budget ---\")\n",
    "daily_budget_prompt = (\n",
    "    f\"Calculate the daily remaining budget for my current period. \"\n",
    "    f\"The spreadsheet ID is {MY_SPREADSHEET_ID}, Sheet1, expenses start row {DEFAULT_START_EXPENSE_ROW}. \"\n",
    "    f\"The start date is in B3 and end date is in B4. Dates are YYYY-MM-DD.\"\n",
    ")\n",
    "response_daily_budget = agent.run(daily_budget_prompt)\n",
    "print(f\"Agent's response for Task 4:\\n{response_daily_budget}\")\n",
    "\n"
   ]
  },
  {
   "cell_type": "markdown",
   "id": "9b8a4c3a",
   "metadata": {},
   "source": [
    "### Show All Expenses"
   ]
  },
  {
   "cell_type": "code",
   "execution_count": null,
   "id": "f3be5509",
   "metadata": {},
   "outputs": [],
   "source": [
    "# Task 5: Show all expenses\n",
    "print(\"\\n--- Task 5: Show All Expenses ---\")\n",
    "all_expenses_prompt = (\n",
    "    f\"Show me all my expenses from Sheet1 of my Google Sheet (ID: {MY_SPREADSHEET_ID}), \"\n",
    "    f\"assuming they start from row {DEFAULT_START_EXPENSE_ROW} and are in columns A to C.\"\n",
    ")\n",
    "response_all_expenses = agent.run(all_expenses_prompt)\n",
    "print(f\"Agent's response for Task 5:\\n{response_all_expenses}\")\n",
    "\n",
    "print(\"\\n--- Agent Workflow Complete ---\")"
   ]
  },
  {
   "cell_type": "code",
   "execution_count": null,
   "id": "b5c183bd",
   "metadata": {},
   "outputs": [],
   "source": []
  }
 ],
 "metadata": {
  "kernelspec": {
   "display_name": ".venv",
   "language": "python",
   "name": "python3"
  },
  "language_info": {
   "codemirror_mode": {
    "name": "ipython",
    "version": 3
   },
   "file_extension": ".py",
   "mimetype": "text/x-python",
   "name": "python",
   "nbconvert_exporter": "python",
   "pygments_lexer": "ipython3",
   "version": "3.11.13"
  }
 },
 "nbformat": 4,
 "nbformat_minor": 5
}
