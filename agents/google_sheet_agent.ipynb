{
 "cells": [
  {
   "cell_type": "code",
   "execution_count": null,
   "id": "34180455",
   "metadata": {
    "vscode": {
     "languageId": "plaintext"
    }
   },
   "outputs": [],
   "source": [
    "import os\n",
    "import json\n",
    "from typing import List, Dict, Any, Optional, Union\n",
    "\n",
    "# Import smolagents components\n",
    "from smolagents import CodeAgent, HfApiModel, tool\n",
    "\n",
    "\n"
   ]
  },
  {
   "cell_type": "markdown",
   "id": "05557cc1",
   "metadata": {},
   "source": [
    "### Initialize Google Sheet Manager"
   ]
  },
  {
   "cell_type": "code",
   "execution_count": null,
   "id": "92b19af2",
   "metadata": {
    "vscode": {
     "languageId": "plaintext"
    }
   },
   "outputs": [],
   "source": [
    "# Import the GoogleSheetManager class from the conceptual 'google_sheet_manager.py' file\n",
    "# In a real environment, this would be: `from google_sheet_manager import GoogleSheetManager`\n",
    "# For this self-contained immersive, we're assuming GoogleSheetManager is defined above\n",
    "# or is imported from a separate file accessible in the environment.\n",
    "# For direct execution within this single block, the class would need to be in the same file.\n",
    "\n",
    "# --- Agent Tool Definitions ---\n",
    "\n",
    "# IMPORTANT: Ensure GOOGLE_SHEET_CREDENTIALS environment variable is set\n",
    "# with the JSON content of your Google Service Account key file.\n",
    "# Replace with the actual ID of your Google Spreadsheet\n",
    "MY_SPREADSHEET_ID = os.getenv('BUDGET_SPREADSHEET_ID', 'YOUR_SPREADSHEET_ID_HERE') # <--- CHANGE THIS!\n",
    "# Default sheet name for convenience if not specified in prompt\n",
    "DEFAULT_SHEET_NAME = 'Sheet1'\n",
    "# Default row where expenses start (adjust based on your sheet's layout)\n",
    "DEFAULT_START_EXPENSE_ROW = 7 # Assuming headers and budget info are in rows 1-6\n",
    "\n",
    "# Initialize GoogleSheetManager once for the agent's tools to use\n",
    "# This instance will be shared by all the @tool functions.\n",
    "sheet_manager_instance = None\n",
    "try:\n",
    "    # Attempt to initialize the manager.\n",
    "    # If this script were in a separate file, GoogleSheetManager would be imported.\n",
    "    # For this immersive, it's conceptually here, assume it's available.\n",
    "    from google_sheet_manager import GoogleSheetManager # This is how it would look in a separate file\n",
    "    sheet_manager_instance = GoogleSheetManager()\n",
    "except ImportError:\n",
    "    print(\"Error: 'google_sheet_manager' module not found. Please ensure google_sheet_manager.py is accessible.\")\n",
    "    exit() # Exit if the manager class cannot be imported.\n",
    "except Exception as e:\n",
    "    print(f\"Error initializing GoogleSheetManager: {e}\")\n",
    "    print(\"Please ensure GOOGLE_SHEET_CREDENTIALS environment variable is correctly set.\")\n",
    "    exit()\n",
    "\n",
    "# Exit if manager couldn't be authenticated (e.g., credentials missing/invalid)\n",
    "if not sheet_manager_instance.service:\n",
    "    print(\"Agent tools cannot be initialized without a valid GoogleSheetManager. Exiting.\")\n",
    "    exit()\n",
    "\n"
   ]
  },
  {
   "cell_type": "markdown",
   "id": "a3b4fd35",
   "metadata": {},
   "source": [
    "### Initializing Tools"
   ]
  },
  {
   "cell_type": "markdown",
   "id": "6de9ce65",
   "metadata": {},
   "source": [
    "@tool\n",
    "def insert_sheet_row(spreadsheet_id: str = MY_SPREADSHEET_ID, sheet_name: str = DEFAULT_SHEET_NAME, insert_at_row_index: int = DEFAULT_START_EXPENSE_ROW, num_rows: int = 1) -> bool:\n",
    "    \"\"\"\n",
    "    Inserts one or more empty rows into a Google Sheet at a specified 1-based row index.\n",
    "    Existing rows will be shifted down.\n",
    "    Args:\n",
    "        spreadsheet_id (str): The ID of the Google Spreadsheet.\n",
    "        sheet_name (str): The name of the sheet (default is 'Sheet1').\n",
    "        insert_at_row_index (int): The 1-based index where new rows will be inserted.\n",
    "                                   (e.g., 1 to insert at the very top, 7 to insert before row 7).\n",
    "        num_rows (int): The number of rows to insert (default is 1).\n",
    "    Returns:\n",
    "        bool: True if rows were successfully inserted, False otherwise.\n",
    "    \"\"\"\n",
    "    return sheet_manager_instance.insert_empty_row(spreadsheet_id, sheet_name, insert_at_row_index, num_rows)\n",
    "\n",
    "@tool\n",
    "def get_current_budget(spreadsheet_id: str = MY_SPREADSHEET_ID, sheet_name: str = DEFAULT_SHEET_NAME) -> Optional[float]:\n",
    "    \"\"\"\n",
    "    Retrieves the total budget value from cell B1 of the specified Google Sheet.\n",
    "    Args:\n",
    "        spreadsheet_id (str): The ID of the Google Spreadsheet.\n",
    "        sheet_name (str): The name of the sheet (default is 'Sheet1').\n",
    "    Returns:\n",
    "        Optional[float]: The budget as a float, or None if not found or not numeric.\n",
    "    \"\"\"\n",
    "    return sheet_manager_instance.get_current_budget(spreadsheet_id, sheet_name)\n",
    "\n",
    "@tool\n",
    "def get_total_sheet_expenses(spreadsheet_id: str = MY_SPREADSHEET_ID, sheet_name: str = DEFAULT_SHEET_NAME, start_expense_row: int = DEFAULT_START_EXPENSE_ROW) -> Union[int, float, None]:\n",
    "    \"\"\"\n",
    "    Calculates the total sum of all expenses in column C of the specified Google Sheet,\n",
    "    starting from a given row.\n",
    "    Args:\n",
    "        spreadsheet_id (str): The ID of the Google Spreadsheet.\n",
    "        sheet_name (str): The name of the sheet (default is 'Sheet1').\n",
    "        start_expense_row (int): The 1-based row number where expense data starts.\n",
    "    Returns:\n",
    "        Union[int, float, None]: The total sum of expenses, 0 if no numeric data, or None on error.\n",
    "    \"\"\"\n",
    "    return sheet_manager_instance.get_total_expenses(spreadsheet_id, sheet_name, start_expense_row)\n",
    "\n",
    "@tool\n",
    "def get_remaining_sheet_budget(spreadsheet_id: str = MY_SPREADSHEET_ID, sheet_name: str = DEFAULT_SHEET_NAME, start_expense_row: int = DEFAULT_START_EXPENSE_ROW) -> Union[int, float, None]:\n",
    "    \"\"\"\n",
    "    Calculates the remaining budget by subtracting total expenses from the total budget\n",
    "    in the specified Google Sheet.\n",
    "    Args:\n",
    "        spreadsheet_id (str): The ID of the Google Spreadsheet.\n",
    "        sheet_name (str): The name of the sheet (default is 'Sheet1').\n",
    "        start_expense_row (int): The 1-based row number where expense data starts.\n",
    "    Returns:\n",
    "        Union[int, float, None]: The remaining budget, or None if data cannot be retrieved.\n",
    "    \"\"\"\n",
    "    return sheet_manager_instance.get_remaining_budget(spreadsheet_id, sheet_name, start_expense_row)\n",
    "\n",
    "@tool\n",
    "def get_daily_remaining_sheet_budget(spreadsheet_id: str = MY_SPREADSHEET_ID, sheet_name: str = DEFAULT_SHEET_NAME, start_expense_row: int = DEFAULT_START_EXPENSE_ROW) -> Optional[str]:\n",
    "    \"\"\"\n",
    "    Calculates and formats the daily remaining budget.\n",
    "    If remaining budget is positive, returns \"<remaining budget> (number of days left)\".\n",
    "    If remaining budget is negative, returns \"<remaining budget>\".\n",
    "    Args:\n",
    "        spreadsheet_id (str): The ID of the Google Spreadsheet.\n",
    "        sheet_name (str): The name of the sheet (default is 'Sheet1').\n",
    "        start_expense_row (int): The 1-based row number where expense data starts.\n",
    "    Returns:\n",
    "        Optional[str]: A formatted string representing the daily remaining budget,\n",
    "                       or None if data cannot be retrieved or dates are invalid.\n",
    "    \"\"\"\n",
    "    return sheet_manager_instance.get_daily_remaining_budget(spreadsheet_id, sheet_name, start_expense_row)\n",
    "\n",
    "@tool\n",
    "def get_all_sheet_expenses(spreadsheet_id: str = MY_SPREADSHEET_ID, sheet_name: str = DEFAULT_SHEET_NAME, start_expense_row: int = DEFAULT_START_EXPENSE_ROW, expense_columns: str = 'A:C') -> Optional[List[List[Any]]]:\n",
    "    \"\"\"\n",
    "    Reads and returns all expense data from the specified Google Sheet and columns,\n",
    "    starting from a given row.\n",
    "    Args:\n",
    "        spreadsheet_id (str): The ID of the Google Spreadsheet.\n",
    "        sheet_name (str): The name of the sheet (default is 'Sheet1').\n",
    "        start_expense_row (int): The 1-based row number where expense data starts.\n",
    "                                 (e.g., 7 if headers are up to row 6).\n",
    "        expense_columns (str): The A1 notation of the columns covering expense data (e.g., 'A:C').\n",
    "    Returns:\n",
    "        Optional[List[List[Any]]]: A list of lists representing all expense data, or None on error.\n",
    "    \"\"\"\n",
    "    return sheet_manager_instance.get_all_expenses(spreadsheet_id, sheet_name, start_expense_row, expense_columns)\n",
    "\n",
    "@tool\n",
    "def append_rows_to_sheet(spreadsheet_id: str, sheet_name: str, start_row_for_append: int, data_to_append: List[List[Any]]) -> Optional[str]:\n",
    "    \"\"\"\n",
    "    Appends one or more rows of data to a Google Sheet after a specific row number.\n",
    "    Args:\n",
    "        spreadsheet_id (str): The ID of the Google Spreadsheet.\n",
    "        sheet_name (str): The name of the sheet within the spreadsheet (e.g., \"Sheet1\").\n",
    "        start_row_for_append (int): The row number *after* which you want to append.\n",
    "                                    For example, if headers are in row 3, use 4.\n",
    "        data_to_append (List[List[Any]]): A list of lists representing the rows to append.\n",
    "                                          Example: [['2025-06-07', 'Groceries', 150]]\n",
    "    Returns:\n",
    "        Optional[str]: The updated range string (e.g., 'Sheet1!A10:C11') if successful,\n",
    "                       or None if an adhesion error occurs.\n",
    "    \"\"\"\n",
    "    return sheet_manager_instance.append_row(spreadsheet_id, sheet_name, start_row_for_append, data_to_append)\n",
    "\n",
    "@tool\n",
    "def read_data_from_sheet(spreadsheet_id: str, range_name: str) -> Optional[List[List[Any]]]:\n",
    "    \"\"\"\n",
    "    Reads data from a specified range in a Google Sheet.\n",
    "    Args:\n",
    "        spreadsheet_id (str): The ID of the Google Spreadsheet.\n",
    "        range_name (str): The A1 notation or R1C1 notation of the range to retrieve.\n",
    "                          (e.g., 'Sheet1!A1:C10' or 'Sheet2!B:B')\n",
    "    Returns:\n",
    "        Optional[List[List[Any]]]: A list of lists representing the data in the specified range,\n",
    "                                  or None if an error occurs or no data is found.\n",
    "    \"\"\"\n",
    "    return sheet_manager_instance.read_sheet_data(spreadsheet_id, range_name)\n",
    "\n",
    "\n"
   ]
  },
  {
   "cell_type": "markdown",
   "id": "0df43484",
   "metadata": {},
   "source": [
    "### Initializing Agent"
   ]
  },
  {
   "cell_type": "code",
   "execution_count": null,
   "id": "49ad8b3d",
   "metadata": {
    "vscode": {
     "languageId": "plaintext"
    }
   },
   "outputs": [],
   "source": [
    "# --- Example Agent Workflow ---\n",
    "# IMPORTANT: Ensure GOOGLE_SHEET_CREDENTIALS and BUDGET_SPREADSHEET_ID\n",
    "# environment variables are set in your Codespace secrets.\n",
    "# The `MY_SPREADSHEET_ID` and `DEFAULT_START_EXPENSE_ROW` should match your spreadsheet setup.\n",
    "\n",
    "# Initialize the LLM model for the agent\n",
    "try:\n",
    "    agent_model = HfApiModel(model_id=\"Qwen/Qwen2.5-Coder-32B-Instruct\")\n",
    "except Exception as e:\n",
    "    print(f\"Failed to initialize agent model: {e}\")\n",
    "    print(\"Please ensure your Hugging Face API token (HF_TOKEN) is correctly set and you have access to the model.\")\n",
    "    exit()\n",
    "\n",
    "# List of all tools the agent can use\n",
    "google_sheets_agent_tools = [\n",
    "    insert_sheet_row,\n",
    "    get_current_budget,\n",
    "    get_total_sheet_expenses,\n",
    "    get_remaining_sheet_budget,\n",
    "    get_daily_remaining_sheet_budget,\n",
    "    get_all_sheet_expenses,\n",
    "    append_rows_to_sheet, # Existing append tool\n",
    "    read_data_from_sheet # Existing generic read tool\n",
    "]\n",
    "\n",
    "# Create the agent\n",
    "agent = CodeAgent(\n",
    "    tools=google_sheets_agent_tools,\n",
    "    model=agent_model,\n",
    "    max_steps=20, # Increased max_steps to allow for more complex multi-tool tasks\n",
    "    name=\"AdvancedGoogleSheetsAssistant\",\n",
    "    description=\"An AI assistant capable of managing Google Sheet data. \"\n",
    "                \"It can: (1) Insert empty rows, (2) Get the total budget, \"\n",
    "                \"(3) Get total expenses, (4) Calculate remaining budget, \"\n",
    "                \"(5) Calculate daily remaining budget based on start/end dates (B3/B4), \"\n",
    "                \"and (6) Show all recorded expenses. \"\n",
    "                \"It primarily operates on the spreadsheet with ID: \"\n",
    "                f\"{MY_SPREADSHEET_ID}, assuming 'Sheet1' and expenses starting from row \"\n",
    "                f\"{DEFAULT_START_EXPENSE_ROW} in column C, with dates in YYYY-MM-DD format.\"\n",
    ")\n",
    "\n",
    "print(f\"\\n--- Google Sheets Agent ('{agent.name}') Initialized ---\")\n",
    "print(f\"Agent description: {agent.description}\")\n",
    "\n"
   ]
  },
  {
   "cell_type": "markdown",
   "id": "a70ae688",
   "metadata": {},
   "source": [
    "### Insert a  Row"
   ]
  },
  {
   "cell_type": "markdown",
   "id": "97c99e8e",
   "metadata": {},
   "source": [
    "# --- Agent Tasks (Demonstrations) ---\n",
    "\n",
    "# Task 1: Insert a row at a specific location\n",
    "print(\"\\n--- Task 1: Insert an empty row ---\")\n",
    "# This will insert a row at row 7, pushing existing data down.\n",
    "# Be careful with this operation as it modifies your sheet structure!\n",
    "insert_row_prompt = f\"Insert an empty row at row {DEFAULT_START_EXPENSE_ROW} in Sheet1 of my spreadsheet (ID: {MY_SPREADSHEET_ID}).\"\n",
    "response_insert = agent.run(insert_row_prompt)\n",
    "print(f\"Agent's response for Task 1:\\n{response_insert}\")\n",
    "\n",
    "\n"
   ]
  },
  {
   "cell_type": "markdown",
   "id": "701bc80c",
   "metadata": {},
   "source": [
    "### Get Current Budget"
   ]
  },
  {
   "cell_type": "markdown",
   "id": "fe0baaca",
   "metadata": {},
   "source": [
    "# Task 2: Get current budget\n",
    "print(\"\\n--- Task 2: Find Current Budget ---\")\n",
    "current_budget_prompt = f\"What is the total budget from my Google Sheet (ID: {MY_SPREADSHEET_ID}, Sheet1)?\"\n",
    "response_budget = agent.run(current_budget_prompt)\n",
    "print(f\"Agent's response for Task 2:\\n{response_budget}\")\n",
    "\n"
   ]
  },
  {
   "cell_type": "markdown",
   "id": "fcc570d6",
   "metadata": {},
   "source": [
    "### Get Total Expenses and Remaining Budget"
   ]
  },
  {
   "cell_type": "markdown",
   "id": "21064645",
   "metadata": {},
   "source": [
    "# Task 3: Get total expenses and remaining budget\n",
    "print(\"\\n--- Task 3: Find Total and Remaining Budget ---\")\n",
    "total_remaining_budget_prompt = (\n",
    "    f\"Calculate my total expenses and then tell me my remaining budget in my Google Sheet \"\n",
    "    f\"(ID: {MY_SPREADSHEET_ID}, Sheet1, expenses starting row {DEFAULT_START_EXPENSE_ROW}).\"\n",
    ")\n",
    "response_remaining_budget = agent.run(total_remaining_budget_prompt)\n",
    "print(f\"Agent's response for Task 3:\\n{response_remaining_budget}\")\n",
    "\n"
   ]
  },
  {
   "cell_type": "markdown",
   "id": "a277ed0b",
   "metadata": {},
   "source": [
    "### Calculate Daily Budget"
   ]
  },
  {
   "cell_type": "markdown",
   "id": "da57dbec",
   "metadata": {},
   "source": [
    "# Task 4: Calculate daily budget remaining\n",
    "print(\"\\n--- Task 4: Calculate Daily Remaining Budget ---\")\n",
    "daily_budget_prompt = (\n",
    "    f\"Calculate the daily remaining budget for my current period. \"\n",
    "    f\"The spreadsheet ID is {MY_SPREADSHEET_ID}, Sheet1, expenses start row {DEFAULT_START_EXPENSE_ROW}. \"\n",
    "    f\"The start date is in B3 and end date is in B4. Dates are YYYY-MM-DD.\"\n",
    ")\n",
    "response_daily_budget = agent.run(daily_budget_prompt)\n",
    "print(f\"Agent's response for Task 4:\\n{response_daily_budget}\")\n",
    "\n"
   ]
  },
  {
   "cell_type": "markdown",
   "id": "9b8a4c3a",
   "metadata": {},
   "source": [
    "### Show All Expenses"
   ]
  },
  {
   "cell_type": "markdown",
   "id": "f3be5509",
   "metadata": {},
   "source": [
    "# Task 5: Show all expenses\n",
    "print(\"\\n--- Task 5: Show All Expenses ---\")\n",
    "all_expenses_prompt = (\n",
    "    f\"Show me all my expenses from Sheet1 of my Google Sheet (ID: {MY_SPREADSHEET_ID}), \"\n",
    "    f\"assuming they start from row {DEFAULT_START_EXPENSE_ROW} and are in columns A to C.\"\n",
    ")\n",
    "response_all_expenses = agent.run(all_expenses_prompt)\n",
    "print(f\"Agent's response for Task 5:\\n{response_all_expenses}\")\n",
    "\n",
    "print(\"\\n--- Agent Workflow Complete ---\")"
   ]
  }
 ],
 "metadata": {
  "language_info": {
   "name": "python"
  }
 },
 "nbformat": 4,
 "nbformat_minor": 5
}
