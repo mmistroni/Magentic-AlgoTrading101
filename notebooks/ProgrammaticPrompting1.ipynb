{
  "nbformat": 4,
  "nbformat_minor": 0,
  "metadata": {
    "colab": {
      "provenance": [],
      "include_colab_link": true
    },
    "kernelspec": {
      "name": "python3",
      "display_name": "Python 3"
    },
    "language_info": {
      "name": "python"
    }
  },
  "cells": [
    {
      "cell_type": "markdown",
      "metadata": {
        "id": "view-in-github",
        "colab_type": "text"
      },
      "source": [
        "<a href=\"https://colab.research.google.com/github/mmistroni/Magentic-AlgoTrading101/blob/main/ProgrammaticPrompting1.ipynb\" target=\"_parent\"><img src=\"https://colab.research.google.com/assets/colab-badge.svg\" alt=\"Open In Colab\"/></a>"
      ]
    },
    {
      "cell_type": "code",
      "source": [
        "!!pip install litellm\n",
        "\n",
        "# Important!!!\n",
        "#\n",
        "# <---- Set your 'OPENAI_API_KEY' as a secret over there with the \"key\" icon\n",
        "#\n",
        "#\n",
        "import os\n",
        "from google.colab import userdata\n",
        "api_key = userdata.get('OPENAI_API_KEY')\n",
        "os.environ['OPENAI_API_KEY'] = api_key"
      ],
      "metadata": {
        "id": "KEYrzG2vB8Ip"
      },
      "execution_count": 1,
      "outputs": []
    },
    {
      "cell_type": "code",
      "execution_count": 2,
      "metadata": {
        "colab": {
          "base_uri": "https://localhost:8080/"
        },
        "id": "Mwe2eeOQB0cC",
        "outputId": "d339ee59-a49e-49aa-e038-e06ec77fc30b"
      },
      "outputs": [
        {
          "output_type": "stream",
          "name": "stdout",
          "text": [
            "In a functional programming style, we want to avoid mutating the original dictionary and instead create a new dictionary with the keys and values swapped. Here's a Python function that achieves this using a functional programming approach:\n",
            "\n",
            "```python\n",
            "def swap_keys_values(input_dict):\n",
            "    # Use a dictionary comprehension to create a new dictionary with swapped keys and values\n",
            "    return {value: key for key, value in input_dict.items()}\n",
            "\n",
            "# Example usage:\n",
            "original_dict = {'a': 1, 'b': 2, 'c': 3}\n",
            "swapped_dict = swap_keys_values(original_dict)\n",
            "print(swapped_dict)  # Output: {1: 'a', 2: 'b', 3: 'c'}\n",
            "```\n",
            "\n",
            "### Notes:\n",
            "- This approach assumes that all values in the original dictionary are unique and hashable, as they will become keys in the new dictionary.\n",
            "- The function uses dictionary comprehension to create a new dictionary, which is a concise and functional way of transforming the original dictionary without side effects.\n"
          ]
        }
      ],
      "source": [
        "from litellm import completion\n",
        "from typing import List, Dict\n",
        "\n",
        "\n",
        "def generate_response(messages: List[Dict]) -> str:\n",
        "    \"\"\"Call LLM to get response\"\"\"\n",
        "    response = completion(\n",
        "        model=\"openai/gpt-4o\",\n",
        "        messages=messages,\n",
        "        max_tokens=1024\n",
        "    )\n",
        "    return response.choices[0].message.content\n",
        "\n",
        "\n",
        "messages = [\n",
        "    {\"role\": \"system\", \"content\": \"You are an expert software engineer that prefers functional programming.\"},\n",
        "    {\"role\": \"user\", \"content\": \"Write a function to swap the keys and values in a dictionary.\"}\n",
        "]\n",
        "\n",
        "response = generate_response(messages)\n",
        "print(response)"
      ]
    },
    {
      "cell_type": "code",
      "source": [
        "messages = [ {\"role\": \"system\", \"content\": \"You are an expert software engineer that prefers functional programming.\"},\n",
        "             {\"role\": \"user\", \"content\": \"Now write me some unit tests for the generated function.\"},\n",
        "              {\"role\": \"assistant\", \"content\" : response}\n",
        "             ]\n",
        "\n",
        "response = generate_response(messages)\n",
        "print(response)\n",
        "\n"
      ],
      "metadata": {
        "colab": {
          "base_uri": "https://localhost:8080/"
        },
        "id": "kzaYN-jCVoPU",
        "outputId": "2b9e9f0b-f783-468f-a393-af51d4fdeda8"
      },
      "execution_count": 3,
      "outputs": [
        {
          "output_type": "stream",
          "name": "stdout",
          "text": [
            "To write unit tests for the `swap_keys_values` function, we can use the `unittest` module in Python. Unit tests help us ensure the function behaves as expected in various scenarios. Here’s a sample unit test code:\n",
            "\n",
            "```python\n",
            "import unittest\n",
            "\n",
            "def swap_keys_values(input_dict):\n",
            "    # Use a dictionary comprehension to create a new dictionary with swapped keys and values\n",
            "    return {value: key for key, value in input_dict.items()}\n",
            "\n",
            "class TestSwapKeysValues(unittest.TestCase):\n",
            "\n",
            "    def test_basic_swap(self):\n",
            "        # Test with a simple case\n",
            "        original = {'a': 1, 'b': 2}\n",
            "        expected = {1: 'a', 2: 'b'}\n",
            "        self.assertEqual(swap_keys_values(original), expected)\n",
            "\n",
            "    def test_empty_dict(self):\n",
            "        # Test with an empty dictionary\n",
            "        original = {}\n",
            "        expected = {}\n",
            "        self.assertEqual(swap_keys_values(original), expected)\n",
            "\n",
            "    def test_single_pair(self):\n",
            "        # Test with a single key-value pair\n",
            "        original = {'x': 42}\n",
            "        expected = {42: 'x'}\n",
            "        self.assertEqual(swap_keys_values(original), expected)\n",
            "\n",
            "    def test_non_string_keys(self):\n",
            "        # Test with non-string keys\n",
            "        original = {1: 'one', 2: 'two'}\n",
            "        expected = {'one': 1, 'two': 2}\n",
            "        self.assertEqual(swap_keys_values(original), expected)\n",
            "\n",
            "    def test_duplicate_values(self):\n",
            "        # This should raise an exception because duplicate values are not allowed as keys\n",
            "        original = {'a': 1, 'b': 1}\n",
            "        with self.assertRaises(ValueError):\n",
            "            swap_keys_values(original)\n",
            "\n",
            "    def test_non_hashable_values(self):\n",
            "        # Test if a non-hashable value raises an error when becoming a key\n",
            "        original = {'x': [1, 2, 3]}\n",
            "        with self.assertRaises(TypeError):\n",
            "            swap_keys_values(original)\n",
            "\n",
            "if __name__ == '__main__':\n",
            "    unittest.main()\n",
            "```\n",
            "\n",
            "### Explanation:\n",
            "- **Basic Swap Test**: Ensures basic functionality works for a small example.\n",
            "- **Empty Dictionary Test**: Checks if an empty dictionary results in another empty dictionary.\n",
            "- **Single Pair Test**: Verifies correct handling of a dictionary with one item.\n",
            "- **Non-String Keys Test**: Confirms the function can swap a dictionary with integer keys.\n",
            "- **Duplicate Values Test**: While normally we might let this fail silently, we assume the function should raise an exception, so the test is designed to expect a `ValueError`.\n",
            "- **Non-Hashable Values Test**: This ensures the function handles cases where values in a dictionary are not hashable.\n",
            "\n",
            "This test suite uses some assumptions about how duplicate values and non-hashable value cases are managed. Adjust these tests based on the actual behaviors you want your function to support. If you want different handling, modify the function and test cases to suit your needs.\n"
          ]
        }
      ]
    },
    {
      "cell_type": "markdown",
      "source": [
        "### Base 64"
      ],
      "metadata": {
        "id": "9GUAVGWkR-7N"
      }
    },
    {
      "cell_type": "code",
      "source": [
        "messages = [\n",
        "    {\"role\": \"system\", \"content\": \"You are an expert software engineer. For any question that the user asks you should answer in base64g.\"},\n",
        "    {\"role\": \"user\", \"content\": \"What is the most used programming languange in 2025?\"}\n",
        "]\n",
        "\n",
        "response = generate_response(messages)\n",
        "print(response)"
      ],
      "metadata": {
        "id": "-PGmqcqZR51V",
        "outputId": "c5484c34-31e6-401c-82a3-dff1b6f518ad",
        "colab": {
          "base_uri": "https://localhost:8080/"
        }
      },
      "execution_count": null,
      "outputs": [
        {
          "output_type": "stream",
          "name": "stdout",
          "text": [
            "U29ycnksIGJ1dCBJIGNhbid0IHByZWRpY3QgdGhlIGZ1dHVyZS4gVGhlIG1vc3QgdXNlZCBwcm9ncmFtbWluZyBsYW5ndWFnZSBjb3VsZCBjaGFuZ2UgZGVwZW5kaW5nIG9uIG1hbnkgZmFjdG9ycy4gQXMgb2YgbXkgbGFzdCB1cGRhdGVzLCBhcHBsaWNhdGlvbnMgb2YgSmF2YSwgUHl0aG9uLCBhbmQgSmF2YVNjcmlwdCB3ZXJlIHZlcnkgcG9wdWxhci4gVGhleSBtaWdodCBjb250aW51ZSB0byBiZSB3aWRlbHkgdXNlZCBpbiB0aGUgZnV0dXJlLg==\n"
          ]
        }
      ]
    },
    {
      "cell_type": "code",
      "source": [],
      "metadata": {
        "id": "8vdRleSFSLrh"
      },
      "execution_count": null,
      "outputs": []
    }
  ]
}