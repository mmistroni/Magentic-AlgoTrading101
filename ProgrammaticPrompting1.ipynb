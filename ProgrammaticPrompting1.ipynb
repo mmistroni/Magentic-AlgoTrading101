{
  "nbformat": 4,
  "nbformat_minor": 0,
  "metadata": {
    "colab": {
      "provenance": [],
      "include_colab_link": true
    },
    "kernelspec": {
      "name": "python3",
      "display_name": "Python 3"
    },
    "language_info": {
      "name": "python"
    }
  },
  "cells": [
    {
      "cell_type": "markdown",
      "metadata": {
        "id": "view-in-github",
        "colab_type": "text"
      },
      "source": [
        "<a href=\"https://colab.research.google.com/github/mmistroni/Magentic-AlgoTrading101/blob/main/ProgrammaticPrompting1.ipynb\" target=\"_parent\"><img src=\"https://colab.research.google.com/assets/colab-badge.svg\" alt=\"Open In Colab\"/></a>"
      ]
    },
    {
      "cell_type": "code",
      "source": [
        "!!pip install litellm\n",
        "\n",
        "# Important!!!\n",
        "#\n",
        "# <---- Set your 'OPENAI_API_KEY' as a secret over there with the \"key\" icon\n",
        "#\n",
        "#\n",
        "import os\n",
        "from google.colab import userdata\n",
        "api_key = userdata.get('OPENAI_API_KEY')\n",
        "os.environ['OPENAI_API_KEY'] = api_key"
      ],
      "metadata": {
        "id": "KEYrzG2vB8Ip"
      },
      "execution_count": 1,
      "outputs": []
    },
    {
      "cell_type": "code",
      "execution_count": 2,
      "metadata": {
        "colab": {
          "base_uri": "https://localhost:8080/"
        },
        "id": "Mwe2eeOQB0cC",
        "outputId": "f27c0823-ea29-486a-8a4c-38d5c6716d4e"
      },
      "outputs": [
        {
          "output_type": "stream",
          "name": "stdout",
          "text": [
            "Certainly! To swap the keys and values in a dictionary using a functional programming approach, you can make use of Python’s built-in `map` function along with `dict` comprehension for clarity. Here's a concise way to accomplish this:\n",
            "\n",
            "```python\n",
            "def swap_dict_keys_values(d):\n",
            "    # Ensuring that values in the original dictionary are unique\n",
            "    if len(set(d.values())) != len(d):\n",
            "        raise ValueError(\"Values must be unique to swap keys and values.\")\n",
            "    \n",
            "    # Swapping keys and values using a dictionary comprehension\n",
            "    return {v: k for k, v in d.items()}\n",
            "\n",
            "# Example usage:\n",
            "original_dict = {1: 'a', 2: 'b', 3: 'c'}\n",
            "swapped_dict = swap_dict_keys_values(original_dict)\n",
            "print(swapped_dict)  # Output: {'a': 1, 'b': 2, 'c': 3}\n",
            "```\n",
            "\n",
            "### Explanation:\n",
            "- This function, `swap_dict_keys_values`, checks for unique values in the dictionary since keys must be unique in the resultant dictionary.\n",
            "- It raises a `ValueError` if the values are not unique.\n",
            "- We then create a new dictionary by iterating over the items of the original dictionary and constructing key-value pairs in reverse order using a dictionary comprehension. \n",
            "\n",
            "This functional approach efficiently handles the transformation while keeping the code clean and expressive.\n"
          ]
        }
      ],
      "source": [
        "from litellm import completion\n",
        "from typing import List, Dict\n",
        "\n",
        "\n",
        "def generate_response(messages: List[Dict]) -> str:\n",
        "    \"\"\"Call LLM to get response\"\"\"\n",
        "    response = completion(\n",
        "        model=\"openai/gpt-4o\",\n",
        "        messages=messages,\n",
        "        max_tokens=1024\n",
        "    )\n",
        "    return response.choices[0].message.content\n",
        "\n",
        "\n",
        "messages = [\n",
        "    {\"role\": \"system\", \"content\": \"You are an expert software engineer that prefers functional programming.\"},\n",
        "    {\"role\": \"user\", \"content\": \"Write a function to swap the keys and values in a dictionary.\"}\n",
        "]\n",
        "\n",
        "response = generate_response(messages)\n",
        "print(response)"
      ]
    },
    {
      "cell_type": "code",
      "source": [
        "r2 = generate_response([{'role' : 'user', 'content' : f'Now generate also some tests for function {response}'}])\n",
        "print(r2)"
      ],
      "metadata": {
        "id": "aAbjGkJkK7YP",
        "outputId": "72b7977c-d68d-4432-c186-00d47da5dc3e",
        "colab": {
          "base_uri": "https://localhost:8080/"
        }
      },
      "execution_count": 5,
      "outputs": [
        {
          "output_type": "stream",
          "name": "stdout",
          "text": [
            "Great! Below are some tests for the `swap_dict_keys_values` function to ensure it works as expected. These tests cover various scenarios, including successful swaps and situations where a `ValueError` should be raised due to non-unique values.\n",
            "\n",
            "```python\n",
            "import unittest\n",
            "\n",
            "class TestSwapDictKeysValues(unittest.TestCase):\n",
            "    \n",
            "    def test_swap_basic(self):\n",
            "        original_dict = {1: 'a', 2: 'b', 3: 'c'}\n",
            "        expected = {'a': 1, 'b': 2, 'c': 3}\n",
            "        result = swap_dict_keys_values(original_dict)\n",
            "        self.assertEqual(result, expected)\n",
            "    \n",
            "    def test_swap_single_item(self):\n",
            "        original_dict = {42: 'test'}\n",
            "        expected = {'test': 42}\n",
            "        result = swap_dict_keys_values(original_dict)\n",
            "        self.assertEqual(result, expected)\n",
            "    \n",
            "    def test_swap_empty_dict(self):\n",
            "        original_dict = {}\n",
            "        expected = {}\n",
            "        result = swap_dict_keys_values(original_dict)\n",
            "        self.assertEqual(result, expected)\n",
            "    \n",
            "    def test_swap_non_unique_values(self):\n",
            "        original_dict = {1: 'a', 2: 'a'}\n",
            "        with self.assertRaises(ValueError):\n",
            "            swap_dict_keys_values(original_dict)\n",
            "    \n",
            "    def test_swap_complex_values(self):\n",
            "        original_dict = {1: (1, 2), 2: (3, 4)}\n",
            "        expected = {(1, 2): 1, (3, 4): 2}\n",
            "        result = swap_dict_keys_values(original_dict)\n",
            "        self.assertEqual(result, expected)\n",
            "\n",
            "    def test_swap_non_string_keys(self):\n",
            "        original_dict = {False: 'false_key', True: 'true_key'}\n",
            "        expected = {'false_key': False, 'true_key': True}\n",
            "        result = swap_dict_keys_values(original_dict)\n",
            "        self.assertEqual(result, expected)\n",
            "\n",
            "if __name__ == \"__main__\":\n",
            "    unittest.main()\n",
            "```\n",
            "\n",
            "### Test Cases Explanation:\n",
            "1. **test_swap_basic**: Tests a basic case with simple integer keys and string values.\n",
            "2. **test_swap_single_item**: Tests a dictionary with a single key-value pair.\n",
            "3. **test_swap_empty_dict**: Ensures the function correctly handles an empty dictionary.\n",
            "4. **test_swap_non_unique_values**: Checks if the function properly raises a `ValueError` when values are not unique.\n",
            "5. **test_swap_complex_values**: Uses tuples as values to test the function's behavior with more complex data types.\n",
            "6. **test_swap_non_string_keys**: Verifies the function's ability to swap keys and values when using non-string data types for keys, such as booleans.\n",
            "\n",
            "These tests use the `unittest` framework; run them in an environment where the `swap_dict_keys_values` function is defined to verify its correctness.\n"
          ]
        }
      ]
    },
    {
      "cell_type": "code",
      "source": [],
      "metadata": {
        "id": "covJtUGaLNMp"
      },
      "execution_count": null,
      "outputs": []
    }
  ]
}