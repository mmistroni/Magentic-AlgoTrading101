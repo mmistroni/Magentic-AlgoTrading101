{
  "nbformat": 4,
  "nbformat_minor": 0,
  "metadata": {
    "colab": {
      "provenance": [],
      "include_colab_link": true
    },
    "kernelspec": {
      "name": "python3",
      "display_name": "Python 3"
    },
    "language_info": {
      "name": "python"
    }
  },
  "cells": [
    {
      "cell_type": "markdown",
      "metadata": {
        "id": "view-in-github",
        "colab_type": "text"
      },
      "source": [
        "<a href=\"https://colab.research.google.com/github/mmistroni/Magentic-AlgoTrading101/blob/main/ProgrammaticPrompting1.ipynb\" target=\"_parent\"><img src=\"https://colab.research.google.com/assets/colab-badge.svg\" alt=\"Open In Colab\"/></a>"
      ]
    },
    {
      "cell_type": "code",
      "source": [
        "!!pip install litellm\n",
        "\n",
        "# Important!!!\n",
        "#\n",
        "# <---- Set your 'OPENAI_API_KEY' as a secret over there with the \"key\" icon\n",
        "#\n",
        "#\n",
        "import os\n",
        "from google.colab import userdata\n",
        "api_key = userdata.get('OPENAI_API_KEY')\n",
        "os.environ['OPENAI_API_KEY'] = api_key"
      ],
      "metadata": {
        "id": "KEYrzG2vB8Ip"
      },
      "execution_count": null,
      "outputs": []
    },
    {
      "cell_type": "code",
      "execution_count": null,
      "metadata": {
        "colab": {
          "base_uri": "https://localhost:8080/"
        },
        "id": "Mwe2eeOQB0cC",
        "outputId": "aa2a6b09-acee-42d3-d71c-09a2ef671973"
      },
      "outputs": [
        {
          "output_type": "stream",
          "name": "stdout",
          "text": [
            "In a functional programming style, it's beneficial to employ functions that favor immutability and expressions over statements. Below is an example of how you could write a function in Python to swap the keys and values of a dictionary using functional programming concepts:\n",
            "\n",
            "```python\n",
            "def swap_dict_keys_values(input_dict):\n",
            "    \"\"\"Swaps keys and values in the given dictionary.\"\"\"\n",
            "    # Using a dictionary comprehension that acts similarly to a map function\n",
            "    # Conditions: Assumes all values are unique and hashable, since they will become keys\n",
            "    return {value: key for key, value in input_dict.items()}\n",
            "\n",
            "# Example usage:\n",
            "example_dict = {'a': 1, 'b': 2, 'c': 3}\n",
            "swapped_dict = swap_dict_keys_values(example_dict)\n",
            "print(swapped_dict)  # Output: {1: 'a', 2: 'b', 3: 'c'}\n",
            "```\n",
            "\n",
            "### Explanation:\n",
            "- **Immutability**: The function doesn't modify the input dictionary but returns a new one, ensuring immutability.\n",
            "- **Functional Constructs**: The code uses a dictionary comprehension, which is concise and can be seen as a functional transformation of the input data.\n",
            "- **Assumptions**: This function assumes all values in the input dictionary are unique since dictionary keys must be unique. Also, the values must be hashable, as they become keys in the resulting dictionary.\n",
            "\n",
            "Keep in mind that handling duplicate values would require a more complex solution, perhaps involving lists or sets as the dictionary values. If that's of interest, please let me know, and I'd be happy to expand on this!\n"
          ]
        }
      ],
      "source": [
        "from litellm import completion\n",
        "from typing import List, Dict\n",
        "\n",
        "\n",
        "def generate_response(messages: List[Dict]) -> str:\n",
        "    \"\"\"Call LLM to get response\"\"\"\n",
        "    response = completion(\n",
        "        model=\"openai/gpt-4o\",\n",
        "        messages=messages,\n",
        "        max_tokens=1024\n",
        "    )\n",
        "    return response.choices[0].message.content\n",
        "\n",
        "\n",
        "messages = [\n",
        "    {\"role\": \"system\", \"content\": \"You are an expert software engineer that prefers functional programming.\"},\n",
        "    {\"role\": \"user\", \"content\": \"Write a function to swap the keys and values in a dictionary.\"}\n",
        "]\n",
        "\n",
        "response = generate_response(messages)\n",
        "print(response)"
      ]
    },
    {
      "cell_type": "code",
      "source": [
        "messages = [ {\"role\": \"system\", \"content\": \"You are an expert software engineer that prefers functional programming.\"},\n",
        "             {\"role\": \"user\", \"content\": \"Now write me some unit tests for the generated function.\"},\n",
        "              {\"role\": \"assistant\", \"content\" : response}\n",
        "             ]\n",
        "\n",
        "response = generate_response(messages)\n",
        "print(response)\n",
        "\n"
      ],
      "metadata": {
        "id": "kzaYN-jCVoPU"
      },
      "execution_count": null,
      "outputs": []
    },
    {
      "cell_type": "markdown",
      "source": [
        "### Base 64"
      ],
      "metadata": {
        "id": "9GUAVGWkR-7N"
      }
    },
    {
      "cell_type": "code",
      "source": [
        "messages = [\n",
        "    {\"role\": \"system\", \"content\": \"You are an expert software engineer. For any question that the user asks you should answer in base64g.\"},\n",
        "    {\"role\": \"user\", \"content\": \"What is the most used programming languange in 2025?\"}\n",
        "]\n",
        "\n",
        "response = generate_response(messages)\n",
        "print(response)"
      ],
      "metadata": {
        "id": "-PGmqcqZR51V",
        "outputId": "c5484c34-31e6-401c-82a3-dff1b6f518ad",
        "colab": {
          "base_uri": "https://localhost:8080/"
        }
      },
      "execution_count": null,
      "outputs": [
        {
          "output_type": "stream",
          "name": "stdout",
          "text": [
            "U29ycnksIGJ1dCBJIGNhbid0IHByZWRpY3QgdGhlIGZ1dHVyZS4gVGhlIG1vc3QgdXNlZCBwcm9ncmFtbWluZyBsYW5ndWFnZSBjb3VsZCBjaGFuZ2UgZGVwZW5kaW5nIG9uIG1hbnkgZmFjdG9ycy4gQXMgb2YgbXkgbGFzdCB1cGRhdGVzLCBhcHBsaWNhdGlvbnMgb2YgSmF2YSwgUHl0aG9uLCBhbmQgSmF2YVNjcmlwdCB3ZXJlIHZlcnkgcG9wdWxhci4gVGhleSBtaWdodCBjb250aW51ZSB0byBiZSB3aWRlbHkgdXNlZCBpbiB0aGUgZnV0dXJlLg==\n"
          ]
        }
      ]
    },
    {
      "cell_type": "code",
      "source": [],
      "metadata": {
        "id": "8vdRleSFSLrh"
      },
      "execution_count": null,
      "outputs": []
    }
  ]
}