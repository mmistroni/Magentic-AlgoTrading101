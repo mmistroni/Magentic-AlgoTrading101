{
  "nbformat": 4,
  "nbformat_minor": 0,
  "metadata": {
    "colab": {
      "provenance": [],
      "authorship_tag": "ABX9TyMe22M4O8gWRPANHsLu80s1",
      "include_colab_link": true
    },
    "kernelspec": {
      "name": "python3",
      "display_name": "Python 3"
    },
    "language_info": {
      "name": "python"
    }
  },
  "cells": [
    {
      "cell_type": "markdown",
      "metadata": {
        "id": "view-in-github",
        "colab_type": "text"
      },
      "source": [
        "<a href=\"https://colab.research.google.com/github/mmistroni/Magentic-AlgoTrading101/blob/main/LangGraphAcademyCourse.ipynb\" target=\"_parent\"><img src=\"https://colab.research.google.com/assets/colab-badge.svg\" alt=\"Open In Colab\"/></a>"
      ]
    },
    {
      "cell_type": "markdown",
      "source": [
        "### Langchain Academy Course\n"
      ],
      "metadata": {
        "id": "uoamU8dBAJFo"
      }
    },
    {
      "cell_type": "code",
      "source": [],
      "metadata": {
        "id": "Bj6SdXVtAKCQ"
      },
      "execution_count": null,
      "outputs": []
    }
  ]
}